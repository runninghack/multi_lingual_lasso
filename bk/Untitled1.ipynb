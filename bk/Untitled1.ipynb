{
 "cells": [
  {
   "cell_type": "code",
   "execution_count": 1,
   "metadata": {
    "collapsed": true
   },
   "outputs": [],
   "source": [
    "import pandas as pd\n",
    "from datetime import timedelta\n",
    "import json as js\n",
    "from sklearn import metrics\n",
    "from sklearn.linear_model import LogisticRegression\n",
    "from logreg import *\n",
    "from mil import *\n",
    "\n",
    "min_date = datetime(2014, 1, 1)\n",
    "max_date = datetime(2014, 12, 31)\n"
   ]
  },
  {
   "cell_type": "code",
   "execution_count": null,
   "metadata": {
    "collapsed": true
   },
   "outputs": [],
   "source": [
    "def create_y(f, date_range):\n",
    "    df_gsr = pd.DataFrame(columns=('date', 'event', 'city'))\n",
    "    lines = open(f).readlines()\n",
    "    for i in range(len(lines)):\n",
    "        obj = js.loads(lines[i])\n",
    "        if obj['location'][0] == 'Brazil':\n",
    "            df_gsr.loc[i] = [pd.to_datetime(obj['eventDate'].split(\"T\")[0], format='%Y-%m-%d') + timedelta(days=-1),\n",
    "                             1,\n",
    "                             obj['location'][1]]\n",
    "\n",
    "    df_gsr_selected = df_gsr[(df_gsr.date >= min_date) & (df_gsr.date <= max_date)]\n",
    "    df_gsr_selected = df_gsr_selected[df_gsr_selected['city'] != '-']\n",
    "    df_grouped = df_gsr_selected.groupby(['city', 'date']).agg({'event': lambda x: 1})\n",
    "\n",
    "    cities = pd.unique(df_gsr_selected.city.ravel())\n",
    "    new_index = pd.MultiIndex.from_product([cities, date_range], names=['city', 'date'])\n",
    "\n",
    "    df_final = df_grouped.reindex(new_index, fill_value=0)\n",
    "    return df_final"
   ]
  }
 ],
 "metadata": {
  "kernelspec": {
   "display_name": "Python 2",
   "language": "python",
   "name": "python2"
  },
  "language_info": {
   "codemirror_mode": {
    "name": "ipython",
    "version": 2
   },
   "file_extension": ".py",
   "mimetype": "text/x-python",
   "name": "python",
   "nbconvert_exporter": "python",
   "pygments_lexer": "ipython2",
   "version": "2.7.11"
  }
 },
 "nbformat": 4,
 "nbformat_minor": 0
}
