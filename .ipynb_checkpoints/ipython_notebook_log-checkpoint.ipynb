{
 "cells": [
  {
   "cell_type": "code",
   "execution_count": 2,
   "metadata": {
    "collapsed": true
   },
   "outputs": [],
   "source": [
    "import numpy as np\n",
    "import pandas as pd\n",
    "from datetime import datetime,timedelta\n",
    "import json as js\n",
    "\n",
    "\n",
    "def get_keywords(f_key_dict):\n",
    "    dicts = {}\n",
    "    for lag in languages:\n",
    "        dicts[lag] = {'lemmas':[]}\n",
    "    for l in open(f_key_dict):\n",
    "        obj = js.loads(l)\n",
    "        lag = obj['language']\n",
    "        if lag in languages:\n",
    "            lemmas = [item['lemma'] for item in obj['tokens']]\n",
    "            lemmas = filter(lambda x: len(x) > 1, lemmas)\n",
    "            if len(lemmas) == 1:\n",
    "                dicts[lag][lemmas[0]] = 0\n",
    "            elif len(lemmas) == 2:\n",
    "                dicts[lag][\"_\".join(lemmas)] = 0\n",
    "            elif len(lemmas) == 3:\n",
    "                dicts[lag][\"_\".join(lemmas)] = 0\n",
    "    return dicts\n",
    "\n",
    "\n",
    "def create_y(f, date_range):\n",
    "    df_gsr = pd.DataFrame(columns=('date', 'event', 'city'))\n",
    "    lines = open(f).readlines()\n",
    "    for i in range(len(lines)):\n",
    "        obj = js.loads(lines[i])\n",
    "        if obj['location'][0] == 'Brazil':\n",
    "            df_gsr.loc[i] = [pd.to_datetime(obj['eventDate'].split(\"T\")[0], format='%Y-%m-%d') + timedelta(days=-1),\n",
    "                             1,\n",
    "                             obj['location'][1]]\n",
    "\n",
    "    df_gsr_selected = df_gsr[(df_gsr.date >= min_date) & (df_gsr.date <= max_date)]\n",
    "    df_gsr_selected = df_gsr_selected[df_gsr_selected['city'] != '-']\n",
    "    df_grouped = df_gsr_selected.groupby(['city', 'date']).agg({'event': lambda x: 1})\n",
    "\n",
    "    cities = pd.unique(df_gsr_selected.city.ravel())\n",
    "    new_index = pd.MultiIndex.from_product([cities, date_range], names=['city', 'date'])\n",
    "\n",
    "    df_final = df_grouped.reindex(new_index, fill_value=0)\n",
    "    return df_final"
   ]
  },
  {
   "cell_type": "code",
   "execution_count": 3,
   "metadata": {
    "collapsed": true
   },
   "outputs": [],
   "source": [
    "file_gsr = \"./gsrAll.json\"\n",
    "languages = ['English', 'Portuguese', 'Spanish']\n",
    "min_date = datetime(2014, 1, 1)\n",
    "max_date = datetime(2014, 12, 31)\n",
    "dates = pd.date_range(min_date, max_date)\n",
    "y = create_y(file_gsr, dates)\n",
    "\n",
    "file_keys = \"./CU_Keywords.2013-01-25T15-36-29\"\n",
    "keywords_dict = get_keywords(file_keys)[languages[1]]\n",
    "keywords = keywords_dict.keys()\n",
    "col_names = keywords + ['date', 'city']\n",
    "types = {key: 'int' for key in keywords}\n",
    "types['date'] = 'str'\n",
    "types['city'] = 'str'\n",
    "X = pd.read_csv('features_Portuguese.csv', header=None, names=col_names)\n",
    "X = X.groupby(['city', 'date']).agg({key: np.sum for key in keywords})"
   ]
  },
  {
   "cell_type": "code",
   "execution_count": 4,
   "metadata": {
    "collapsed": false
   },
   "outputs": [
    {
     "data": {
      "text/plain": [
       "(9855, 676)"
      ]
     },
     "execution_count": 4,
     "metadata": {},
     "output_type": "execute_result"
    }
   ],
   "source": [
    "X.shape"
   ]
  },
  {
   "cell_type": "code",
   "execution_count": 5,
   "metadata": {
    "collapsed": false
   },
   "outputs": [
    {
     "data": {
      "text/plain": [
       "(9855, 1)"
      ]
     },
     "execution_count": 5,
     "metadata": {},
     "output_type": "execute_result"
    }
   ],
   "source": [
    "y.shape"
   ]
  },
  {
   "cell_type": "code",
   "execution_count": 6,
   "metadata": {
    "collapsed": true
   },
   "outputs": [],
   "source": [
    "from sklearn.linear_model import LogisticRegression"
   ]
  },
  {
   "cell_type": "code",
   "execution_count": 7,
   "metadata": {
    "collapsed": true
   },
   "outputs": [],
   "source": [
    "model = LogisticRegression(penalty='l1')"
   ]
  },
  {
   "cell_type": "code",
   "execution_count": 8,
   "metadata": {
    "collapsed": false
   },
   "outputs": [
    {
     "ename": "AttributeError",
     "evalue": "'LogisticRegression' object has no attribute 'coef_'",
     "output_type": "error",
     "traceback": [
      "\u001b[1;31m---------------------------------------------------------------------------\u001b[0m",
      "\u001b[1;31mAttributeError\u001b[0m                            Traceback (most recent call last)",
      "\u001b[1;32m<ipython-input-8-0d32905b2745>\u001b[0m in \u001b[0;36m<module>\u001b[1;34m()\u001b[0m\n\u001b[1;32m----> 1\u001b[1;33m \u001b[0mmodel\u001b[0m\u001b[1;33m.\u001b[0m\u001b[0mcoef_\u001b[0m\u001b[1;33m\u001b[0m\u001b[0m\n\u001b[0m",
      "\u001b[1;31mAttributeError\u001b[0m: 'LogisticRegression' object has no attribute 'coef_'"
     ]
    }
   ],
   "source": [
    "model.coef_"
   ]
  },
  {
   "cell_type": "code",
   "execution_count": 9,
   "metadata": {
    "collapsed": false
   },
   "outputs": [
    {
     "name": "stderr",
     "output_type": "stream",
     "text": [
      "C:\\Anaconda2\\lib\\site-packages\\sklearn\\utils\\validation.py:515: DataConversionWarning: A column-vector y was passed when a 1d array was expected. Please change the shape of y to (n_samples, ), for example using ravel().\n",
      "  y = column_or_1d(y, warn=True)\n"
     ]
    },
    {
     "data": {
      "text/plain": [
       "LogisticRegression(C=1.0, class_weight=None, dual=False, fit_intercept=True,\n",
       "          intercept_scaling=1, max_iter=100, multi_class='ovr', n_jobs=1,\n",
       "          penalty='l1', random_state=None, solver='liblinear', tol=0.0001,\n",
       "          verbose=0, warm_start=False)"
      ]
     },
     "execution_count": 9,
     "metadata": {},
     "output_type": "execute_result"
    }
   ],
   "source": [
    "model.fit(X,y)"
   ]
  },
  {
   "cell_type": "code",
   "execution_count": 10,
   "metadata": {
    "collapsed": false
   },
   "outputs": [
    {
     "data": {
      "text/plain": [
       "array([[-0.15225976,  0.        ,  0.        ,  0.        ,  0.        ,\n",
       "         0.        ,  0.        ,  0.        ,  0.        ,  0.        ,\n",
       "        -0.13223792,  0.        , -0.2400497 ,  0.        ,  0.        ,\n",
       "         0.        ,  0.        , -0.09150101,  0.        ,  0.        ,\n",
       "         0.        ,  0.        ,  0.07386145,  0.        ,  0.        ,\n",
       "         0.        ,  0.        ,  0.        ,  0.        ,  0.        ,\n",
       "         0.        ,  0.        ,  0.        ,  0.        ,  0.03176854,\n",
       "         0.        ,  0.        ,  0.        ,  0.        , -0.25547892,\n",
       "         0.        ,  0.        ,  0.        ,  0.        ,  0.        ,\n",
       "         0.        ,  0.        ,  0.        ,  0.        ,  0.        ,\n",
       "         0.16843067, -0.37372135,  0.        ,  0.        ,  0.        ,\n",
       "         0.17162867,  0.        ,  0.        ,  0.        ,  0.        ,\n",
       "         0.        ,  0.        ,  0.        , -0.2128016 ,  0.        ,\n",
       "         0.        ,  0.        ,  0.        ,  0.30633395,  0.        ,\n",
       "         0.        , -0.19629009,  0.        ,  0.        , -0.60259911,\n",
       "         0.        ,  0.        ,  0.        ,  0.        ,  0.3206414 ,\n",
       "         0.43154458,  0.        ,  0.        ,  0.06670635,  0.        ,\n",
       "         0.        ,  0.        ,  0.        ,  0.        ,  0.        ,\n",
       "         0.        ,  0.        ,  0.        ,  0.45628069,  0.        ,\n",
       "         0.        ,  0.        ,  0.        ,  0.        ,  0.01739098,\n",
       "         0.        , -0.53125018,  0.        ,  0.        ,  0.        ,\n",
       "         0.        ,  0.        ,  0.        ,  0.        ,  0.06714798,\n",
       "         0.        , -0.10214709,  0.        ,  0.30704196,  0.02438135,\n",
       "         0.        ,  0.        ,  0.03606507,  0.        , -0.08818343,\n",
       "         0.        ,  0.        ,  0.        , -0.09755613, -0.01691736,\n",
       "        -0.23285391,  0.        , -0.08142363,  0.        ,  0.        ,\n",
       "         0.        ,  0.02712972,  0.        , -0.08224322,  0.        ,\n",
       "         0.        ,  0.        ,  0.        ,  0.        ,  0.        ,\n",
       "         0.        ,  0.        ,  0.25210866,  0.        ,  0.        ,\n",
       "         0.        ,  0.        ,  0.        ,  0.        ,  1.09671626,\n",
       "         2.21181653,  0.        ,  0.08720588,  0.03145526,  0.        ,\n",
       "         0.        ,  0.        , -0.30411365,  0.15631828,  0.        ,\n",
       "         0.        ,  0.        , -0.06396666,  0.02908547,  0.        ,\n",
       "         0.        ,  0.        ,  0.        ,  0.        , -0.20258254,\n",
       "         0.        ,  0.        ,  0.        ,  0.        ,  0.3371435 ,\n",
       "         0.        ,  0.        , -0.35985168, -0.09338584,  0.        ,\n",
       "         0.29583954, -0.18346488,  0.        ,  0.        ,  0.77317465,\n",
       "         0.        ,  0.19736833,  0.        ,  0.        ,  0.        ,\n",
       "         0.        , -0.09637451,  0.57824142,  0.        ,  0.12193376,\n",
       "         0.        ,  0.        ,  0.        ,  0.        ,  0.4804417 ,\n",
       "        -0.13441488,  0.        , -0.58011198,  0.        ,  0.17664184,\n",
       "         0.        ,  0.        ,  0.        ,  0.        , -0.014848  ,\n",
       "         0.        ,  0.        ,  0.        ,  0.10395652,  0.        ,\n",
       "         0.        ,  0.        ,  0.        ,  0.        , -0.11941366,\n",
       "         0.        , -0.13501613, -0.59525976,  0.        ,  0.        ,\n",
       "        -0.22492044,  0.        ,  0.24009135,  0.        ,  0.        ,\n",
       "         0.        , -0.39940771,  0.        ,  0.        , -0.19016254,\n",
       "         0.        ,  0.        ,  0.        ,  0.        ,  0.        ,\n",
       "         0.        ,  0.        ,  0.        ,  0.        ,  0.17766627,\n",
       "        -0.37658774, -0.0263021 , -0.18749835,  0.        ,  0.        ,\n",
       "         0.01915453,  0.        ,  0.        , -0.17856492, -0.20724556,\n",
       "        -0.12119227,  0.        , -0.490982  ,  0.        ,  0.        ,\n",
       "         0.        ,  0.        , -0.17137503,  0.27663504,  0.        ,\n",
       "         0.        , -0.50927968,  0.        ,  0.        ,  0.24665934,\n",
       "         0.        , -0.08394116,  0.0637684 ,  0.2847084 ,  0.        ,\n",
       "         0.        , -0.41090702,  0.06947271,  0.        ,  0.        ,\n",
       "         0.        , -0.04819337,  0.        ,  0.        , -0.19166783,\n",
       "        -0.0200925 , -0.17706444,  0.        ,  0.14204317,  0.        ,\n",
       "         0.        ,  0.40449439,  0.        , -0.31186661,  0.        ,\n",
       "         0.        ,  0.        ,  0.96631858,  0.        ,  0.14388177,\n",
       "         0.        , -0.37603132,  0.        ,  0.        ,  0.        ,\n",
       "         0.        ,  0.07030363,  0.        ,  0.        ,  0.        ,\n",
       "         0.        ,  0.01406515, -0.07288555,  0.        ,  0.        ,\n",
       "        -0.01179151,  0.        , -0.1282895 ,  0.        ,  0.        ,\n",
       "         0.        ,  0.        ,  0.        ,  0.        ,  0.        ,\n",
       "         0.        ,  0.        ,  0.        , -0.05227346,  0.        ,\n",
       "         0.01365662,  0.        ,  0.        ,  0.        ,  0.        ,\n",
       "         0.        ,  0.27089058,  0.        ,  0.        ,  0.        ,\n",
       "        -1.00487173,  0.        ,  0.22743226,  0.27474882, -0.13441436,\n",
       "         0.        ,  0.        ,  0.        ,  0.14147741,  0.        ,\n",
       "        -0.05750184, -0.59388543, -0.08661064,  0.        ,  0.        ,\n",
       "         0.        ,  0.05790734,  0.        ,  0.        ,  0.        ,\n",
       "         0.        , -0.06761262,  0.        ,  0.34334163,  0.        ,\n",
       "         0.        ,  0.        ,  0.        ,  0.        , -0.11674256,\n",
       "         0.        ,  0.        ,  0.03576046,  0.        ,  0.        ,\n",
       "         0.        ,  0.        , -0.39669754,  0.        ,  0.        ,\n",
       "        -0.72568669,  0.        ,  0.        ,  0.        ,  0.        ,\n",
       "         0.06217358,  0.        ,  0.05666611,  0.        ,  0.        ,\n",
       "         0.        , -0.14196397,  0.        ,  0.        ,  0.        ,\n",
       "         0.        , -0.18156441, -0.39798807,  0.        ,  0.18991249,\n",
       "         0.        ,  0.02205887, -0.35502974,  0.        , -0.01893517,\n",
       "         0.        , -0.10707247,  0.        ,  0.        ,  0.145025  ,\n",
       "         0.        ,  0.        ,  0.16186138,  0.        ,  0.        ,\n",
       "         0.37618411,  0.        ,  0.16807104,  0.        , -0.44271614,\n",
       "         0.        ,  0.        ,  0.        ,  0.        ,  0.        ,\n",
       "         0.        , -0.1340475 ,  0.        ,  0.        ,  0.22053449,\n",
       "        -0.13706334,  0.07565074,  0.        ,  0.        ,  0.09850285,\n",
       "         0.        ,  0.01371408,  0.        , -0.2577146 ,  0.        ,\n",
       "         0.        ,  0.        ,  0.38255148,  0.        ,  0.        ,\n",
       "         0.        ,  0.12435783,  0.        ,  0.        , -0.13592659,\n",
       "         0.02849085,  0.        ,  0.        ,  0.24048227,  0.01770715,\n",
       "         0.        ,  0.        ,  0.        ,  0.        ,  0.10944525,\n",
       "         0.        ,  0.        ,  0.43564053,  0.07784225,  0.        ,\n",
       "         0.        ,  0.        ,  0.        ,  0.        ,  0.        ,\n",
       "         0.        , -0.08025244,  0.        , -0.46322164,  0.08745922,\n",
       "         0.02411809,  0.        , -0.08782065,  0.12565236,  0.        ,\n",
       "         0.        ,  0.        ,  0.        ,  0.        ,  0.        ,\n",
       "         0.        ,  0.06412404, -0.04416149,  0.        , -0.0059841 ,\n",
       "         0.        ,  0.        ,  0.1336817 ,  0.        ,  0.07751228,\n",
       "         0.        ,  0.        , -0.28093568, -0.38720061,  0.        ,\n",
       "         0.        ,  0.        ,  0.        ,  0.        ,  0.07463694,\n",
       "         0.        ,  0.        , -0.0384182 ,  0.        ,  0.        ,\n",
       "         0.65087633,  0.        , -0.15580594, -0.39513593,  0.14254475,\n",
       "         0.16661557,  0.        ,  0.        , -0.05609167, -0.02412122,\n",
       "         0.        ,  0.        ,  0.        ,  0.        ,  0.13761995,\n",
       "         0.        , -0.18151705,  0.        , -0.30677106,  0.        ,\n",
       "         0.        ,  0.        , -0.19041918,  0.        ,  0.        ,\n",
       "         0.21824092,  0.        ,  1.04667755,  0.08607817,  0.11757409,\n",
       "        -0.2864133 ,  0.09576192, -0.09691482,  0.        ,  0.27654398,\n",
       "         0.        ,  0.        ,  0.        ,  0.        ,  0.0917696 ,\n",
       "         0.        ,  0.        ,  0.        , -0.07725614,  0.3884588 ,\n",
       "         0.40122854,  0.03456678,  0.18446911,  0.        ,  0.        ,\n",
       "         0.        ,  0.        ,  0.        ,  0.        ,  0.        ,\n",
       "         0.        , -0.37993946,  0.        ,  0.        ,  0.        ,\n",
       "         0.        ,  0.        ,  0.14284204,  0.25424167,  0.05848972,\n",
       "         0.        ,  0.        , -0.34615173, -0.11419906,  0.        ,\n",
       "         0.        ,  0.        ,  0.        ,  0.        , -0.19896857,\n",
       "         0.        , -0.27850245,  0.        ,  0.        ,  0.        ,\n",
       "         0.39684499,  0.        ,  0.        ,  0.        ,  0.48682732,\n",
       "         0.        ,  0.        ,  0.        ,  0.        ,  0.        ,\n",
       "         0.33889119,  0.        , -0.48563434,  0.        ,  0.        ,\n",
       "         0.03957894,  0.        ,  0.09743269,  0.        ,  0.        ,\n",
       "         0.19166309,  0.        , -0.08403412,  0.16237543,  0.        ,\n",
       "        -0.04154839, -0.09983835,  0.        ,  0.        , -0.21501896,\n",
       "         0.        , -0.48224995,  0.26025909,  0.        ,  0.        ,\n",
       "         0.        , -0.41250099,  0.        ,  0.        , -0.0036956 ,\n",
       "         0.        ,  0.        ,  0.07586575,  0.0702461 ,  0.1162676 ,\n",
       "         0.        ,  0.        ,  0.14977369,  0.        ,  0.        ,\n",
       "         0.        ,  0.        ,  0.        , -0.03003835,  0.        ,\n",
       "         0.        ,  0.        ,  0.        ,  0.        ,  0.        ,\n",
       "         0.        ,  0.        ,  0.        ,  0.        ,  0.40999176,\n",
       "         0.        ,  0.        , -0.16547167,  0.        ,  0.        ,\n",
       "        -0.12752759,  0.        ,  0.        ,  0.        ,  0.        ,\n",
       "         0.0733492 ,  0.        ,  0.        , -0.44026047,  0.        ,\n",
       "         0.        ,  0.        ,  0.17285539,  0.        ,  0.        ,\n",
       "        -0.07357449]])"
      ]
     },
     "execution_count": 10,
     "metadata": {},
     "output_type": "execute_result"
    }
   ],
   "source": [
    "model.coef_"
   ]
  },
  {
   "cell_type": "code",
   "execution_count": 11,
   "metadata": {
    "collapsed": false
   },
   "outputs": [
    {
     "data": {
      "text/plain": [
       "223"
      ]
     },
     "execution_count": 11,
     "metadata": {},
     "output_type": "execute_result"
    }
   ],
   "source": [
    "len(model.coef_[model.coef_ != 0])"
   ]
  },
  {
   "cell_type": "code",
   "execution_count": 12,
   "metadata": {
    "collapsed": false
   },
   "outputs": [
    {
     "data": {
      "text/plain": [
       "1"
      ]
     },
     "execution_count": 12,
     "metadata": {},
     "output_type": "execute_result"
    }
   ],
   "source": [
    "len(model.coef_)"
   ]
  },
  {
   "cell_type": "code",
   "execution_count": 13,
   "metadata": {
    "collapsed": false
   },
   "outputs": [
    {
     "data": {
      "text/plain": [
       "453"
      ]
     },
     "execution_count": 13,
     "metadata": {},
     "output_type": "execute_result"
    }
   ],
   "source": [
    "len(model.coef_[model.coef_ == 0])"
   ]
  },
  {
   "cell_type": "code",
   "execution_count": 14,
   "metadata": {
    "collapsed": false
   },
   "outputs": [
    {
     "data": {
      "text/plain": [
       "(9855, 1)"
      ]
     },
     "execution_count": 14,
     "metadata": {},
     "output_type": "execute_result"
    }
   ],
   "source": [
    "y.shape"
   ]
  },
  {
   "cell_type": "code",
   "execution_count": 15,
   "metadata": {
    "collapsed": false
   },
   "outputs": [
    {
     "data": {
      "text/plain": [
       "(9855, 676)"
      ]
     },
     "execution_count": 15,
     "metadata": {},
     "output_type": "execute_result"
    }
   ],
   "source": [
    "X.shape"
   ]
  },
  {
   "cell_type": "code",
   "execution_count": 16,
   "metadata": {
    "collapsed": false
   },
   "outputs": [
    {
     "data": {
      "text/plain": [
       "array([[-0.1155111 , -2.21558831],\n",
       "       [-0.1155111 , -2.21558831],\n",
       "       [-0.1155111 , -2.21558831],\n",
       "       ..., \n",
       "       [-0.13442376, -2.07321714],\n",
       "       [-0.05224476, -2.97782432],\n",
       "       [-0.0524967 , -2.97313855]])"
      ]
     },
     "execution_count": 16,
     "metadata": {},
     "output_type": "execute_result"
    }
   ],
   "source": [
    "model.predict_log_proba(X)"
   ]
  },
  {
   "cell_type": "code",
   "execution_count": 17,
   "metadata": {
    "collapsed": false
   },
   "outputs": [
    {
     "data": {
      "text/plain": [
       "array([[ 0.89091068,  0.10908932],\n",
       "       [ 0.89091068,  0.10908932],\n",
       "       [ 0.89091068,  0.10908932],\n",
       "       ..., \n",
       "       [ 0.87421952,  0.12578048],\n",
       "       [ 0.94909654,  0.05090346],\n",
       "       [ 0.94885746,  0.05114254]])"
      ]
     },
     "execution_count": 17,
     "metadata": {},
     "output_type": "execute_result"
    }
   ],
   "source": [
    "model.predict_proba(X)"
   ]
  },
  {
   "cell_type": "code",
   "execution_count": 18,
   "metadata": {
    "collapsed": false
   },
   "outputs": [
    {
     "data": {
      "text/plain": [
       "array([ 0.,  0.,  0., ...,  0.,  0.,  0.])"
      ]
     },
     "execution_count": 18,
     "metadata": {},
     "output_type": "execute_result"
    }
   ],
   "source": [
    "model.predict(X)"
   ]
  },
  {
   "cell_type": "code",
   "execution_count": 19,
   "metadata": {
    "collapsed": false
   },
   "outputs": [
    {
     "ename": "TypeError",
     "evalue": "len() takes no keyword arguments",
     "output_type": "error",
     "traceback": [
      "\u001b[1;31m---------------------------------------------------------------------------\u001b[0m",
      "\u001b[1;31mTypeError\u001b[0m                                 Traceback (most recent call last)",
      "\u001b[1;32m<ipython-input-19-4058a08605a4>\u001b[0m in \u001b[0;36m<module>\u001b[1;34m()\u001b[0m\n\u001b[1;32m----> 1\u001b[1;33m \u001b[0mlen\u001b[0m\u001b[1;33m(\u001b[0m\u001b[0mmodel\u001b[0m\u001b[1;33m.\u001b[0m\u001b[0mcoef_\u001b[0m\u001b[1;33m[\u001b[0m\u001b[0mmodel\u001b[0m\u001b[1;33m.\u001b[0m\u001b[0mcoef_\u001b[0m \u001b[1;33m==\u001b[0m \u001b[1;36m0\u001b[0m\u001b[1;33m]\u001b[0m\u001b[1;33m,\u001b[0m \u001b[0mclass_weight\u001b[0m \u001b[1;33m=\u001b[0m \u001b[1;34m'balanced'\u001b[0m\u001b[1;33m)\u001b[0m\u001b[1;33m\u001b[0m\u001b[0m\n\u001b[0m",
      "\u001b[1;31mTypeError\u001b[0m: len() takes no keyword arguments"
     ]
    }
   ],
   "source": [
    "len(model.coef_[model.coef_ == 0], class_weight = 'balanced')"
   ]
  },
  {
   "cell_type": "code",
   "execution_count": 20,
   "metadata": {
    "collapsed": true
   },
   "outputs": [],
   "source": [
    "model = LogisticRegression(penalty='l1', class_weight = 'balanced')"
   ]
  },
  {
   "cell_type": "code",
   "execution_count": 21,
   "metadata": {
    "collapsed": false
   },
   "outputs": [
    {
     "name": "stdout",
     "output_type": "stream",
     "text": [
      "LogisticRegression(C=1.0, class_weight='balanced', dual=False,\n",
      "          fit_intercept=True, intercept_scaling=1, max_iter=100,\n",
      "          multi_class='ovr', n_jobs=1, penalty='l1', random_state=None,\n",
      "          solver='liblinear', tol=0.0001, verbose=0, warm_start=False)\n"
     ]
    },
    {
     "name": "stderr",
     "output_type": "stream",
     "text": [
      "C:\\Anaconda2\\lib\\site-packages\\sklearn\\utils\\validation.py:515: DataConversionWarning: A column-vector y was passed when a 1d array was expected. Please change the shape of y to (n_samples, ), for example using ravel().\n",
      "  y = column_or_1d(y, warn=True)\n"
     ]
    },
    {
     "ename": "NameError",
     "evalue": "name 'metrics' is not defined",
     "output_type": "error",
     "traceback": [
      "\u001b[1;31m---------------------------------------------------------------------------\u001b[0m",
      "\u001b[1;31mNameError\u001b[0m                                 Traceback (most recent call last)",
      "\u001b[1;32m<ipython-input-21-01ecbe0b0734>\u001b[0m in \u001b[0;36m<module>\u001b[1;34m()\u001b[0m\n\u001b[0;32m      5\u001b[0m \u001b[0mpredicted\u001b[0m \u001b[1;33m=\u001b[0m \u001b[0mmodel\u001b[0m\u001b[1;33m.\u001b[0m\u001b[0mpredict\u001b[0m\u001b[1;33m(\u001b[0m\u001b[0mX\u001b[0m\u001b[1;33m)\u001b[0m\u001b[1;33m\u001b[0m\u001b[0m\n\u001b[0;32m      6\u001b[0m \u001b[1;31m# summarize the fit of the model\u001b[0m\u001b[1;33m\u001b[0m\u001b[1;33m\u001b[0m\u001b[0m\n\u001b[1;32m----> 7\u001b[1;33m \u001b[1;32mprint\u001b[0m\u001b[1;33m(\u001b[0m\u001b[0mmetrics\u001b[0m\u001b[1;33m.\u001b[0m\u001b[0mclassification_report\u001b[0m\u001b[1;33m(\u001b[0m\u001b[0mexpected\u001b[0m\u001b[1;33m,\u001b[0m \u001b[0mpredicted\u001b[0m\u001b[1;33m)\u001b[0m\u001b[1;33m)\u001b[0m\u001b[1;33m\u001b[0m\u001b[0m\n\u001b[0m\u001b[0;32m      8\u001b[0m \u001b[1;32mprint\u001b[0m\u001b[1;33m(\u001b[0m\u001b[0mmetrics\u001b[0m\u001b[1;33m.\u001b[0m\u001b[0mconfusion_matrix\u001b[0m\u001b[1;33m(\u001b[0m\u001b[0mexpected\u001b[0m\u001b[1;33m,\u001b[0m \u001b[0mpredicted\u001b[0m\u001b[1;33m)\u001b[0m\u001b[1;33m)\u001b[0m\u001b[1;33m\u001b[0m\u001b[0m\n",
      "\u001b[1;31mNameError\u001b[0m: name 'metrics' is not defined"
     ]
    }
   ],
   "source": [
    "model.fit(X, y)\n",
    "print(model)\n",
    "# make predictions\n",
    "expected = y\n",
    "predicted = model.predict(X)\n",
    "# summarize the fit of the model\n",
    "print(metrics.classification_report(expected, predicted))\n",
    "print(metrics.confusion_matrix(expected, predicted))"
   ]
  },
  {
   "cell_type": "code",
   "execution_count": 22,
   "metadata": {
    "collapsed": true
   },
   "outputs": [],
   "source": [
    "from sklearn import metrics"
   ]
  },
  {
   "cell_type": "code",
   "execution_count": 23,
   "metadata": {
    "collapsed": false
   },
   "outputs": [
    {
     "name": "stdout",
     "output_type": "stream",
     "text": [
      "             precision    recall  f1-score   support\n",
      "\n",
      "        0.0       1.00      0.26      0.42      8959\n",
      "        1.0       0.12      1.00      0.21       896\n",
      "\n",
      "avg / total       0.92      0.33      0.40      9855\n",
      "\n"
     ]
    }
   ],
   "source": [
    "print(metrics.classification_report(expected, predicted))\n"
   ]
  },
  {
   "cell_type": "code",
   "execution_count": 24,
   "metadata": {
    "collapsed": false
   },
   "outputs": [
    {
     "name": "stdout",
     "output_type": "stream",
     "text": [
      "[[2352 6607]\n",
      " [   0  896]]\n"
     ]
    }
   ],
   "source": [
    "print(metrics.confusion_matrix(expected, predicted))"
   ]
  },
  {
   "cell_type": "code",
   "execution_count": 25,
   "metadata": {
    "collapsed": false
   },
   "outputs": [
    {
     "data": {
      "text/plain": [
       "896"
      ]
     },
     "execution_count": 25,
     "metadata": {},
     "output_type": "execute_result"
    }
   ],
   "source": [
    "len(y[y.event != 0])"
   ]
  },
  {
   "cell_type": "code",
   "execution_count": 26,
   "metadata": {
    "collapsed": false
   },
   "outputs": [
    {
     "name": "stdout",
     "output_type": "stream",
     "text": [
      "LogisticRegression(C=1.0, class_weight='balanced', dual=False,\n",
      "          fit_intercept=True, intercept_scaling=1, max_iter=100,\n",
      "          multi_class='ovr', n_jobs=1, penalty='l1', random_state=None,\n",
      "          solver='liblinear', tol=0.0001, verbose=0, warm_start=False)\n"
     ]
    }
   ],
   "source": [
    "print(model)"
   ]
  },
  {
   "cell_type": "code",
   "execution_count": 27,
   "metadata": {
    "collapsed": false
   },
   "outputs": [
    {
     "name": "stdout",
     "output_type": "stream",
     "text": [
      "             precision    recall  f1-score   support\n",
      "\n",
      "        0.0       1.00      0.25      0.40      8959\n",
      "        1.0       0.12      1.00      0.21       896\n",
      "\n",
      "avg / total       0.92      0.32      0.38      9855\n",
      "\n",
      "[[2241 6718]\n",
      " [   1  895]]\n"
     ]
    },
    {
     "name": "stderr",
     "output_type": "stream",
     "text": [
      "C:\\Anaconda2\\lib\\site-packages\\sklearn\\utils\\validation.py:515: DataConversionWarning: A column-vector y was passed when a 1d array was expected. Please change the shape of y to (n_samples, ), for example using ravel().\n",
      "  y = column_or_1d(y, warn=True)\n"
     ]
    }
   ],
   "source": [
    "model = LogisticRegression(penalty='l2', class_weight='balanced')\n",
    "model.fit(X, y)\n",
    "expected = y\n",
    "predicted = model.predict(X)\n",
    "print(metrics.classification_report(expected, predicted))\n",
    "print(metrics.confusion_matrix(expected, predicted))"
   ]
  },
  {
   "cell_type": "code",
   "execution_count": 28,
   "metadata": {
    "collapsed": false
   },
   "outputs": [
    {
     "name": "stdout",
     "output_type": "stream",
     "text": [
      "             precision    recall  f1-score   support\n",
      "\n",
      "        0.0       1.00      0.25      0.40      8959\n",
      "        1.0       0.12      1.00      0.21       896\n",
      "\n",
      "avg / total       0.92      0.32      0.38      9855\n",
      "\n",
      "[[2241 6718]\n",
      " [   1  895]]\n"
     ]
    },
    {
     "name": "stderr",
     "output_type": "stream",
     "text": [
      "C:\\Anaconda2\\lib\\site-packages\\sklearn\\utils\\validation.py:515: DataConversionWarning: A column-vector y was passed when a 1d array was expected. Please change the shape of y to (n_samples, ), for example using ravel().\n",
      "  y = column_or_1d(y, warn=True)\n"
     ]
    }
   ],
   "source": [
    "model = LogisticRegression( class_weight='balanced')\n",
    "model.fit(X, y)\n",
    "expected = y\n",
    "predicted = model.predict(X)\n",
    "print(metrics.classification_report(expected, predicted))\n",
    "print(metrics.confusion_matrix(expected, predicted))"
   ]
  },
  {
   "cell_type": "code",
   "execution_count": 29,
   "metadata": {
    "collapsed": false
   },
   "outputs": [
    {
     "name": "stderr",
     "output_type": "stream",
     "text": [
      "C:\\Anaconda2\\lib\\site-packages\\sklearn\\utils\\validation.py:515: DataConversionWarning: A column-vector y was passed when a 1d array was expected. Please change the shape of y to (n_samples, ), for example using ravel().\n",
      "  y = column_or_1d(y, warn=True)\n"
     ]
    },
    {
     "ename": "ValueError",
     "evalue": "Unsupported set of arguments: The combination of penalty='f1' and loss='logistic_regression' is not supported, Parameters: penalty='f1', loss='logistic_regression', dual=False",
     "output_type": "error",
     "traceback": [
      "\u001b[1;31m---------------------------------------------------------------------------\u001b[0m",
      "\u001b[1;31mValueError\u001b[0m                                Traceback (most recent call last)",
      "\u001b[1;32m<ipython-input-29-bf06b6cbe2e9>\u001b[0m in \u001b[0;36m<module>\u001b[1;34m()\u001b[0m\n\u001b[0;32m      1\u001b[0m \u001b[0mmodel\u001b[0m \u001b[1;33m=\u001b[0m \u001b[0mLogisticRegression\u001b[0m\u001b[1;33m(\u001b[0m\u001b[0mpenalty\u001b[0m\u001b[1;33m=\u001b[0m\u001b[1;34m'f1'\u001b[0m\u001b[1;33m)\u001b[0m\u001b[1;33m\u001b[0m\u001b[0m\n\u001b[1;32m----> 2\u001b[1;33m \u001b[0mmodel\u001b[0m\u001b[1;33m.\u001b[0m\u001b[0mfit\u001b[0m\u001b[1;33m(\u001b[0m\u001b[0mX\u001b[0m\u001b[1;33m,\u001b[0m \u001b[0my\u001b[0m\u001b[1;33m)\u001b[0m\u001b[1;33m\u001b[0m\u001b[0m\n\u001b[0m\u001b[0;32m      3\u001b[0m \u001b[0mexpected\u001b[0m \u001b[1;33m=\u001b[0m \u001b[0my\u001b[0m\u001b[1;33m\u001b[0m\u001b[0m\n\u001b[0;32m      4\u001b[0m \u001b[0mpredicted\u001b[0m \u001b[1;33m=\u001b[0m \u001b[0mmodel\u001b[0m\u001b[1;33m.\u001b[0m\u001b[0mpredict\u001b[0m\u001b[1;33m(\u001b[0m\u001b[0mX\u001b[0m\u001b[1;33m)\u001b[0m\u001b[1;33m\u001b[0m\u001b[0m\n\u001b[0;32m      5\u001b[0m \u001b[1;32mprint\u001b[0m\u001b[1;33m(\u001b[0m\u001b[0mmetrics\u001b[0m\u001b[1;33m.\u001b[0m\u001b[0mclassification_report\u001b[0m\u001b[1;33m(\u001b[0m\u001b[0mexpected\u001b[0m\u001b[1;33m,\u001b[0m \u001b[0mpredicted\u001b[0m\u001b[1;33m)\u001b[0m\u001b[1;33m)\u001b[0m\u001b[1;33m\u001b[0m\u001b[0m\n",
      "\u001b[1;32mC:\\Anaconda2\\lib\\site-packages\\sklearn\\linear_model\\logistic.pyc\u001b[0m in \u001b[0;36mfit\u001b[1;34m(self, X, y, sample_weight)\u001b[0m\n\u001b[0;32m   1152\u001b[0m                 \u001b[0mX\u001b[0m\u001b[1;33m,\u001b[0m \u001b[0my\u001b[0m\u001b[1;33m,\u001b[0m \u001b[0mself\u001b[0m\u001b[1;33m.\u001b[0m\u001b[0mC\u001b[0m\u001b[1;33m,\u001b[0m \u001b[0mself\u001b[0m\u001b[1;33m.\u001b[0m\u001b[0mfit_intercept\u001b[0m\u001b[1;33m,\u001b[0m \u001b[0mself\u001b[0m\u001b[1;33m.\u001b[0m\u001b[0mintercept_scaling\u001b[0m\u001b[1;33m,\u001b[0m\u001b[1;33m\u001b[0m\u001b[0m\n\u001b[0;32m   1153\u001b[0m                 \u001b[0mself\u001b[0m\u001b[1;33m.\u001b[0m\u001b[0mclass_weight\u001b[0m\u001b[1;33m,\u001b[0m \u001b[0mself\u001b[0m\u001b[1;33m.\u001b[0m\u001b[0mpenalty\u001b[0m\u001b[1;33m,\u001b[0m \u001b[0mself\u001b[0m\u001b[1;33m.\u001b[0m\u001b[0mdual\u001b[0m\u001b[1;33m,\u001b[0m \u001b[0mself\u001b[0m\u001b[1;33m.\u001b[0m\u001b[0mverbose\u001b[0m\u001b[1;33m,\u001b[0m\u001b[1;33m\u001b[0m\u001b[0m\n\u001b[1;32m-> 1154\u001b[1;33m                 self.max_iter, self.tol, self.random_state)\n\u001b[0m\u001b[0;32m   1155\u001b[0m             \u001b[0mself\u001b[0m\u001b[1;33m.\u001b[0m\u001b[0mn_iter_\u001b[0m \u001b[1;33m=\u001b[0m \u001b[0mnp\u001b[0m\u001b[1;33m.\u001b[0m\u001b[0marray\u001b[0m\u001b[1;33m(\u001b[0m\u001b[1;33m[\u001b[0m\u001b[0mn_iter_\u001b[0m\u001b[1;33m]\u001b[0m\u001b[1;33m)\u001b[0m\u001b[1;33m\u001b[0m\u001b[0m\n\u001b[0;32m   1156\u001b[0m             \u001b[1;32mreturn\u001b[0m \u001b[0mself\u001b[0m\u001b[1;33m\u001b[0m\u001b[0m\n",
      "\u001b[1;32mC:\\Anaconda2\\lib\\site-packages\\sklearn\\svm\\base.pyc\u001b[0m in \u001b[0;36m_fit_liblinear\u001b[1;34m(X, y, C, fit_intercept, intercept_scaling, class_weight, penalty, dual, verbose, max_iter, tol, random_state, multi_class, loss, epsilon)\u001b[0m\n\u001b[0;32m    910\u001b[0m     \u001b[1;31m# LibLinear wants targets as doubles, even for classification\u001b[0m\u001b[1;33m\u001b[0m\u001b[1;33m\u001b[0m\u001b[0m\n\u001b[0;32m    911\u001b[0m     \u001b[0my_ind\u001b[0m \u001b[1;33m=\u001b[0m \u001b[0mnp\u001b[0m\u001b[1;33m.\u001b[0m\u001b[0masarray\u001b[0m\u001b[1;33m(\u001b[0m\u001b[0my_ind\u001b[0m\u001b[1;33m,\u001b[0m \u001b[0mdtype\u001b[0m\u001b[1;33m=\u001b[0m\u001b[0mnp\u001b[0m\u001b[1;33m.\u001b[0m\u001b[0mfloat64\u001b[0m\u001b[1;33m)\u001b[0m\u001b[1;33m.\u001b[0m\u001b[0mravel\u001b[0m\u001b[1;33m(\u001b[0m\u001b[1;33m)\u001b[0m\u001b[1;33m\u001b[0m\u001b[0m\n\u001b[1;32m--> 912\u001b[1;33m     \u001b[0msolver_type\u001b[0m \u001b[1;33m=\u001b[0m \u001b[0m_get_liblinear_solver_type\u001b[0m\u001b[1;33m(\u001b[0m\u001b[0mmulti_class\u001b[0m\u001b[1;33m,\u001b[0m \u001b[0mpenalty\u001b[0m\u001b[1;33m,\u001b[0m \u001b[0mloss\u001b[0m\u001b[1;33m,\u001b[0m \u001b[0mdual\u001b[0m\u001b[1;33m)\u001b[0m\u001b[1;33m\u001b[0m\u001b[0m\n\u001b[0m\u001b[0;32m    913\u001b[0m     raw_coef_, n_iter_ = liblinear.train_wrap(\n\u001b[0;32m    914\u001b[0m         \u001b[0mX\u001b[0m\u001b[1;33m,\u001b[0m \u001b[0my_ind\u001b[0m\u001b[1;33m,\u001b[0m \u001b[0msp\u001b[0m\u001b[1;33m.\u001b[0m\u001b[0misspmatrix\u001b[0m\u001b[1;33m(\u001b[0m\u001b[0mX\u001b[0m\u001b[1;33m)\u001b[0m\u001b[1;33m,\u001b[0m \u001b[0msolver_type\u001b[0m\u001b[1;33m,\u001b[0m \u001b[0mtol\u001b[0m\u001b[1;33m,\u001b[0m \u001b[0mbias\u001b[0m\u001b[1;33m,\u001b[0m \u001b[0mC\u001b[0m\u001b[1;33m,\u001b[0m\u001b[1;33m\u001b[0m\u001b[0m\n",
      "\u001b[1;32mC:\\Anaconda2\\lib\\site-packages\\sklearn\\svm\\base.pyc\u001b[0m in \u001b[0;36m_get_liblinear_solver_type\u001b[1;34m(multi_class, penalty, loss, dual)\u001b[0m\n\u001b[0;32m    767\u001b[0m     raise ValueError('Unsupported set of arguments: %s, '\n\u001b[0;32m    768\u001b[0m                      \u001b[1;34m'Parameters: penalty=%r, loss=%r, dual=%r'\u001b[0m\u001b[1;33m\u001b[0m\u001b[0m\n\u001b[1;32m--> 769\u001b[1;33m                      % (error_string, penalty, loss, dual))\n\u001b[0m\u001b[0;32m    770\u001b[0m \u001b[1;33m\u001b[0m\u001b[0m\n\u001b[0;32m    771\u001b[0m \u001b[1;33m\u001b[0m\u001b[0m\n",
      "\u001b[1;31mValueError\u001b[0m: Unsupported set of arguments: The combination of penalty='f1' and loss='logistic_regression' is not supported, Parameters: penalty='f1', loss='logistic_regression', dual=False"
     ]
    }
   ],
   "source": [
    "model = LogisticRegression(penalty='f1')\n",
    "model.fit(X, y)\n",
    "expected = y\n",
    "predicted = model.predict(X)\n",
    "print(metrics.classification_report(expected, predicted))\n",
    "print(metrics.confusion_matrix(expected, predicted))"
   ]
  },
  {
   "cell_type": "code",
   "execution_count": 30,
   "metadata": {
    "collapsed": false
   },
   "outputs": [
    {
     "name": "stdout",
     "output_type": "stream",
     "text": [
      "             precision    recall  f1-score   support\n",
      "\n",
      "        0.0       0.91      1.00      0.95      8959\n",
      "        1.0       1.00      0.03      0.07       896\n",
      "\n",
      "avg / total       0.92      0.91      0.87      9855\n",
      "\n",
      "[[8959    0]\n",
      " [ 865   31]]\n"
     ]
    },
    {
     "name": "stderr",
     "output_type": "stream",
     "text": [
      "C:\\Anaconda2\\lib\\site-packages\\sklearn\\utils\\validation.py:515: DataConversionWarning: A column-vector y was passed when a 1d array was expected. Please change the shape of y to (n_samples, ), for example using ravel().\n",
      "  y = column_or_1d(y, warn=True)\n"
     ]
    }
   ],
   "source": [
    "model = LogisticRegression(penalty='l1')\n",
    "model.fit(X, y)\n",
    "expected = y\n",
    "predicted = model.predict(X)\n",
    "print(metrics.classification_report(expected, predicted))\n",
    "print(metrics.confusion_matrix(expected, predicted))"
   ]
  },
  {
   "cell_type": "code",
   "execution_count": 31,
   "metadata": {
    "collapsed": false
   },
   "outputs": [
    {
     "ename": "NotFittedError",
     "evalue": "This SVC instance is not fitted yet. Call 'fit' with appropriate arguments before using this method.",
     "output_type": "error",
     "traceback": [
      "\u001b[1;31m---------------------------------------------------------------------------\u001b[0m",
      "\u001b[1;31mNotFittedError\u001b[0m                            Traceback (most recent call last)",
      "\u001b[1;32m<ipython-input-31-a4864c5c6dfd>\u001b[0m in \u001b[0;36m<module>\u001b[1;34m()\u001b[0m\n\u001b[0;32m      2\u001b[0m \u001b[0mmodel\u001b[0m \u001b[1;33m=\u001b[0m \u001b[0msvm\u001b[0m\u001b[1;33m.\u001b[0m\u001b[0mSVC\u001b[0m\u001b[1;33m(\u001b[0m\u001b[1;33m)\u001b[0m\u001b[1;33m\u001b[0m\u001b[0m\n\u001b[0;32m      3\u001b[0m \u001b[0mexpected\u001b[0m \u001b[1;33m=\u001b[0m \u001b[0my\u001b[0m\u001b[1;33m\u001b[0m\u001b[0m\n\u001b[1;32m----> 4\u001b[1;33m \u001b[0mpredicted\u001b[0m \u001b[1;33m=\u001b[0m \u001b[0mmodel\u001b[0m\u001b[1;33m.\u001b[0m\u001b[0mpredict\u001b[0m\u001b[1;33m(\u001b[0m\u001b[0mX\u001b[0m\u001b[1;33m)\u001b[0m\u001b[1;33m\u001b[0m\u001b[0m\n\u001b[0m\u001b[0;32m      5\u001b[0m \u001b[1;32mprint\u001b[0m\u001b[1;33m(\u001b[0m\u001b[0mmetrics\u001b[0m\u001b[1;33m.\u001b[0m\u001b[0mclassification_report\u001b[0m\u001b[1;33m(\u001b[0m\u001b[0mexpected\u001b[0m\u001b[1;33m,\u001b[0m \u001b[0mpredicted\u001b[0m\u001b[1;33m)\u001b[0m\u001b[1;33m)\u001b[0m\u001b[1;33m\u001b[0m\u001b[0m\n\u001b[0;32m      6\u001b[0m \u001b[1;32mprint\u001b[0m\u001b[1;33m(\u001b[0m\u001b[0mmetrics\u001b[0m\u001b[1;33m.\u001b[0m\u001b[0mconfusion_matrix\u001b[0m\u001b[1;33m(\u001b[0m\u001b[0mexpected\u001b[0m\u001b[1;33m,\u001b[0m \u001b[0mpredicted\u001b[0m\u001b[1;33m)\u001b[0m\u001b[1;33m)\u001b[0m\u001b[1;33m\u001b[0m\u001b[0m\n",
      "\u001b[1;32mC:\\Anaconda2\\lib\\site-packages\\sklearn\\svm\\base.pyc\u001b[0m in \u001b[0;36mpredict\u001b[1;34m(self, X)\u001b[0m\n\u001b[0;32m    566\u001b[0m             \u001b[0mClass\u001b[0m \u001b[0mlabels\u001b[0m \u001b[1;32mfor\u001b[0m \u001b[0msamples\u001b[0m \u001b[1;32min\u001b[0m \u001b[0mX\u001b[0m\u001b[1;33m.\u001b[0m\u001b[1;33m\u001b[0m\u001b[0m\n\u001b[0;32m    567\u001b[0m         \"\"\"\n\u001b[1;32m--> 568\u001b[1;33m         \u001b[0my\u001b[0m \u001b[1;33m=\u001b[0m \u001b[0msuper\u001b[0m\u001b[1;33m(\u001b[0m\u001b[0mBaseSVC\u001b[0m\u001b[1;33m,\u001b[0m \u001b[0mself\u001b[0m\u001b[1;33m)\u001b[0m\u001b[1;33m.\u001b[0m\u001b[0mpredict\u001b[0m\u001b[1;33m(\u001b[0m\u001b[0mX\u001b[0m\u001b[1;33m)\u001b[0m\u001b[1;33m\u001b[0m\u001b[0m\n\u001b[0m\u001b[0;32m    569\u001b[0m         \u001b[1;32mreturn\u001b[0m \u001b[0mself\u001b[0m\u001b[1;33m.\u001b[0m\u001b[0mclasses_\u001b[0m\u001b[1;33m.\u001b[0m\u001b[0mtake\u001b[0m\u001b[1;33m(\u001b[0m\u001b[0mnp\u001b[0m\u001b[1;33m.\u001b[0m\u001b[0masarray\u001b[0m\u001b[1;33m(\u001b[0m\u001b[0my\u001b[0m\u001b[1;33m,\u001b[0m \u001b[0mdtype\u001b[0m\u001b[1;33m=\u001b[0m\u001b[0mnp\u001b[0m\u001b[1;33m.\u001b[0m\u001b[0mintp\u001b[0m\u001b[1;33m)\u001b[0m\u001b[1;33m)\u001b[0m\u001b[1;33m\u001b[0m\u001b[0m\n\u001b[0;32m    570\u001b[0m \u001b[1;33m\u001b[0m\u001b[0m\n",
      "\u001b[1;32mC:\\Anaconda2\\lib\\site-packages\\sklearn\\svm\\base.pyc\u001b[0m in \u001b[0;36mpredict\u001b[1;34m(self, X)\u001b[0m\n\u001b[0;32m    303\u001b[0m         \u001b[0my_pred\u001b[0m \u001b[1;33m:\u001b[0m \u001b[0marray\u001b[0m\u001b[1;33m,\u001b[0m \u001b[0mshape\u001b[0m \u001b[1;33m(\u001b[0m\u001b[0mn_samples\u001b[0m\u001b[1;33m,\u001b[0m\u001b[1;33m)\u001b[0m\u001b[1;33m\u001b[0m\u001b[0m\n\u001b[0;32m    304\u001b[0m         \"\"\"\n\u001b[1;32m--> 305\u001b[1;33m         \u001b[0mX\u001b[0m \u001b[1;33m=\u001b[0m \u001b[0mself\u001b[0m\u001b[1;33m.\u001b[0m\u001b[0m_validate_for_predict\u001b[0m\u001b[1;33m(\u001b[0m\u001b[0mX\u001b[0m\u001b[1;33m)\u001b[0m\u001b[1;33m\u001b[0m\u001b[0m\n\u001b[0m\u001b[0;32m    306\u001b[0m         \u001b[0mpredict\u001b[0m \u001b[1;33m=\u001b[0m \u001b[0mself\u001b[0m\u001b[1;33m.\u001b[0m\u001b[0m_sparse_predict\u001b[0m \u001b[1;32mif\u001b[0m \u001b[0mself\u001b[0m\u001b[1;33m.\u001b[0m\u001b[0m_sparse\u001b[0m \u001b[1;32melse\u001b[0m \u001b[0mself\u001b[0m\u001b[1;33m.\u001b[0m\u001b[0m_dense_predict\u001b[0m\u001b[1;33m\u001b[0m\u001b[0m\n\u001b[0;32m    307\u001b[0m         \u001b[1;32mreturn\u001b[0m \u001b[0mpredict\u001b[0m\u001b[1;33m(\u001b[0m\u001b[0mX\u001b[0m\u001b[1;33m)\u001b[0m\u001b[1;33m\u001b[0m\u001b[0m\n",
      "\u001b[1;32mC:\\Anaconda2\\lib\\site-packages\\sklearn\\svm\\base.pyc\u001b[0m in \u001b[0;36m_validate_for_predict\u001b[1;34m(self, X)\u001b[0m\n\u001b[0;32m    450\u001b[0m \u001b[1;33m\u001b[0m\u001b[0m\n\u001b[0;32m    451\u001b[0m     \u001b[1;32mdef\u001b[0m \u001b[0m_validate_for_predict\u001b[0m\u001b[1;33m(\u001b[0m\u001b[0mself\u001b[0m\u001b[1;33m,\u001b[0m \u001b[0mX\u001b[0m\u001b[1;33m)\u001b[0m\u001b[1;33m:\u001b[0m\u001b[1;33m\u001b[0m\u001b[0m\n\u001b[1;32m--> 452\u001b[1;33m         \u001b[0mcheck_is_fitted\u001b[0m\u001b[1;33m(\u001b[0m\u001b[0mself\u001b[0m\u001b[1;33m,\u001b[0m \u001b[1;34m'support_'\u001b[0m\u001b[1;33m)\u001b[0m\u001b[1;33m\u001b[0m\u001b[0m\n\u001b[0m\u001b[0;32m    453\u001b[0m \u001b[1;33m\u001b[0m\u001b[0m\n\u001b[0;32m    454\u001b[0m         \u001b[0mX\u001b[0m \u001b[1;33m=\u001b[0m \u001b[0mcheck_array\u001b[0m\u001b[1;33m(\u001b[0m\u001b[0mX\u001b[0m\u001b[1;33m,\u001b[0m \u001b[0maccept_sparse\u001b[0m\u001b[1;33m=\u001b[0m\u001b[1;34m'csr'\u001b[0m\u001b[1;33m,\u001b[0m \u001b[0mdtype\u001b[0m\u001b[1;33m=\u001b[0m\u001b[0mnp\u001b[0m\u001b[1;33m.\u001b[0m\u001b[0mfloat64\u001b[0m\u001b[1;33m,\u001b[0m \u001b[0morder\u001b[0m\u001b[1;33m=\u001b[0m\u001b[1;34m\"C\"\u001b[0m\u001b[1;33m)\u001b[0m\u001b[1;33m\u001b[0m\u001b[0m\n",
      "\u001b[1;32mC:\\Anaconda2\\lib\\site-packages\\sklearn\\utils\\validation.pyc\u001b[0m in \u001b[0;36mcheck_is_fitted\u001b[1;34m(estimator, attributes, msg, all_or_any)\u001b[0m\n\u001b[0;32m    676\u001b[0m \u001b[1;33m\u001b[0m\u001b[0m\n\u001b[0;32m    677\u001b[0m     \u001b[1;32mif\u001b[0m \u001b[1;32mnot\u001b[0m \u001b[0mall_or_any\u001b[0m\u001b[1;33m(\u001b[0m\u001b[1;33m[\u001b[0m\u001b[0mhasattr\u001b[0m\u001b[1;33m(\u001b[0m\u001b[0mestimator\u001b[0m\u001b[1;33m,\u001b[0m \u001b[0mattr\u001b[0m\u001b[1;33m)\u001b[0m \u001b[1;32mfor\u001b[0m \u001b[0mattr\u001b[0m \u001b[1;32min\u001b[0m \u001b[0mattributes\u001b[0m\u001b[1;33m]\u001b[0m\u001b[1;33m)\u001b[0m\u001b[1;33m:\u001b[0m\u001b[1;33m\u001b[0m\u001b[0m\n\u001b[1;32m--> 678\u001b[1;33m         \u001b[1;32mraise\u001b[0m \u001b[0mNotFittedError\u001b[0m\u001b[1;33m(\u001b[0m\u001b[0mmsg\u001b[0m \u001b[1;33m%\u001b[0m \u001b[1;33m{\u001b[0m\u001b[1;34m'name'\u001b[0m\u001b[1;33m:\u001b[0m \u001b[0mtype\u001b[0m\u001b[1;33m(\u001b[0m\u001b[0mestimator\u001b[0m\u001b[1;33m)\u001b[0m\u001b[1;33m.\u001b[0m\u001b[0m__name__\u001b[0m\u001b[1;33m}\u001b[0m\u001b[1;33m)\u001b[0m\u001b[1;33m\u001b[0m\u001b[0m\n\u001b[0m\u001b[0;32m    679\u001b[0m \u001b[1;33m\u001b[0m\u001b[0m\n\u001b[0;32m    680\u001b[0m \u001b[1;33m\u001b[0m\u001b[0m\n",
      "\u001b[1;31mNotFittedError\u001b[0m: This SVC instance is not fitted yet. Call 'fit' with appropriate arguments before using this method."
     ]
    }
   ],
   "source": [
    "from sklearn import svm\n",
    "model = svm.SVC()\n",
    "expected = y\n",
    "predicted = model.predict(X)\n",
    "print(metrics.classification_report(expected, predicted))\n",
    "print(metrics.confusion_matrix(expected, predicted))"
   ]
  },
  {
   "cell_type": "code",
   "execution_count": 32,
   "metadata": {
    "collapsed": false
   },
   "outputs": [
    {
     "name": "stdout",
     "output_type": "stream",
     "text": [
      "             precision    recall  f1-score   support\n",
      "\n",
      "        0.0       0.91      1.00      0.95      8959\n",
      "        1.0       1.00      0.03      0.05       896\n",
      "\n",
      "avg / total       0.92      0.91      0.87      9855\n",
      "\n",
      "[[8959    0]\n",
      " [ 873   23]]\n"
     ]
    },
    {
     "name": "stderr",
     "output_type": "stream",
     "text": [
      "C:\\Anaconda2\\lib\\site-packages\\sklearn\\svm\\base.py:514: DataConversionWarning: A column-vector y was passed when a 1d array was expected. Please change the shape of y to (n_samples, ), for example using ravel().\n",
      "  y_ = column_or_1d(y, warn=True)\n"
     ]
    }
   ],
   "source": [
    "model.fit(X, y)\n",
    "expected = y\n",
    "predicted = model.predict(X)\n",
    "print(metrics.classification_report(expected, predicted))\n",
    "print(metrics.confusion_matrix(expected, predicted))"
   ]
  },
  {
   "cell_type": "code",
   "execution_count": 33,
   "metadata": {
    "collapsed": false
   },
   "outputs": [
    {
     "name": "stdout",
     "output_type": "stream",
     "text": [
      "             precision    recall  f1-score   support\n",
      "\n",
      "        0.0       0.99      0.26      0.41      8959\n",
      "        1.0       0.12      0.98      0.21       896\n",
      "\n",
      "avg / total       0.91      0.32      0.39      9855\n",
      "\n",
      "[[2318 6641]\n",
      " [  16  880]]\n"
     ]
    },
    {
     "name": "stderr",
     "output_type": "stream",
     "text": [
      "C:\\Anaconda2\\lib\\site-packages\\sklearn\\svm\\base.py:514: DataConversionWarning: A column-vector y was passed when a 1d array was expected. Please change the shape of y to (n_samples, ), for example using ravel().\n",
      "  y_ = column_or_1d(y, warn=True)\n"
     ]
    }
   ],
   "source": [
    "model = svm.SVC(class_weight=\"balanced\")\n",
    "model.fit(X, y)\n",
    "expected = y\n",
    "predicted = model.predict(X)\n",
    "print(metrics.classification_report(expected, predicted))\n",
    "print(metrics.confusion_matrix(expected, predicted))"
   ]
  },
  {
   "cell_type": "code",
   "execution_count": 34,
   "metadata": {
    "collapsed": false
   },
   "outputs": [
    {
     "name": "stderr",
     "output_type": "stream",
     "text": [
      "C:\\Anaconda2\\lib\\site-packages\\sklearn\\metrics\\ranking.py:534: UndefinedMetricWarning: No positive samples in y_true, true positive value should be meaningless\n",
      "  UndefinedMetricWarning)\n"
     ]
    },
    {
     "data": {
      "text/plain": [
       "nan"
      ]
     },
     "execution_count": 34,
     "metadata": {},
     "output_type": "execute_result"
    }
   ],
   "source": [
    "fpr, tpr, thresholds = metrics.roc_curve(expected, predicted, pos_label=2)\n",
    "metrics.auc(fpr, tpr)"
   ]
  },
  {
   "cell_type": "code",
   "execution_count": 35,
   "metadata": {
    "collapsed": false
   },
   "outputs": [
    {
     "data": {
      "text/html": [
       "<div>\n",
       "<table border=\"1\" class=\"dataframe\">\n",
       "  <thead>\n",
       "    <tr style=\"text-align: right;\">\n",
       "      <th></th>\n",
       "      <th></th>\n",
       "      <th>event</th>\n",
       "    </tr>\n",
       "    <tr>\n",
       "      <th>city</th>\n",
       "      <th>date</th>\n",
       "      <th></th>\n",
       "    </tr>\n",
       "  </thead>\n",
       "  <tbody>\n",
       "    <tr>\n",
       "      <th rowspan=\"30\" valign=\"top\">Rio de Janeiro</th>\n",
       "      <th>2014-01-01</th>\n",
       "      <td>1</td>\n",
       "    </tr>\n",
       "    <tr>\n",
       "      <th>2014-01-02</th>\n",
       "      <td>1</td>\n",
       "    </tr>\n",
       "    <tr>\n",
       "      <th>2014-01-03</th>\n",
       "      <td>1</td>\n",
       "    </tr>\n",
       "    <tr>\n",
       "      <th>2014-01-04</th>\n",
       "      <td>1</td>\n",
       "    </tr>\n",
       "    <tr>\n",
       "      <th>2014-01-05</th>\n",
       "      <td>1</td>\n",
       "    </tr>\n",
       "    <tr>\n",
       "      <th>2014-01-06</th>\n",
       "      <td>1</td>\n",
       "    </tr>\n",
       "    <tr>\n",
       "      <th>2014-01-07</th>\n",
       "      <td>1</td>\n",
       "    </tr>\n",
       "    <tr>\n",
       "      <th>2014-01-08</th>\n",
       "      <td>1</td>\n",
       "    </tr>\n",
       "    <tr>\n",
       "      <th>2014-01-09</th>\n",
       "      <td>1</td>\n",
       "    </tr>\n",
       "    <tr>\n",
       "      <th>2014-01-10</th>\n",
       "      <td>1</td>\n",
       "    </tr>\n",
       "    <tr>\n",
       "      <th>2014-01-11</th>\n",
       "      <td>1</td>\n",
       "    </tr>\n",
       "    <tr>\n",
       "      <th>2014-01-12</th>\n",
       "      <td>1</td>\n",
       "    </tr>\n",
       "    <tr>\n",
       "      <th>2014-01-13</th>\n",
       "      <td>1</td>\n",
       "    </tr>\n",
       "    <tr>\n",
       "      <th>2014-01-14</th>\n",
       "      <td>1</td>\n",
       "    </tr>\n",
       "    <tr>\n",
       "      <th>2014-01-15</th>\n",
       "      <td>1</td>\n",
       "    </tr>\n",
       "    <tr>\n",
       "      <th>2014-01-16</th>\n",
       "      <td>1</td>\n",
       "    </tr>\n",
       "    <tr>\n",
       "      <th>2014-01-17</th>\n",
       "      <td>1</td>\n",
       "    </tr>\n",
       "    <tr>\n",
       "      <th>2014-01-18</th>\n",
       "      <td>1</td>\n",
       "    </tr>\n",
       "    <tr>\n",
       "      <th>2014-01-19</th>\n",
       "      <td>0</td>\n",
       "    </tr>\n",
       "    <tr>\n",
       "      <th>2014-01-20</th>\n",
       "      <td>1</td>\n",
       "    </tr>\n",
       "    <tr>\n",
       "      <th>2014-01-21</th>\n",
       "      <td>1</td>\n",
       "    </tr>\n",
       "    <tr>\n",
       "      <th>2014-01-22</th>\n",
       "      <td>1</td>\n",
       "    </tr>\n",
       "    <tr>\n",
       "      <th>2014-01-23</th>\n",
       "      <td>1</td>\n",
       "    </tr>\n",
       "    <tr>\n",
       "      <th>2014-01-24</th>\n",
       "      <td>1</td>\n",
       "    </tr>\n",
       "    <tr>\n",
       "      <th>2014-01-25</th>\n",
       "      <td>0</td>\n",
       "    </tr>\n",
       "    <tr>\n",
       "      <th>2014-01-26</th>\n",
       "      <td>0</td>\n",
       "    </tr>\n",
       "    <tr>\n",
       "      <th>2014-01-27</th>\n",
       "      <td>1</td>\n",
       "    </tr>\n",
       "    <tr>\n",
       "      <th>2014-01-28</th>\n",
       "      <td>1</td>\n",
       "    </tr>\n",
       "    <tr>\n",
       "      <th>2014-01-29</th>\n",
       "      <td>1</td>\n",
       "    </tr>\n",
       "    <tr>\n",
       "      <th>2014-01-30</th>\n",
       "      <td>1</td>\n",
       "    </tr>\n",
       "    <tr>\n",
       "      <th>...</th>\n",
       "      <th>...</th>\n",
       "      <td>...</td>\n",
       "    </tr>\n",
       "    <tr>\n",
       "      <th rowspan=\"30\" valign=\"top\">Distrito Federal</th>\n",
       "      <th>2014-12-02</th>\n",
       "      <td>0</td>\n",
       "    </tr>\n",
       "    <tr>\n",
       "      <th>2014-12-03</th>\n",
       "      <td>0</td>\n",
       "    </tr>\n",
       "    <tr>\n",
       "      <th>2014-12-04</th>\n",
       "      <td>0</td>\n",
       "    </tr>\n",
       "    <tr>\n",
       "      <th>2014-12-05</th>\n",
       "      <td>0</td>\n",
       "    </tr>\n",
       "    <tr>\n",
       "      <th>2014-12-06</th>\n",
       "      <td>0</td>\n",
       "    </tr>\n",
       "    <tr>\n",
       "      <th>2014-12-07</th>\n",
       "      <td>0</td>\n",
       "    </tr>\n",
       "    <tr>\n",
       "      <th>2014-12-08</th>\n",
       "      <td>0</td>\n",
       "    </tr>\n",
       "    <tr>\n",
       "      <th>2014-12-09</th>\n",
       "      <td>0</td>\n",
       "    </tr>\n",
       "    <tr>\n",
       "      <th>2014-12-10</th>\n",
       "      <td>0</td>\n",
       "    </tr>\n",
       "    <tr>\n",
       "      <th>2014-12-11</th>\n",
       "      <td>0</td>\n",
       "    </tr>\n",
       "    <tr>\n",
       "      <th>2014-12-12</th>\n",
       "      <td>0</td>\n",
       "    </tr>\n",
       "    <tr>\n",
       "      <th>2014-12-13</th>\n",
       "      <td>0</td>\n",
       "    </tr>\n",
       "    <tr>\n",
       "      <th>2014-12-14</th>\n",
       "      <td>0</td>\n",
       "    </tr>\n",
       "    <tr>\n",
       "      <th>2014-12-15</th>\n",
       "      <td>0</td>\n",
       "    </tr>\n",
       "    <tr>\n",
       "      <th>2014-12-16</th>\n",
       "      <td>0</td>\n",
       "    </tr>\n",
       "    <tr>\n",
       "      <th>2014-12-17</th>\n",
       "      <td>0</td>\n",
       "    </tr>\n",
       "    <tr>\n",
       "      <th>2014-12-18</th>\n",
       "      <td>0</td>\n",
       "    </tr>\n",
       "    <tr>\n",
       "      <th>2014-12-19</th>\n",
       "      <td>0</td>\n",
       "    </tr>\n",
       "    <tr>\n",
       "      <th>2014-12-20</th>\n",
       "      <td>0</td>\n",
       "    </tr>\n",
       "    <tr>\n",
       "      <th>2014-12-21</th>\n",
       "      <td>0</td>\n",
       "    </tr>\n",
       "    <tr>\n",
       "      <th>2014-12-22</th>\n",
       "      <td>0</td>\n",
       "    </tr>\n",
       "    <tr>\n",
       "      <th>2014-12-23</th>\n",
       "      <td>0</td>\n",
       "    </tr>\n",
       "    <tr>\n",
       "      <th>2014-12-24</th>\n",
       "      <td>0</td>\n",
       "    </tr>\n",
       "    <tr>\n",
       "      <th>2014-12-25</th>\n",
       "      <td>0</td>\n",
       "    </tr>\n",
       "    <tr>\n",
       "      <th>2014-12-26</th>\n",
       "      <td>0</td>\n",
       "    </tr>\n",
       "    <tr>\n",
       "      <th>2014-12-27</th>\n",
       "      <td>0</td>\n",
       "    </tr>\n",
       "    <tr>\n",
       "      <th>2014-12-28</th>\n",
       "      <td>0</td>\n",
       "    </tr>\n",
       "    <tr>\n",
       "      <th>2014-12-29</th>\n",
       "      <td>0</td>\n",
       "    </tr>\n",
       "    <tr>\n",
       "      <th>2014-12-30</th>\n",
       "      <td>0</td>\n",
       "    </tr>\n",
       "    <tr>\n",
       "      <th>2014-12-31</th>\n",
       "      <td>0</td>\n",
       "    </tr>\n",
       "  </tbody>\n",
       "</table>\n",
       "<p>9855 rows × 1 columns</p>\n",
       "</div>"
      ],
      "text/plain": [
       "                             event\n",
       "city             date             \n",
       "Rio de Janeiro   2014-01-01      1\n",
       "                 2014-01-02      1\n",
       "                 2014-01-03      1\n",
       "                 2014-01-04      1\n",
       "                 2014-01-05      1\n",
       "                 2014-01-06      1\n",
       "                 2014-01-07      1\n",
       "                 2014-01-08      1\n",
       "                 2014-01-09      1\n",
       "                 2014-01-10      1\n",
       "                 2014-01-11      1\n",
       "                 2014-01-12      1\n",
       "                 2014-01-13      1\n",
       "                 2014-01-14      1\n",
       "                 2014-01-15      1\n",
       "                 2014-01-16      1\n",
       "                 2014-01-17      1\n",
       "                 2014-01-18      1\n",
       "                 2014-01-19      0\n",
       "                 2014-01-20      1\n",
       "                 2014-01-21      1\n",
       "                 2014-01-22      1\n",
       "                 2014-01-23      1\n",
       "                 2014-01-24      1\n",
       "                 2014-01-25      0\n",
       "                 2014-01-26      0\n",
       "                 2014-01-27      1\n",
       "                 2014-01-28      1\n",
       "                 2014-01-29      1\n",
       "                 2014-01-30      1\n",
       "...                            ...\n",
       "Distrito Federal 2014-12-02      0\n",
       "                 2014-12-03      0\n",
       "                 2014-12-04      0\n",
       "                 2014-12-05      0\n",
       "                 2014-12-06      0\n",
       "                 2014-12-07      0\n",
       "                 2014-12-08      0\n",
       "                 2014-12-09      0\n",
       "                 2014-12-10      0\n",
       "                 2014-12-11      0\n",
       "                 2014-12-12      0\n",
       "                 2014-12-13      0\n",
       "                 2014-12-14      0\n",
       "                 2014-12-15      0\n",
       "                 2014-12-16      0\n",
       "                 2014-12-17      0\n",
       "                 2014-12-18      0\n",
       "                 2014-12-19      0\n",
       "                 2014-12-20      0\n",
       "                 2014-12-21      0\n",
       "                 2014-12-22      0\n",
       "                 2014-12-23      0\n",
       "                 2014-12-24      0\n",
       "                 2014-12-25      0\n",
       "                 2014-12-26      0\n",
       "                 2014-12-27      0\n",
       "                 2014-12-28      0\n",
       "                 2014-12-29      0\n",
       "                 2014-12-30      0\n",
       "                 2014-12-31      0\n",
       "\n",
       "[9855 rows x 1 columns]"
      ]
     },
     "execution_count": 35,
     "metadata": {},
     "output_type": "execute_result"
    }
   ],
   "source": [
    "expected"
   ]
  },
  {
   "cell_type": "code",
   "execution_count": 36,
   "metadata": {
    "collapsed": false
   },
   "outputs": [
    {
     "data": {
      "text/plain": [
       "<bound method DataFrame.describe of                              event\n",
       "city             date             \n",
       "Rio de Janeiro   2014-01-01      1\n",
       "                 2014-01-02      1\n",
       "                 2014-01-03      1\n",
       "                 2014-01-04      1\n",
       "                 2014-01-05      1\n",
       "                 2014-01-06      1\n",
       "                 2014-01-07      1\n",
       "                 2014-01-08      1\n",
       "                 2014-01-09      1\n",
       "                 2014-01-10      1\n",
       "                 2014-01-11      1\n",
       "                 2014-01-12      1\n",
       "                 2014-01-13      1\n",
       "                 2014-01-14      1\n",
       "                 2014-01-15      1\n",
       "                 2014-01-16      1\n",
       "                 2014-01-17      1\n",
       "                 2014-01-18      1\n",
       "                 2014-01-19      0\n",
       "                 2014-01-20      1\n",
       "                 2014-01-21      1\n",
       "                 2014-01-22      1\n",
       "                 2014-01-23      1\n",
       "                 2014-01-24      1\n",
       "                 2014-01-25      0\n",
       "                 2014-01-26      0\n",
       "                 2014-01-27      1\n",
       "                 2014-01-28      1\n",
       "                 2014-01-29      1\n",
       "                 2014-01-30      1\n",
       "...                            ...\n",
       "Distrito Federal 2014-12-02      0\n",
       "                 2014-12-03      0\n",
       "                 2014-12-04      0\n",
       "                 2014-12-05      0\n",
       "                 2014-12-06      0\n",
       "                 2014-12-07      0\n",
       "                 2014-12-08      0\n",
       "                 2014-12-09      0\n",
       "                 2014-12-10      0\n",
       "                 2014-12-11      0\n",
       "                 2014-12-12      0\n",
       "                 2014-12-13      0\n",
       "                 2014-12-14      0\n",
       "                 2014-12-15      0\n",
       "                 2014-12-16      0\n",
       "                 2014-12-17      0\n",
       "                 2014-12-18      0\n",
       "                 2014-12-19      0\n",
       "                 2014-12-20      0\n",
       "                 2014-12-21      0\n",
       "                 2014-12-22      0\n",
       "                 2014-12-23      0\n",
       "                 2014-12-24      0\n",
       "                 2014-12-25      0\n",
       "                 2014-12-26      0\n",
       "                 2014-12-27      0\n",
       "                 2014-12-28      0\n",
       "                 2014-12-29      0\n",
       "                 2014-12-30      0\n",
       "                 2014-12-31      0\n",
       "\n",
       "[9855 rows x 1 columns]>"
      ]
     },
     "execution_count": 36,
     "metadata": {},
     "output_type": "execute_result"
    }
   ],
   "source": [
    "expected.describe"
   ]
  },
  {
   "cell_type": "code",
   "execution_count": 37,
   "metadata": {
    "collapsed": false
   },
   "outputs": [
    {
     "data": {
      "text/plain": [
       "<bound method Series.describe of city              date      \n",
       "Rio de Janeiro    2014-01-01    1\n",
       "                  2014-01-02    1\n",
       "                  2014-01-03    1\n",
       "                  2014-01-04    1\n",
       "                  2014-01-05    1\n",
       "                  2014-01-06    1\n",
       "                  2014-01-07    1\n",
       "                  2014-01-08    1\n",
       "                  2014-01-09    1\n",
       "                  2014-01-10    1\n",
       "                  2014-01-11    1\n",
       "                  2014-01-12    1\n",
       "                  2014-01-13    1\n",
       "                  2014-01-14    1\n",
       "                  2014-01-15    1\n",
       "                  2014-01-16    1\n",
       "                  2014-01-17    1\n",
       "                  2014-01-18    1\n",
       "                  2014-01-19    0\n",
       "                  2014-01-20    1\n",
       "                  2014-01-21    1\n",
       "                  2014-01-22    1\n",
       "                  2014-01-23    1\n",
       "                  2014-01-24    1\n",
       "                  2014-01-25    0\n",
       "                  2014-01-26    0\n",
       "                  2014-01-27    1\n",
       "                  2014-01-28    1\n",
       "                  2014-01-29    1\n",
       "                  2014-01-30    1\n",
       "                               ..\n",
       "Distrito Federal  2014-12-02    0\n",
       "                  2014-12-03    0\n",
       "                  2014-12-04    0\n",
       "                  2014-12-05    0\n",
       "                  2014-12-06    0\n",
       "                  2014-12-07    0\n",
       "                  2014-12-08    0\n",
       "                  2014-12-09    0\n",
       "                  2014-12-10    0\n",
       "                  2014-12-11    0\n",
       "                  2014-12-12    0\n",
       "                  2014-12-13    0\n",
       "                  2014-12-14    0\n",
       "                  2014-12-15    0\n",
       "                  2014-12-16    0\n",
       "                  2014-12-17    0\n",
       "                  2014-12-18    0\n",
       "                  2014-12-19    0\n",
       "                  2014-12-20    0\n",
       "                  2014-12-21    0\n",
       "                  2014-12-22    0\n",
       "                  2014-12-23    0\n",
       "                  2014-12-24    0\n",
       "                  2014-12-25    0\n",
       "                  2014-12-26    0\n",
       "                  2014-12-27    0\n",
       "                  2014-12-28    0\n",
       "                  2014-12-29    0\n",
       "                  2014-12-30    0\n",
       "                  2014-12-31    0\n",
       "Name: event, dtype: float64>"
      ]
     },
     "execution_count": 37,
     "metadata": {},
     "output_type": "execute_result"
    }
   ],
   "source": [
    "expected.event.describe"
   ]
  },
  {
   "cell_type": "code",
   "execution_count": 38,
   "metadata": {
    "collapsed": false
   },
   "outputs": [
    {
     "data": {
      "text/plain": [
       "nan"
      ]
     },
     "execution_count": 38,
     "metadata": {},
     "output_type": "execute_result"
    }
   ],
   "source": [
    "fpr, tpr, thresholds = metrics.roc_curve(expected, predicted, pos_label=2)\n",
    "metrics.auc(fpr, tpr)"
   ]
  },
  {
   "cell_type": "code",
   "execution_count": 39,
   "metadata": {
    "collapsed": false
   },
   "outputs": [
    {
     "data": {
      "text/plain": [
       "0.62043854543715016"
      ]
     },
     "execution_count": 39,
     "metadata": {},
     "output_type": "execute_result"
    }
   ],
   "source": [
    "fpr, tpr, thresholds = metrics.roc_curve(expected, predicted, pos_label=1)\n",
    "metrics.auc(fpr, tpr)"
   ]
  },
  {
   "cell_type": "code",
   "execution_count": 40,
   "metadata": {
    "collapsed": false
   },
   "outputs": [
    {
     "ename": "NameError",
     "evalue": "name 'SVC' is not defined",
     "output_type": "error",
     "traceback": [
      "\u001b[1;31m---------------------------------------------------------------------------\u001b[0m",
      "\u001b[1;31mNameError\u001b[0m                                 Traceback (most recent call last)",
      "\u001b[1;32m<ipython-input-40-b9673c8afad5>\u001b[0m in \u001b[0;36m<module>\u001b[1;34m()\u001b[0m\n\u001b[0;32m      1\u001b[0m models = [LogisticRegression(penalty='l1', class_weight='balanced'),\n\u001b[1;32m----> 2\u001b[1;33m           \u001b[0mSVC\u001b[0m\u001b[1;33m(\u001b[0m\u001b[0mclass_weight\u001b[0m\u001b[1;33m=\u001b[0m\u001b[1;34m\"balanced\"\u001b[0m\u001b[1;33m)\u001b[0m\u001b[1;33m,\u001b[0m\u001b[1;33m\u001b[0m\u001b[0m\n\u001b[0m\u001b[0;32m      3\u001b[0m           ]\n\u001b[0;32m      4\u001b[0m \u001b[1;33m\u001b[0m\u001b[0m\n\u001b[0;32m      5\u001b[0m \u001b[1;32mfor\u001b[0m \u001b[0mm\u001b[0m \u001b[1;32min\u001b[0m \u001b[0mmodels\u001b[0m\u001b[1;33m:\u001b[0m\u001b[1;33m\u001b[0m\u001b[0m\n",
      "\u001b[1;31mNameError\u001b[0m: name 'SVC' is not defined"
     ]
    }
   ],
   "source": [
    "models = [LogisticRegression(penalty='l1', class_weight='balanced'),\n",
    "          SVC(class_weight=\"balanced\"),\n",
    "          ]\n",
    "\n",
    "for m in models:\n",
    "    m.fit(X, y)\n",
    "    expected = y\n",
    "    predicted = m.predict(X)\n",
    "    print(metrics.classification_report(expected, predicted))\n",
    "    print(metrics.confusion_matrix(expected, predicted))\n",
    "    fpr, tpr, thresholds = metrics.roc_curve(expected, predicted, pos_label=1)\n",
    "    print \"AOC: \", str(metrics.auc(fpr, tpr))"
   ]
  },
  {
   "cell_type": "code",
   "execution_count": 41,
   "metadata": {
    "collapsed": true
   },
   "outputs": [],
   "source": [
    "from sklearn.svm import SVC\n"
   ]
  },
  {
   "cell_type": "code",
   "execution_count": 42,
   "metadata": {
    "collapsed": false
   },
   "outputs": [
    {
     "name": "stderr",
     "output_type": "stream",
     "text": [
      "C:\\Anaconda2\\lib\\site-packages\\sklearn\\utils\\validation.py:515: DataConversionWarning: A column-vector y was passed when a 1d array was expected. Please change the shape of y to (n_samples, ), for example using ravel().\n",
      "  y = column_or_1d(y, warn=True)\n",
      "C:\\Anaconda2\\lib\\site-packages\\sklearn\\svm\\base.py:514: DataConversionWarning: A column-vector y was passed when a 1d array was expected. Please change the shape of y to (n_samples, ), for example using ravel().\n",
      "  y_ = column_or_1d(y, warn=True)\n"
     ]
    },
    {
     "name": "stdout",
     "output_type": "stream",
     "text": [
      "             precision    recall  f1-score   support\n",
      "\n",
      "        0.0       1.00      0.26      0.42      8959\n",
      "        1.0       0.12      1.00      0.21       896\n",
      "\n",
      "avg / total       0.92      0.33      0.40      9855\n",
      "\n",
      "[[2351 6608]\n",
      " [   0  896]]\n",
      "AOC:  0.631208840272\n",
      "             precision    recall  f1-score   support\n",
      "\n",
      "        0.0       0.99      0.26      0.41      8959\n",
      "        1.0       0.12      0.98      0.21       896\n",
      "\n",
      "avg / total       0.91      0.32      0.39      9855\n",
      "\n",
      "[[2318 6641]\n",
      " [  16  880]]\n",
      "AOC:  0.620438545437\n"
     ]
    }
   ],
   "source": [
    "models = [LogisticRegression(penalty='l1', class_weight='balanced'),\n",
    "          SVC(class_weight=\"balanced\"),\n",
    "          ]\n",
    "\n",
    "for m in models:\n",
    "    m.fit(X, y)\n",
    "    expected = y\n",
    "    predicted = m.predict(X)\n",
    "    print(metrics.classification_report(expected, predicted))\n",
    "    print(metrics.confusion_matrix(expected, predicted))\n",
    "    fpr, tpr, thresholds = metrics.roc_curve(expected, predicted, pos_label=1)\n",
    "    print \"AOC: \", str(metrics.auc(fpr, tpr))"
   ]
  },
  {
   "cell_type": "code",
   "execution_count": 43,
   "metadata": {
    "collapsed": false
   },
   "outputs": [
    {
     "name": "stderr",
     "output_type": "stream",
     "text": [
      "C:\\Anaconda2\\lib\\site-packages\\sklearn\\svm\\base.py:514: DataConversionWarning: A column-vector y was passed when a 1d array was expected. Please change the shape of y to (n_samples, ), for example using ravel().\n",
      "  y_ = column_or_1d(y, warn=True)\n"
     ]
    },
    {
     "data": {
      "text/plain": [
       "SVC(C=1.0, cache_size=200, class_weight='balanced', coef0=0.0,\n",
       "  decision_function_shape=None, degree=3, gamma='auto', kernel='rbf',\n",
       "  max_iter=-1, probability=False, random_state=None, shrinking=True,\n",
       "  tol=0.001, verbose=False)"
      ]
     },
     "execution_count": 43,
     "metadata": {},
     "output_type": "execute_result"
    }
   ],
   "source": [
    "m.fit(X, y)"
   ]
  },
  {
   "cell_type": "code",
   "execution_count": 44,
   "metadata": {
    "collapsed": false
   },
   "outputs": [
    {
     "data": {
      "text/plain": [
       "SVC(C=1.0, cache_size=200, class_weight='balanced', coef0=0.0,\n",
       "  decision_function_shape=None, degree=3, gamma='auto', kernel='rbf',\n",
       "  max_iter=-1, probability=False, random_state=None, shrinking=True,\n",
       "  tol=0.001, verbose=False)"
      ]
     },
     "execution_count": 44,
     "metadata": {},
     "output_type": "execute_result"
    }
   ],
   "source": [
    "m.fit(X, y.event)"
   ]
  },
  {
   "cell_type": "code",
   "execution_count": 45,
   "metadata": {
    "collapsed": false
   },
   "outputs": [
    {
     "ename": "NameError",
     "evalue": "name 'LabelEncoder' is not defined",
     "output_type": "error",
     "traceback": [
      "\u001b[1;31m---------------------------------------------------------------------------\u001b[0m",
      "\u001b[1;31mNameError\u001b[0m                                 Traceback (most recent call last)",
      "\u001b[1;32m<ipython-input-45-f8256efd4e15>\u001b[0m in \u001b[0;36m<module>\u001b[1;34m()\u001b[0m\n\u001b[1;32m----> 1\u001b[1;33m \u001b[0mle\u001b[0m \u001b[1;33m=\u001b[0m \u001b[0mLabelEncoder\u001b[0m\u001b[1;33m(\u001b[0m\u001b[1;33m)\u001b[0m\u001b[1;33m\u001b[0m\u001b[0m\n\u001b[0m",
      "\u001b[1;31mNameError\u001b[0m: name 'LabelEncoder' is not defined"
     ]
    }
   ],
   "source": [
    "le = LabelEncoder()"
   ]
  },
  {
   "cell_type": "code",
   "execution_count": 46,
   "metadata": {
    "collapsed": false
   },
   "outputs": [
    {
     "ename": "ValueError",
     "evalue": "Attempted relative import in non-package",
     "output_type": "error",
     "traceback": [
      "\u001b[1;31m---------------------------------------------------------------------------\u001b[0m",
      "\u001b[1;31mValueError\u001b[0m                                Traceback (most recent call last)",
      "\u001b[1;32m<ipython-input-46-e4d29ac60700>\u001b[0m in \u001b[0;36m<module>\u001b[1;34m()\u001b[0m\n\u001b[1;32m----> 1\u001b[1;33m \u001b[1;32mfrom\u001b[0m \u001b[1;33m.\u001b[0m\u001b[1;33m.\u001b[0m\u001b[0mpreprocessing\u001b[0m \u001b[1;32mimport\u001b[0m \u001b[0mLabelEncoder\u001b[0m\u001b[1;33m\u001b[0m\u001b[0m\n\u001b[0m",
      "\u001b[1;31mValueError\u001b[0m: Attempted relative import in non-package"
     ]
    }
   ],
   "source": [
    "from ..preprocessing import LabelEncoder"
   ]
  },
  {
   "cell_type": "code",
   "execution_count": 47,
   "metadata": {
    "collapsed": true
   },
   "outputs": [],
   "source": [
    "from sklearn import preprocessing"
   ]
  },
  {
   "cell_type": "code",
   "execution_count": 48,
   "metadata": {
    "collapsed": false
   },
   "outputs": [
    {
     "ename": "ImportError",
     "evalue": "No module named preprocessing",
     "output_type": "error",
     "traceback": [
      "\u001b[1;31m---------------------------------------------------------------------------\u001b[0m",
      "\u001b[1;31mImportError\u001b[0m                               Traceback (most recent call last)",
      "\u001b[1;32m<ipython-input-48-4798c9b249b6>\u001b[0m in \u001b[0;36m<module>\u001b[1;34m()\u001b[0m\n\u001b[1;32m----> 1\u001b[1;33m \u001b[1;32mfrom\u001b[0m \u001b[0mpreprocessing\u001b[0m \u001b[1;32mimport\u001b[0m \u001b[0mLabelEncoder\u001b[0m\u001b[1;33m\u001b[0m\u001b[0m\n\u001b[0m",
      "\u001b[1;31mImportError\u001b[0m: No module named preprocessing"
     ]
    }
   ],
   "source": [
    "from preprocessing import LabelEncoder"
   ]
  },
  {
   "cell_type": "code",
   "execution_count": 49,
   "metadata": {
    "collapsed": false
   },
   "outputs": [
    {
     "ename": "NameError",
     "evalue": "name 'LabelEncoder' is not defined",
     "output_type": "error",
     "traceback": [
      "\u001b[1;31m---------------------------------------------------------------------------\u001b[0m",
      "\u001b[1;31mNameError\u001b[0m                                 Traceback (most recent call last)",
      "\u001b[1;32m<ipython-input-49-f8256efd4e15>\u001b[0m in \u001b[0;36m<module>\u001b[1;34m()\u001b[0m\n\u001b[1;32m----> 1\u001b[1;33m \u001b[0mle\u001b[0m \u001b[1;33m=\u001b[0m \u001b[0mLabelEncoder\u001b[0m\u001b[1;33m(\u001b[0m\u001b[1;33m)\u001b[0m\u001b[1;33m\u001b[0m\u001b[0m\n\u001b[0m",
      "\u001b[1;31mNameError\u001b[0m: name 'LabelEncoder' is not defined"
     ]
    }
   ],
   "source": [
    "le = LabelEncoder()"
   ]
  },
  {
   "cell_type": "code",
   "execution_count": 50,
   "metadata": {
    "collapsed": true
   },
   "outputs": [],
   "source": [
    "le = preprocessing.LabelEncoder()"
   ]
  },
  {
   "cell_type": "code",
   "execution_count": 1,
   "metadata": {
    "collapsed": true
   },
   "outputs": [],
   "source": [
    "import numpy as np\n",
    "import pandas as pd\n",
    "from datetime import datetime, timedelta\n",
    "import json as js\n",
    "from sklearn import metrics\n",
    "from sklearn.linear_model import LogisticRegression\n",
    "from sklearn.svm import SVC\n",
    "\n",
    "def get_keywords(f_key_dict):\n",
    "    dicts = {}\n",
    "    for lag in languages:\n",
    "        dicts[lag] = {'lemmas':[]}\n",
    "    for l in open(f_key_dict):\n",
    "        obj = js.loads(l)\n",
    "        lag = obj['language']\n",
    "        if lag in languages:\n",
    "            lemmas = [item['lemma'] for item in obj['tokens']]\n",
    "            lemmas = filter(lambda x: len(x) > 1, lemmas)\n",
    "            if len(lemmas) == 1:\n",
    "                dicts[lag][lemmas[0]] = 0\n",
    "            elif len(lemmas) == 2:\n",
    "                dicts[lag][\"_\".join(lemmas)] = 0\n",
    "            elif len(lemmas) == 3:\n",
    "                dicts[lag][\"_\".join(lemmas)] = 0\n",
    "    return dicts\n",
    "\n",
    "\n",
    "def create_y(f, date_range):\n",
    "    df_gsr = pd.DataFrame(columns=('date', 'event', 'city'))\n",
    "    lines = open(f).readlines()\n",
    "    for i in range(len(lines)):\n",
    "        obj = js.loads(lines[i])\n",
    "        if obj['location'][0] == 'Brazil':\n",
    "            df_gsr.loc[i] = [pd.to_datetime(obj['eventDate'].split(\"T\")[0], format='%Y-%m-%d') + timedelta(days=-1),\n",
    "                             1,\n",
    "                             obj['location'][1]]\n",
    "\n",
    "    df_gsr_selected = df_gsr[(df_gsr.date >= min_date) & (df_gsr.date <= max_date)]\n",
    "    df_gsr_selected = df_gsr_selected[df_gsr_selected['city'] != '-']\n",
    "    df_grouped = df_gsr_selected.groupby(['city', 'date']).agg({'event': lambda x: 1})\n",
    "\n",
    "    cities = pd.unique(df_gsr_selected.city.ravel())\n",
    "    new_index = pd.MultiIndex.from_product([cities, date_range], names=['city', 'date'])\n",
    "\n",
    "    df_final = df_grouped.reindex(new_index, fill_value=0)\n",
    "    return df_final"
   ]
  },
  {
   "cell_type": "code",
   "execution_count": 2,
   "metadata": {
    "collapsed": true
   },
   "outputs": [],
   "source": [
    "file_gsr = \"./gsrAll.json\"\n",
    "languages = ['English', 'Portuguese', 'Spanish']\n",
    "min_date = datetime(2014, 1, 1)\n",
    "max_date = datetime(2014, 12, 31)\n",
    "dates = pd.date_range(min_date, max_date)\n",
    "y = create_y(file_gsr, dates)\n",
    "\n",
    "file_keys = \"./CU_Keywords.2013-01-25T15-36-29\"\n",
    "keywords_dict = get_keywords(file_keys)[languages[1]]\n",
    "keywords = keywords_dict.keys()\n",
    "col_names = keywords + ['date', 'city']\n",
    "types = {key: 'int' for key in keywords}\n",
    "types['date'] = 'str'\n",
    "types['city'] = 'str'\n",
    "X = pd.read_csv('features_Portuguese.csv', header=None, names=col_names)\n",
    "X = X.groupby(['city', 'date']).agg({key: np.sum for key in keywords})\n",
    "\n",
    "models = [LogisticRegression(penalty='l1', class_weight='balanced'),\n",
    "          SVC(class_weight=\"balanced\"),\n",
    "          ]"
   ]
  },
  {
   "cell_type": "code",
   "execution_count": 3,
   "metadata": {
    "collapsed": false
   },
   "outputs": [
    {
     "ename": "ValueError",
     "evalue": "Found arrays with inconsistent numbers of samples: [9828 9855]",
     "output_type": "error",
     "traceback": [
      "\u001b[1;31m---------------------------------------------------------------------------\u001b[0m",
      "\u001b[1;31mValueError\u001b[0m                                Traceback (most recent call last)",
      "\u001b[1;32m<ipython-input-3-6c6ab9b33ac2>\u001b[0m in \u001b[0;36m<module>\u001b[1;34m()\u001b[0m\n\u001b[0;32m      1\u001b[0m \u001b[0mm\u001b[0m \u001b[1;33m=\u001b[0m \u001b[0mmodels\u001b[0m\u001b[1;33m[\u001b[0m\u001b[1;36m0\u001b[0m\u001b[1;33m]\u001b[0m\u001b[1;33m\u001b[0m\u001b[0m\n\u001b[1;32m----> 2\u001b[1;33m \u001b[0mm\u001b[0m\u001b[1;33m.\u001b[0m\u001b[0mfit\u001b[0m\u001b[1;33m(\u001b[0m\u001b[0mX\u001b[0m\u001b[1;33m,\u001b[0m \u001b[0my\u001b[0m\u001b[1;33m.\u001b[0m\u001b[0mevent\u001b[0m\u001b[1;33m)\u001b[0m\u001b[1;33m\u001b[0m\u001b[0m\n\u001b[0m\u001b[0;32m      3\u001b[0m \u001b[0mexpected\u001b[0m \u001b[1;33m=\u001b[0m \u001b[0my\u001b[0m\u001b[1;33m.\u001b[0m\u001b[0mevent\u001b[0m\u001b[1;33m\u001b[0m\u001b[0m\n\u001b[0;32m      4\u001b[0m \u001b[0mpredicted\u001b[0m \u001b[1;33m=\u001b[0m \u001b[0mm\u001b[0m\u001b[1;33m.\u001b[0m\u001b[0mpredict\u001b[0m\u001b[1;33m(\u001b[0m\u001b[0mX\u001b[0m\u001b[1;33m)\u001b[0m\u001b[1;33m\u001b[0m\u001b[0m\n",
      "\u001b[1;32mC:\\Anaconda2\\lib\\site-packages\\sklearn\\linear_model\\logistic.pyc\u001b[0m in \u001b[0;36mfit\u001b[1;34m(self, X, y, sample_weight)\u001b[0m\n\u001b[0;32m   1140\u001b[0m \u001b[1;33m\u001b[0m\u001b[0m\n\u001b[0;32m   1141\u001b[0m         X, y = check_X_y(X, y, accept_sparse='csr', dtype=np.float64, \n\u001b[1;32m-> 1142\u001b[1;33m                          order=\"C\")\n\u001b[0m\u001b[0;32m   1143\u001b[0m         \u001b[0mcheck_classification_targets\u001b[0m\u001b[1;33m(\u001b[0m\u001b[0my\u001b[0m\u001b[1;33m)\u001b[0m\u001b[1;33m\u001b[0m\u001b[0m\n\u001b[0;32m   1144\u001b[0m         \u001b[0mself\u001b[0m\u001b[1;33m.\u001b[0m\u001b[0mclasses_\u001b[0m \u001b[1;33m=\u001b[0m \u001b[0mnp\u001b[0m\u001b[1;33m.\u001b[0m\u001b[0munique\u001b[0m\u001b[1;33m(\u001b[0m\u001b[0my\u001b[0m\u001b[1;33m)\u001b[0m\u001b[1;33m\u001b[0m\u001b[0m\n",
      "\u001b[1;32mC:\\Anaconda2\\lib\\site-packages\\sklearn\\utils\\validation.pyc\u001b[0m in \u001b[0;36mcheck_X_y\u001b[1;34m(X, y, accept_sparse, dtype, order, copy, force_all_finite, ensure_2d, allow_nd, multi_output, ensure_min_samples, ensure_min_features, y_numeric, warn_on_dtype, estimator)\u001b[0m\n\u001b[0;32m    518\u001b[0m         \u001b[0my\u001b[0m \u001b[1;33m=\u001b[0m \u001b[0my\u001b[0m\u001b[1;33m.\u001b[0m\u001b[0mastype\u001b[0m\u001b[1;33m(\u001b[0m\u001b[0mnp\u001b[0m\u001b[1;33m.\u001b[0m\u001b[0mfloat64\u001b[0m\u001b[1;33m)\u001b[0m\u001b[1;33m\u001b[0m\u001b[0m\n\u001b[0;32m    519\u001b[0m \u001b[1;33m\u001b[0m\u001b[0m\n\u001b[1;32m--> 520\u001b[1;33m     \u001b[0mcheck_consistent_length\u001b[0m\u001b[1;33m(\u001b[0m\u001b[0mX\u001b[0m\u001b[1;33m,\u001b[0m \u001b[0my\u001b[0m\u001b[1;33m)\u001b[0m\u001b[1;33m\u001b[0m\u001b[0m\n\u001b[0m\u001b[0;32m    521\u001b[0m \u001b[1;33m\u001b[0m\u001b[0m\n\u001b[0;32m    522\u001b[0m     \u001b[1;32mreturn\u001b[0m \u001b[0mX\u001b[0m\u001b[1;33m,\u001b[0m \u001b[0my\u001b[0m\u001b[1;33m\u001b[0m\u001b[0m\n",
      "\u001b[1;32mC:\\Anaconda2\\lib\\site-packages\\sklearn\\utils\\validation.pyc\u001b[0m in \u001b[0;36mcheck_consistent_length\u001b[1;34m(*arrays)\u001b[0m\n\u001b[0;32m    174\u001b[0m     \u001b[1;32mif\u001b[0m \u001b[0mlen\u001b[0m\u001b[1;33m(\u001b[0m\u001b[0muniques\u001b[0m\u001b[1;33m)\u001b[0m \u001b[1;33m>\u001b[0m \u001b[1;36m1\u001b[0m\u001b[1;33m:\u001b[0m\u001b[1;33m\u001b[0m\u001b[0m\n\u001b[0;32m    175\u001b[0m         raise ValueError(\"Found arrays with inconsistent numbers of samples: \"\n\u001b[1;32m--> 176\u001b[1;33m                          \"%s\" % str(uniques))\n\u001b[0m\u001b[0;32m    177\u001b[0m \u001b[1;33m\u001b[0m\u001b[0m\n\u001b[0;32m    178\u001b[0m \u001b[1;33m\u001b[0m\u001b[0m\n",
      "\u001b[1;31mValueError\u001b[0m: Found arrays with inconsistent numbers of samples: [9828 9855]"
     ]
    }
   ],
   "source": [
    "m = models[0]\n",
    "m.fit(X, y.event)\n",
    "expected = y.event\n",
    "predicted = m.predict(X)\n"
   ]
  },
  {
   "cell_type": "code",
   "execution_count": 4,
   "metadata": {
    "collapsed": false
   },
   "outputs": [
    {
     "data": {
      "text/plain": [
       "(9855, 1)"
      ]
     },
     "execution_count": 4,
     "metadata": {},
     "output_type": "execute_result"
    }
   ],
   "source": [
    "y.shape"
   ]
  },
  {
   "cell_type": "code",
   "execution_count": 5,
   "metadata": {
    "collapsed": false
   },
   "outputs": [
    {
     "data": {
      "text/plain": [
       "(9828, 676)"
      ]
     },
     "execution_count": 5,
     "metadata": {},
     "output_type": "execute_result"
    }
   ],
   "source": [
    "X.shape"
   ]
  },
  {
   "cell_type": "code",
   "execution_count": 6,
   "metadata": {
    "collapsed": true
   },
   "outputs": [],
   "source": [
    "start = datetime(2014, 1, 1)\n",
    "end = datetime(2014, 12, 31)\n",
    "all_dates = [start + d for d in [timedelta(days=i) for i in range(1+(end - start).days)]]"
   ]
  },
  {
   "cell_type": "code",
   "execution_count": 7,
   "metadata": {
    "collapsed": false
   },
   "outputs": [
    {
     "data": {
      "text/plain": [
       "[datetime.datetime(2014, 1, 1, 0, 0),\n",
       " datetime.datetime(2014, 1, 2, 0, 0),\n",
       " datetime.datetime(2014, 1, 3, 0, 0),\n",
       " datetime.datetime(2014, 1, 4, 0, 0),\n",
       " datetime.datetime(2014, 1, 5, 0, 0),\n",
       " datetime.datetime(2014, 1, 6, 0, 0),\n",
       " datetime.datetime(2014, 1, 7, 0, 0),\n",
       " datetime.datetime(2014, 1, 8, 0, 0),\n",
       " datetime.datetime(2014, 1, 9, 0, 0),\n",
       " datetime.datetime(2014, 1, 10, 0, 0),\n",
       " datetime.datetime(2014, 1, 11, 0, 0),\n",
       " datetime.datetime(2014, 1, 12, 0, 0),\n",
       " datetime.datetime(2014, 1, 13, 0, 0),\n",
       " datetime.datetime(2014, 1, 14, 0, 0),\n",
       " datetime.datetime(2014, 1, 15, 0, 0),\n",
       " datetime.datetime(2014, 1, 16, 0, 0),\n",
       " datetime.datetime(2014, 1, 17, 0, 0),\n",
       " datetime.datetime(2014, 1, 18, 0, 0),\n",
       " datetime.datetime(2014, 1, 19, 0, 0),\n",
       " datetime.datetime(2014, 1, 20, 0, 0),\n",
       " datetime.datetime(2014, 1, 21, 0, 0),\n",
       " datetime.datetime(2014, 1, 22, 0, 0),\n",
       " datetime.datetime(2014, 1, 23, 0, 0),\n",
       " datetime.datetime(2014, 1, 24, 0, 0),\n",
       " datetime.datetime(2014, 1, 25, 0, 0),\n",
       " datetime.datetime(2014, 1, 26, 0, 0),\n",
       " datetime.datetime(2014, 1, 27, 0, 0),\n",
       " datetime.datetime(2014, 1, 28, 0, 0),\n",
       " datetime.datetime(2014, 1, 29, 0, 0),\n",
       " datetime.datetime(2014, 1, 30, 0, 0),\n",
       " datetime.datetime(2014, 1, 31, 0, 0),\n",
       " datetime.datetime(2014, 2, 1, 0, 0),\n",
       " datetime.datetime(2014, 2, 2, 0, 0),\n",
       " datetime.datetime(2014, 2, 3, 0, 0),\n",
       " datetime.datetime(2014, 2, 4, 0, 0),\n",
       " datetime.datetime(2014, 2, 5, 0, 0),\n",
       " datetime.datetime(2014, 2, 6, 0, 0),\n",
       " datetime.datetime(2014, 2, 7, 0, 0),\n",
       " datetime.datetime(2014, 2, 8, 0, 0),\n",
       " datetime.datetime(2014, 2, 9, 0, 0),\n",
       " datetime.datetime(2014, 2, 10, 0, 0),\n",
       " datetime.datetime(2014, 2, 11, 0, 0),\n",
       " datetime.datetime(2014, 2, 12, 0, 0),\n",
       " datetime.datetime(2014, 2, 13, 0, 0),\n",
       " datetime.datetime(2014, 2, 14, 0, 0),\n",
       " datetime.datetime(2014, 2, 15, 0, 0),\n",
       " datetime.datetime(2014, 2, 16, 0, 0),\n",
       " datetime.datetime(2014, 2, 17, 0, 0),\n",
       " datetime.datetime(2014, 2, 18, 0, 0),\n",
       " datetime.datetime(2014, 2, 19, 0, 0),\n",
       " datetime.datetime(2014, 2, 20, 0, 0),\n",
       " datetime.datetime(2014, 2, 21, 0, 0),\n",
       " datetime.datetime(2014, 2, 22, 0, 0),\n",
       " datetime.datetime(2014, 2, 23, 0, 0),\n",
       " datetime.datetime(2014, 2, 24, 0, 0),\n",
       " datetime.datetime(2014, 2, 25, 0, 0),\n",
       " datetime.datetime(2014, 2, 26, 0, 0),\n",
       " datetime.datetime(2014, 2, 27, 0, 0),\n",
       " datetime.datetime(2014, 2, 28, 0, 0),\n",
       " datetime.datetime(2014, 3, 1, 0, 0),\n",
       " datetime.datetime(2014, 3, 2, 0, 0),\n",
       " datetime.datetime(2014, 3, 3, 0, 0),\n",
       " datetime.datetime(2014, 3, 4, 0, 0),\n",
       " datetime.datetime(2014, 3, 5, 0, 0),\n",
       " datetime.datetime(2014, 3, 6, 0, 0),\n",
       " datetime.datetime(2014, 3, 7, 0, 0),\n",
       " datetime.datetime(2014, 3, 8, 0, 0),\n",
       " datetime.datetime(2014, 3, 9, 0, 0),\n",
       " datetime.datetime(2014, 3, 10, 0, 0),\n",
       " datetime.datetime(2014, 3, 11, 0, 0),\n",
       " datetime.datetime(2014, 3, 12, 0, 0),\n",
       " datetime.datetime(2014, 3, 13, 0, 0),\n",
       " datetime.datetime(2014, 3, 14, 0, 0),\n",
       " datetime.datetime(2014, 3, 15, 0, 0),\n",
       " datetime.datetime(2014, 3, 16, 0, 0),\n",
       " datetime.datetime(2014, 3, 17, 0, 0),\n",
       " datetime.datetime(2014, 3, 18, 0, 0),\n",
       " datetime.datetime(2014, 3, 19, 0, 0),\n",
       " datetime.datetime(2014, 3, 20, 0, 0),\n",
       " datetime.datetime(2014, 3, 21, 0, 0),\n",
       " datetime.datetime(2014, 3, 22, 0, 0),\n",
       " datetime.datetime(2014, 3, 23, 0, 0),\n",
       " datetime.datetime(2014, 3, 24, 0, 0),\n",
       " datetime.datetime(2014, 3, 25, 0, 0),\n",
       " datetime.datetime(2014, 3, 26, 0, 0),\n",
       " datetime.datetime(2014, 3, 27, 0, 0),\n",
       " datetime.datetime(2014, 3, 28, 0, 0),\n",
       " datetime.datetime(2014, 3, 29, 0, 0),\n",
       " datetime.datetime(2014, 3, 30, 0, 0),\n",
       " datetime.datetime(2014, 3, 31, 0, 0),\n",
       " datetime.datetime(2014, 4, 1, 0, 0),\n",
       " datetime.datetime(2014, 4, 2, 0, 0),\n",
       " datetime.datetime(2014, 4, 3, 0, 0),\n",
       " datetime.datetime(2014, 4, 4, 0, 0),\n",
       " datetime.datetime(2014, 4, 5, 0, 0),\n",
       " datetime.datetime(2014, 4, 6, 0, 0),\n",
       " datetime.datetime(2014, 4, 7, 0, 0),\n",
       " datetime.datetime(2014, 4, 8, 0, 0),\n",
       " datetime.datetime(2014, 4, 9, 0, 0),\n",
       " datetime.datetime(2014, 4, 10, 0, 0),\n",
       " datetime.datetime(2014, 4, 11, 0, 0),\n",
       " datetime.datetime(2014, 4, 12, 0, 0),\n",
       " datetime.datetime(2014, 4, 13, 0, 0),\n",
       " datetime.datetime(2014, 4, 14, 0, 0),\n",
       " datetime.datetime(2014, 4, 15, 0, 0),\n",
       " datetime.datetime(2014, 4, 16, 0, 0),\n",
       " datetime.datetime(2014, 4, 17, 0, 0),\n",
       " datetime.datetime(2014, 4, 18, 0, 0),\n",
       " datetime.datetime(2014, 4, 19, 0, 0),\n",
       " datetime.datetime(2014, 4, 20, 0, 0),\n",
       " datetime.datetime(2014, 4, 21, 0, 0),\n",
       " datetime.datetime(2014, 4, 22, 0, 0),\n",
       " datetime.datetime(2014, 4, 23, 0, 0),\n",
       " datetime.datetime(2014, 4, 24, 0, 0),\n",
       " datetime.datetime(2014, 4, 25, 0, 0),\n",
       " datetime.datetime(2014, 4, 26, 0, 0),\n",
       " datetime.datetime(2014, 4, 27, 0, 0),\n",
       " datetime.datetime(2014, 4, 28, 0, 0),\n",
       " datetime.datetime(2014, 4, 29, 0, 0),\n",
       " datetime.datetime(2014, 4, 30, 0, 0),\n",
       " datetime.datetime(2014, 5, 1, 0, 0),\n",
       " datetime.datetime(2014, 5, 2, 0, 0),\n",
       " datetime.datetime(2014, 5, 3, 0, 0),\n",
       " datetime.datetime(2014, 5, 4, 0, 0),\n",
       " datetime.datetime(2014, 5, 5, 0, 0),\n",
       " datetime.datetime(2014, 5, 6, 0, 0),\n",
       " datetime.datetime(2014, 5, 7, 0, 0),\n",
       " datetime.datetime(2014, 5, 8, 0, 0),\n",
       " datetime.datetime(2014, 5, 9, 0, 0),\n",
       " datetime.datetime(2014, 5, 10, 0, 0),\n",
       " datetime.datetime(2014, 5, 11, 0, 0),\n",
       " datetime.datetime(2014, 5, 12, 0, 0),\n",
       " datetime.datetime(2014, 5, 13, 0, 0),\n",
       " datetime.datetime(2014, 5, 14, 0, 0),\n",
       " datetime.datetime(2014, 5, 15, 0, 0),\n",
       " datetime.datetime(2014, 5, 16, 0, 0),\n",
       " datetime.datetime(2014, 5, 17, 0, 0),\n",
       " datetime.datetime(2014, 5, 18, 0, 0),\n",
       " datetime.datetime(2014, 5, 19, 0, 0),\n",
       " datetime.datetime(2014, 5, 20, 0, 0),\n",
       " datetime.datetime(2014, 5, 21, 0, 0),\n",
       " datetime.datetime(2014, 5, 22, 0, 0),\n",
       " datetime.datetime(2014, 5, 23, 0, 0),\n",
       " datetime.datetime(2014, 5, 24, 0, 0),\n",
       " datetime.datetime(2014, 5, 25, 0, 0),\n",
       " datetime.datetime(2014, 5, 26, 0, 0),\n",
       " datetime.datetime(2014, 5, 27, 0, 0),\n",
       " datetime.datetime(2014, 5, 28, 0, 0),\n",
       " datetime.datetime(2014, 5, 29, 0, 0),\n",
       " datetime.datetime(2014, 5, 30, 0, 0),\n",
       " datetime.datetime(2014, 5, 31, 0, 0),\n",
       " datetime.datetime(2014, 6, 1, 0, 0),\n",
       " datetime.datetime(2014, 6, 2, 0, 0),\n",
       " datetime.datetime(2014, 6, 3, 0, 0),\n",
       " datetime.datetime(2014, 6, 4, 0, 0),\n",
       " datetime.datetime(2014, 6, 5, 0, 0),\n",
       " datetime.datetime(2014, 6, 6, 0, 0),\n",
       " datetime.datetime(2014, 6, 7, 0, 0),\n",
       " datetime.datetime(2014, 6, 8, 0, 0),\n",
       " datetime.datetime(2014, 6, 9, 0, 0),\n",
       " datetime.datetime(2014, 6, 10, 0, 0),\n",
       " datetime.datetime(2014, 6, 11, 0, 0),\n",
       " datetime.datetime(2014, 6, 12, 0, 0),\n",
       " datetime.datetime(2014, 6, 13, 0, 0),\n",
       " datetime.datetime(2014, 6, 14, 0, 0),\n",
       " datetime.datetime(2014, 6, 15, 0, 0),\n",
       " datetime.datetime(2014, 6, 16, 0, 0),\n",
       " datetime.datetime(2014, 6, 17, 0, 0),\n",
       " datetime.datetime(2014, 6, 18, 0, 0),\n",
       " datetime.datetime(2014, 6, 19, 0, 0),\n",
       " datetime.datetime(2014, 6, 20, 0, 0),\n",
       " datetime.datetime(2014, 6, 21, 0, 0),\n",
       " datetime.datetime(2014, 6, 22, 0, 0),\n",
       " datetime.datetime(2014, 6, 23, 0, 0),\n",
       " datetime.datetime(2014, 6, 24, 0, 0),\n",
       " datetime.datetime(2014, 6, 25, 0, 0),\n",
       " datetime.datetime(2014, 6, 26, 0, 0),\n",
       " datetime.datetime(2014, 6, 27, 0, 0),\n",
       " datetime.datetime(2014, 6, 28, 0, 0),\n",
       " datetime.datetime(2014, 6, 29, 0, 0),\n",
       " datetime.datetime(2014, 6, 30, 0, 0),\n",
       " datetime.datetime(2014, 7, 1, 0, 0),\n",
       " datetime.datetime(2014, 7, 2, 0, 0),\n",
       " datetime.datetime(2014, 7, 3, 0, 0),\n",
       " datetime.datetime(2014, 7, 4, 0, 0),\n",
       " datetime.datetime(2014, 7, 5, 0, 0),\n",
       " datetime.datetime(2014, 7, 6, 0, 0),\n",
       " datetime.datetime(2014, 7, 7, 0, 0),\n",
       " datetime.datetime(2014, 7, 8, 0, 0),\n",
       " datetime.datetime(2014, 7, 9, 0, 0),\n",
       " datetime.datetime(2014, 7, 10, 0, 0),\n",
       " datetime.datetime(2014, 7, 11, 0, 0),\n",
       " datetime.datetime(2014, 7, 12, 0, 0),\n",
       " datetime.datetime(2014, 7, 13, 0, 0),\n",
       " datetime.datetime(2014, 7, 14, 0, 0),\n",
       " datetime.datetime(2014, 7, 15, 0, 0),\n",
       " datetime.datetime(2014, 7, 16, 0, 0),\n",
       " datetime.datetime(2014, 7, 17, 0, 0),\n",
       " datetime.datetime(2014, 7, 18, 0, 0),\n",
       " datetime.datetime(2014, 7, 19, 0, 0),\n",
       " datetime.datetime(2014, 7, 20, 0, 0),\n",
       " datetime.datetime(2014, 7, 21, 0, 0),\n",
       " datetime.datetime(2014, 7, 22, 0, 0),\n",
       " datetime.datetime(2014, 7, 23, 0, 0),\n",
       " datetime.datetime(2014, 7, 24, 0, 0),\n",
       " datetime.datetime(2014, 7, 25, 0, 0),\n",
       " datetime.datetime(2014, 7, 26, 0, 0),\n",
       " datetime.datetime(2014, 7, 27, 0, 0),\n",
       " datetime.datetime(2014, 7, 28, 0, 0),\n",
       " datetime.datetime(2014, 7, 29, 0, 0),\n",
       " datetime.datetime(2014, 7, 30, 0, 0),\n",
       " datetime.datetime(2014, 7, 31, 0, 0),\n",
       " datetime.datetime(2014, 8, 1, 0, 0),\n",
       " datetime.datetime(2014, 8, 2, 0, 0),\n",
       " datetime.datetime(2014, 8, 3, 0, 0),\n",
       " datetime.datetime(2014, 8, 4, 0, 0),\n",
       " datetime.datetime(2014, 8, 5, 0, 0),\n",
       " datetime.datetime(2014, 8, 6, 0, 0),\n",
       " datetime.datetime(2014, 8, 7, 0, 0),\n",
       " datetime.datetime(2014, 8, 8, 0, 0),\n",
       " datetime.datetime(2014, 8, 9, 0, 0),\n",
       " datetime.datetime(2014, 8, 10, 0, 0),\n",
       " datetime.datetime(2014, 8, 11, 0, 0),\n",
       " datetime.datetime(2014, 8, 12, 0, 0),\n",
       " datetime.datetime(2014, 8, 13, 0, 0),\n",
       " datetime.datetime(2014, 8, 14, 0, 0),\n",
       " datetime.datetime(2014, 8, 15, 0, 0),\n",
       " datetime.datetime(2014, 8, 16, 0, 0),\n",
       " datetime.datetime(2014, 8, 17, 0, 0),\n",
       " datetime.datetime(2014, 8, 18, 0, 0),\n",
       " datetime.datetime(2014, 8, 19, 0, 0),\n",
       " datetime.datetime(2014, 8, 20, 0, 0),\n",
       " datetime.datetime(2014, 8, 21, 0, 0),\n",
       " datetime.datetime(2014, 8, 22, 0, 0),\n",
       " datetime.datetime(2014, 8, 23, 0, 0),\n",
       " datetime.datetime(2014, 8, 24, 0, 0),\n",
       " datetime.datetime(2014, 8, 25, 0, 0),\n",
       " datetime.datetime(2014, 8, 26, 0, 0),\n",
       " datetime.datetime(2014, 8, 27, 0, 0),\n",
       " datetime.datetime(2014, 8, 28, 0, 0),\n",
       " datetime.datetime(2014, 8, 29, 0, 0),\n",
       " datetime.datetime(2014, 8, 30, 0, 0),\n",
       " datetime.datetime(2014, 8, 31, 0, 0),\n",
       " datetime.datetime(2014, 9, 1, 0, 0),\n",
       " datetime.datetime(2014, 9, 2, 0, 0),\n",
       " datetime.datetime(2014, 9, 3, 0, 0),\n",
       " datetime.datetime(2014, 9, 4, 0, 0),\n",
       " datetime.datetime(2014, 9, 5, 0, 0),\n",
       " datetime.datetime(2014, 9, 6, 0, 0),\n",
       " datetime.datetime(2014, 9, 7, 0, 0),\n",
       " datetime.datetime(2014, 9, 8, 0, 0),\n",
       " datetime.datetime(2014, 9, 9, 0, 0),\n",
       " datetime.datetime(2014, 9, 10, 0, 0),\n",
       " datetime.datetime(2014, 9, 11, 0, 0),\n",
       " datetime.datetime(2014, 9, 12, 0, 0),\n",
       " datetime.datetime(2014, 9, 13, 0, 0),\n",
       " datetime.datetime(2014, 9, 14, 0, 0),\n",
       " datetime.datetime(2014, 9, 15, 0, 0),\n",
       " datetime.datetime(2014, 9, 16, 0, 0),\n",
       " datetime.datetime(2014, 9, 17, 0, 0),\n",
       " datetime.datetime(2014, 9, 18, 0, 0),\n",
       " datetime.datetime(2014, 9, 19, 0, 0),\n",
       " datetime.datetime(2014, 9, 20, 0, 0),\n",
       " datetime.datetime(2014, 9, 21, 0, 0),\n",
       " datetime.datetime(2014, 9, 22, 0, 0),\n",
       " datetime.datetime(2014, 9, 23, 0, 0),\n",
       " datetime.datetime(2014, 9, 24, 0, 0),\n",
       " datetime.datetime(2014, 9, 25, 0, 0),\n",
       " datetime.datetime(2014, 9, 26, 0, 0),\n",
       " datetime.datetime(2014, 9, 27, 0, 0),\n",
       " datetime.datetime(2014, 9, 28, 0, 0),\n",
       " datetime.datetime(2014, 9, 29, 0, 0),\n",
       " datetime.datetime(2014, 9, 30, 0, 0),\n",
       " datetime.datetime(2014, 10, 1, 0, 0),\n",
       " datetime.datetime(2014, 10, 2, 0, 0),\n",
       " datetime.datetime(2014, 10, 3, 0, 0),\n",
       " datetime.datetime(2014, 10, 4, 0, 0),\n",
       " datetime.datetime(2014, 10, 5, 0, 0),\n",
       " datetime.datetime(2014, 10, 6, 0, 0),\n",
       " datetime.datetime(2014, 10, 7, 0, 0),\n",
       " datetime.datetime(2014, 10, 8, 0, 0),\n",
       " datetime.datetime(2014, 10, 9, 0, 0),\n",
       " datetime.datetime(2014, 10, 10, 0, 0),\n",
       " datetime.datetime(2014, 10, 11, 0, 0),\n",
       " datetime.datetime(2014, 10, 12, 0, 0),\n",
       " datetime.datetime(2014, 10, 13, 0, 0),\n",
       " datetime.datetime(2014, 10, 14, 0, 0),\n",
       " datetime.datetime(2014, 10, 15, 0, 0),\n",
       " datetime.datetime(2014, 10, 16, 0, 0),\n",
       " datetime.datetime(2014, 10, 17, 0, 0),\n",
       " datetime.datetime(2014, 10, 18, 0, 0),\n",
       " datetime.datetime(2014, 10, 19, 0, 0),\n",
       " datetime.datetime(2014, 10, 20, 0, 0),\n",
       " datetime.datetime(2014, 10, 21, 0, 0),\n",
       " datetime.datetime(2014, 10, 22, 0, 0),\n",
       " datetime.datetime(2014, 10, 23, 0, 0),\n",
       " datetime.datetime(2014, 10, 24, 0, 0),\n",
       " datetime.datetime(2014, 10, 25, 0, 0),\n",
       " datetime.datetime(2014, 10, 26, 0, 0),\n",
       " datetime.datetime(2014, 10, 27, 0, 0),\n",
       " datetime.datetime(2014, 10, 28, 0, 0),\n",
       " datetime.datetime(2014, 10, 29, 0, 0),\n",
       " datetime.datetime(2014, 10, 30, 0, 0),\n",
       " datetime.datetime(2014, 10, 31, 0, 0),\n",
       " datetime.datetime(2014, 11, 1, 0, 0),\n",
       " datetime.datetime(2014, 11, 2, 0, 0),\n",
       " datetime.datetime(2014, 11, 3, 0, 0),\n",
       " datetime.datetime(2014, 11, 4, 0, 0),\n",
       " datetime.datetime(2014, 11, 5, 0, 0),\n",
       " datetime.datetime(2014, 11, 6, 0, 0),\n",
       " datetime.datetime(2014, 11, 7, 0, 0),\n",
       " datetime.datetime(2014, 11, 8, 0, 0),\n",
       " datetime.datetime(2014, 11, 9, 0, 0),\n",
       " datetime.datetime(2014, 11, 10, 0, 0),\n",
       " datetime.datetime(2014, 11, 11, 0, 0),\n",
       " datetime.datetime(2014, 11, 12, 0, 0),\n",
       " datetime.datetime(2014, 11, 13, 0, 0),\n",
       " datetime.datetime(2014, 11, 14, 0, 0),\n",
       " datetime.datetime(2014, 11, 15, 0, 0),\n",
       " datetime.datetime(2014, 11, 16, 0, 0),\n",
       " datetime.datetime(2014, 11, 17, 0, 0),\n",
       " datetime.datetime(2014, 11, 18, 0, 0),\n",
       " datetime.datetime(2014, 11, 19, 0, 0),\n",
       " datetime.datetime(2014, 11, 20, 0, 0),\n",
       " datetime.datetime(2014, 11, 21, 0, 0),\n",
       " datetime.datetime(2014, 11, 22, 0, 0),\n",
       " datetime.datetime(2014, 11, 23, 0, 0),\n",
       " datetime.datetime(2014, 11, 24, 0, 0),\n",
       " datetime.datetime(2014, 11, 25, 0, 0),\n",
       " datetime.datetime(2014, 11, 26, 0, 0),\n",
       " datetime.datetime(2014, 11, 27, 0, 0),\n",
       " datetime.datetime(2014, 11, 28, 0, 0),\n",
       " datetime.datetime(2014, 11, 29, 0, 0),\n",
       " datetime.datetime(2014, 11, 30, 0, 0),\n",
       " datetime.datetime(2014, 12, 1, 0, 0),\n",
       " datetime.datetime(2014, 12, 2, 0, 0),\n",
       " datetime.datetime(2014, 12, 3, 0, 0),\n",
       " datetime.datetime(2014, 12, 4, 0, 0),\n",
       " datetime.datetime(2014, 12, 5, 0, 0),\n",
       " datetime.datetime(2014, 12, 6, 0, 0),\n",
       " datetime.datetime(2014, 12, 7, 0, 0),\n",
       " datetime.datetime(2014, 12, 8, 0, 0),\n",
       " datetime.datetime(2014, 12, 9, 0, 0),\n",
       " datetime.datetime(2014, 12, 10, 0, 0),\n",
       " datetime.datetime(2014, 12, 11, 0, 0),\n",
       " datetime.datetime(2014, 12, 12, 0, 0),\n",
       " datetime.datetime(2014, 12, 13, 0, 0),\n",
       " datetime.datetime(2014, 12, 14, 0, 0),\n",
       " datetime.datetime(2014, 12, 15, 0, 0),\n",
       " datetime.datetime(2014, 12, 16, 0, 0),\n",
       " datetime.datetime(2014, 12, 17, 0, 0),\n",
       " datetime.datetime(2014, 12, 18, 0, 0),\n",
       " datetime.datetime(2014, 12, 19, 0, 0),\n",
       " datetime.datetime(2014, 12, 20, 0, 0),\n",
       " datetime.datetime(2014, 12, 21, 0, 0),\n",
       " datetime.datetime(2014, 12, 22, 0, 0),\n",
       " datetime.datetime(2014, 12, 23, 0, 0),\n",
       " datetime.datetime(2014, 12, 24, 0, 0),\n",
       " datetime.datetime(2014, 12, 25, 0, 0),\n",
       " datetime.datetime(2014, 12, 26, 0, 0),\n",
       " datetime.datetime(2014, 12, 27, 0, 0),\n",
       " datetime.datetime(2014, 12, 28, 0, 0),\n",
       " datetime.datetime(2014, 12, 29, 0, 0),\n",
       " datetime.datetime(2014, 12, 30, 0, 0),\n",
       " datetime.datetime(2014, 12, 31, 0, 0)]"
      ]
     },
     "execution_count": 7,
     "metadata": {},
     "output_type": "execute_result"
    }
   ],
   "source": [
    "all_dates"
   ]
  },
  {
   "cell_type": "code",
   "execution_count": 8,
   "metadata": {
    "collapsed": false
   },
   "outputs": [
    {
     "data": {
      "text/plain": [
       "365"
      ]
     },
     "execution_count": 8,
     "metadata": {},
     "output_type": "execute_result"
    }
   ],
   "source": [
    "len(all_dates)"
   ]
  },
  {
   "cell_type": "code",
   "execution_count": 9,
   "metadata": {
    "collapsed": true
   },
   "outputs": [],
   "source": [
    "file_gsr = \"./gsrAll.json\"\n",
    "languages = ['English', 'Portuguese', 'Spanish']\n",
    "min_date = datetime(2014, 1, 1)\n",
    "max_date = datetime(2014, 12, 31)\n",
    "dates = pd.date_range(min_date, max_date)\n",
    "y = create_y(file_gsr, dates)\n",
    "\n",
    "file_keys = \"./CU_Keywords.2013-01-25T15-36-29\"\n",
    "keywords_dict = get_keywords(file_keys)[languages[1]]\n",
    "keywords = keywords_dict.keys()\n",
    "col_names = keywords + ['date', 'city']\n",
    "types = {key: 'int' for key in keywords}\n",
    "types['date'] = 'str'\n",
    "types['city'] = 'str'\n",
    "X = pd.read_csv('features_Portuguese.csv', header=None, names=col_names)\n",
    "X = X.groupby(['city', 'date']).agg({key: np.sum for key in keywords})\n",
    "\n",
    "models = [LogisticRegression(penalty='l1', class_weight='balanced'),\n",
    "          SVC(class_weight=\"balanced\"),\n",
    "          ]"
   ]
  },
  {
   "cell_type": "code",
   "execution_count": 10,
   "metadata": {
    "collapsed": true
   },
   "outputs": [],
   "source": [
    "m = models[0]"
   ]
  },
  {
   "cell_type": "code",
   "execution_count": 11,
   "metadata": {
    "collapsed": false
   },
   "outputs": [
    {
     "ename": "ValueError",
     "evalue": "Found arrays with inconsistent numbers of samples: [9611 9855]",
     "output_type": "error",
     "traceback": [
      "\u001b[1;31m---------------------------------------------------------------------------\u001b[0m",
      "\u001b[1;31mValueError\u001b[0m                                Traceback (most recent call last)",
      "\u001b[1;32m<ipython-input-11-1a8efcaab6f4>\u001b[0m in \u001b[0;36m<module>\u001b[1;34m()\u001b[0m\n\u001b[1;32m----> 1\u001b[1;33m \u001b[0mm\u001b[0m\u001b[1;33m.\u001b[0m\u001b[0mfit\u001b[0m\u001b[1;33m(\u001b[0m\u001b[0mX\u001b[0m\u001b[1;33m,\u001b[0m \u001b[0my\u001b[0m\u001b[1;33m.\u001b[0m\u001b[0mevent\u001b[0m\u001b[1;33m)\u001b[0m\u001b[1;33m\u001b[0m\u001b[0m\n\u001b[0m\u001b[0;32m      2\u001b[0m \u001b[0mexpected\u001b[0m \u001b[1;33m=\u001b[0m \u001b[0my\u001b[0m\u001b[1;33m.\u001b[0m\u001b[0mevent\u001b[0m\u001b[1;33m\u001b[0m\u001b[0m\n\u001b[0;32m      3\u001b[0m \u001b[0mpredicted\u001b[0m \u001b[1;33m=\u001b[0m \u001b[0mm\u001b[0m\u001b[1;33m.\u001b[0m\u001b[0mpredict\u001b[0m\u001b[1;33m(\u001b[0m\u001b[0mX\u001b[0m\u001b[1;33m)\u001b[0m\u001b[1;33m\u001b[0m\u001b[0m\n",
      "\u001b[1;32mC:\\Anaconda2\\lib\\site-packages\\sklearn\\linear_model\\logistic.pyc\u001b[0m in \u001b[0;36mfit\u001b[1;34m(self, X, y, sample_weight)\u001b[0m\n\u001b[0;32m   1140\u001b[0m \u001b[1;33m\u001b[0m\u001b[0m\n\u001b[0;32m   1141\u001b[0m         X, y = check_X_y(X, y, accept_sparse='csr', dtype=np.float64, \n\u001b[1;32m-> 1142\u001b[1;33m                          order=\"C\")\n\u001b[0m\u001b[0;32m   1143\u001b[0m         \u001b[0mcheck_classification_targets\u001b[0m\u001b[1;33m(\u001b[0m\u001b[0my\u001b[0m\u001b[1;33m)\u001b[0m\u001b[1;33m\u001b[0m\u001b[0m\n\u001b[0;32m   1144\u001b[0m         \u001b[0mself\u001b[0m\u001b[1;33m.\u001b[0m\u001b[0mclasses_\u001b[0m \u001b[1;33m=\u001b[0m \u001b[0mnp\u001b[0m\u001b[1;33m.\u001b[0m\u001b[0munique\u001b[0m\u001b[1;33m(\u001b[0m\u001b[0my\u001b[0m\u001b[1;33m)\u001b[0m\u001b[1;33m\u001b[0m\u001b[0m\n",
      "\u001b[1;32mC:\\Anaconda2\\lib\\site-packages\\sklearn\\utils\\validation.pyc\u001b[0m in \u001b[0;36mcheck_X_y\u001b[1;34m(X, y, accept_sparse, dtype, order, copy, force_all_finite, ensure_2d, allow_nd, multi_output, ensure_min_samples, ensure_min_features, y_numeric, warn_on_dtype, estimator)\u001b[0m\n\u001b[0;32m    518\u001b[0m         \u001b[0my\u001b[0m \u001b[1;33m=\u001b[0m \u001b[0my\u001b[0m\u001b[1;33m.\u001b[0m\u001b[0mastype\u001b[0m\u001b[1;33m(\u001b[0m\u001b[0mnp\u001b[0m\u001b[1;33m.\u001b[0m\u001b[0mfloat64\u001b[0m\u001b[1;33m)\u001b[0m\u001b[1;33m\u001b[0m\u001b[0m\n\u001b[0;32m    519\u001b[0m \u001b[1;33m\u001b[0m\u001b[0m\n\u001b[1;32m--> 520\u001b[1;33m     \u001b[0mcheck_consistent_length\u001b[0m\u001b[1;33m(\u001b[0m\u001b[0mX\u001b[0m\u001b[1;33m,\u001b[0m \u001b[0my\u001b[0m\u001b[1;33m)\u001b[0m\u001b[1;33m\u001b[0m\u001b[0m\n\u001b[0m\u001b[0;32m    521\u001b[0m \u001b[1;33m\u001b[0m\u001b[0m\n\u001b[0;32m    522\u001b[0m     \u001b[1;32mreturn\u001b[0m \u001b[0mX\u001b[0m\u001b[1;33m,\u001b[0m \u001b[0my\u001b[0m\u001b[1;33m\u001b[0m\u001b[0m\n",
      "\u001b[1;32mC:\\Anaconda2\\lib\\site-packages\\sklearn\\utils\\validation.pyc\u001b[0m in \u001b[0;36mcheck_consistent_length\u001b[1;34m(*arrays)\u001b[0m\n\u001b[0;32m    174\u001b[0m     \u001b[1;32mif\u001b[0m \u001b[0mlen\u001b[0m\u001b[1;33m(\u001b[0m\u001b[0muniques\u001b[0m\u001b[1;33m)\u001b[0m \u001b[1;33m>\u001b[0m \u001b[1;36m1\u001b[0m\u001b[1;33m:\u001b[0m\u001b[1;33m\u001b[0m\u001b[0m\n\u001b[0;32m    175\u001b[0m         raise ValueError(\"Found arrays with inconsistent numbers of samples: \"\n\u001b[1;32m--> 176\u001b[1;33m                          \"%s\" % str(uniques))\n\u001b[0m\u001b[0;32m    177\u001b[0m \u001b[1;33m\u001b[0m\u001b[0m\n\u001b[0;32m    178\u001b[0m \u001b[1;33m\u001b[0m\u001b[0m\n",
      "\u001b[1;31mValueError\u001b[0m: Found arrays with inconsistent numbers of samples: [9611 9855]"
     ]
    }
   ],
   "source": [
    "m.fit(X, y.event)\n",
    "expected = y.event\n",
    "predicted = m.predict(X)"
   ]
  },
  {
   "cell_type": "code",
   "execution_count": 12,
   "metadata": {
    "collapsed": false
   },
   "outputs": [
    {
     "data": {
      "text/plain": [
       "(9611, 676)"
      ]
     },
     "execution_count": 12,
     "metadata": {},
     "output_type": "execute_result"
    }
   ],
   "source": [
    "X.shape"
   ]
  },
  {
   "cell_type": "code",
   "execution_count": 13,
   "metadata": {
    "collapsed": true
   },
   "outputs": [],
   "source": [
    "X = pd.read_csv('features_' + languages[0] + '.csv', header=None, names=col_names)\n",
    "X = X.groupby(['city', 'date']).agg({key: np.sum for key in keywords})"
   ]
  },
  {
   "cell_type": "code",
   "execution_count": 14,
   "metadata": {
    "collapsed": false
   },
   "outputs": [
    {
     "data": {
      "text/plain": [
       "(9855, 676)"
      ]
     },
     "execution_count": 14,
     "metadata": {},
     "output_type": "execute_result"
    }
   ],
   "source": [
    "X.shape"
   ]
  },
  {
   "cell_type": "code",
   "execution_count": 15,
   "metadata": {
    "collapsed": true
   },
   "outputs": [],
   "source": [
    "m.fit(X, y.event)\n",
    "expected = y.event\n",
    "predicted = m.predict(X)"
   ]
  },
  {
   "cell_type": "code",
   "execution_count": 16,
   "metadata": {
    "collapsed": true
   },
   "outputs": [],
   "source": [
    "report = metrics.classification_report(expected, predicted)"
   ]
  },
  {
   "cell_type": "code",
   "execution_count": 17,
   "metadata": {
    "collapsed": false
   },
   "outputs": [
    {
     "data": {
      "text/plain": [
       "'             precision    recall  f1-score   support\\n\\n        0.0       1.00      0.19      0.32      8959\\n        1.0       0.11      0.99      0.20       896\\n\\navg / total       0.92      0.26      0.31      9855\\n'"
      ]
     },
     "execution_count": 17,
     "metadata": {},
     "output_type": "execute_result"
    }
   ],
   "source": [
    "report"
   ]
  },
  {
   "cell_type": "code",
   "execution_count": 18,
   "metadata": {
    "collapsed": false
   },
   "outputs": [
    {
     "data": {
      "text/plain": [
       "str"
      ]
     },
     "execution_count": 18,
     "metadata": {},
     "output_type": "execute_result"
    }
   ],
   "source": [
    "type(report)"
   ]
  },
  {
   "cell_type": "code",
   "execution_count": 19,
   "metadata": {
    "collapsed": false
   },
   "outputs": [
    {
     "data": {
      "text/plain": [
       "'             precision    recall  f1-score   support\\n\\n        0.0       1.00      0.19      0.32      8959\\n        1.0       0.11      0.99      0.20       896\\n\\navg / total       0.92      0.26      0.31      9855\\n'"
      ]
     },
     "execution_count": 19,
     "metadata": {},
     "output_type": "execute_result"
    }
   ],
   "source": [
    "report"
   ]
  },
  {
   "cell_type": "code",
   "execution_count": 20,
   "metadata": {
    "collapsed": false
   },
   "outputs": [
    {
     "name": "stdout",
     "output_type": "stream",
     "text": [
      "             precision    recall  f1-score   support\n",
      "\n",
      "        0.0       1.00      0.19      0.32      8959\n",
      "        1.0       0.11      0.99      0.20       896\n",
      "\n",
      "avg / total       0.92      0.26      0.31      9855\n",
      "\n"
     ]
    }
   ],
   "source": [
    "print metrics.classification_report(expected, predicted)"
   ]
  },
  {
   "cell_type": "code",
   "execution_count": 21,
   "metadata": {
    "collapsed": true
   },
   "outputs": [],
   "source": [
    "a  = metrics.confusion_matrix(expected, predicted)"
   ]
  },
  {
   "cell_type": "code",
   "execution_count": 22,
   "metadata": {
    "collapsed": false
   },
   "outputs": [
    {
     "data": {
      "text/plain": [
       "array([[1717, 7242],\n",
       "       [   5,  891]])"
      ]
     },
     "execution_count": 22,
     "metadata": {},
     "output_type": "execute_result"
    }
   ],
   "source": [
    "a"
   ]
  },
  {
   "cell_type": "code",
   "execution_count": 23,
   "metadata": {
    "collapsed": false
   },
   "outputs": [
    {
     "data": {
      "text/plain": [
       "array([[1717, 7242],\n",
       "       [   5,  891]])"
      ]
     },
     "execution_count": 23,
     "metadata": {},
     "output_type": "execute_result"
    }
   ],
   "source": [
    "a"
   ]
  },
  {
   "cell_type": "code",
   "execution_count": 24,
   "metadata": {
    "collapsed": false
   },
   "outputs": [
    {
     "data": {
      "text/plain": [
       "0.10955367023238657"
      ]
     },
     "execution_count": 24,
     "metadata": {},
     "output_type": "execute_result"
    }
   ],
   "source": [
    "metrics.precision_score(expected, predicted)"
   ]
  },
  {
   "cell_type": "code",
   "execution_count": 25,
   "metadata": {
    "collapsed": false
   },
   "outputs": [
    {
     "data": {
      "text/plain": [
       "city              date      \n",
       "Rio de Janeiro    2014-01-01    1\n",
       "                  2014-01-02    1\n",
       "                  2014-01-03    1\n",
       "                  2014-01-04    1\n",
       "                  2014-01-05    1\n",
       "                  2014-01-06    1\n",
       "                  2014-01-07    1\n",
       "                  2014-01-08    1\n",
       "                  2014-01-09    1\n",
       "                  2014-01-10    1\n",
       "                  2014-01-11    1\n",
       "                  2014-01-12    1\n",
       "                  2014-01-13    1\n",
       "                  2014-01-14    1\n",
       "                  2014-01-15    1\n",
       "                  2014-01-16    1\n",
       "                  2014-01-17    1\n",
       "                  2014-01-18    1\n",
       "                  2014-01-19    0\n",
       "                  2014-01-20    1\n",
       "                  2014-01-21    1\n",
       "                  2014-01-22    1\n",
       "                  2014-01-23    1\n",
       "                  2014-01-24    1\n",
       "                  2014-01-25    0\n",
       "                  2014-01-26    0\n",
       "                  2014-01-27    1\n",
       "                  2014-01-28    1\n",
       "                  2014-01-29    1\n",
       "                  2014-01-30    1\n",
       "                               ..\n",
       "Distrito Federal  2014-12-02    0\n",
       "                  2014-12-03    0\n",
       "                  2014-12-04    0\n",
       "                  2014-12-05    0\n",
       "                  2014-12-06    0\n",
       "                  2014-12-07    0\n",
       "                  2014-12-08    0\n",
       "                  2014-12-09    0\n",
       "                  2014-12-10    0\n",
       "                  2014-12-11    0\n",
       "                  2014-12-12    0\n",
       "                  2014-12-13    0\n",
       "                  2014-12-14    0\n",
       "                  2014-12-15    0\n",
       "                  2014-12-16    0\n",
       "                  2014-12-17    0\n",
       "                  2014-12-18    0\n",
       "                  2014-12-19    0\n",
       "                  2014-12-20    0\n",
       "                  2014-12-21    0\n",
       "                  2014-12-22    0\n",
       "                  2014-12-23    0\n",
       "                  2014-12-24    0\n",
       "                  2014-12-25    0\n",
       "                  2014-12-26    0\n",
       "                  2014-12-27    0\n",
       "                  2014-12-28    0\n",
       "                  2014-12-29    0\n",
       "                  2014-12-30    0\n",
       "                  2014-12-31    0\n",
       "Name: event, dtype: float64"
      ]
     },
     "execution_count": 25,
     "metadata": {},
     "output_type": "execute_result"
    }
   ],
   "source": [
    "expected"
   ]
  },
  {
   "cell_type": "code",
   "execution_count": 26,
   "metadata": {
    "collapsed": false
   },
   "outputs": [
    {
     "name": "stderr",
     "output_type": "stream",
     "text": [
      "C:\\Anaconda2\\lib\\site-packages\\sklearn\\metrics\\classification.py:976: DeprecationWarning: From version 0.18, binary input will not be handled specially when using averaged precision/recall/F-score. Please use average='binary' to report only the positive class performance.\n",
      "  'positive class performance.', DeprecationWarning)\n"
     ]
    },
    {
     "data": {
      "text/plain": [
       "0.10955367023238657"
      ]
     },
     "execution_count": 26,
     "metadata": {},
     "output_type": "execute_result"
    }
   ],
   "source": [
    "metrics.precision_score(expected, predicted, average='macro')"
   ]
  },
  {
   "cell_type": "code",
   "execution_count": 27,
   "metadata": {
    "collapsed": false
   },
   "outputs": [
    {
     "name": "stderr",
     "output_type": "stream",
     "text": [
      "C:\\Anaconda2\\lib\\site-packages\\sklearn\\metrics\\classification.py:976: DeprecationWarning: From version 0.18, binary input will not be handled specially when using averaged precision/recall/F-score. Please use average='binary' to report only the positive class performance.\n",
      "  'positive class performance.', DeprecationWarning)\n"
     ]
    },
    {
     "data": {
      "text/plain": [
       "0.10955367023238657"
      ]
     },
     "execution_count": 27,
     "metadata": {},
     "output_type": "execute_result"
    }
   ],
   "source": [
    "metrics.precision_score(expected, predicted, average='micro')"
   ]
  },
  {
   "cell_type": "code",
   "execution_count": 28,
   "metadata": {
    "collapsed": false
   },
   "outputs": [
    {
     "name": "stderr",
     "output_type": "stream",
     "text": [
      "C:\\Anaconda2\\lib\\site-packages\\sklearn\\metrics\\classification.py:976: DeprecationWarning: From version 0.18, binary input will not be handled specially when using averaged precision/recall/F-score. Please use average='binary' to report only the positive class performance.\n",
      "  'positive class performance.', DeprecationWarning)\n"
     ]
    },
    {
     "data": {
      "text/plain": [
       "0.10955367023238657"
      ]
     },
     "execution_count": 28,
     "metadata": {},
     "output_type": "execute_result"
    }
   ],
   "source": [
    "metrics.precision_score(expected, predicted, average='weighted')"
   ]
  },
  {
   "cell_type": "code",
   "execution_count": 29,
   "metadata": {
    "collapsed": false
   },
   "outputs": [
    {
     "data": {
      "text/plain": [
       "0.10955367023238657"
      ]
     },
     "execution_count": 29,
     "metadata": {},
     "output_type": "execute_result"
    }
   ],
   "source": [
    "metrics.precision_score(expected, predicted, average='binary')"
   ]
  },
  {
   "cell_type": "code",
   "execution_count": 30,
   "metadata": {
    "collapsed": false
   },
   "outputs": [
    {
     "data": {
      "text/plain": [
       "0.9944196428571429"
      ]
     },
     "execution_count": 30,
     "metadata": {},
     "output_type": "execute_result"
    }
   ],
   "source": [
    "metrics.recall_score(expected, predicted, average='binary')"
   ]
  },
  {
   "cell_type": "code",
   "execution_count": 31,
   "metadata": {
    "collapsed": false
   },
   "outputs": [
    {
     "data": {
      "text/plain": [
       "0.19736404917488093"
      ]
     },
     "execution_count": 31,
     "metadata": {},
     "output_type": "execute_result"
    }
   ],
   "source": [
    "metrics.f1_score(expected, predicted, average='binary')"
   ]
  },
  {
   "cell_type": "code",
   "execution_count": 32,
   "metadata": {
    "collapsed": false
   },
   "outputs": [
    {
     "name": "stdout",
     "output_type": "stream",
     "text": [
      "LogisticRegression(C=1.0, class_weight='balanced', dual=False,\n",
      "          fit_intercept=True, intercept_scaling=1, max_iter=100,\n",
      "          multi_class='ovr', n_jobs=1, penalty='l1', random_state=None,\n",
      "          solver='liblinear', tol=0.0001, verbose=0, warm_start=False)\n"
     ]
    }
   ],
   "source": [
    "print m"
   ]
  },
  {
   "cell_type": "code",
   "execution_count": 33,
   "metadata": {
    "collapsed": false
   },
   "outputs": [
    {
     "data": {
      "text/plain": [
       "\"LogisticRegression(C=1.0, class_weight='balanced', dual=False,\\n          fit_intercept=True, intercept_scaling=1, max_iter=100,\\n          multi_class='ovr', n_jobs=1, penalty='l1', random_state=None,\\n          solver='liblinear', tol=0.0001, verbose=0, warm_start=False)\""
      ]
     },
     "execution_count": 33,
     "metadata": {},
     "output_type": "execute_result"
    }
   ],
   "source": [
    "str(m)"
   ]
  },
  {
   "cell_type": "code",
   "execution_count": 34,
   "metadata": {
    "collapsed": false
   },
   "outputs": [
    {
     "data": {
      "text/plain": [
       "'LogisticRegression'"
      ]
     },
     "execution_count": 34,
     "metadata": {},
     "output_type": "execute_result"
    }
   ],
   "source": [
    "str(m).split(\"(\")[0]"
   ]
  },
  {
   "cell_type": "code",
   "execution_count": 35,
   "metadata": {
    "collapsed": false
   },
   "outputs": [
    {
     "ename": "TypeError",
     "evalue": "append() takes exactly one argument (5 given)",
     "output_type": "error",
     "traceback": [
      "\u001b[1;31m---------------------------------------------------------------------------\u001b[0m",
      "\u001b[1;31mTypeError\u001b[0m                                 Traceback (most recent call last)",
      "\u001b[1;32m<ipython-input-35-1c0f719959f1>\u001b[0m in \u001b[0;36m<module>\u001b[1;34m()\u001b[0m\n\u001b[0;32m     34\u001b[0m         \u001b[0mfpr\u001b[0m\u001b[1;33m,\u001b[0m \u001b[0mtpr\u001b[0m\u001b[1;33m,\u001b[0m \u001b[0mthresholds\u001b[0m \u001b[1;33m=\u001b[0m \u001b[0mmetrics\u001b[0m\u001b[1;33m.\u001b[0m\u001b[0mroc_curve\u001b[0m\u001b[1;33m(\u001b[0m\u001b[0mexpected\u001b[0m\u001b[1;33m,\u001b[0m \u001b[0mpredicted\u001b[0m\u001b[1;33m,\u001b[0m \u001b[0mpos_label\u001b[0m\u001b[1;33m=\u001b[0m\u001b[1;36m1\u001b[0m\u001b[1;33m)\u001b[0m\u001b[1;33m\u001b[0m\u001b[0m\n\u001b[0;32m     35\u001b[0m         \u001b[0mauc\u001b[0m \u001b[1;33m=\u001b[0m \u001b[0mmetrics\u001b[0m\u001b[1;33m.\u001b[0m\u001b[0mauc\u001b[0m\u001b[1;33m(\u001b[0m\u001b[0mfpr\u001b[0m\u001b[1;33m,\u001b[0m \u001b[0mtpr\u001b[0m\u001b[1;33m)\u001b[0m\u001b[1;33m\u001b[0m\u001b[0m\n\u001b[1;32m---> 36\u001b[1;33m         \u001b[0mresults\u001b[0m\u001b[1;33m.\u001b[0m\u001b[0mappend\u001b[0m\u001b[1;33m(\u001b[0m\u001b[0mstr\u001b[0m\u001b[1;33m(\u001b[0m\u001b[0mm\u001b[0m\u001b[1;33m)\u001b[0m\u001b[1;33m.\u001b[0m\u001b[0msplit\u001b[0m\u001b[1;33m(\u001b[0m\u001b[1;34m\"(\"\u001b[0m\u001b[1;33m)\u001b[0m\u001b[1;33m[\u001b[0m\u001b[1;36m0\u001b[0m\u001b[1;33m]\u001b[0m \u001b[1;33m+\u001b[0m \u001b[1;34m\"_\"\u001b[0m \u001b[1;33m+\u001b[0m \u001b[0ml\u001b[0m\u001b[1;33m,\u001b[0m \u001b[0mprecesion\u001b[0m\u001b[1;33m,\u001b[0m \u001b[0mrecall\u001b[0m\u001b[1;33m,\u001b[0m \u001b[0mf1\u001b[0m\u001b[1;33m,\u001b[0m \u001b[0mauc\u001b[0m\u001b[1;33m)\u001b[0m\u001b[1;33m\u001b[0m\u001b[0m\n\u001b[0m",
      "\u001b[1;31mTypeError\u001b[0m: append() takes exactly one argument (5 given)"
     ]
    }
   ],
   "source": [
    "file_gsr = \"./gsrAll.json\"\n",
    "languages = ['English', 'Portuguese', 'Spanish']\n",
    "for l in languages:\n",
    "    min_date = datetime(2014, 1, 1)\n",
    "    max_date = datetime(2014, 12, 31)\n",
    "    dates = pd.date_range(min_date, max_date)\n",
    "    y = create_y(file_gsr, dates)\n",
    "\n",
    "    file_keys = \"./CU_Keywords.2013-01-25T15-36-29\"\n",
    "    keywords_dict = get_keywords(file_keys)[languages[1]]\n",
    "    keywords = keywords_dict.keys()\n",
    "    col_names = keywords + ['date', 'city']\n",
    "    types = {key: 'int' for key in keywords}\n",
    "    types['date'] = 'str'\n",
    "    types['city'] = 'str'\n",
    "    X = pd.read_csv('features_' + l + '.csv', header=None, names=col_names)\n",
    "    X = X.groupby(['city', 'date']).agg({key: np.sum for key in keywords})\n",
    "\n",
    "    models = [LogisticRegression(penalty='l1', class_weight='balanced'),\n",
    "              SVC(class_weight=\"balanced\"),\n",
    "              ]\n",
    "\n",
    "\n",
    "    results = []\n",
    "    for m in models:\n",
    "        m.fit(X, y.event)\n",
    "        expected = y.event\n",
    "        predicted = m.predict(X)\n",
    "        # print(metrics.classification_report(expected, predicted))\n",
    "        # print(metrics.confusion_matrix(expected, predicted))\n",
    "        precesion = metrics.precision_score(expected, predicted, average='binary')\n",
    "        recall = metrics.recall_score(expected, predicted, average='binary')\n",
    "        f1 = metrics.f1_score(expected, predicted, average='binary')\n",
    "        fpr, tpr, thresholds = metrics.roc_curve(expected, predicted, pos_label=1)\n",
    "        auc = metrics.auc(fpr, tpr)\n",
    "        results.append(str(m).split(\"(\")[0] + \"_\" + l, precesion, recall, f1, auc)"
   ]
  },
  {
   "cell_type": "code",
   "execution_count": 36,
   "metadata": {
    "collapsed": false
   },
   "outputs": [
    {
     "ename": "TypeError",
     "evalue": "__init__() got an unexpected keyword argument 'col_names'",
     "output_type": "error",
     "traceback": [
      "\u001b[1;31m---------------------------------------------------------------------------\u001b[0m",
      "\u001b[1;31mTypeError\u001b[0m                                 Traceback (most recent call last)",
      "\u001b[1;32m<ipython-input-36-173d677741d7>\u001b[0m in \u001b[0;36m<module>\u001b[1;34m()\u001b[0m\n\u001b[0;32m     36\u001b[0m         \u001b[0mresults\u001b[0m\u001b[1;33m.\u001b[0m\u001b[0mappend\u001b[0m\u001b[1;33m(\u001b[0m\u001b[1;33m[\u001b[0m\u001b[0mstr\u001b[0m\u001b[1;33m(\u001b[0m\u001b[0mm\u001b[0m\u001b[1;33m)\u001b[0m\u001b[1;33m.\u001b[0m\u001b[0msplit\u001b[0m\u001b[1;33m(\u001b[0m\u001b[1;34m\"(\"\u001b[0m\u001b[1;33m)\u001b[0m\u001b[1;33m[\u001b[0m\u001b[1;36m0\u001b[0m\u001b[1;33m]\u001b[0m \u001b[1;33m+\u001b[0m \u001b[1;34m\"_\"\u001b[0m \u001b[1;33m+\u001b[0m \u001b[0ml\u001b[0m\u001b[1;33m,\u001b[0m \u001b[0mprecesion\u001b[0m\u001b[1;33m,\u001b[0m \u001b[0mrecall\u001b[0m\u001b[1;33m,\u001b[0m \u001b[0mf1\u001b[0m\u001b[1;33m,\u001b[0m \u001b[0mauc\u001b[0m\u001b[1;33m]\u001b[0m\u001b[1;33m)\u001b[0m\u001b[1;33m\u001b[0m\u001b[0m\n\u001b[0;32m     37\u001b[0m \u001b[1;33m\u001b[0m\u001b[0m\n\u001b[1;32m---> 38\u001b[1;33m     \u001b[0mdf\u001b[0m \u001b[1;33m=\u001b[0m \u001b[0mpd\u001b[0m\u001b[1;33m.\u001b[0m\u001b[0mDataFrame\u001b[0m\u001b[1;33m(\u001b[0m\u001b[0mresults\u001b[0m\u001b[1;33m,\u001b[0m \u001b[0mcol_names\u001b[0m \u001b[1;33m=\u001b[0m \u001b[1;33m[\u001b[0m\u001b[1;34m'model'\u001b[0m\u001b[1;33m,\u001b[0m \u001b[1;34m'precesion'\u001b[0m\u001b[1;33m,\u001b[0m \u001b[1;34m'recall'\u001b[0m\u001b[1;33m,\u001b[0m \u001b[1;34m'F1'\u001b[0m\u001b[1;33m,\u001b[0m \u001b[1;34m'AUC'\u001b[0m\u001b[1;33m]\u001b[0m\u001b[1;33m)\u001b[0m\u001b[1;33m\u001b[0m\u001b[0m\n\u001b[0m\u001b[0;32m     39\u001b[0m     \u001b[1;31m# df_result = pd.DataFrame(columns=('model', 'precesion', 'recall', 'F1', 'AUC'))\u001b[0m\u001b[1;33m\u001b[0m\u001b[1;33m\u001b[0m\u001b[0m\n",
      "\u001b[1;31mTypeError\u001b[0m: __init__() got an unexpected keyword argument 'col_names'"
     ]
    }
   ],
   "source": [
    "file_gsr = \"./gsrAll.json\"\n",
    "languages = ['English', 'Portuguese', 'Spanish']\n",
    "for l in languages:\n",
    "    min_date = datetime(2014, 1, 1)\n",
    "    max_date = datetime(2014, 12, 31)\n",
    "    dates = pd.date_range(min_date, max_date)\n",
    "    y = create_y(file_gsr, dates)\n",
    "\n",
    "    file_keys = \"./CU_Keywords.2013-01-25T15-36-29\"\n",
    "    keywords_dict = get_keywords(file_keys)[languages[1]]\n",
    "    keywords = keywords_dict.keys()\n",
    "    col_names = keywords + ['date', 'city']\n",
    "    types = {key: 'int' for key in keywords}\n",
    "    types['date'] = 'str'\n",
    "    types['city'] = 'str'\n",
    "    X = pd.read_csv('features_' + l + '.csv', header=None, names=col_names)\n",
    "    X = X.groupby(['city', 'date']).agg({key: np.sum for key in keywords})\n",
    "\n",
    "    models = [LogisticRegression(penalty='l1', class_weight='balanced'),\n",
    "              SVC(class_weight=\"balanced\"),\n",
    "              ]\n",
    "\n",
    "\n",
    "    results = []\n",
    "    for m in models:\n",
    "        m.fit(X, y.event)\n",
    "        expected = y.event\n",
    "        predicted = m.predict(X)\n",
    "        # print(metrics.classification_report(expected, predicted))\n",
    "        # print(metrics.confusion_matrix(expected, predicted))\n",
    "        precesion = metrics.precision_score(expected, predicted, average='binary')\n",
    "        recall = metrics.recall_score(expected, predicted, average='binary')\n",
    "        f1 = metrics.f1_score(expected, predicted, average='binary')\n",
    "        fpr, tpr, thresholds = metrics.roc_curve(expected, predicted, pos_label=1)\n",
    "        auc = metrics.auc(fpr, tpr)\n",
    "        results.append([str(m).split(\"(\")[0] + \"_\" + l, precesion, recall, f1, auc])\n",
    "\n",
    "    df = pd.DataFrame(results, col_names = ['model', 'precesion', 'recall', 'F1', 'AUC'])\n",
    "    # df_result = pd.DataFrame(columns=('model', 'precesion', 'recall', 'F1', 'AUC'))"
   ]
  },
  {
   "cell_type": "code",
   "execution_count": 37,
   "metadata": {
    "collapsed": false
   },
   "outputs": [
    {
     "data": {
      "text/plain": [
       "[['LogisticRegression_English',\n",
       "  0.10952673632452366,\n",
       "  0.9944196428571429,\n",
       "  0.19732034104750304,\n",
       "  0.5929236287731412],\n",
       " ['SVC_English',\n",
       "  0.10468155893536121,\n",
       "  0.9832589285714286,\n",
       "  0.18921821305841927,\n",
       "  0.57110261977181764]]"
      ]
     },
     "execution_count": 37,
     "metadata": {},
     "output_type": "execute_result"
    }
   ],
   "source": [
    "results"
   ]
  },
  {
   "cell_type": "code",
   "execution_count": 38,
   "metadata": {
    "collapsed": false
   },
   "outputs": [
    {
     "data": {
      "text/plain": [
       "2"
      ]
     },
     "execution_count": 38,
     "metadata": {},
     "output_type": "execute_result"
    }
   ],
   "source": [
    "len(results)"
   ]
  },
  {
   "cell_type": "code",
   "execution_count": 39,
   "metadata": {
    "collapsed": true
   },
   "outputs": [],
   "source": [
    "df = pd.DataFrame(results)"
   ]
  },
  {
   "cell_type": "code",
   "execution_count": 40,
   "metadata": {
    "collapsed": false
   },
   "outputs": [
    {
     "data": {
      "text/html": [
       "<div>\n",
       "<table border=\"1\" class=\"dataframe\">\n",
       "  <thead>\n",
       "    <tr style=\"text-align: right;\">\n",
       "      <th></th>\n",
       "      <th>0</th>\n",
       "      <th>1</th>\n",
       "      <th>2</th>\n",
       "      <th>3</th>\n",
       "      <th>4</th>\n",
       "    </tr>\n",
       "  </thead>\n",
       "  <tbody>\n",
       "    <tr>\n",
       "      <th>0</th>\n",
       "      <td>LogisticRegression_English</td>\n",
       "      <td>0.109527</td>\n",
       "      <td>0.994420</td>\n",
       "      <td>0.197320</td>\n",
       "      <td>0.592924</td>\n",
       "    </tr>\n",
       "    <tr>\n",
       "      <th>1</th>\n",
       "      <td>SVC_English</td>\n",
       "      <td>0.104682</td>\n",
       "      <td>0.983259</td>\n",
       "      <td>0.189218</td>\n",
       "      <td>0.571103</td>\n",
       "    </tr>\n",
       "  </tbody>\n",
       "</table>\n",
       "</div>"
      ],
      "text/plain": [
       "                            0         1         2         3         4\n",
       "0  LogisticRegression_English  0.109527  0.994420  0.197320  0.592924\n",
       "1                 SVC_English  0.104682  0.983259  0.189218  0.571103"
      ]
     },
     "execution_count": 40,
     "metadata": {},
     "output_type": "execute_result"
    }
   ],
   "source": [
    "df"
   ]
  },
  {
   "cell_type": "code",
   "execution_count": 41,
   "metadata": {
    "collapsed": false
   },
   "outputs": [
    {
     "data": {
      "text/plain": [
       "['English', 'Portuguese', 'Spanish']"
      ]
     },
     "execution_count": 41,
     "metadata": {},
     "output_type": "execute_result"
    }
   ],
   "source": [
    "languages"
   ]
  },
  {
   "cell_type": "code",
   "execution_count": 42,
   "metadata": {
    "collapsed": false
   },
   "outputs": [
    {
     "data": {
      "text/plain": [
       "u'\\\\begin{tabular}{llrrrr}\\n\\\\toprule\\n{} &                           0 &         1 &         2 &         3 &         4 \\\\\\\\\\n\\\\midrule\\n0 &  LogisticRegression\\\\_English &  0.109527 &  0.994420 &  0.197320 &  0.592924 \\\\\\\\\\n1 &                 SVC\\\\_English &  0.104682 &  0.983259 &  0.189218 &  0.571103 \\\\\\\\\\n\\\\bottomrule\\n\\\\end{tabular}\\n'"
      ]
     },
     "execution_count": 42,
     "metadata": {},
     "output_type": "execute_result"
    }
   ],
   "source": [
    "df.to_latex()"
   ]
  },
  {
   "cell_type": "code",
   "execution_count": 43,
   "metadata": {
    "collapsed": true
   },
   "outputs": [],
   "source": [
    "file_gsr = \"./gsrAll.json\"\n",
    "languages = ['English', 'Portuguese', 'Spanish']\n",
    "results = []\n",
    "for l in languages:\n",
    "    min_date = datetime(2014, 1, 1)\n",
    "    max_date = datetime(2014, 12, 31)\n",
    "    dates = pd.date_range(min_date, max_date)\n",
    "    y = create_y(file_gsr, dates)\n",
    "\n",
    "    file_keys = \"./CU_Keywords.2013-01-25T15-36-29\"\n",
    "    keywords_dict = get_keywords(file_keys)[languages[1]]\n",
    "    keywords = keywords_dict.keys()\n",
    "    col_names = keywords + ['date', 'city']\n",
    "    types = {key: 'int' for key in keywords}\n",
    "    types['date'] = 'str'\n",
    "    types['city'] = 'str'\n",
    "    X = pd.read_csv('features_' + l + '.csv', header=None, names=col_names)\n",
    "    X = X.groupby(['city', 'date']).agg({key: np.sum for key in keywords})\n",
    "\n",
    "    models = [LogisticRegression(penalty='l1', class_weight='balanced'),\n",
    "              SVC(class_weight=\"balanced\"),\n",
    "              ]\n",
    "\n",
    "    for m in models:\n",
    "        m.fit(X, y.event)\n",
    "        expected = y.event\n",
    "        predicted = m.predict(X)\n",
    "        # print(metrics.classification_report(expected, predicted))\n",
    "        # print(metrics.confusion_matrix(expected, predicted))\n",
    "        precesion = metrics.precision_score(expected, predicted, average='binary')\n",
    "        recall = metrics.recall_score(expected, predicted, average='binary')\n",
    "        f1 = metrics.f1_score(expected, predicted, average='binary')\n",
    "        fpr, tpr, thresholds = metrics.roc_curve(expected, predicted, pos_label=1)\n",
    "        auc = metrics.auc(fpr, tpr)\n",
    "        results.append([str(m).split(\"(\")[0] + \"_\" + l, precesion, recall, f1, auc])\n",
    "\n",
    "df = pd.DataFrame(results)"
   ]
  },
  {
   "cell_type": "code",
   "execution_count": 44,
   "metadata": {
    "collapsed": false
   },
   "outputs": [
    {
     "data": {
      "text/html": [
       "<div>\n",
       "<table border=\"1\" class=\"dataframe\">\n",
       "  <thead>\n",
       "    <tr style=\"text-align: right;\">\n",
       "      <th></th>\n",
       "      <th>0</th>\n",
       "      <th>1</th>\n",
       "      <th>2</th>\n",
       "      <th>3</th>\n",
       "      <th>4</th>\n",
       "    </tr>\n",
       "  </thead>\n",
       "  <tbody>\n",
       "    <tr>\n",
       "      <th>0</th>\n",
       "      <td>LogisticRegression_English</td>\n",
       "      <td>0.109554</td>\n",
       "      <td>0.994420</td>\n",
       "      <td>0.197364</td>\n",
       "      <td>0.593035</td>\n",
       "    </tr>\n",
       "    <tr>\n",
       "      <th>1</th>\n",
       "      <td>SVC_English</td>\n",
       "      <td>0.104682</td>\n",
       "      <td>0.983259</td>\n",
       "      <td>0.189218</td>\n",
       "      <td>0.571103</td>\n",
       "    </tr>\n",
       "    <tr>\n",
       "      <th>2</th>\n",
       "      <td>LogisticRegression_Portuguese</td>\n",
       "      <td>0.119403</td>\n",
       "      <td>1.000000</td>\n",
       "      <td>0.213333</td>\n",
       "      <td>0.631209</td>\n",
       "    </tr>\n",
       "    <tr>\n",
       "      <th>3</th>\n",
       "      <td>SVC_Portuguese</td>\n",
       "      <td>0.116999</td>\n",
       "      <td>0.983259</td>\n",
       "      <td>0.209115</td>\n",
       "      <td>0.620550</td>\n",
       "    </tr>\n",
       "    <tr>\n",
       "      <th>4</th>\n",
       "      <td>LogisticRegression_Spanish</td>\n",
       "      <td>0.107713</td>\n",
       "      <td>0.994420</td>\n",
       "      <td>0.194372</td>\n",
       "      <td>0.585278</td>\n",
       "    </tr>\n",
       "    <tr>\n",
       "      <th>5</th>\n",
       "      <td>SVC_Spanish</td>\n",
       "      <td>0.100499</td>\n",
       "      <td>0.988839</td>\n",
       "      <td>0.182455</td>\n",
       "      <td>0.551848</td>\n",
       "    </tr>\n",
       "  </tbody>\n",
       "</table>\n",
       "</div>"
      ],
      "text/plain": [
       "                               0         1         2         3         4\n",
       "0     LogisticRegression_English  0.109554  0.994420  0.197364  0.593035\n",
       "1                    SVC_English  0.104682  0.983259  0.189218  0.571103\n",
       "2  LogisticRegression_Portuguese  0.119403  1.000000  0.213333  0.631209\n",
       "3                 SVC_Portuguese  0.116999  0.983259  0.209115  0.620550\n",
       "4     LogisticRegression_Spanish  0.107713  0.994420  0.194372  0.585278\n",
       "5                    SVC_Spanish  0.100499  0.988839  0.182455  0.551848"
      ]
     },
     "execution_count": 44,
     "metadata": {},
     "output_type": "execute_result"
    }
   ],
   "source": [
    "df"
   ]
  },
  {
   "cell_type": "code",
   "execution_count": 45,
   "metadata": {
    "collapsed": true
   },
   "outputs": [],
   "source": [
    "X1 = pd.read_csv('features_' + languages[0] + '.csv', header=None, names=col_names)\n",
    "X1 = X1.groupby(['city', 'date']).agg({key: np.sum for key in keywords})\n",
    "X2 = pd.read_csv('features_' + languages[1] + '.csv', header=None, names=col_names)\n",
    "X2 = X2.groupby(['city', 'date']).agg({key: np.sum for key in keywords})\n",
    "X3 = pd.read_csv('features_' + languages[2] + '.csv', header=None, names=col_names)\n",
    "X3 = X3.groupby(['city', 'date']).agg({key: np.sum for key in keywords})"
   ]
  },
  {
   "cell_type": "code",
   "execution_count": 46,
   "metadata": {
    "collapsed": false
   },
   "outputs": [
    {
     "data": {
      "text/html": [
       "<div>\n",
       "<table border=\"1\" class=\"dataframe\">\n",
       "  <thead>\n",
       "    <tr style=\"text-align: right;\">\n",
       "      <th></th>\n",
       "      <th></th>\n",
       "      <th>medo</th>\n",
       "      <th>ataque</th>\n",
       "      <th>armar</th>\n",
       "      <th>emboscada</th>\n",
       "      <th>interrogatório</th>\n",
       "      <th>recrudescência</th>\n",
       "      <th>violência_de_rua</th>\n",
       "      <th>kadiweus</th>\n",
       "      <th>essencial</th>\n",
       "      <th>cooperativa</th>\n",
       "      <th>...</th>\n",
       "      <th>intimidar</th>\n",
       "      <th>guarani</th>\n",
       "      <th>vigília</th>\n",
       "      <th>perseguição</th>\n",
       "      <th>perigo</th>\n",
       "      <th>desgosto</th>\n",
       "      <th>promotor</th>\n",
       "      <th>rural</th>\n",
       "      <th>manter</th>\n",
       "      <th>conflito_territorial</th>\n",
       "    </tr>\n",
       "    <tr>\n",
       "      <th>city</th>\n",
       "      <th>date</th>\n",
       "      <th></th>\n",
       "      <th></th>\n",
       "      <th></th>\n",
       "      <th></th>\n",
       "      <th></th>\n",
       "      <th></th>\n",
       "      <th></th>\n",
       "      <th></th>\n",
       "      <th></th>\n",
       "      <th></th>\n",
       "      <th></th>\n",
       "      <th></th>\n",
       "      <th></th>\n",
       "      <th></th>\n",
       "      <th></th>\n",
       "      <th></th>\n",
       "      <th></th>\n",
       "      <th></th>\n",
       "      <th></th>\n",
       "      <th></th>\n",
       "      <th></th>\n",
       "    </tr>\n",
       "  </thead>\n",
       "  <tbody>\n",
       "    <tr>\n",
       "      <th rowspan=\"30\" valign=\"top\">Acre</th>\n",
       "      <th>2014-01-01</th>\n",
       "      <td>0</td>\n",
       "      <td>0</td>\n",
       "      <td>0</td>\n",
       "      <td>0</td>\n",
       "      <td>0</td>\n",
       "      <td>0</td>\n",
       "      <td>0</td>\n",
       "      <td>0</td>\n",
       "      <td>0</td>\n",
       "      <td>0</td>\n",
       "      <td>...</td>\n",
       "      <td>0</td>\n",
       "      <td>0</td>\n",
       "      <td>0</td>\n",
       "      <td>0</td>\n",
       "      <td>0</td>\n",
       "      <td>0</td>\n",
       "      <td>0</td>\n",
       "      <td>0</td>\n",
       "      <td>0</td>\n",
       "      <td>0</td>\n",
       "    </tr>\n",
       "    <tr>\n",
       "      <th>2014-01-02</th>\n",
       "      <td>0</td>\n",
       "      <td>0</td>\n",
       "      <td>0</td>\n",
       "      <td>0</td>\n",
       "      <td>0</td>\n",
       "      <td>0</td>\n",
       "      <td>0</td>\n",
       "      <td>0</td>\n",
       "      <td>0</td>\n",
       "      <td>0</td>\n",
       "      <td>...</td>\n",
       "      <td>0</td>\n",
       "      <td>0</td>\n",
       "      <td>0</td>\n",
       "      <td>0</td>\n",
       "      <td>0</td>\n",
       "      <td>0</td>\n",
       "      <td>0</td>\n",
       "      <td>0</td>\n",
       "      <td>0</td>\n",
       "      <td>0</td>\n",
       "    </tr>\n",
       "    <tr>\n",
       "      <th>2014-01-03</th>\n",
       "      <td>0</td>\n",
       "      <td>0</td>\n",
       "      <td>0</td>\n",
       "      <td>0</td>\n",
       "      <td>0</td>\n",
       "      <td>0</td>\n",
       "      <td>0</td>\n",
       "      <td>0</td>\n",
       "      <td>0</td>\n",
       "      <td>0</td>\n",
       "      <td>...</td>\n",
       "      <td>0</td>\n",
       "      <td>0</td>\n",
       "      <td>0</td>\n",
       "      <td>0</td>\n",
       "      <td>0</td>\n",
       "      <td>0</td>\n",
       "      <td>0</td>\n",
       "      <td>0</td>\n",
       "      <td>0</td>\n",
       "      <td>0</td>\n",
       "    </tr>\n",
       "    <tr>\n",
       "      <th>2014-01-04</th>\n",
       "      <td>0</td>\n",
       "      <td>0</td>\n",
       "      <td>0</td>\n",
       "      <td>0</td>\n",
       "      <td>0</td>\n",
       "      <td>0</td>\n",
       "      <td>0</td>\n",
       "      <td>0</td>\n",
       "      <td>0</td>\n",
       "      <td>0</td>\n",
       "      <td>...</td>\n",
       "      <td>0</td>\n",
       "      <td>0</td>\n",
       "      <td>0</td>\n",
       "      <td>0</td>\n",
       "      <td>0</td>\n",
       "      <td>0</td>\n",
       "      <td>0</td>\n",
       "      <td>0</td>\n",
       "      <td>0</td>\n",
       "      <td>0</td>\n",
       "    </tr>\n",
       "    <tr>\n",
       "      <th>2014-01-05</th>\n",
       "      <td>0</td>\n",
       "      <td>0</td>\n",
       "      <td>0</td>\n",
       "      <td>0</td>\n",
       "      <td>0</td>\n",
       "      <td>0</td>\n",
       "      <td>0</td>\n",
       "      <td>0</td>\n",
       "      <td>0</td>\n",
       "      <td>0</td>\n",
       "      <td>...</td>\n",
       "      <td>0</td>\n",
       "      <td>0</td>\n",
       "      <td>0</td>\n",
       "      <td>0</td>\n",
       "      <td>0</td>\n",
       "      <td>0</td>\n",
       "      <td>0</td>\n",
       "      <td>0</td>\n",
       "      <td>0</td>\n",
       "      <td>0</td>\n",
       "    </tr>\n",
       "    <tr>\n",
       "      <th>2014-01-06</th>\n",
       "      <td>0</td>\n",
       "      <td>0</td>\n",
       "      <td>0</td>\n",
       "      <td>0</td>\n",
       "      <td>0</td>\n",
       "      <td>0</td>\n",
       "      <td>0</td>\n",
       "      <td>0</td>\n",
       "      <td>0</td>\n",
       "      <td>0</td>\n",
       "      <td>...</td>\n",
       "      <td>0</td>\n",
       "      <td>0</td>\n",
       "      <td>0</td>\n",
       "      <td>0</td>\n",
       "      <td>0</td>\n",
       "      <td>0</td>\n",
       "      <td>0</td>\n",
       "      <td>0</td>\n",
       "      <td>0</td>\n",
       "      <td>0</td>\n",
       "    </tr>\n",
       "    <tr>\n",
       "      <th>2014-01-07</th>\n",
       "      <td>0</td>\n",
       "      <td>0</td>\n",
       "      <td>0</td>\n",
       "      <td>0</td>\n",
       "      <td>0</td>\n",
       "      <td>0</td>\n",
       "      <td>0</td>\n",
       "      <td>0</td>\n",
       "      <td>0</td>\n",
       "      <td>0</td>\n",
       "      <td>...</td>\n",
       "      <td>0</td>\n",
       "      <td>0</td>\n",
       "      <td>0</td>\n",
       "      <td>0</td>\n",
       "      <td>0</td>\n",
       "      <td>0</td>\n",
       "      <td>0</td>\n",
       "      <td>0</td>\n",
       "      <td>0</td>\n",
       "      <td>0</td>\n",
       "    </tr>\n",
       "    <tr>\n",
       "      <th>2014-01-08</th>\n",
       "      <td>0</td>\n",
       "      <td>0</td>\n",
       "      <td>0</td>\n",
       "      <td>0</td>\n",
       "      <td>0</td>\n",
       "      <td>0</td>\n",
       "      <td>0</td>\n",
       "      <td>0</td>\n",
       "      <td>0</td>\n",
       "      <td>0</td>\n",
       "      <td>...</td>\n",
       "      <td>0</td>\n",
       "      <td>0</td>\n",
       "      <td>0</td>\n",
       "      <td>0</td>\n",
       "      <td>0</td>\n",
       "      <td>0</td>\n",
       "      <td>0</td>\n",
       "      <td>0</td>\n",
       "      <td>0</td>\n",
       "      <td>0</td>\n",
       "    </tr>\n",
       "    <tr>\n",
       "      <th>2014-01-09</th>\n",
       "      <td>0</td>\n",
       "      <td>0</td>\n",
       "      <td>0</td>\n",
       "      <td>0</td>\n",
       "      <td>0</td>\n",
       "      <td>0</td>\n",
       "      <td>0</td>\n",
       "      <td>0</td>\n",
       "      <td>0</td>\n",
       "      <td>0</td>\n",
       "      <td>...</td>\n",
       "      <td>0</td>\n",
       "      <td>0</td>\n",
       "      <td>0</td>\n",
       "      <td>0</td>\n",
       "      <td>0</td>\n",
       "      <td>0</td>\n",
       "      <td>0</td>\n",
       "      <td>0</td>\n",
       "      <td>0</td>\n",
       "      <td>0</td>\n",
       "    </tr>\n",
       "    <tr>\n",
       "      <th>2014-01-10</th>\n",
       "      <td>0</td>\n",
       "      <td>0</td>\n",
       "      <td>0</td>\n",
       "      <td>0</td>\n",
       "      <td>0</td>\n",
       "      <td>0</td>\n",
       "      <td>0</td>\n",
       "      <td>0</td>\n",
       "      <td>0</td>\n",
       "      <td>0</td>\n",
       "      <td>...</td>\n",
       "      <td>0</td>\n",
       "      <td>0</td>\n",
       "      <td>0</td>\n",
       "      <td>0</td>\n",
       "      <td>0</td>\n",
       "      <td>0</td>\n",
       "      <td>0</td>\n",
       "      <td>0</td>\n",
       "      <td>0</td>\n",
       "      <td>0</td>\n",
       "    </tr>\n",
       "    <tr>\n",
       "      <th>2014-01-11</th>\n",
       "      <td>0</td>\n",
       "      <td>0</td>\n",
       "      <td>0</td>\n",
       "      <td>0</td>\n",
       "      <td>0</td>\n",
       "      <td>0</td>\n",
       "      <td>0</td>\n",
       "      <td>0</td>\n",
       "      <td>0</td>\n",
       "      <td>0</td>\n",
       "      <td>...</td>\n",
       "      <td>0</td>\n",
       "      <td>0</td>\n",
       "      <td>0</td>\n",
       "      <td>0</td>\n",
       "      <td>0</td>\n",
       "      <td>0</td>\n",
       "      <td>0</td>\n",
       "      <td>0</td>\n",
       "      <td>0</td>\n",
       "      <td>0</td>\n",
       "    </tr>\n",
       "    <tr>\n",
       "      <th>2014-01-12</th>\n",
       "      <td>0</td>\n",
       "      <td>0</td>\n",
       "      <td>0</td>\n",
       "      <td>0</td>\n",
       "      <td>0</td>\n",
       "      <td>0</td>\n",
       "      <td>0</td>\n",
       "      <td>0</td>\n",
       "      <td>0</td>\n",
       "      <td>0</td>\n",
       "      <td>...</td>\n",
       "      <td>0</td>\n",
       "      <td>0</td>\n",
       "      <td>0</td>\n",
       "      <td>0</td>\n",
       "      <td>0</td>\n",
       "      <td>0</td>\n",
       "      <td>0</td>\n",
       "      <td>0</td>\n",
       "      <td>0</td>\n",
       "      <td>0</td>\n",
       "    </tr>\n",
       "    <tr>\n",
       "      <th>2014-01-13</th>\n",
       "      <td>0</td>\n",
       "      <td>0</td>\n",
       "      <td>0</td>\n",
       "      <td>0</td>\n",
       "      <td>0</td>\n",
       "      <td>0</td>\n",
       "      <td>0</td>\n",
       "      <td>0</td>\n",
       "      <td>0</td>\n",
       "      <td>0</td>\n",
       "      <td>...</td>\n",
       "      <td>0</td>\n",
       "      <td>0</td>\n",
       "      <td>0</td>\n",
       "      <td>0</td>\n",
       "      <td>0</td>\n",
       "      <td>0</td>\n",
       "      <td>0</td>\n",
       "      <td>0</td>\n",
       "      <td>0</td>\n",
       "      <td>0</td>\n",
       "    </tr>\n",
       "    <tr>\n",
       "      <th>2014-01-14</th>\n",
       "      <td>0</td>\n",
       "      <td>0</td>\n",
       "      <td>0</td>\n",
       "      <td>0</td>\n",
       "      <td>0</td>\n",
       "      <td>0</td>\n",
       "      <td>0</td>\n",
       "      <td>0</td>\n",
       "      <td>0</td>\n",
       "      <td>0</td>\n",
       "      <td>...</td>\n",
       "      <td>0</td>\n",
       "      <td>0</td>\n",
       "      <td>0</td>\n",
       "      <td>0</td>\n",
       "      <td>0</td>\n",
       "      <td>0</td>\n",
       "      <td>0</td>\n",
       "      <td>0</td>\n",
       "      <td>0</td>\n",
       "      <td>0</td>\n",
       "    </tr>\n",
       "    <tr>\n",
       "      <th>2014-01-15</th>\n",
       "      <td>0</td>\n",
       "      <td>0</td>\n",
       "      <td>0</td>\n",
       "      <td>0</td>\n",
       "      <td>0</td>\n",
       "      <td>0</td>\n",
       "      <td>0</td>\n",
       "      <td>0</td>\n",
       "      <td>0</td>\n",
       "      <td>0</td>\n",
       "      <td>...</td>\n",
       "      <td>0</td>\n",
       "      <td>0</td>\n",
       "      <td>0</td>\n",
       "      <td>0</td>\n",
       "      <td>0</td>\n",
       "      <td>0</td>\n",
       "      <td>0</td>\n",
       "      <td>0</td>\n",
       "      <td>0</td>\n",
       "      <td>0</td>\n",
       "    </tr>\n",
       "    <tr>\n",
       "      <th>2014-01-16</th>\n",
       "      <td>0</td>\n",
       "      <td>0</td>\n",
       "      <td>0</td>\n",
       "      <td>0</td>\n",
       "      <td>0</td>\n",
       "      <td>0</td>\n",
       "      <td>0</td>\n",
       "      <td>0</td>\n",
       "      <td>0</td>\n",
       "      <td>0</td>\n",
       "      <td>...</td>\n",
       "      <td>0</td>\n",
       "      <td>0</td>\n",
       "      <td>0</td>\n",
       "      <td>0</td>\n",
       "      <td>0</td>\n",
       "      <td>0</td>\n",
       "      <td>0</td>\n",
       "      <td>0</td>\n",
       "      <td>0</td>\n",
       "      <td>0</td>\n",
       "    </tr>\n",
       "    <tr>\n",
       "      <th>2014-01-17</th>\n",
       "      <td>0</td>\n",
       "      <td>0</td>\n",
       "      <td>0</td>\n",
       "      <td>0</td>\n",
       "      <td>0</td>\n",
       "      <td>0</td>\n",
       "      <td>0</td>\n",
       "      <td>0</td>\n",
       "      <td>0</td>\n",
       "      <td>0</td>\n",
       "      <td>...</td>\n",
       "      <td>0</td>\n",
       "      <td>0</td>\n",
       "      <td>0</td>\n",
       "      <td>0</td>\n",
       "      <td>0</td>\n",
       "      <td>0</td>\n",
       "      <td>0</td>\n",
       "      <td>0</td>\n",
       "      <td>0</td>\n",
       "      <td>0</td>\n",
       "    </tr>\n",
       "    <tr>\n",
       "      <th>2014-01-18</th>\n",
       "      <td>0</td>\n",
       "      <td>0</td>\n",
       "      <td>0</td>\n",
       "      <td>0</td>\n",
       "      <td>0</td>\n",
       "      <td>0</td>\n",
       "      <td>0</td>\n",
       "      <td>0</td>\n",
       "      <td>0</td>\n",
       "      <td>0</td>\n",
       "      <td>...</td>\n",
       "      <td>0</td>\n",
       "      <td>0</td>\n",
       "      <td>0</td>\n",
       "      <td>0</td>\n",
       "      <td>0</td>\n",
       "      <td>0</td>\n",
       "      <td>0</td>\n",
       "      <td>0</td>\n",
       "      <td>0</td>\n",
       "      <td>0</td>\n",
       "    </tr>\n",
       "    <tr>\n",
       "      <th>2014-01-19</th>\n",
       "      <td>0</td>\n",
       "      <td>0</td>\n",
       "      <td>0</td>\n",
       "      <td>0</td>\n",
       "      <td>0</td>\n",
       "      <td>0</td>\n",
       "      <td>0</td>\n",
       "      <td>0</td>\n",
       "      <td>0</td>\n",
       "      <td>0</td>\n",
       "      <td>...</td>\n",
       "      <td>0</td>\n",
       "      <td>0</td>\n",
       "      <td>0</td>\n",
       "      <td>0</td>\n",
       "      <td>0</td>\n",
       "      <td>0</td>\n",
       "      <td>0</td>\n",
       "      <td>0</td>\n",
       "      <td>0</td>\n",
       "      <td>0</td>\n",
       "    </tr>\n",
       "    <tr>\n",
       "      <th>2014-01-20</th>\n",
       "      <td>0</td>\n",
       "      <td>0</td>\n",
       "      <td>0</td>\n",
       "      <td>0</td>\n",
       "      <td>0</td>\n",
       "      <td>0</td>\n",
       "      <td>0</td>\n",
       "      <td>0</td>\n",
       "      <td>0</td>\n",
       "      <td>0</td>\n",
       "      <td>...</td>\n",
       "      <td>0</td>\n",
       "      <td>0</td>\n",
       "      <td>0</td>\n",
       "      <td>0</td>\n",
       "      <td>0</td>\n",
       "      <td>0</td>\n",
       "      <td>0</td>\n",
       "      <td>0</td>\n",
       "      <td>0</td>\n",
       "      <td>0</td>\n",
       "    </tr>\n",
       "    <tr>\n",
       "      <th>2014-01-21</th>\n",
       "      <td>0</td>\n",
       "      <td>0</td>\n",
       "      <td>0</td>\n",
       "      <td>0</td>\n",
       "      <td>0</td>\n",
       "      <td>0</td>\n",
       "      <td>0</td>\n",
       "      <td>0</td>\n",
       "      <td>0</td>\n",
       "      <td>0</td>\n",
       "      <td>...</td>\n",
       "      <td>0</td>\n",
       "      <td>0</td>\n",
       "      <td>0</td>\n",
       "      <td>0</td>\n",
       "      <td>0</td>\n",
       "      <td>0</td>\n",
       "      <td>0</td>\n",
       "      <td>0</td>\n",
       "      <td>0</td>\n",
       "      <td>0</td>\n",
       "    </tr>\n",
       "    <tr>\n",
       "      <th>2014-01-22</th>\n",
       "      <td>0</td>\n",
       "      <td>0</td>\n",
       "      <td>0</td>\n",
       "      <td>0</td>\n",
       "      <td>0</td>\n",
       "      <td>0</td>\n",
       "      <td>0</td>\n",
       "      <td>0</td>\n",
       "      <td>0</td>\n",
       "      <td>0</td>\n",
       "      <td>...</td>\n",
       "      <td>0</td>\n",
       "      <td>0</td>\n",
       "      <td>0</td>\n",
       "      <td>0</td>\n",
       "      <td>0</td>\n",
       "      <td>0</td>\n",
       "      <td>0</td>\n",
       "      <td>0</td>\n",
       "      <td>0</td>\n",
       "      <td>0</td>\n",
       "    </tr>\n",
       "    <tr>\n",
       "      <th>2014-01-23</th>\n",
       "      <td>0</td>\n",
       "      <td>0</td>\n",
       "      <td>0</td>\n",
       "      <td>0</td>\n",
       "      <td>0</td>\n",
       "      <td>0</td>\n",
       "      <td>0</td>\n",
       "      <td>0</td>\n",
       "      <td>0</td>\n",
       "      <td>0</td>\n",
       "      <td>...</td>\n",
       "      <td>0</td>\n",
       "      <td>0</td>\n",
       "      <td>0</td>\n",
       "      <td>0</td>\n",
       "      <td>0</td>\n",
       "      <td>0</td>\n",
       "      <td>0</td>\n",
       "      <td>0</td>\n",
       "      <td>0</td>\n",
       "      <td>0</td>\n",
       "    </tr>\n",
       "    <tr>\n",
       "      <th>2014-01-24</th>\n",
       "      <td>0</td>\n",
       "      <td>0</td>\n",
       "      <td>0</td>\n",
       "      <td>0</td>\n",
       "      <td>0</td>\n",
       "      <td>0</td>\n",
       "      <td>0</td>\n",
       "      <td>0</td>\n",
       "      <td>0</td>\n",
       "      <td>0</td>\n",
       "      <td>...</td>\n",
       "      <td>0</td>\n",
       "      <td>0</td>\n",
       "      <td>0</td>\n",
       "      <td>0</td>\n",
       "      <td>0</td>\n",
       "      <td>0</td>\n",
       "      <td>0</td>\n",
       "      <td>0</td>\n",
       "      <td>0</td>\n",
       "      <td>0</td>\n",
       "    </tr>\n",
       "    <tr>\n",
       "      <th>2014-01-25</th>\n",
       "      <td>0</td>\n",
       "      <td>0</td>\n",
       "      <td>0</td>\n",
       "      <td>0</td>\n",
       "      <td>0</td>\n",
       "      <td>0</td>\n",
       "      <td>0</td>\n",
       "      <td>0</td>\n",
       "      <td>0</td>\n",
       "      <td>0</td>\n",
       "      <td>...</td>\n",
       "      <td>0</td>\n",
       "      <td>0</td>\n",
       "      <td>0</td>\n",
       "      <td>0</td>\n",
       "      <td>0</td>\n",
       "      <td>0</td>\n",
       "      <td>0</td>\n",
       "      <td>0</td>\n",
       "      <td>0</td>\n",
       "      <td>0</td>\n",
       "    </tr>\n",
       "    <tr>\n",
       "      <th>2014-01-26</th>\n",
       "      <td>0</td>\n",
       "      <td>0</td>\n",
       "      <td>0</td>\n",
       "      <td>0</td>\n",
       "      <td>0</td>\n",
       "      <td>0</td>\n",
       "      <td>0</td>\n",
       "      <td>0</td>\n",
       "      <td>0</td>\n",
       "      <td>0</td>\n",
       "      <td>...</td>\n",
       "      <td>0</td>\n",
       "      <td>0</td>\n",
       "      <td>0</td>\n",
       "      <td>0</td>\n",
       "      <td>0</td>\n",
       "      <td>0</td>\n",
       "      <td>0</td>\n",
       "      <td>0</td>\n",
       "      <td>0</td>\n",
       "      <td>0</td>\n",
       "    </tr>\n",
       "    <tr>\n",
       "      <th>2014-01-27</th>\n",
       "      <td>0</td>\n",
       "      <td>0</td>\n",
       "      <td>0</td>\n",
       "      <td>0</td>\n",
       "      <td>0</td>\n",
       "      <td>0</td>\n",
       "      <td>0</td>\n",
       "      <td>0</td>\n",
       "      <td>0</td>\n",
       "      <td>0</td>\n",
       "      <td>...</td>\n",
       "      <td>0</td>\n",
       "      <td>0</td>\n",
       "      <td>0</td>\n",
       "      <td>0</td>\n",
       "      <td>0</td>\n",
       "      <td>0</td>\n",
       "      <td>0</td>\n",
       "      <td>0</td>\n",
       "      <td>0</td>\n",
       "      <td>0</td>\n",
       "    </tr>\n",
       "    <tr>\n",
       "      <th>2014-01-28</th>\n",
       "      <td>0</td>\n",
       "      <td>0</td>\n",
       "      <td>0</td>\n",
       "      <td>0</td>\n",
       "      <td>0</td>\n",
       "      <td>0</td>\n",
       "      <td>0</td>\n",
       "      <td>0</td>\n",
       "      <td>0</td>\n",
       "      <td>0</td>\n",
       "      <td>...</td>\n",
       "      <td>0</td>\n",
       "      <td>0</td>\n",
       "      <td>0</td>\n",
       "      <td>0</td>\n",
       "      <td>0</td>\n",
       "      <td>0</td>\n",
       "      <td>0</td>\n",
       "      <td>0</td>\n",
       "      <td>0</td>\n",
       "      <td>0</td>\n",
       "    </tr>\n",
       "    <tr>\n",
       "      <th>2014-01-29</th>\n",
       "      <td>0</td>\n",
       "      <td>0</td>\n",
       "      <td>0</td>\n",
       "      <td>0</td>\n",
       "      <td>0</td>\n",
       "      <td>0</td>\n",
       "      <td>0</td>\n",
       "      <td>0</td>\n",
       "      <td>0</td>\n",
       "      <td>0</td>\n",
       "      <td>...</td>\n",
       "      <td>0</td>\n",
       "      <td>0</td>\n",
       "      <td>0</td>\n",
       "      <td>0</td>\n",
       "      <td>0</td>\n",
       "      <td>0</td>\n",
       "      <td>0</td>\n",
       "      <td>0</td>\n",
       "      <td>0</td>\n",
       "      <td>0</td>\n",
       "    </tr>\n",
       "    <tr>\n",
       "      <th>2014-01-30</th>\n",
       "      <td>0</td>\n",
       "      <td>0</td>\n",
       "      <td>0</td>\n",
       "      <td>0</td>\n",
       "      <td>0</td>\n",
       "      <td>0</td>\n",
       "      <td>0</td>\n",
       "      <td>0</td>\n",
       "      <td>0</td>\n",
       "      <td>0</td>\n",
       "      <td>...</td>\n",
       "      <td>0</td>\n",
       "      <td>0</td>\n",
       "      <td>0</td>\n",
       "      <td>0</td>\n",
       "      <td>0</td>\n",
       "      <td>0</td>\n",
       "      <td>0</td>\n",
       "      <td>0</td>\n",
       "      <td>0</td>\n",
       "      <td>0</td>\n",
       "    </tr>\n",
       "    <tr>\n",
       "      <th>...</th>\n",
       "      <th>...</th>\n",
       "      <td>...</td>\n",
       "      <td>...</td>\n",
       "      <td>...</td>\n",
       "      <td>...</td>\n",
       "      <td>...</td>\n",
       "      <td>...</td>\n",
       "      <td>...</td>\n",
       "      <td>...</td>\n",
       "      <td>...</td>\n",
       "      <td>...</td>\n",
       "      <td>...</td>\n",
       "      <td>...</td>\n",
       "      <td>...</td>\n",
       "      <td>...</td>\n",
       "      <td>...</td>\n",
       "      <td>...</td>\n",
       "      <td>...</td>\n",
       "      <td>...</td>\n",
       "      <td>...</td>\n",
       "      <td>...</td>\n",
       "      <td>...</td>\n",
       "    </tr>\n",
       "    <tr>\n",
       "      <th rowspan=\"30\" valign=\"top\">Tocantins</th>\n",
       "      <th>2014-12-02</th>\n",
       "      <td>0</td>\n",
       "      <td>0</td>\n",
       "      <td>0</td>\n",
       "      <td>0</td>\n",
       "      <td>0</td>\n",
       "      <td>0</td>\n",
       "      <td>0</td>\n",
       "      <td>0</td>\n",
       "      <td>0</td>\n",
       "      <td>0</td>\n",
       "      <td>...</td>\n",
       "      <td>0</td>\n",
       "      <td>0</td>\n",
       "      <td>0</td>\n",
       "      <td>0</td>\n",
       "      <td>0</td>\n",
       "      <td>0</td>\n",
       "      <td>0</td>\n",
       "      <td>0</td>\n",
       "      <td>0</td>\n",
       "      <td>0</td>\n",
       "    </tr>\n",
       "    <tr>\n",
       "      <th>2014-12-03</th>\n",
       "      <td>0</td>\n",
       "      <td>0</td>\n",
       "      <td>0</td>\n",
       "      <td>0</td>\n",
       "      <td>0</td>\n",
       "      <td>0</td>\n",
       "      <td>0</td>\n",
       "      <td>0</td>\n",
       "      <td>0</td>\n",
       "      <td>0</td>\n",
       "      <td>...</td>\n",
       "      <td>0</td>\n",
       "      <td>0</td>\n",
       "      <td>0</td>\n",
       "      <td>0</td>\n",
       "      <td>0</td>\n",
       "      <td>0</td>\n",
       "      <td>0</td>\n",
       "      <td>0</td>\n",
       "      <td>0</td>\n",
       "      <td>0</td>\n",
       "    </tr>\n",
       "    <tr>\n",
       "      <th>2014-12-04</th>\n",
       "      <td>0</td>\n",
       "      <td>0</td>\n",
       "      <td>0</td>\n",
       "      <td>0</td>\n",
       "      <td>0</td>\n",
       "      <td>0</td>\n",
       "      <td>0</td>\n",
       "      <td>0</td>\n",
       "      <td>0</td>\n",
       "      <td>0</td>\n",
       "      <td>...</td>\n",
       "      <td>0</td>\n",
       "      <td>0</td>\n",
       "      <td>0</td>\n",
       "      <td>0</td>\n",
       "      <td>0</td>\n",
       "      <td>0</td>\n",
       "      <td>0</td>\n",
       "      <td>0</td>\n",
       "      <td>0</td>\n",
       "      <td>0</td>\n",
       "    </tr>\n",
       "    <tr>\n",
       "      <th>2014-12-05</th>\n",
       "      <td>0</td>\n",
       "      <td>0</td>\n",
       "      <td>0</td>\n",
       "      <td>0</td>\n",
       "      <td>0</td>\n",
       "      <td>0</td>\n",
       "      <td>0</td>\n",
       "      <td>0</td>\n",
       "      <td>0</td>\n",
       "      <td>0</td>\n",
       "      <td>...</td>\n",
       "      <td>0</td>\n",
       "      <td>0</td>\n",
       "      <td>0</td>\n",
       "      <td>0</td>\n",
       "      <td>0</td>\n",
       "      <td>0</td>\n",
       "      <td>0</td>\n",
       "      <td>0</td>\n",
       "      <td>0</td>\n",
       "      <td>0</td>\n",
       "    </tr>\n",
       "    <tr>\n",
       "      <th>2014-12-06</th>\n",
       "      <td>0</td>\n",
       "      <td>0</td>\n",
       "      <td>0</td>\n",
       "      <td>0</td>\n",
       "      <td>0</td>\n",
       "      <td>0</td>\n",
       "      <td>0</td>\n",
       "      <td>0</td>\n",
       "      <td>0</td>\n",
       "      <td>0</td>\n",
       "      <td>...</td>\n",
       "      <td>0</td>\n",
       "      <td>0</td>\n",
       "      <td>0</td>\n",
       "      <td>0</td>\n",
       "      <td>0</td>\n",
       "      <td>0</td>\n",
       "      <td>0</td>\n",
       "      <td>0</td>\n",
       "      <td>0</td>\n",
       "      <td>0</td>\n",
       "    </tr>\n",
       "    <tr>\n",
       "      <th>2014-12-07</th>\n",
       "      <td>0</td>\n",
       "      <td>0</td>\n",
       "      <td>0</td>\n",
       "      <td>0</td>\n",
       "      <td>0</td>\n",
       "      <td>0</td>\n",
       "      <td>0</td>\n",
       "      <td>0</td>\n",
       "      <td>0</td>\n",
       "      <td>0</td>\n",
       "      <td>...</td>\n",
       "      <td>0</td>\n",
       "      <td>0</td>\n",
       "      <td>0</td>\n",
       "      <td>0</td>\n",
       "      <td>0</td>\n",
       "      <td>0</td>\n",
       "      <td>0</td>\n",
       "      <td>0</td>\n",
       "      <td>0</td>\n",
       "      <td>0</td>\n",
       "    </tr>\n",
       "    <tr>\n",
       "      <th>2014-12-08</th>\n",
       "      <td>0</td>\n",
       "      <td>0</td>\n",
       "      <td>0</td>\n",
       "      <td>0</td>\n",
       "      <td>0</td>\n",
       "      <td>0</td>\n",
       "      <td>0</td>\n",
       "      <td>0</td>\n",
       "      <td>0</td>\n",
       "      <td>0</td>\n",
       "      <td>...</td>\n",
       "      <td>0</td>\n",
       "      <td>0</td>\n",
       "      <td>0</td>\n",
       "      <td>0</td>\n",
       "      <td>0</td>\n",
       "      <td>0</td>\n",
       "      <td>0</td>\n",
       "      <td>0</td>\n",
       "      <td>0</td>\n",
       "      <td>0</td>\n",
       "    </tr>\n",
       "    <tr>\n",
       "      <th>2014-12-09</th>\n",
       "      <td>0</td>\n",
       "      <td>0</td>\n",
       "      <td>0</td>\n",
       "      <td>0</td>\n",
       "      <td>0</td>\n",
       "      <td>0</td>\n",
       "      <td>0</td>\n",
       "      <td>0</td>\n",
       "      <td>0</td>\n",
       "      <td>0</td>\n",
       "      <td>...</td>\n",
       "      <td>0</td>\n",
       "      <td>0</td>\n",
       "      <td>0</td>\n",
       "      <td>0</td>\n",
       "      <td>0</td>\n",
       "      <td>0</td>\n",
       "      <td>0</td>\n",
       "      <td>0</td>\n",
       "      <td>0</td>\n",
       "      <td>0</td>\n",
       "    </tr>\n",
       "    <tr>\n",
       "      <th>2014-12-10</th>\n",
       "      <td>0</td>\n",
       "      <td>0</td>\n",
       "      <td>0</td>\n",
       "      <td>0</td>\n",
       "      <td>0</td>\n",
       "      <td>0</td>\n",
       "      <td>0</td>\n",
       "      <td>0</td>\n",
       "      <td>0</td>\n",
       "      <td>0</td>\n",
       "      <td>...</td>\n",
       "      <td>0</td>\n",
       "      <td>0</td>\n",
       "      <td>0</td>\n",
       "      <td>0</td>\n",
       "      <td>0</td>\n",
       "      <td>0</td>\n",
       "      <td>0</td>\n",
       "      <td>0</td>\n",
       "      <td>0</td>\n",
       "      <td>0</td>\n",
       "    </tr>\n",
       "    <tr>\n",
       "      <th>2014-12-11</th>\n",
       "      <td>0</td>\n",
       "      <td>0</td>\n",
       "      <td>0</td>\n",
       "      <td>0</td>\n",
       "      <td>0</td>\n",
       "      <td>0</td>\n",
       "      <td>0</td>\n",
       "      <td>0</td>\n",
       "      <td>0</td>\n",
       "      <td>0</td>\n",
       "      <td>...</td>\n",
       "      <td>0</td>\n",
       "      <td>0</td>\n",
       "      <td>0</td>\n",
       "      <td>0</td>\n",
       "      <td>0</td>\n",
       "      <td>0</td>\n",
       "      <td>0</td>\n",
       "      <td>0</td>\n",
       "      <td>0</td>\n",
       "      <td>0</td>\n",
       "    </tr>\n",
       "    <tr>\n",
       "      <th>2014-12-12</th>\n",
       "      <td>0</td>\n",
       "      <td>0</td>\n",
       "      <td>0</td>\n",
       "      <td>0</td>\n",
       "      <td>0</td>\n",
       "      <td>0</td>\n",
       "      <td>0</td>\n",
       "      <td>0</td>\n",
       "      <td>0</td>\n",
       "      <td>0</td>\n",
       "      <td>...</td>\n",
       "      <td>0</td>\n",
       "      <td>0</td>\n",
       "      <td>0</td>\n",
       "      <td>0</td>\n",
       "      <td>0</td>\n",
       "      <td>0</td>\n",
       "      <td>0</td>\n",
       "      <td>0</td>\n",
       "      <td>0</td>\n",
       "      <td>0</td>\n",
       "    </tr>\n",
       "    <tr>\n",
       "      <th>2014-12-13</th>\n",
       "      <td>0</td>\n",
       "      <td>0</td>\n",
       "      <td>0</td>\n",
       "      <td>0</td>\n",
       "      <td>0</td>\n",
       "      <td>0</td>\n",
       "      <td>0</td>\n",
       "      <td>0</td>\n",
       "      <td>0</td>\n",
       "      <td>0</td>\n",
       "      <td>...</td>\n",
       "      <td>0</td>\n",
       "      <td>0</td>\n",
       "      <td>0</td>\n",
       "      <td>0</td>\n",
       "      <td>0</td>\n",
       "      <td>0</td>\n",
       "      <td>0</td>\n",
       "      <td>0</td>\n",
       "      <td>0</td>\n",
       "      <td>0</td>\n",
       "    </tr>\n",
       "    <tr>\n",
       "      <th>2014-12-14</th>\n",
       "      <td>0</td>\n",
       "      <td>0</td>\n",
       "      <td>0</td>\n",
       "      <td>0</td>\n",
       "      <td>0</td>\n",
       "      <td>0</td>\n",
       "      <td>0</td>\n",
       "      <td>0</td>\n",
       "      <td>0</td>\n",
       "      <td>0</td>\n",
       "      <td>...</td>\n",
       "      <td>0</td>\n",
       "      <td>0</td>\n",
       "      <td>0</td>\n",
       "      <td>0</td>\n",
       "      <td>0</td>\n",
       "      <td>0</td>\n",
       "      <td>0</td>\n",
       "      <td>0</td>\n",
       "      <td>0</td>\n",
       "      <td>0</td>\n",
       "    </tr>\n",
       "    <tr>\n",
       "      <th>2014-12-15</th>\n",
       "      <td>0</td>\n",
       "      <td>0</td>\n",
       "      <td>0</td>\n",
       "      <td>0</td>\n",
       "      <td>0</td>\n",
       "      <td>0</td>\n",
       "      <td>0</td>\n",
       "      <td>0</td>\n",
       "      <td>0</td>\n",
       "      <td>0</td>\n",
       "      <td>...</td>\n",
       "      <td>0</td>\n",
       "      <td>0</td>\n",
       "      <td>0</td>\n",
       "      <td>0</td>\n",
       "      <td>0</td>\n",
       "      <td>0</td>\n",
       "      <td>0</td>\n",
       "      <td>0</td>\n",
       "      <td>0</td>\n",
       "      <td>0</td>\n",
       "    </tr>\n",
       "    <tr>\n",
       "      <th>2014-12-16</th>\n",
       "      <td>0</td>\n",
       "      <td>0</td>\n",
       "      <td>0</td>\n",
       "      <td>0</td>\n",
       "      <td>0</td>\n",
       "      <td>0</td>\n",
       "      <td>0</td>\n",
       "      <td>0</td>\n",
       "      <td>0</td>\n",
       "      <td>0</td>\n",
       "      <td>...</td>\n",
       "      <td>0</td>\n",
       "      <td>0</td>\n",
       "      <td>0</td>\n",
       "      <td>0</td>\n",
       "      <td>0</td>\n",
       "      <td>0</td>\n",
       "      <td>0</td>\n",
       "      <td>0</td>\n",
       "      <td>0</td>\n",
       "      <td>0</td>\n",
       "    </tr>\n",
       "    <tr>\n",
       "      <th>2014-12-17</th>\n",
       "      <td>0</td>\n",
       "      <td>0</td>\n",
       "      <td>0</td>\n",
       "      <td>0</td>\n",
       "      <td>0</td>\n",
       "      <td>0</td>\n",
       "      <td>0</td>\n",
       "      <td>0</td>\n",
       "      <td>0</td>\n",
       "      <td>0</td>\n",
       "      <td>...</td>\n",
       "      <td>0</td>\n",
       "      <td>0</td>\n",
       "      <td>0</td>\n",
       "      <td>0</td>\n",
       "      <td>0</td>\n",
       "      <td>0</td>\n",
       "      <td>0</td>\n",
       "      <td>0</td>\n",
       "      <td>0</td>\n",
       "      <td>0</td>\n",
       "    </tr>\n",
       "    <tr>\n",
       "      <th>2014-12-18</th>\n",
       "      <td>0</td>\n",
       "      <td>0</td>\n",
       "      <td>0</td>\n",
       "      <td>0</td>\n",
       "      <td>0</td>\n",
       "      <td>0</td>\n",
       "      <td>0</td>\n",
       "      <td>0</td>\n",
       "      <td>0</td>\n",
       "      <td>0</td>\n",
       "      <td>...</td>\n",
       "      <td>0</td>\n",
       "      <td>0</td>\n",
       "      <td>0</td>\n",
       "      <td>0</td>\n",
       "      <td>0</td>\n",
       "      <td>0</td>\n",
       "      <td>0</td>\n",
       "      <td>0</td>\n",
       "      <td>0</td>\n",
       "      <td>0</td>\n",
       "    </tr>\n",
       "    <tr>\n",
       "      <th>2014-12-19</th>\n",
       "      <td>0</td>\n",
       "      <td>0</td>\n",
       "      <td>0</td>\n",
       "      <td>0</td>\n",
       "      <td>0</td>\n",
       "      <td>0</td>\n",
       "      <td>0</td>\n",
       "      <td>0</td>\n",
       "      <td>0</td>\n",
       "      <td>0</td>\n",
       "      <td>...</td>\n",
       "      <td>0</td>\n",
       "      <td>0</td>\n",
       "      <td>0</td>\n",
       "      <td>0</td>\n",
       "      <td>0</td>\n",
       "      <td>0</td>\n",
       "      <td>0</td>\n",
       "      <td>0</td>\n",
       "      <td>0</td>\n",
       "      <td>0</td>\n",
       "    </tr>\n",
       "    <tr>\n",
       "      <th>2014-12-20</th>\n",
       "      <td>0</td>\n",
       "      <td>0</td>\n",
       "      <td>0</td>\n",
       "      <td>0</td>\n",
       "      <td>0</td>\n",
       "      <td>0</td>\n",
       "      <td>0</td>\n",
       "      <td>0</td>\n",
       "      <td>0</td>\n",
       "      <td>0</td>\n",
       "      <td>...</td>\n",
       "      <td>0</td>\n",
       "      <td>0</td>\n",
       "      <td>0</td>\n",
       "      <td>0</td>\n",
       "      <td>0</td>\n",
       "      <td>0</td>\n",
       "      <td>0</td>\n",
       "      <td>0</td>\n",
       "      <td>0</td>\n",
       "      <td>0</td>\n",
       "    </tr>\n",
       "    <tr>\n",
       "      <th>2014-12-21</th>\n",
       "      <td>0</td>\n",
       "      <td>0</td>\n",
       "      <td>0</td>\n",
       "      <td>0</td>\n",
       "      <td>0</td>\n",
       "      <td>0</td>\n",
       "      <td>0</td>\n",
       "      <td>0</td>\n",
       "      <td>0</td>\n",
       "      <td>0</td>\n",
       "      <td>...</td>\n",
       "      <td>0</td>\n",
       "      <td>0</td>\n",
       "      <td>0</td>\n",
       "      <td>0</td>\n",
       "      <td>0</td>\n",
       "      <td>0</td>\n",
       "      <td>0</td>\n",
       "      <td>0</td>\n",
       "      <td>0</td>\n",
       "      <td>0</td>\n",
       "    </tr>\n",
       "    <tr>\n",
       "      <th>2014-12-22</th>\n",
       "      <td>0</td>\n",
       "      <td>0</td>\n",
       "      <td>0</td>\n",
       "      <td>0</td>\n",
       "      <td>0</td>\n",
       "      <td>0</td>\n",
       "      <td>0</td>\n",
       "      <td>0</td>\n",
       "      <td>0</td>\n",
       "      <td>0</td>\n",
       "      <td>...</td>\n",
       "      <td>0</td>\n",
       "      <td>0</td>\n",
       "      <td>0</td>\n",
       "      <td>0</td>\n",
       "      <td>0</td>\n",
       "      <td>0</td>\n",
       "      <td>0</td>\n",
       "      <td>0</td>\n",
       "      <td>0</td>\n",
       "      <td>0</td>\n",
       "    </tr>\n",
       "    <tr>\n",
       "      <th>2014-12-23</th>\n",
       "      <td>0</td>\n",
       "      <td>0</td>\n",
       "      <td>0</td>\n",
       "      <td>0</td>\n",
       "      <td>0</td>\n",
       "      <td>0</td>\n",
       "      <td>0</td>\n",
       "      <td>0</td>\n",
       "      <td>0</td>\n",
       "      <td>0</td>\n",
       "      <td>...</td>\n",
       "      <td>0</td>\n",
       "      <td>0</td>\n",
       "      <td>0</td>\n",
       "      <td>0</td>\n",
       "      <td>0</td>\n",
       "      <td>0</td>\n",
       "      <td>0</td>\n",
       "      <td>0</td>\n",
       "      <td>0</td>\n",
       "      <td>0</td>\n",
       "    </tr>\n",
       "    <tr>\n",
       "      <th>2014-12-24</th>\n",
       "      <td>0</td>\n",
       "      <td>0</td>\n",
       "      <td>0</td>\n",
       "      <td>0</td>\n",
       "      <td>0</td>\n",
       "      <td>0</td>\n",
       "      <td>0</td>\n",
       "      <td>0</td>\n",
       "      <td>0</td>\n",
       "      <td>0</td>\n",
       "      <td>...</td>\n",
       "      <td>0</td>\n",
       "      <td>0</td>\n",
       "      <td>0</td>\n",
       "      <td>0</td>\n",
       "      <td>0</td>\n",
       "      <td>0</td>\n",
       "      <td>0</td>\n",
       "      <td>0</td>\n",
       "      <td>0</td>\n",
       "      <td>0</td>\n",
       "    </tr>\n",
       "    <tr>\n",
       "      <th>2014-12-25</th>\n",
       "      <td>0</td>\n",
       "      <td>0</td>\n",
       "      <td>0</td>\n",
       "      <td>0</td>\n",
       "      <td>0</td>\n",
       "      <td>0</td>\n",
       "      <td>0</td>\n",
       "      <td>0</td>\n",
       "      <td>0</td>\n",
       "      <td>0</td>\n",
       "      <td>...</td>\n",
       "      <td>0</td>\n",
       "      <td>0</td>\n",
       "      <td>0</td>\n",
       "      <td>0</td>\n",
       "      <td>0</td>\n",
       "      <td>0</td>\n",
       "      <td>0</td>\n",
       "      <td>0</td>\n",
       "      <td>0</td>\n",
       "      <td>0</td>\n",
       "    </tr>\n",
       "    <tr>\n",
       "      <th>2014-12-26</th>\n",
       "      <td>0</td>\n",
       "      <td>0</td>\n",
       "      <td>0</td>\n",
       "      <td>0</td>\n",
       "      <td>0</td>\n",
       "      <td>0</td>\n",
       "      <td>0</td>\n",
       "      <td>0</td>\n",
       "      <td>0</td>\n",
       "      <td>0</td>\n",
       "      <td>...</td>\n",
       "      <td>0</td>\n",
       "      <td>0</td>\n",
       "      <td>0</td>\n",
       "      <td>0</td>\n",
       "      <td>0</td>\n",
       "      <td>0</td>\n",
       "      <td>0</td>\n",
       "      <td>0</td>\n",
       "      <td>0</td>\n",
       "      <td>0</td>\n",
       "    </tr>\n",
       "    <tr>\n",
       "      <th>2014-12-27</th>\n",
       "      <td>0</td>\n",
       "      <td>0</td>\n",
       "      <td>0</td>\n",
       "      <td>0</td>\n",
       "      <td>0</td>\n",
       "      <td>0</td>\n",
       "      <td>0</td>\n",
       "      <td>0</td>\n",
       "      <td>0</td>\n",
       "      <td>0</td>\n",
       "      <td>...</td>\n",
       "      <td>0</td>\n",
       "      <td>0</td>\n",
       "      <td>0</td>\n",
       "      <td>0</td>\n",
       "      <td>0</td>\n",
       "      <td>0</td>\n",
       "      <td>0</td>\n",
       "      <td>0</td>\n",
       "      <td>0</td>\n",
       "      <td>0</td>\n",
       "    </tr>\n",
       "    <tr>\n",
       "      <th>2014-12-28</th>\n",
       "      <td>0</td>\n",
       "      <td>0</td>\n",
       "      <td>0</td>\n",
       "      <td>0</td>\n",
       "      <td>0</td>\n",
       "      <td>0</td>\n",
       "      <td>0</td>\n",
       "      <td>0</td>\n",
       "      <td>0</td>\n",
       "      <td>0</td>\n",
       "      <td>...</td>\n",
       "      <td>0</td>\n",
       "      <td>0</td>\n",
       "      <td>0</td>\n",
       "      <td>0</td>\n",
       "      <td>0</td>\n",
       "      <td>0</td>\n",
       "      <td>0</td>\n",
       "      <td>0</td>\n",
       "      <td>0</td>\n",
       "      <td>0</td>\n",
       "    </tr>\n",
       "    <tr>\n",
       "      <th>2014-12-29</th>\n",
       "      <td>0</td>\n",
       "      <td>0</td>\n",
       "      <td>0</td>\n",
       "      <td>0</td>\n",
       "      <td>0</td>\n",
       "      <td>0</td>\n",
       "      <td>0</td>\n",
       "      <td>0</td>\n",
       "      <td>0</td>\n",
       "      <td>0</td>\n",
       "      <td>...</td>\n",
       "      <td>0</td>\n",
       "      <td>0</td>\n",
       "      <td>0</td>\n",
       "      <td>0</td>\n",
       "      <td>0</td>\n",
       "      <td>0</td>\n",
       "      <td>0</td>\n",
       "      <td>0</td>\n",
       "      <td>0</td>\n",
       "      <td>0</td>\n",
       "    </tr>\n",
       "    <tr>\n",
       "      <th>2014-12-30</th>\n",
       "      <td>0</td>\n",
       "      <td>0</td>\n",
       "      <td>0</td>\n",
       "      <td>0</td>\n",
       "      <td>0</td>\n",
       "      <td>0</td>\n",
       "      <td>0</td>\n",
       "      <td>0</td>\n",
       "      <td>0</td>\n",
       "      <td>0</td>\n",
       "      <td>...</td>\n",
       "      <td>0</td>\n",
       "      <td>0</td>\n",
       "      <td>0</td>\n",
       "      <td>0</td>\n",
       "      <td>0</td>\n",
       "      <td>0</td>\n",
       "      <td>0</td>\n",
       "      <td>0</td>\n",
       "      <td>0</td>\n",
       "      <td>0</td>\n",
       "    </tr>\n",
       "    <tr>\n",
       "      <th>2014-12-31</th>\n",
       "      <td>0</td>\n",
       "      <td>0</td>\n",
       "      <td>0</td>\n",
       "      <td>0</td>\n",
       "      <td>0</td>\n",
       "      <td>0</td>\n",
       "      <td>0</td>\n",
       "      <td>0</td>\n",
       "      <td>0</td>\n",
       "      <td>0</td>\n",
       "      <td>...</td>\n",
       "      <td>0</td>\n",
       "      <td>0</td>\n",
       "      <td>0</td>\n",
       "      <td>0</td>\n",
       "      <td>0</td>\n",
       "      <td>0</td>\n",
       "      <td>0</td>\n",
       "      <td>0</td>\n",
       "      <td>0</td>\n",
       "      <td>0</td>\n",
       "    </tr>\n",
       "  </tbody>\n",
       "</table>\n",
       "<p>9855 rows × 676 columns</p>\n",
       "</div>"
      ],
      "text/plain": [
       "                       medo  ataque  armar  emboscada  interrogatório  \\\n",
       "city      date                                                          \n",
       "Acre       2014-01-01     0       0      0          0               0   \n",
       "           2014-01-02     0       0      0          0               0   \n",
       "           2014-01-03     0       0      0          0               0   \n",
       "           2014-01-04     0       0      0          0               0   \n",
       "           2014-01-05     0       0      0          0               0   \n",
       "           2014-01-06     0       0      0          0               0   \n",
       "           2014-01-07     0       0      0          0               0   \n",
       "           2014-01-08     0       0      0          0               0   \n",
       "           2014-01-09     0       0      0          0               0   \n",
       "           2014-01-10     0       0      0          0               0   \n",
       "           2014-01-11     0       0      0          0               0   \n",
       "           2014-01-12     0       0      0          0               0   \n",
       "           2014-01-13     0       0      0          0               0   \n",
       "           2014-01-14     0       0      0          0               0   \n",
       "           2014-01-15     0       0      0          0               0   \n",
       "           2014-01-16     0       0      0          0               0   \n",
       "           2014-01-17     0       0      0          0               0   \n",
       "           2014-01-18     0       0      0          0               0   \n",
       "           2014-01-19     0       0      0          0               0   \n",
       "           2014-01-20     0       0      0          0               0   \n",
       "           2014-01-21     0       0      0          0               0   \n",
       "           2014-01-22     0       0      0          0               0   \n",
       "           2014-01-23     0       0      0          0               0   \n",
       "           2014-01-24     0       0      0          0               0   \n",
       "           2014-01-25     0       0      0          0               0   \n",
       "           2014-01-26     0       0      0          0               0   \n",
       "           2014-01-27     0       0      0          0               0   \n",
       "           2014-01-28     0       0      0          0               0   \n",
       "           2014-01-29     0       0      0          0               0   \n",
       "           2014-01-30     0       0      0          0               0   \n",
       "...                     ...     ...    ...        ...             ...   \n",
       "Tocantins  2014-12-02     0       0      0          0               0   \n",
       "           2014-12-03     0       0      0          0               0   \n",
       "           2014-12-04     0       0      0          0               0   \n",
       "           2014-12-05     0       0      0          0               0   \n",
       "           2014-12-06     0       0      0          0               0   \n",
       "           2014-12-07     0       0      0          0               0   \n",
       "           2014-12-08     0       0      0          0               0   \n",
       "           2014-12-09     0       0      0          0               0   \n",
       "           2014-12-10     0       0      0          0               0   \n",
       "           2014-12-11     0       0      0          0               0   \n",
       "           2014-12-12     0       0      0          0               0   \n",
       "           2014-12-13     0       0      0          0               0   \n",
       "           2014-12-14     0       0      0          0               0   \n",
       "           2014-12-15     0       0      0          0               0   \n",
       "           2014-12-16     0       0      0          0               0   \n",
       "           2014-12-17     0       0      0          0               0   \n",
       "           2014-12-18     0       0      0          0               0   \n",
       "           2014-12-19     0       0      0          0               0   \n",
       "           2014-12-20     0       0      0          0               0   \n",
       "           2014-12-21     0       0      0          0               0   \n",
       "           2014-12-22     0       0      0          0               0   \n",
       "           2014-12-23     0       0      0          0               0   \n",
       "           2014-12-24     0       0      0          0               0   \n",
       "           2014-12-25     0       0      0          0               0   \n",
       "           2014-12-26     0       0      0          0               0   \n",
       "           2014-12-27     0       0      0          0               0   \n",
       "           2014-12-28     0       0      0          0               0   \n",
       "           2014-12-29     0       0      0          0               0   \n",
       "           2014-12-30     0       0      0          0               0   \n",
       "           2014-12-31     0       0      0          0               0   \n",
       "\n",
       "                       recrudescência  violência_de_rua  kadiweus  essencial  \\\n",
       "city      date                                                                 \n",
       "Acre       2014-01-01               0                 0         0          0   \n",
       "           2014-01-02               0                 0         0          0   \n",
       "           2014-01-03               0                 0         0          0   \n",
       "           2014-01-04               0                 0         0          0   \n",
       "           2014-01-05               0                 0         0          0   \n",
       "           2014-01-06               0                 0         0          0   \n",
       "           2014-01-07               0                 0         0          0   \n",
       "           2014-01-08               0                 0         0          0   \n",
       "           2014-01-09               0                 0         0          0   \n",
       "           2014-01-10               0                 0         0          0   \n",
       "           2014-01-11               0                 0         0          0   \n",
       "           2014-01-12               0                 0         0          0   \n",
       "           2014-01-13               0                 0         0          0   \n",
       "           2014-01-14               0                 0         0          0   \n",
       "           2014-01-15               0                 0         0          0   \n",
       "           2014-01-16               0                 0         0          0   \n",
       "           2014-01-17               0                 0         0          0   \n",
       "           2014-01-18               0                 0         0          0   \n",
       "           2014-01-19               0                 0         0          0   \n",
       "           2014-01-20               0                 0         0          0   \n",
       "           2014-01-21               0                 0         0          0   \n",
       "           2014-01-22               0                 0         0          0   \n",
       "           2014-01-23               0                 0         0          0   \n",
       "           2014-01-24               0                 0         0          0   \n",
       "           2014-01-25               0                 0         0          0   \n",
       "           2014-01-26               0                 0         0          0   \n",
       "           2014-01-27               0                 0         0          0   \n",
       "           2014-01-28               0                 0         0          0   \n",
       "           2014-01-29               0                 0         0          0   \n",
       "           2014-01-30               0                 0         0          0   \n",
       "...                               ...               ...       ...        ...   \n",
       "Tocantins  2014-12-02               0                 0         0          0   \n",
       "           2014-12-03               0                 0         0          0   \n",
       "           2014-12-04               0                 0         0          0   \n",
       "           2014-12-05               0                 0         0          0   \n",
       "           2014-12-06               0                 0         0          0   \n",
       "           2014-12-07               0                 0         0          0   \n",
       "           2014-12-08               0                 0         0          0   \n",
       "           2014-12-09               0                 0         0          0   \n",
       "           2014-12-10               0                 0         0          0   \n",
       "           2014-12-11               0                 0         0          0   \n",
       "           2014-12-12               0                 0         0          0   \n",
       "           2014-12-13               0                 0         0          0   \n",
       "           2014-12-14               0                 0         0          0   \n",
       "           2014-12-15               0                 0         0          0   \n",
       "           2014-12-16               0                 0         0          0   \n",
       "           2014-12-17               0                 0         0          0   \n",
       "           2014-12-18               0                 0         0          0   \n",
       "           2014-12-19               0                 0         0          0   \n",
       "           2014-12-20               0                 0         0          0   \n",
       "           2014-12-21               0                 0         0          0   \n",
       "           2014-12-22               0                 0         0          0   \n",
       "           2014-12-23               0                 0         0          0   \n",
       "           2014-12-24               0                 0         0          0   \n",
       "           2014-12-25               0                 0         0          0   \n",
       "           2014-12-26               0                 0         0          0   \n",
       "           2014-12-27               0                 0         0          0   \n",
       "           2014-12-28               0                 0         0          0   \n",
       "           2014-12-29               0                 0         0          0   \n",
       "           2014-12-30               0                 0         0          0   \n",
       "           2014-12-31               0                 0         0          0   \n",
       "\n",
       "                       cooperativa          ...           intimidar  guarani  \\\n",
       "city      date                              ...                                \n",
       "Acre       2014-01-01            0          ...                   0        0   \n",
       "           2014-01-02            0          ...                   0        0   \n",
       "           2014-01-03            0          ...                   0        0   \n",
       "           2014-01-04            0          ...                   0        0   \n",
       "           2014-01-05            0          ...                   0        0   \n",
       "           2014-01-06            0          ...                   0        0   \n",
       "           2014-01-07            0          ...                   0        0   \n",
       "           2014-01-08            0          ...                   0        0   \n",
       "           2014-01-09            0          ...                   0        0   \n",
       "           2014-01-10            0          ...                   0        0   \n",
       "           2014-01-11            0          ...                   0        0   \n",
       "           2014-01-12            0          ...                   0        0   \n",
       "           2014-01-13            0          ...                   0        0   \n",
       "           2014-01-14            0          ...                   0        0   \n",
       "           2014-01-15            0          ...                   0        0   \n",
       "           2014-01-16            0          ...                   0        0   \n",
       "           2014-01-17            0          ...                   0        0   \n",
       "           2014-01-18            0          ...                   0        0   \n",
       "           2014-01-19            0          ...                   0        0   \n",
       "           2014-01-20            0          ...                   0        0   \n",
       "           2014-01-21            0          ...                   0        0   \n",
       "           2014-01-22            0          ...                   0        0   \n",
       "           2014-01-23            0          ...                   0        0   \n",
       "           2014-01-24            0          ...                   0        0   \n",
       "           2014-01-25            0          ...                   0        0   \n",
       "           2014-01-26            0          ...                   0        0   \n",
       "           2014-01-27            0          ...                   0        0   \n",
       "           2014-01-28            0          ...                   0        0   \n",
       "           2014-01-29            0          ...                   0        0   \n",
       "           2014-01-30            0          ...                   0        0   \n",
       "...                            ...          ...                 ...      ...   \n",
       "Tocantins  2014-12-02            0          ...                   0        0   \n",
       "           2014-12-03            0          ...                   0        0   \n",
       "           2014-12-04            0          ...                   0        0   \n",
       "           2014-12-05            0          ...                   0        0   \n",
       "           2014-12-06            0          ...                   0        0   \n",
       "           2014-12-07            0          ...                   0        0   \n",
       "           2014-12-08            0          ...                   0        0   \n",
       "           2014-12-09            0          ...                   0        0   \n",
       "           2014-12-10            0          ...                   0        0   \n",
       "           2014-12-11            0          ...                   0        0   \n",
       "           2014-12-12            0          ...                   0        0   \n",
       "           2014-12-13            0          ...                   0        0   \n",
       "           2014-12-14            0          ...                   0        0   \n",
       "           2014-12-15            0          ...                   0        0   \n",
       "           2014-12-16            0          ...                   0        0   \n",
       "           2014-12-17            0          ...                   0        0   \n",
       "           2014-12-18            0          ...                   0        0   \n",
       "           2014-12-19            0          ...                   0        0   \n",
       "           2014-12-20            0          ...                   0        0   \n",
       "           2014-12-21            0          ...                   0        0   \n",
       "           2014-12-22            0          ...                   0        0   \n",
       "           2014-12-23            0          ...                   0        0   \n",
       "           2014-12-24            0          ...                   0        0   \n",
       "           2014-12-25            0          ...                   0        0   \n",
       "           2014-12-26            0          ...                   0        0   \n",
       "           2014-12-27            0          ...                   0        0   \n",
       "           2014-12-28            0          ...                   0        0   \n",
       "           2014-12-29            0          ...                   0        0   \n",
       "           2014-12-30            0          ...                   0        0   \n",
       "           2014-12-31            0          ...                   0        0   \n",
       "\n",
       "                       vigília  perseguição  perigo  desgosto  promotor  \\\n",
       "city      date                                                            \n",
       "Acre       2014-01-01        0            0       0         0         0   \n",
       "           2014-01-02        0            0       0         0         0   \n",
       "           2014-01-03        0            0       0         0         0   \n",
       "           2014-01-04        0            0       0         0         0   \n",
       "           2014-01-05        0            0       0         0         0   \n",
       "           2014-01-06        0            0       0         0         0   \n",
       "           2014-01-07        0            0       0         0         0   \n",
       "           2014-01-08        0            0       0         0         0   \n",
       "           2014-01-09        0            0       0         0         0   \n",
       "           2014-01-10        0            0       0         0         0   \n",
       "           2014-01-11        0            0       0         0         0   \n",
       "           2014-01-12        0            0       0         0         0   \n",
       "           2014-01-13        0            0       0         0         0   \n",
       "           2014-01-14        0            0       0         0         0   \n",
       "           2014-01-15        0            0       0         0         0   \n",
       "           2014-01-16        0            0       0         0         0   \n",
       "           2014-01-17        0            0       0         0         0   \n",
       "           2014-01-18        0            0       0         0         0   \n",
       "           2014-01-19        0            0       0         0         0   \n",
       "           2014-01-20        0            0       0         0         0   \n",
       "           2014-01-21        0            0       0         0         0   \n",
       "           2014-01-22        0            0       0         0         0   \n",
       "           2014-01-23        0            0       0         0         0   \n",
       "           2014-01-24        0            0       0         0         0   \n",
       "           2014-01-25        0            0       0         0         0   \n",
       "           2014-01-26        0            0       0         0         0   \n",
       "           2014-01-27        0            0       0         0         0   \n",
       "           2014-01-28        0            0       0         0         0   \n",
       "           2014-01-29        0            0       0         0         0   \n",
       "           2014-01-30        0            0       0         0         0   \n",
       "...                        ...          ...     ...       ...       ...   \n",
       "Tocantins  2014-12-02        0            0       0         0         0   \n",
       "           2014-12-03        0            0       0         0         0   \n",
       "           2014-12-04        0            0       0         0         0   \n",
       "           2014-12-05        0            0       0         0         0   \n",
       "           2014-12-06        0            0       0         0         0   \n",
       "           2014-12-07        0            0       0         0         0   \n",
       "           2014-12-08        0            0       0         0         0   \n",
       "           2014-12-09        0            0       0         0         0   \n",
       "           2014-12-10        0            0       0         0         0   \n",
       "           2014-12-11        0            0       0         0         0   \n",
       "           2014-12-12        0            0       0         0         0   \n",
       "           2014-12-13        0            0       0         0         0   \n",
       "           2014-12-14        0            0       0         0         0   \n",
       "           2014-12-15        0            0       0         0         0   \n",
       "           2014-12-16        0            0       0         0         0   \n",
       "           2014-12-17        0            0       0         0         0   \n",
       "           2014-12-18        0            0       0         0         0   \n",
       "           2014-12-19        0            0       0         0         0   \n",
       "           2014-12-20        0            0       0         0         0   \n",
       "           2014-12-21        0            0       0         0         0   \n",
       "           2014-12-22        0            0       0         0         0   \n",
       "           2014-12-23        0            0       0         0         0   \n",
       "           2014-12-24        0            0       0         0         0   \n",
       "           2014-12-25        0            0       0         0         0   \n",
       "           2014-12-26        0            0       0         0         0   \n",
       "           2014-12-27        0            0       0         0         0   \n",
       "           2014-12-28        0            0       0         0         0   \n",
       "           2014-12-29        0            0       0         0         0   \n",
       "           2014-12-30        0            0       0         0         0   \n",
       "           2014-12-31        0            0       0         0         0   \n",
       "\n",
       "                       rural  manter  conflito_territorial  \n",
       "city      date                                              \n",
       "Acre       2014-01-01      0       0                     0  \n",
       "           2014-01-02      0       0                     0  \n",
       "           2014-01-03      0       0                     0  \n",
       "           2014-01-04      0       0                     0  \n",
       "           2014-01-05      0       0                     0  \n",
       "           2014-01-06      0       0                     0  \n",
       "           2014-01-07      0       0                     0  \n",
       "           2014-01-08      0       0                     0  \n",
       "           2014-01-09      0       0                     0  \n",
       "           2014-01-10      0       0                     0  \n",
       "           2014-01-11      0       0                     0  \n",
       "           2014-01-12      0       0                     0  \n",
       "           2014-01-13      0       0                     0  \n",
       "           2014-01-14      0       0                     0  \n",
       "           2014-01-15      0       0                     0  \n",
       "           2014-01-16      0       0                     0  \n",
       "           2014-01-17      0       0                     0  \n",
       "           2014-01-18      0       0                     0  \n",
       "           2014-01-19      0       0                     0  \n",
       "           2014-01-20      0       0                     0  \n",
       "           2014-01-21      0       0                     0  \n",
       "           2014-01-22      0       0                     0  \n",
       "           2014-01-23      0       0                     0  \n",
       "           2014-01-24      0       0                     0  \n",
       "           2014-01-25      0       0                     0  \n",
       "           2014-01-26      0       0                     0  \n",
       "           2014-01-27      0       0                     0  \n",
       "           2014-01-28      0       0                     0  \n",
       "           2014-01-29      0       0                     0  \n",
       "           2014-01-30      0       0                     0  \n",
       "...                      ...     ...                   ...  \n",
       "Tocantins  2014-12-02      0       0                     0  \n",
       "           2014-12-03      0       0                     0  \n",
       "           2014-12-04      0       0                     0  \n",
       "           2014-12-05      0       0                     0  \n",
       "           2014-12-06      0       0                     0  \n",
       "           2014-12-07      0       0                     0  \n",
       "           2014-12-08      0       0                     0  \n",
       "           2014-12-09      0       0                     0  \n",
       "           2014-12-10      0       0                     0  \n",
       "           2014-12-11      0       0                     0  \n",
       "           2014-12-12      0       0                     0  \n",
       "           2014-12-13      0       0                     0  \n",
       "           2014-12-14      0       0                     0  \n",
       "           2014-12-15      0       0                     0  \n",
       "           2014-12-16      0       0                     0  \n",
       "           2014-12-17      0       0                     0  \n",
       "           2014-12-18      0       0                     0  \n",
       "           2014-12-19      0       0                     0  \n",
       "           2014-12-20      0       0                     0  \n",
       "           2014-12-21      0       0                     0  \n",
       "           2014-12-22      0       0                     0  \n",
       "           2014-12-23      0       0                     0  \n",
       "           2014-12-24      0       0                     0  \n",
       "           2014-12-25      0       0                     0  \n",
       "           2014-12-26      0       0                     0  \n",
       "           2014-12-27      0       0                     0  \n",
       "           2014-12-28      0       0                     0  \n",
       "           2014-12-29      0       0                     0  \n",
       "           2014-12-30      0       0                     0  \n",
       "           2014-12-31      0       0                     0  \n",
       "\n",
       "[9855 rows x 676 columns]"
      ]
     },
     "execution_count": 46,
     "metadata": {},
     "output_type": "execute_result"
    }
   ],
   "source": [
    "X1"
   ]
  },
  {
   "cell_type": "code",
   "execution_count": 47,
   "metadata": {
    "collapsed": false
   },
   "outputs": [
    {
     "ename": "MemoryError",
     "evalue": "",
     "output_type": "error",
     "traceback": [
      "\u001b[1;31m---------------------------------------------------------------------------\u001b[0m",
      "\u001b[1;31mMemoryError\u001b[0m                               Traceback (most recent call last)",
      "\u001b[1;32m<ipython-input-47-1191310c5752>\u001b[0m in \u001b[0;36m<module>\u001b[1;34m()\u001b[0m\n\u001b[1;32m----> 1\u001b[1;33m \u001b[0mX1\u001b[0m\u001b[1;33m.\u001b[0m\u001b[0mmerge\u001b[0m\u001b[1;33m(\u001b[0m\u001b[0mX2\u001b[0m\u001b[1;33m)\u001b[0m\u001b[1;33m\u001b[0m\u001b[0m\n\u001b[0m",
      "\u001b[1;32mC:\\Anaconda2\\lib\\site-packages\\pandas\\core\\frame.pyc\u001b[0m in \u001b[0;36mmerge\u001b[1;34m(self, right, how, on, left_on, right_on, left_index, right_index, sort, suffixes, copy, indicator)\u001b[0m\n\u001b[0;32m   4328\u001b[0m                      \u001b[0mleft_on\u001b[0m\u001b[1;33m=\u001b[0m\u001b[0mleft_on\u001b[0m\u001b[1;33m,\u001b[0m \u001b[0mright_on\u001b[0m\u001b[1;33m=\u001b[0m\u001b[0mright_on\u001b[0m\u001b[1;33m,\u001b[0m\u001b[1;33m\u001b[0m\u001b[0m\n\u001b[0;32m   4329\u001b[0m                      \u001b[0mleft_index\u001b[0m\u001b[1;33m=\u001b[0m\u001b[0mleft_index\u001b[0m\u001b[1;33m,\u001b[0m \u001b[0mright_index\u001b[0m\u001b[1;33m=\u001b[0m\u001b[0mright_index\u001b[0m\u001b[1;33m,\u001b[0m \u001b[0msort\u001b[0m\u001b[1;33m=\u001b[0m\u001b[0msort\u001b[0m\u001b[1;33m,\u001b[0m\u001b[1;33m\u001b[0m\u001b[0m\n\u001b[1;32m-> 4330\u001b[1;33m                      suffixes=suffixes, copy=copy, indicator=indicator)\n\u001b[0m\u001b[0;32m   4331\u001b[0m \u001b[1;33m\u001b[0m\u001b[0m\n\u001b[0;32m   4332\u001b[0m     \u001b[1;32mdef\u001b[0m \u001b[0mround\u001b[0m\u001b[1;33m(\u001b[0m\u001b[0mself\u001b[0m\u001b[1;33m,\u001b[0m \u001b[0mdecimals\u001b[0m\u001b[1;33m=\u001b[0m\u001b[1;36m0\u001b[0m\u001b[1;33m,\u001b[0m \u001b[0mout\u001b[0m\u001b[1;33m=\u001b[0m\u001b[0mNone\u001b[0m\u001b[1;33m)\u001b[0m\u001b[1;33m:\u001b[0m\u001b[1;33m\u001b[0m\u001b[0m\n",
      "\u001b[1;32mC:\\Anaconda2\\lib\\site-packages\\pandas\\tools\\merge.pyc\u001b[0m in \u001b[0;36mmerge\u001b[1;34m(left, right, how, on, left_on, right_on, left_index, right_index, sort, suffixes, copy, indicator)\u001b[0m\n\u001b[0;32m     33\u001b[0m                          \u001b[0mright_index\u001b[0m\u001b[1;33m=\u001b[0m\u001b[0mright_index\u001b[0m\u001b[1;33m,\u001b[0m \u001b[0msort\u001b[0m\u001b[1;33m=\u001b[0m\u001b[0msort\u001b[0m\u001b[1;33m,\u001b[0m \u001b[0msuffixes\u001b[0m\u001b[1;33m=\u001b[0m\u001b[0msuffixes\u001b[0m\u001b[1;33m,\u001b[0m\u001b[1;33m\u001b[0m\u001b[0m\n\u001b[0;32m     34\u001b[0m                          copy=copy, indicator=indicator)\n\u001b[1;32m---> 35\u001b[1;33m     \u001b[1;32mreturn\u001b[0m \u001b[0mop\u001b[0m\u001b[1;33m.\u001b[0m\u001b[0mget_result\u001b[0m\u001b[1;33m(\u001b[0m\u001b[1;33m)\u001b[0m\u001b[1;33m\u001b[0m\u001b[0m\n\u001b[0m\u001b[0;32m     36\u001b[0m \u001b[1;32mif\u001b[0m \u001b[0m__debug__\u001b[0m\u001b[1;33m:\u001b[0m\u001b[1;33m\u001b[0m\u001b[0m\n\u001b[0;32m     37\u001b[0m     \u001b[0mmerge\u001b[0m\u001b[1;33m.\u001b[0m\u001b[0m__doc__\u001b[0m \u001b[1;33m=\u001b[0m \u001b[0m_merge_doc\u001b[0m \u001b[1;33m%\u001b[0m \u001b[1;34m'\\nleft : DataFrame'\u001b[0m\u001b[1;33m\u001b[0m\u001b[0m\n",
      "\u001b[1;32mC:\\Anaconda2\\lib\\site-packages\\pandas\\tools\\merge.pyc\u001b[0m in \u001b[0;36mget_result\u001b[1;34m(self)\u001b[0m\n\u001b[0;32m    208\u001b[0m             \u001b[1;33m[\u001b[0m\u001b[1;33m(\u001b[0m\u001b[0mldata\u001b[0m\u001b[1;33m,\u001b[0m \u001b[0mlindexers\u001b[0m\u001b[1;33m)\u001b[0m\u001b[1;33m,\u001b[0m \u001b[1;33m(\u001b[0m\u001b[0mrdata\u001b[0m\u001b[1;33m,\u001b[0m \u001b[0mrindexers\u001b[0m\u001b[1;33m)\u001b[0m\u001b[1;33m]\u001b[0m\u001b[1;33m,\u001b[0m\u001b[1;33m\u001b[0m\u001b[0m\n\u001b[0;32m    209\u001b[0m             \u001b[0maxes\u001b[0m\u001b[1;33m=\u001b[0m\u001b[1;33m[\u001b[0m\u001b[0mllabels\u001b[0m\u001b[1;33m.\u001b[0m\u001b[0mappend\u001b[0m\u001b[1;33m(\u001b[0m\u001b[0mrlabels\u001b[0m\u001b[1;33m)\u001b[0m\u001b[1;33m,\u001b[0m \u001b[0mjoin_index\u001b[0m\u001b[1;33m]\u001b[0m\u001b[1;33m,\u001b[0m\u001b[1;33m\u001b[0m\u001b[0m\n\u001b[1;32m--> 210\u001b[1;33m             concat_axis=0, copy=self.copy)\n\u001b[0m\u001b[0;32m    211\u001b[0m \u001b[1;33m\u001b[0m\u001b[0m\n\u001b[0;32m    212\u001b[0m         \u001b[0mtyp\u001b[0m \u001b[1;33m=\u001b[0m \u001b[0mself\u001b[0m\u001b[1;33m.\u001b[0m\u001b[0mleft\u001b[0m\u001b[1;33m.\u001b[0m\u001b[0m_constructor\u001b[0m\u001b[1;33m\u001b[0m\u001b[0m\n",
      "\u001b[1;32mC:\\Anaconda2\\lib\\site-packages\\pandas\\core\\internals.pyc\u001b[0m in \u001b[0;36mconcatenate_block_managers\u001b[1;34m(mgrs_indexers, axes, concat_axis, copy)\u001b[0m\n\u001b[0;32m   4454\u001b[0m                                                 copy=copy),\n\u001b[0;32m   4455\u001b[0m                          placement=placement)\n\u001b[1;32m-> 4456\u001b[1;33m               for placement, join_units in concat_plan]\n\u001b[0m\u001b[0;32m   4457\u001b[0m \u001b[1;33m\u001b[0m\u001b[0m\n\u001b[0;32m   4458\u001b[0m     \u001b[1;32mreturn\u001b[0m \u001b[0mBlockManager\u001b[0m\u001b[1;33m(\u001b[0m\u001b[0mblocks\u001b[0m\u001b[1;33m,\u001b[0m \u001b[0maxes\u001b[0m\u001b[1;33m)\u001b[0m\u001b[1;33m\u001b[0m\u001b[0m\n",
      "\u001b[1;32mC:\\Anaconda2\\lib\\site-packages\\pandas\\core\\internals.pyc\u001b[0m in \u001b[0;36mconcatenate_join_units\u001b[1;34m(join_units, concat_axis, copy)\u001b[0m\n\u001b[0;32m   4551\u001b[0m     to_concat = [ju.get_reindexed_values(empty_dtype=empty_dtype,\n\u001b[0;32m   4552\u001b[0m                                          upcasted_na=upcasted_na)\n\u001b[1;32m-> 4553\u001b[1;33m                  for ju in join_units]\n\u001b[0m\u001b[0;32m   4554\u001b[0m \u001b[1;33m\u001b[0m\u001b[0m\n\u001b[0;32m   4555\u001b[0m     \u001b[1;32mif\u001b[0m \u001b[0mlen\u001b[0m\u001b[1;33m(\u001b[0m\u001b[0mto_concat\u001b[0m\u001b[1;33m)\u001b[0m \u001b[1;33m==\u001b[0m \u001b[1;36m1\u001b[0m\u001b[1;33m:\u001b[0m\u001b[1;33m\u001b[0m\u001b[0m\n",
      "\u001b[1;32mC:\\Anaconda2\\lib\\site-packages\\pandas\\core\\internals.pyc\u001b[0m in \u001b[0;36mget_reindexed_values\u001b[1;34m(self, empty_dtype, upcasted_na)\u001b[0m\n\u001b[0;32m   4836\u001b[0m             \u001b[1;32mfor\u001b[0m \u001b[0max\u001b[0m\u001b[1;33m,\u001b[0m \u001b[0mindexer\u001b[0m \u001b[1;32min\u001b[0m \u001b[0mself\u001b[0m\u001b[1;33m.\u001b[0m\u001b[0mindexers\u001b[0m\u001b[1;33m.\u001b[0m\u001b[0mitems\u001b[0m\u001b[1;33m(\u001b[0m\u001b[1;33m)\u001b[0m\u001b[1;33m:\u001b[0m\u001b[1;33m\u001b[0m\u001b[0m\n\u001b[0;32m   4837\u001b[0m                 values = com.take_nd(values, indexer, axis=ax,\n\u001b[1;32m-> 4838\u001b[1;33m                                      fill_value=fill_value)\n\u001b[0m\u001b[0;32m   4839\u001b[0m \u001b[1;33m\u001b[0m\u001b[0m\n\u001b[0;32m   4840\u001b[0m         \u001b[1;32mreturn\u001b[0m \u001b[0mvalues\u001b[0m\u001b[1;33m\u001b[0m\u001b[0m\n",
      "\u001b[1;32mC:\\Anaconda2\\lib\\site-packages\\pandas\\core\\common.pyc\u001b[0m in \u001b[0;36mtake_nd\u001b[1;34m(arr, indexer, axis, out, fill_value, mask_info, allow_fill)\u001b[0m\n\u001b[0;32m    785\u001b[0m             \u001b[0mout\u001b[0m \u001b[1;33m=\u001b[0m \u001b[0mnp\u001b[0m\u001b[1;33m.\u001b[0m\u001b[0mempty\u001b[0m\u001b[1;33m(\u001b[0m\u001b[0mout_shape\u001b[0m\u001b[1;33m,\u001b[0m \u001b[0mdtype\u001b[0m\u001b[1;33m=\u001b[0m\u001b[0mdtype\u001b[0m\u001b[1;33m,\u001b[0m \u001b[0morder\u001b[0m\u001b[1;33m=\u001b[0m\u001b[1;34m'F'\u001b[0m\u001b[1;33m)\u001b[0m\u001b[1;33m\u001b[0m\u001b[0m\n\u001b[0;32m    786\u001b[0m         \u001b[1;32melse\u001b[0m\u001b[1;33m:\u001b[0m\u001b[1;33m\u001b[0m\u001b[0m\n\u001b[1;32m--> 787\u001b[1;33m             \u001b[0mout\u001b[0m \u001b[1;33m=\u001b[0m \u001b[0mnp\u001b[0m\u001b[1;33m.\u001b[0m\u001b[0mempty\u001b[0m\u001b[1;33m(\u001b[0m\u001b[0mout_shape\u001b[0m\u001b[1;33m,\u001b[0m \u001b[0mdtype\u001b[0m\u001b[1;33m=\u001b[0m\u001b[0mdtype\u001b[0m\u001b[1;33m)\u001b[0m\u001b[1;33m\u001b[0m\u001b[0m\n\u001b[0m\u001b[0;32m    788\u001b[0m \u001b[1;33m\u001b[0m\u001b[0m\n\u001b[0;32m    789\u001b[0m     func = _get_take_nd_function(arr.ndim, arr.dtype, out.dtype,\n",
      "\u001b[1;31mMemoryError\u001b[0m: "
     ]
    }
   ],
   "source": [
    "X1.merge(X2)"
   ]
  },
  {
   "cell_type": "code",
   "execution_count": 48,
   "metadata": {
    "collapsed": false
   },
   "outputs": [
    {
     "ename": "MemoryError",
     "evalue": "",
     "output_type": "error",
     "traceback": [
      "\u001b[1;31m---------------------------------------------------------------------------\u001b[0m",
      "\u001b[1;31mMemoryError\u001b[0m                               Traceback (most recent call last)",
      "\u001b[1;32m<ipython-input-48-1a8ab74bf1eb>\u001b[0m in \u001b[0;36m<module>\u001b[1;34m()\u001b[0m\n\u001b[1;32m----> 1\u001b[1;33m \u001b[0mX1\u001b[0m\u001b[1;33m.\u001b[0m\u001b[0mmerge\u001b[0m\u001b[1;33m(\u001b[0m\u001b[0mX2\u001b[0m\u001b[1;33m,\u001b[0m \u001b[0mhow\u001b[0m \u001b[1;33m=\u001b[0m \u001b[1;34m'left'\u001b[0m\u001b[1;33m)\u001b[0m\u001b[1;33m\u001b[0m\u001b[0m\n\u001b[0m",
      "\u001b[1;32mC:\\Anaconda2\\lib\\site-packages\\pandas\\core\\frame.pyc\u001b[0m in \u001b[0;36mmerge\u001b[1;34m(self, right, how, on, left_on, right_on, left_index, right_index, sort, suffixes, copy, indicator)\u001b[0m\n\u001b[0;32m   4328\u001b[0m                      \u001b[0mleft_on\u001b[0m\u001b[1;33m=\u001b[0m\u001b[0mleft_on\u001b[0m\u001b[1;33m,\u001b[0m \u001b[0mright_on\u001b[0m\u001b[1;33m=\u001b[0m\u001b[0mright_on\u001b[0m\u001b[1;33m,\u001b[0m\u001b[1;33m\u001b[0m\u001b[0m\n\u001b[0;32m   4329\u001b[0m                      \u001b[0mleft_index\u001b[0m\u001b[1;33m=\u001b[0m\u001b[0mleft_index\u001b[0m\u001b[1;33m,\u001b[0m \u001b[0mright_index\u001b[0m\u001b[1;33m=\u001b[0m\u001b[0mright_index\u001b[0m\u001b[1;33m,\u001b[0m \u001b[0msort\u001b[0m\u001b[1;33m=\u001b[0m\u001b[0msort\u001b[0m\u001b[1;33m,\u001b[0m\u001b[1;33m\u001b[0m\u001b[0m\n\u001b[1;32m-> 4330\u001b[1;33m                      suffixes=suffixes, copy=copy, indicator=indicator)\n\u001b[0m\u001b[0;32m   4331\u001b[0m \u001b[1;33m\u001b[0m\u001b[0m\n\u001b[0;32m   4332\u001b[0m     \u001b[1;32mdef\u001b[0m \u001b[0mround\u001b[0m\u001b[1;33m(\u001b[0m\u001b[0mself\u001b[0m\u001b[1;33m,\u001b[0m \u001b[0mdecimals\u001b[0m\u001b[1;33m=\u001b[0m\u001b[1;36m0\u001b[0m\u001b[1;33m,\u001b[0m \u001b[0mout\u001b[0m\u001b[1;33m=\u001b[0m\u001b[0mNone\u001b[0m\u001b[1;33m)\u001b[0m\u001b[1;33m:\u001b[0m\u001b[1;33m\u001b[0m\u001b[0m\n",
      "\u001b[1;32mC:\\Anaconda2\\lib\\site-packages\\pandas\\tools\\merge.pyc\u001b[0m in \u001b[0;36mmerge\u001b[1;34m(left, right, how, on, left_on, right_on, left_index, right_index, sort, suffixes, copy, indicator)\u001b[0m\n\u001b[0;32m     33\u001b[0m                          \u001b[0mright_index\u001b[0m\u001b[1;33m=\u001b[0m\u001b[0mright_index\u001b[0m\u001b[1;33m,\u001b[0m \u001b[0msort\u001b[0m\u001b[1;33m=\u001b[0m\u001b[0msort\u001b[0m\u001b[1;33m,\u001b[0m \u001b[0msuffixes\u001b[0m\u001b[1;33m=\u001b[0m\u001b[0msuffixes\u001b[0m\u001b[1;33m,\u001b[0m\u001b[1;33m\u001b[0m\u001b[0m\n\u001b[0;32m     34\u001b[0m                          copy=copy, indicator=indicator)\n\u001b[1;32m---> 35\u001b[1;33m     \u001b[1;32mreturn\u001b[0m \u001b[0mop\u001b[0m\u001b[1;33m.\u001b[0m\u001b[0mget_result\u001b[0m\u001b[1;33m(\u001b[0m\u001b[1;33m)\u001b[0m\u001b[1;33m\u001b[0m\u001b[0m\n\u001b[0m\u001b[0;32m     36\u001b[0m \u001b[1;32mif\u001b[0m \u001b[0m__debug__\u001b[0m\u001b[1;33m:\u001b[0m\u001b[1;33m\u001b[0m\u001b[0m\n\u001b[0;32m     37\u001b[0m     \u001b[0mmerge\u001b[0m\u001b[1;33m.\u001b[0m\u001b[0m__doc__\u001b[0m \u001b[1;33m=\u001b[0m \u001b[0m_merge_doc\u001b[0m \u001b[1;33m%\u001b[0m \u001b[1;34m'\\nleft : DataFrame'\u001b[0m\u001b[1;33m\u001b[0m\u001b[0m\n",
      "\u001b[1;32mC:\\Anaconda2\\lib\\site-packages\\pandas\\tools\\merge.pyc\u001b[0m in \u001b[0;36mget_result\u001b[1;34m(self)\u001b[0m\n\u001b[0;32m    208\u001b[0m             \u001b[1;33m[\u001b[0m\u001b[1;33m(\u001b[0m\u001b[0mldata\u001b[0m\u001b[1;33m,\u001b[0m \u001b[0mlindexers\u001b[0m\u001b[1;33m)\u001b[0m\u001b[1;33m,\u001b[0m \u001b[1;33m(\u001b[0m\u001b[0mrdata\u001b[0m\u001b[1;33m,\u001b[0m \u001b[0mrindexers\u001b[0m\u001b[1;33m)\u001b[0m\u001b[1;33m]\u001b[0m\u001b[1;33m,\u001b[0m\u001b[1;33m\u001b[0m\u001b[0m\n\u001b[0;32m    209\u001b[0m             \u001b[0maxes\u001b[0m\u001b[1;33m=\u001b[0m\u001b[1;33m[\u001b[0m\u001b[0mllabels\u001b[0m\u001b[1;33m.\u001b[0m\u001b[0mappend\u001b[0m\u001b[1;33m(\u001b[0m\u001b[0mrlabels\u001b[0m\u001b[1;33m)\u001b[0m\u001b[1;33m,\u001b[0m \u001b[0mjoin_index\u001b[0m\u001b[1;33m]\u001b[0m\u001b[1;33m,\u001b[0m\u001b[1;33m\u001b[0m\u001b[0m\n\u001b[1;32m--> 210\u001b[1;33m             concat_axis=0, copy=self.copy)\n\u001b[0m\u001b[0;32m    211\u001b[0m \u001b[1;33m\u001b[0m\u001b[0m\n\u001b[0;32m    212\u001b[0m         \u001b[0mtyp\u001b[0m \u001b[1;33m=\u001b[0m \u001b[0mself\u001b[0m\u001b[1;33m.\u001b[0m\u001b[0mleft\u001b[0m\u001b[1;33m.\u001b[0m\u001b[0m_constructor\u001b[0m\u001b[1;33m\u001b[0m\u001b[0m\n",
      "\u001b[1;32mC:\\Anaconda2\\lib\\site-packages\\pandas\\core\\internals.pyc\u001b[0m in \u001b[0;36mconcatenate_block_managers\u001b[1;34m(mgrs_indexers, axes, concat_axis, copy)\u001b[0m\n\u001b[0;32m   4454\u001b[0m                                                 copy=copy),\n\u001b[0;32m   4455\u001b[0m                          placement=placement)\n\u001b[1;32m-> 4456\u001b[1;33m               for placement, join_units in concat_plan]\n\u001b[0m\u001b[0;32m   4457\u001b[0m \u001b[1;33m\u001b[0m\u001b[0m\n\u001b[0;32m   4458\u001b[0m     \u001b[1;32mreturn\u001b[0m \u001b[0mBlockManager\u001b[0m\u001b[1;33m(\u001b[0m\u001b[0mblocks\u001b[0m\u001b[1;33m,\u001b[0m \u001b[0maxes\u001b[0m\u001b[1;33m)\u001b[0m\u001b[1;33m\u001b[0m\u001b[0m\n",
      "\u001b[1;32mC:\\Anaconda2\\lib\\site-packages\\pandas\\core\\internals.pyc\u001b[0m in \u001b[0;36mconcatenate_join_units\u001b[1;34m(join_units, concat_axis, copy)\u001b[0m\n\u001b[0;32m   4551\u001b[0m     to_concat = [ju.get_reindexed_values(empty_dtype=empty_dtype,\n\u001b[0;32m   4552\u001b[0m                                          upcasted_na=upcasted_na)\n\u001b[1;32m-> 4553\u001b[1;33m                  for ju in join_units]\n\u001b[0m\u001b[0;32m   4554\u001b[0m \u001b[1;33m\u001b[0m\u001b[0m\n\u001b[0;32m   4555\u001b[0m     \u001b[1;32mif\u001b[0m \u001b[0mlen\u001b[0m\u001b[1;33m(\u001b[0m\u001b[0mto_concat\u001b[0m\u001b[1;33m)\u001b[0m \u001b[1;33m==\u001b[0m \u001b[1;36m1\u001b[0m\u001b[1;33m:\u001b[0m\u001b[1;33m\u001b[0m\u001b[0m\n",
      "\u001b[1;32mC:\\Anaconda2\\lib\\site-packages\\pandas\\core\\internals.pyc\u001b[0m in \u001b[0;36mget_reindexed_values\u001b[1;34m(self, empty_dtype, upcasted_na)\u001b[0m\n\u001b[0;32m   4836\u001b[0m             \u001b[1;32mfor\u001b[0m \u001b[0max\u001b[0m\u001b[1;33m,\u001b[0m \u001b[0mindexer\u001b[0m \u001b[1;32min\u001b[0m \u001b[0mself\u001b[0m\u001b[1;33m.\u001b[0m\u001b[0mindexers\u001b[0m\u001b[1;33m.\u001b[0m\u001b[0mitems\u001b[0m\u001b[1;33m(\u001b[0m\u001b[1;33m)\u001b[0m\u001b[1;33m:\u001b[0m\u001b[1;33m\u001b[0m\u001b[0m\n\u001b[0;32m   4837\u001b[0m                 values = com.take_nd(values, indexer, axis=ax,\n\u001b[1;32m-> 4838\u001b[1;33m                                      fill_value=fill_value)\n\u001b[0m\u001b[0;32m   4839\u001b[0m \u001b[1;33m\u001b[0m\u001b[0m\n\u001b[0;32m   4840\u001b[0m         \u001b[1;32mreturn\u001b[0m \u001b[0mvalues\u001b[0m\u001b[1;33m\u001b[0m\u001b[0m\n",
      "\u001b[1;32mC:\\Anaconda2\\lib\\site-packages\\pandas\\core\\common.pyc\u001b[0m in \u001b[0;36mtake_nd\u001b[1;34m(arr, indexer, axis, out, fill_value, mask_info, allow_fill)\u001b[0m\n\u001b[0;32m    785\u001b[0m             \u001b[0mout\u001b[0m \u001b[1;33m=\u001b[0m \u001b[0mnp\u001b[0m\u001b[1;33m.\u001b[0m\u001b[0mempty\u001b[0m\u001b[1;33m(\u001b[0m\u001b[0mout_shape\u001b[0m\u001b[1;33m,\u001b[0m \u001b[0mdtype\u001b[0m\u001b[1;33m=\u001b[0m\u001b[0mdtype\u001b[0m\u001b[1;33m,\u001b[0m \u001b[0morder\u001b[0m\u001b[1;33m=\u001b[0m\u001b[1;34m'F'\u001b[0m\u001b[1;33m)\u001b[0m\u001b[1;33m\u001b[0m\u001b[0m\n\u001b[0;32m    786\u001b[0m         \u001b[1;32melse\u001b[0m\u001b[1;33m:\u001b[0m\u001b[1;33m\u001b[0m\u001b[0m\n\u001b[1;32m--> 787\u001b[1;33m             \u001b[0mout\u001b[0m \u001b[1;33m=\u001b[0m \u001b[0mnp\u001b[0m\u001b[1;33m.\u001b[0m\u001b[0mempty\u001b[0m\u001b[1;33m(\u001b[0m\u001b[0mout_shape\u001b[0m\u001b[1;33m,\u001b[0m \u001b[0mdtype\u001b[0m\u001b[1;33m=\u001b[0m\u001b[0mdtype\u001b[0m\u001b[1;33m)\u001b[0m\u001b[1;33m\u001b[0m\u001b[0m\n\u001b[0m\u001b[0;32m    788\u001b[0m \u001b[1;33m\u001b[0m\u001b[0m\n\u001b[0;32m    789\u001b[0m     func = _get_take_nd_function(arr.ndim, arr.dtype, out.dtype,\n",
      "\u001b[1;31mMemoryError\u001b[0m: "
     ]
    }
   ],
   "source": [
    "X1.merge(X2, how = 'left')"
   ]
  },
  {
   "cell_type": "code",
   "execution_count": 49,
   "metadata": {
    "collapsed": true
   },
   "outputs": [],
   "source": [
    "frames = [X1, X2, X3]"
   ]
  },
  {
   "cell_type": "code",
   "execution_count": 50,
   "metadata": {
    "collapsed": true
   },
   "outputs": [],
   "source": [
    "result = pd.concat(frames)"
   ]
  },
  {
   "cell_type": "code",
   "execution_count": 51,
   "metadata": {
    "collapsed": false
   },
   "outputs": [
    {
     "data": {
      "text/plain": [
       "(9855, 676)"
      ]
     },
     "execution_count": 51,
     "metadata": {},
     "output_type": "execute_result"
    }
   ],
   "source": [
    "X1.shape"
   ]
  },
  {
   "cell_type": "code",
   "execution_count": 52,
   "metadata": {
    "collapsed": false
   },
   "outputs": [
    {
     "data": {
      "text/plain": [
       "(29565, 676)"
      ]
     },
     "execution_count": 52,
     "metadata": {},
     "output_type": "execute_result"
    }
   ],
   "source": [
    "result.shape"
   ]
  },
  {
   "cell_type": "code",
   "execution_count": 53,
   "metadata": {
    "collapsed": false
   },
   "outputs": [
    {
     "ename": "NameError",
     "evalue": "name 'drop' is not defined",
     "output_type": "error",
     "traceback": [
      "\u001b[1;31m---------------------------------------------------------------------------\u001b[0m",
      "\u001b[1;31mNameError\u001b[0m                                 Traceback (most recent call last)",
      "\u001b[1;32m<ipython-input-53-2720cd414a0a>\u001b[0m in \u001b[0;36m<module>\u001b[1;34m()\u001b[0m\n\u001b[1;32m----> 1\u001b[1;33m \u001b[0mdrop\u001b[0m\u001b[1;33m(\u001b[0m\u001b[0mresult\u001b[0m\u001b[1;33m)\u001b[0m\u001b[1;33m\u001b[0m\u001b[0m\n\u001b[0m",
      "\u001b[1;31mNameError\u001b[0m: name 'drop' is not defined"
     ]
    }
   ],
   "source": [
    "drop(result)"
   ]
  },
  {
   "cell_type": "code",
   "execution_count": 54,
   "metadata": {
    "collapsed": true
   },
   "outputs": [],
   "source": [
    "s2 = pd.Series(['_0', '_1', '_2', '_3'])"
   ]
  },
  {
   "cell_type": "code",
   "execution_count": 55,
   "metadata": {
    "collapsed": false
   },
   "outputs": [
    {
     "data": {
      "text/plain": [
       "0    _0\n",
       "1    _1\n",
       "2    _2\n",
       "3    _3\n",
       "dtype: object"
      ]
     },
     "execution_count": 55,
     "metadata": {},
     "output_type": "execute_result"
    }
   ],
   "source": [
    "s2"
   ]
  },
  {
   "cell_type": "code",
   "execution_count": 56,
   "metadata": {
    "collapsed": true
   },
   "outputs": [],
   "source": [
    "result = pd.concat(frames, axis=1)"
   ]
  },
  {
   "cell_type": "code",
   "execution_count": 57,
   "metadata": {
    "collapsed": false
   },
   "outputs": [
    {
     "data": {
      "text/plain": [
       "(9855, 2028)"
      ]
     },
     "execution_count": 57,
     "metadata": {},
     "output_type": "execute_result"
    }
   ],
   "source": [
    "result.shape"
   ]
  },
  {
   "cell_type": "code",
   "execution_count": 58,
   "metadata": {
    "collapsed": false
   },
   "outputs": [
    {
     "data": {
      "text/plain": [
       "(9855, 676)"
      ]
     },
     "execution_count": 58,
     "metadata": {},
     "output_type": "execute_result"
    }
   ],
   "source": [
    "X1.shape"
   ]
  },
  {
   "cell_type": "code",
   "execution_count": 59,
   "metadata": {
    "collapsed": false
   },
   "outputs": [
    {
     "data": {
      "text/plain": [
       "<bound method DataFrame.head of                        medo  ataque  armar  emboscada  interrogatório  \\\n",
       "city      date                                                          \n",
       "Acre       2014-01-01     0       0      0          0               0   \n",
       "           2014-01-02     0       0      0          0               0   \n",
       "           2014-01-03     0       0      0          0               0   \n",
       "           2014-01-04     0       0      0          0               0   \n",
       "           2014-01-05     0       0      0          0               0   \n",
       "           2014-01-06     0       0      0          0               0   \n",
       "           2014-01-07     0       0      0          0               0   \n",
       "           2014-01-08     0       0      0          0               0   \n",
       "           2014-01-09     0       0      0          0               0   \n",
       "           2014-01-10     0       0      0          0               0   \n",
       "           2014-01-11     0       0      0          0               0   \n",
       "           2014-01-12     0       0      0          0               0   \n",
       "           2014-01-13     0       0      0          0               0   \n",
       "           2014-01-14     0       0      0          0               0   \n",
       "           2014-01-15     0       0      0          0               0   \n",
       "           2014-01-16     0       0      0          0               0   \n",
       "           2014-01-17     0       0      0          0               0   \n",
       "           2014-01-18     0       0      0          0               0   \n",
       "           2014-01-19     0       0      0          0               0   \n",
       "           2014-01-20     0       0      0          0               0   \n",
       "           2014-01-21     0       0      0          0               0   \n",
       "           2014-01-22     0       0      0          0               0   \n",
       "           2014-01-23     0       0      0          0               0   \n",
       "           2014-01-24     0       0      0          0               0   \n",
       "           2014-01-25     0       0      0          0               0   \n",
       "           2014-01-26     0       0      0          0               0   \n",
       "           2014-01-27     0       0      0          0               0   \n",
       "           2014-01-28     0       0      0          0               0   \n",
       "           2014-01-29     0       0      0          0               0   \n",
       "           2014-01-30     0       0      0          0               0   \n",
       "...                     ...     ...    ...        ...             ...   \n",
       "Tocantins  2014-12-02     0       0      0          0               0   \n",
       "           2014-12-03     0       0      0          0               0   \n",
       "           2014-12-04     0       0      0          0               0   \n",
       "           2014-12-05     0       0      0          0               0   \n",
       "           2014-12-06     0       0      0          0               0   \n",
       "           2014-12-07     0       0      0          0               0   \n",
       "           2014-12-08     0       0      0          0               0   \n",
       "           2014-12-09     0       0      0          0               0   \n",
       "           2014-12-10     0       0      0          0               0   \n",
       "           2014-12-11     0       0      0          0               0   \n",
       "           2014-12-12     0       0      0          0               0   \n",
       "           2014-12-13     0       0      0          0               0   \n",
       "           2014-12-14     0       0      0          0               0   \n",
       "           2014-12-15     0       0      0          0               0   \n",
       "           2014-12-16     0       0      0          0               0   \n",
       "           2014-12-17     0       0      0          0               0   \n",
       "           2014-12-18     0       0      0          0               0   \n",
       "           2014-12-19     0       0      0          0               0   \n",
       "           2014-12-20     0       0      0          0               0   \n",
       "           2014-12-21     0       0      0          0               0   \n",
       "           2014-12-22     0       0      0          0               0   \n",
       "           2014-12-23     0       0      0          0               0   \n",
       "           2014-12-24     0       0      0          0               0   \n",
       "           2014-12-25     0       0      0          0               0   \n",
       "           2014-12-26     0       0      0          0               0   \n",
       "           2014-12-27     0       0      0          0               0   \n",
       "           2014-12-28     0       0      0          0               0   \n",
       "           2014-12-29     0       0      0          0               0   \n",
       "           2014-12-30     0       0      0          0               0   \n",
       "           2014-12-31     0       0      0          0               0   \n",
       "\n",
       "                       recrudescência  violência_de_rua  kadiweus  essencial  \\\n",
       "city      date                                                                 \n",
       "Acre       2014-01-01               0                 0         0          0   \n",
       "           2014-01-02               0                 0         0          0   \n",
       "           2014-01-03               0                 0         0          0   \n",
       "           2014-01-04               0                 0         0          0   \n",
       "           2014-01-05               0                 0         0          0   \n",
       "           2014-01-06               0                 0         0          0   \n",
       "           2014-01-07               0                 0         0          0   \n",
       "           2014-01-08               0                 0         0          0   \n",
       "           2014-01-09               0                 0         0          0   \n",
       "           2014-01-10               0                 0         0          0   \n",
       "           2014-01-11               0                 0         0          0   \n",
       "           2014-01-12               0                 0         0          0   \n",
       "           2014-01-13               0                 0         0          0   \n",
       "           2014-01-14               0                 0         0          0   \n",
       "           2014-01-15               0                 0         0          0   \n",
       "           2014-01-16               0                 0         0          0   \n",
       "           2014-01-17               0                 0         0          0   \n",
       "           2014-01-18               0                 0         0          0   \n",
       "           2014-01-19               0                 0         0          0   \n",
       "           2014-01-20               0                 0         0          0   \n",
       "           2014-01-21               0                 0         0          0   \n",
       "           2014-01-22               0                 0         0          0   \n",
       "           2014-01-23               0                 0         0          0   \n",
       "           2014-01-24               0                 0         0          0   \n",
       "           2014-01-25               0                 0         0          0   \n",
       "           2014-01-26               0                 0         0          0   \n",
       "           2014-01-27               0                 0         0          0   \n",
       "           2014-01-28               0                 0         0          0   \n",
       "           2014-01-29               0                 0         0          0   \n",
       "           2014-01-30               0                 0         0          0   \n",
       "...                               ...               ...       ...        ...   \n",
       "Tocantins  2014-12-02               0                 0         0          0   \n",
       "           2014-12-03               0                 0         0          0   \n",
       "           2014-12-04               0                 0         0          0   \n",
       "           2014-12-05               0                 0         0          0   \n",
       "           2014-12-06               0                 0         0          0   \n",
       "           2014-12-07               0                 0         0          0   \n",
       "           2014-12-08               0                 0         0          0   \n",
       "           2014-12-09               0                 0         0          0   \n",
       "           2014-12-10               0                 0         0          0   \n",
       "           2014-12-11               0                 0         0          0   \n",
       "           2014-12-12               0                 0         0          0   \n",
       "           2014-12-13               0                 0         0          0   \n",
       "           2014-12-14               0                 0         0          0   \n",
       "           2014-12-15               0                 0         0          0   \n",
       "           2014-12-16               0                 0         0          0   \n",
       "           2014-12-17               0                 0         0          0   \n",
       "           2014-12-18               0                 0         0          0   \n",
       "           2014-12-19               0                 0         0          0   \n",
       "           2014-12-20               0                 0         0          0   \n",
       "           2014-12-21               0                 0         0          0   \n",
       "           2014-12-22               0                 0         0          0   \n",
       "           2014-12-23               0                 0         0          0   \n",
       "           2014-12-24               0                 0         0          0   \n",
       "           2014-12-25               0                 0         0          0   \n",
       "           2014-12-26               0                 0         0          0   \n",
       "           2014-12-27               0                 0         0          0   \n",
       "           2014-12-28               0                 0         0          0   \n",
       "           2014-12-29               0                 0         0          0   \n",
       "           2014-12-30               0                 0         0          0   \n",
       "           2014-12-31               0                 0         0          0   \n",
       "\n",
       "                       cooperativa          ...           intimidar  guarani  \\\n",
       "city      date                              ...                                \n",
       "Acre       2014-01-01            0          ...                   0        0   \n",
       "           2014-01-02            0          ...                   0        0   \n",
       "           2014-01-03            0          ...                   0        0   \n",
       "           2014-01-04            0          ...                   0        0   \n",
       "           2014-01-05            0          ...                   0        0   \n",
       "           2014-01-06            0          ...                   0        0   \n",
       "           2014-01-07            0          ...                   0        0   \n",
       "           2014-01-08            0          ...                   0        0   \n",
       "           2014-01-09            0          ...                   0        0   \n",
       "           2014-01-10            0          ...                   0        0   \n",
       "           2014-01-11            0          ...                   0        0   \n",
       "           2014-01-12            0          ...                   0        0   \n",
       "           2014-01-13            0          ...                   0        0   \n",
       "           2014-01-14            0          ...                   0        0   \n",
       "           2014-01-15            0          ...                   0        0   \n",
       "           2014-01-16            0          ...                   0        0   \n",
       "           2014-01-17            0          ...                   0        0   \n",
       "           2014-01-18            0          ...                   0        0   \n",
       "           2014-01-19            0          ...                   0        0   \n",
       "           2014-01-20            0          ...                   0        0   \n",
       "           2014-01-21            0          ...                   0        0   \n",
       "           2014-01-22            0          ...                   0        0   \n",
       "           2014-01-23            0          ...                   0        0   \n",
       "           2014-01-24            0          ...                   0        0   \n",
       "           2014-01-25            0          ...                   0        0   \n",
       "           2014-01-26            0          ...                   0        0   \n",
       "           2014-01-27            0          ...                   0        0   \n",
       "           2014-01-28            0          ...                   0        0   \n",
       "           2014-01-29            0          ...                   0        0   \n",
       "           2014-01-30            0          ...                   0        0   \n",
       "...                            ...          ...                 ...      ...   \n",
       "Tocantins  2014-12-02            0          ...                   0        0   \n",
       "           2014-12-03            0          ...                   0        0   \n",
       "           2014-12-04            0          ...                   0        0   \n",
       "           2014-12-05            0          ...                   0        0   \n",
       "           2014-12-06            0          ...                   0        0   \n",
       "           2014-12-07            0          ...                   0        0   \n",
       "           2014-12-08            0          ...                   0        0   \n",
       "           2014-12-09            0          ...                   0        0   \n",
       "           2014-12-10            0          ...                   0        0   \n",
       "           2014-12-11            0          ...                   0        0   \n",
       "           2014-12-12            0          ...                   0        0   \n",
       "           2014-12-13            0          ...                   0        0   \n",
       "           2014-12-14            0          ...                   0        0   \n",
       "           2014-12-15            0          ...                   0        0   \n",
       "           2014-12-16            0          ...                   0        0   \n",
       "           2014-12-17            0          ...                   0        0   \n",
       "           2014-12-18            0          ...                   0        0   \n",
       "           2014-12-19            0          ...                   0        0   \n",
       "           2014-12-20            0          ...                   0        0   \n",
       "           2014-12-21            0          ...                   0        0   \n",
       "           2014-12-22            0          ...                   0        0   \n",
       "           2014-12-23            0          ...                   0        0   \n",
       "           2014-12-24            0          ...                   0        0   \n",
       "           2014-12-25            0          ...                   0        0   \n",
       "           2014-12-26            0          ...                   0        0   \n",
       "           2014-12-27            0          ...                   0        0   \n",
       "           2014-12-28            0          ...                   0        0   \n",
       "           2014-12-29            0          ...                   0        0   \n",
       "           2014-12-30            0          ...                   0        0   \n",
       "           2014-12-31            0          ...                   0        0   \n",
       "\n",
       "                       vigília  perseguição  perigo  desgosto  promotor  \\\n",
       "city      date                                                            \n",
       "Acre       2014-01-01        0            0       0         0         0   \n",
       "           2014-01-02        0            0       0         0         0   \n",
       "           2014-01-03        0            0       0         0         0   \n",
       "           2014-01-04        0            0       0         0         0   \n",
       "           2014-01-05        0            0       0         0         0   \n",
       "           2014-01-06        0            0       0         0         0   \n",
       "           2014-01-07        0            0       0         0         0   \n",
       "           2014-01-08        0            0       0         0         0   \n",
       "           2014-01-09        0            0       0         0         0   \n",
       "           2014-01-10        0            0       0         0         0   \n",
       "           2014-01-11        0            0       0         0         0   \n",
       "           2014-01-12        0            0       0         0         0   \n",
       "           2014-01-13        0            0       0         0         0   \n",
       "           2014-01-14        0            0       0         0         0   \n",
       "           2014-01-15        0            0       0         0         0   \n",
       "           2014-01-16        0            0       0         0         0   \n",
       "           2014-01-17        0            0       0         0         0   \n",
       "           2014-01-18        0            0       0         0         0   \n",
       "           2014-01-19        0            0       0         0         0   \n",
       "           2014-01-20        0            0       0         0         0   \n",
       "           2014-01-21        0            0       0         0         0   \n",
       "           2014-01-22        0            0       0         0         0   \n",
       "           2014-01-23        0            0       0         0         0   \n",
       "           2014-01-24        0            0       0         0         0   \n",
       "           2014-01-25        0            0       0         0         0   \n",
       "           2014-01-26        0            0       0         0         0   \n",
       "           2014-01-27        0            0       0         0         0   \n",
       "           2014-01-28        0            0       0         0         0   \n",
       "           2014-01-29        0            0       0         0         0   \n",
       "           2014-01-30        0            0       0         0         0   \n",
       "...                        ...          ...     ...       ...       ...   \n",
       "Tocantins  2014-12-02        0            0       0         0         0   \n",
       "           2014-12-03        0            0       0         0         0   \n",
       "           2014-12-04        0            0       0         0         0   \n",
       "           2014-12-05        0            0       0         0         0   \n",
       "           2014-12-06        0            0       0         0         0   \n",
       "           2014-12-07        0            0       0         0         0   \n",
       "           2014-12-08        0            0       0         0         0   \n",
       "           2014-12-09        0            0       0         0         0   \n",
       "           2014-12-10        0            0       0         0         0   \n",
       "           2014-12-11        0            0       0         0         0   \n",
       "           2014-12-12        0            0       0         0         0   \n",
       "           2014-12-13        0            0       0         0         0   \n",
       "           2014-12-14        0            0       0         0         0   \n",
       "           2014-12-15        0            0       0         0         0   \n",
       "           2014-12-16        0            0       0         0         0   \n",
       "           2014-12-17        0            0       0         0         0   \n",
       "           2014-12-18        0            0       0         0         0   \n",
       "           2014-12-19        0            0       0         0         0   \n",
       "           2014-12-20        0            0       0         0         0   \n",
       "           2014-12-21        0            0       0         0         0   \n",
       "           2014-12-22        0            0       0         0         0   \n",
       "           2014-12-23        0            0       0         0         0   \n",
       "           2014-12-24        0            0       0         0         0   \n",
       "           2014-12-25        0            0       0         0         0   \n",
       "           2014-12-26        0            0       0         0         0   \n",
       "           2014-12-27        0            0       0         0         0   \n",
       "           2014-12-28        0            0       0         0         0   \n",
       "           2014-12-29        0            0       0         0         0   \n",
       "           2014-12-30        0            0       0         0         0   \n",
       "           2014-12-31        0            0       0         0         0   \n",
       "\n",
       "                       rural  manter  conflito_territorial  \n",
       "city      date                                              \n",
       "Acre       2014-01-01      0       0                     0  \n",
       "           2014-01-02      0       0                     0  \n",
       "           2014-01-03      0       0                     0  \n",
       "           2014-01-04      0       0                     0  \n",
       "           2014-01-05      0       0                     0  \n",
       "           2014-01-06      0       0                     0  \n",
       "           2014-01-07      0       0                     0  \n",
       "           2014-01-08      0       0                     0  \n",
       "           2014-01-09      0       0                     0  \n",
       "           2014-01-10      0       0                     0  \n",
       "           2014-01-11      0       0                     0  \n",
       "           2014-01-12      0       0                     0  \n",
       "           2014-01-13      0       0                     0  \n",
       "           2014-01-14      0       0                     0  \n",
       "           2014-01-15      0       0                     0  \n",
       "           2014-01-16      0       0                     0  \n",
       "           2014-01-17      0       0                     0  \n",
       "           2014-01-18      0       0                     0  \n",
       "           2014-01-19      0       0                     0  \n",
       "           2014-01-20      0       0                     0  \n",
       "           2014-01-21      0       0                     0  \n",
       "           2014-01-22      0       0                     0  \n",
       "           2014-01-23      0       0                     0  \n",
       "           2014-01-24      0       0                     0  \n",
       "           2014-01-25      0       0                     0  \n",
       "           2014-01-26      0       0                     0  \n",
       "           2014-01-27      0       0                     0  \n",
       "           2014-01-28      0       0                     0  \n",
       "           2014-01-29      0       0                     0  \n",
       "           2014-01-30      0       0                     0  \n",
       "...                      ...     ...                   ...  \n",
       "Tocantins  2014-12-02      0       0                     0  \n",
       "           2014-12-03      0       0                     0  \n",
       "           2014-12-04      0       0                     0  \n",
       "           2014-12-05      0       0                     0  \n",
       "           2014-12-06      0       0                     0  \n",
       "           2014-12-07      0       0                     0  \n",
       "           2014-12-08      0       0                     0  \n",
       "           2014-12-09      0       0                     0  \n",
       "           2014-12-10      0       0                     0  \n",
       "           2014-12-11      0       0                     0  \n",
       "           2014-12-12      0       0                     0  \n",
       "           2014-12-13      0       0                     0  \n",
       "           2014-12-14      0       0                     0  \n",
       "           2014-12-15      0       0                     0  \n",
       "           2014-12-16      0       0                     0  \n",
       "           2014-12-17      0       0                     0  \n",
       "           2014-12-18      0       0                     0  \n",
       "           2014-12-19      0       0                     0  \n",
       "           2014-12-20      0       0                     0  \n",
       "           2014-12-21      0       0                     0  \n",
       "           2014-12-22      0       0                     0  \n",
       "           2014-12-23      0       0                     0  \n",
       "           2014-12-24      0       0                     0  \n",
       "           2014-12-25      0       0                     0  \n",
       "           2014-12-26      0       0                     0  \n",
       "           2014-12-27      0       0                     0  \n",
       "           2014-12-28      0       0                     0  \n",
       "           2014-12-29      0       0                     0  \n",
       "           2014-12-30      0       0                     0  \n",
       "           2014-12-31      0       0                     0  \n",
       "\n",
       "[9855 rows x 2028 columns]>"
      ]
     },
     "execution_count": 59,
     "metadata": {},
     "output_type": "execute_result"
    }
   ],
   "source": [
    "result.head"
   ]
  },
  {
   "cell_type": "code",
   "execution_count": 60,
   "metadata": {
    "collapsed": false
   },
   "outputs": [
    {
     "data": {
      "text/plain": [
       "[['LogisticRegression_English',\n",
       "  0.10955367023238657,\n",
       "  0.9944196428571429,\n",
       "  0.19736404917488093,\n",
       "  0.59303524837354293],\n",
       " ['SVC_English',\n",
       "  0.10468155893536121,\n",
       "  0.9832589285714286,\n",
       "  0.18921821305841927,\n",
       "  0.57110261977181764],\n",
       " ['LogisticRegression_Portuguese',\n",
       "  0.11940298507462686,\n",
       "  1.0,\n",
       "  0.21333333333333335,\n",
       "  0.6312088402723518],\n",
       " ['SVC_Portuguese',\n",
       "  0.11699867197875166,\n",
       "  0.9832589285714286,\n",
       "  0.20911464514597675,\n",
       "  0.62055010274982858],\n",
       " ['LogisticRegression_Spanish',\n",
       "  0.1077127659574468,\n",
       "  0.9944196428571429,\n",
       "  0.1943717277486911,\n",
       "  0.58527768614561571],\n",
       " ['SVC_Spanish',\n",
       "  0.10049909255898366,\n",
       "  0.9888392857142857,\n",
       "  0.18245469522240526,\n",
       "  0.55184792726388465]]"
      ]
     },
     "execution_count": 60,
     "metadata": {},
     "output_type": "execute_result"
    }
   ],
   "source": [
    "results"
   ]
  },
  {
   "cell_type": "code",
   "execution_count": 61,
   "metadata": {
    "collapsed": true
   },
   "outputs": [],
   "source": [
    "X = result"
   ]
  },
  {
   "cell_type": "code",
   "execution_count": 62,
   "metadata": {
    "collapsed": true
   },
   "outputs": [],
   "source": [
    "models = [LogisticRegression(penalty='l1', class_weight='balanced'),\n",
    "          SVC(class_weight=\"balanced\"),\n",
    "          ]\n",
    "for m in models:\n",
    "    m.fit(X, y.event)\n",
    "    expected = y.event\n",
    "    predicted = m.predict(X)\n",
    "    # print(metrics.classification_report(expected, predicted))\n",
    "    # print(metrics.confusion_matrix(expected, predicted))\n",
    "    precesion = metrics.precision_score(expected, predicted, average='binary')\n",
    "    recall = metrics.recall_score(expected, predicted, average='binary')\n",
    "    f1 = metrics.f1_score(expected, predicted, average='binary')\n",
    "    fpr, tpr, thresholds = metrics.roc_curve(expected, predicted, pos_label=1)\n",
    "    auc = metrics.auc(fpr, tpr)\n",
    "    results.append([str(m).split(\"(\")[0] + \"_\" + l, precesion, recall, f1, auc])"
   ]
  },
  {
   "cell_type": "code",
   "execution_count": 63,
   "metadata": {
    "collapsed": false
   },
   "outputs": [
    {
     "data": {
      "text/plain": [
       "[['LogisticRegression_English',\n",
       "  0.10955367023238657,\n",
       "  0.9944196428571429,\n",
       "  0.19736404917488093,\n",
       "  0.59303524837354293],\n",
       " ['SVC_English',\n",
       "  0.10468155893536121,\n",
       "  0.9832589285714286,\n",
       "  0.18921821305841927,\n",
       "  0.57110261977181764],\n",
       " ['LogisticRegression_Portuguese',\n",
       "  0.11940298507462686,\n",
       "  1.0,\n",
       "  0.21333333333333335,\n",
       "  0.6312088402723518],\n",
       " ['SVC_Portuguese',\n",
       "  0.11699867197875166,\n",
       "  0.9832589285714286,\n",
       "  0.20911464514597675,\n",
       "  0.62055010274982858],\n",
       " ['LogisticRegression_Spanish',\n",
       "  0.1077127659574468,\n",
       "  0.9944196428571429,\n",
       "  0.1943717277486911,\n",
       "  0.58527768614561571],\n",
       " ['SVC_Spanish',\n",
       "  0.10049909255898366,\n",
       "  0.9888392857142857,\n",
       "  0.18245469522240526,\n",
       "  0.55184792726388465],\n",
       " ['LogisticRegression_Spanish',\n",
       "  0.11989830054864177,\n",
       "  1.0,\n",
       "  0.2141235512008603,\n",
       "  0.6329389440785802],\n",
       " ['SVC_Spanish',\n",
       "  0.11245851416900689,\n",
       "  0.9832589285714286,\n",
       "  0.2018327605956472,\n",
       "  0.60358392348875034]]"
      ]
     },
     "execution_count": 63,
     "metadata": {},
     "output_type": "execute_result"
    }
   ],
   "source": [
    "results"
   ]
  },
  {
   "cell_type": "code",
   "execution_count": 64,
   "metadata": {
    "collapsed": false
   },
   "outputs": [
    {
     "data": {
      "text/plain": [
       "8"
      ]
     },
     "execution_count": 64,
     "metadata": {},
     "output_type": "execute_result"
    }
   ],
   "source": [
    "len(results)"
   ]
  },
  {
   "cell_type": "code",
   "execution_count": 65,
   "metadata": {
    "collapsed": false
   },
   "outputs": [
    {
     "data": {
      "text/plain": [
       "['LogisticRegression_Spanish',\n",
       " 0.11989830054864177,\n",
       " 1.0,\n",
       " 0.2141235512008603,\n",
       " 0.6329389440785802]"
      ]
     },
     "execution_count": 65,
     "metadata": {},
     "output_type": "execute_result"
    }
   ],
   "source": [
    "results[6]"
   ]
  },
  {
   "cell_type": "code",
   "execution_count": 66,
   "metadata": {
    "collapsed": false
   },
   "outputs": [
    {
     "data": {
      "text/plain": [
       "0.11989830054864177"
      ]
     },
     "execution_count": 66,
     "metadata": {},
     "output_type": "execute_result"
    }
   ],
   "source": [
    "results[6][1]"
   ]
  },
  {
   "cell_type": "code",
   "execution_count": 67,
   "metadata": {
    "collapsed": false
   },
   "outputs": [
    {
     "data": {
      "text/plain": [
       "'LogisticRegression_Spanish'"
      ]
     },
     "execution_count": 67,
     "metadata": {},
     "output_type": "execute_result"
    }
   ],
   "source": [
    "results[6][0]"
   ]
  },
  {
   "cell_type": "code",
   "execution_count": 68,
   "metadata": {
    "collapsed": true
   },
   "outputs": [],
   "source": [
    "results[6][0] = 'LogisticRegression_All'"
   ]
  },
  {
   "cell_type": "code",
   "execution_count": 69,
   "metadata": {
    "collapsed": false
   },
   "outputs": [
    {
     "data": {
      "text/plain": [
       "['SVC_Spanish',\n",
       " 0.11245851416900689,\n",
       " 0.9832589285714286,\n",
       " 0.2018327605956472,\n",
       " 0.60358392348875034]"
      ]
     },
     "execution_count": 69,
     "metadata": {},
     "output_type": "execute_result"
    }
   ],
   "source": [
    "results[7]"
   ]
  },
  {
   "cell_type": "code",
   "execution_count": 70,
   "metadata": {
    "collapsed": true
   },
   "outputs": [],
   "source": [
    "results[7][0] = 'SVC_All'"
   ]
  },
  {
   "cell_type": "code",
   "execution_count": 71,
   "metadata": {
    "collapsed": false
   },
   "outputs": [
    {
     "data": {
      "text/plain": [
       "[['LogisticRegression_English',\n",
       "  0.10955367023238657,\n",
       "  0.9944196428571429,\n",
       "  0.19736404917488093,\n",
       "  0.59303524837354293],\n",
       " ['SVC_English',\n",
       "  0.10468155893536121,\n",
       "  0.9832589285714286,\n",
       "  0.18921821305841927,\n",
       "  0.57110261977181764],\n",
       " ['LogisticRegression_Portuguese',\n",
       "  0.11940298507462686,\n",
       "  1.0,\n",
       "  0.21333333333333335,\n",
       "  0.6312088402723518],\n",
       " ['SVC_Portuguese',\n",
       "  0.11699867197875166,\n",
       "  0.9832589285714286,\n",
       "  0.20911464514597675,\n",
       "  0.62055010274982858],\n",
       " ['LogisticRegression_Spanish',\n",
       "  0.1077127659574468,\n",
       "  0.9944196428571429,\n",
       "  0.1943717277486911,\n",
       "  0.58527768614561571],\n",
       " ['SVC_Spanish',\n",
       "  0.10049909255898366,\n",
       "  0.9888392857142857,\n",
       "  0.18245469522240526,\n",
       "  0.55184792726388465],\n",
       " ['LogisticRegression_All',\n",
       "  0.11989830054864177,\n",
       "  1.0,\n",
       "  0.2141235512008603,\n",
       "  0.6329389440785802],\n",
       " ['SVC_All',\n",
       "  0.11245851416900689,\n",
       "  0.9832589285714286,\n",
       "  0.2018327605956472,\n",
       "  0.60358392348875034]]"
      ]
     },
     "execution_count": 71,
     "metadata": {},
     "output_type": "execute_result"
    }
   ],
   "source": [
    "results"
   ]
  },
  {
   "cell_type": "code",
   "execution_count": 72,
   "metadata": {
    "collapsed": true
   },
   "outputs": [],
   "source": [
    "df = pd.DataFrame(results)"
   ]
  },
  {
   "cell_type": "code",
   "execution_count": 73,
   "metadata": {
    "collapsed": false
   },
   "outputs": [
    {
     "data": {
      "text/plain": [
       "(8, 5)"
      ]
     },
     "execution_count": 73,
     "metadata": {},
     "output_type": "execute_result"
    }
   ],
   "source": [
    "df.shape"
   ]
  },
  {
   "cell_type": "code",
   "execution_count": 74,
   "metadata": {
    "collapsed": false
   },
   "outputs": [
    {
     "data": {
      "text/plain": [
       "<bound method DataFrame.to_latex of                                0         1         2         3         4\n",
       "0     LogisticRegression_English  0.109554  0.994420  0.197364  0.593035\n",
       "1                    SVC_English  0.104682  0.983259  0.189218  0.571103\n",
       "2  LogisticRegression_Portuguese  0.119403  1.000000  0.213333  0.631209\n",
       "3                 SVC_Portuguese  0.116999  0.983259  0.209115  0.620550\n",
       "4     LogisticRegression_Spanish  0.107713  0.994420  0.194372  0.585278\n",
       "5                    SVC_Spanish  0.100499  0.988839  0.182455  0.551848\n",
       "6         LogisticRegression_All  0.119898  1.000000  0.214124  0.632939\n",
       "7                        SVC_All  0.112459  0.983259  0.201833  0.603584>"
      ]
     },
     "execution_count": 74,
     "metadata": {},
     "output_type": "execute_result"
    }
   ],
   "source": [
    "df.to_latex"
   ]
  },
  {
   "cell_type": "code",
   "execution_count": 75,
   "metadata": {
    "collapsed": false
   },
   "outputs": [
    {
     "data": {
      "text/plain": [
       "u'\\\\begin{tabular}{llrrrr}\\n\\\\toprule\\n{} &                              0 &         1 &         2 &         3 &         4 \\\\\\\\\\n\\\\midrule\\n0 &     LogisticRegression\\\\_English &  0.109554 &  0.994420 &  0.197364 &  0.593035 \\\\\\\\\\n1 &                    SVC\\\\_English &  0.104682 &  0.983259 &  0.189218 &  0.571103 \\\\\\\\\\n2 &  LogisticRegression\\\\_Portuguese &  0.119403 &  1.000000 &  0.213333 &  0.631209 \\\\\\\\\\n3 &                 SVC\\\\_Portuguese &  0.116999 &  0.983259 &  0.209115 &  0.620550 \\\\\\\\\\n4 &     LogisticRegression\\\\_Spanish &  0.107713 &  0.994420 &  0.194372 &  0.585278 \\\\\\\\\\n5 &                    SVC\\\\_Spanish &  0.100499 &  0.988839 &  0.182455 &  0.551848 \\\\\\\\\\n6 &         LogisticRegression\\\\_All &  0.119898 &  1.000000 &  0.214124 &  0.632939 \\\\\\\\\\n7 &                        SVC\\\\_All &  0.112459 &  0.983259 &  0.201833 &  0.603584 \\\\\\\\\\n\\\\bottomrule\\n\\\\end{tabular}\\n'"
      ]
     },
     "execution_count": 75,
     "metadata": {},
     "output_type": "execute_result"
    }
   ],
   "source": [
    "df.to_latex()"
   ]
  },
  {
   "cell_type": "code",
   "execution_count": 76,
   "metadata": {
    "collapsed": true
   },
   "outputs": [],
   "source": [
    "out = open(\"result.tex\", 'w')"
   ]
  },
  {
   "cell_type": "code",
   "execution_count": 77,
   "metadata": {
    "collapsed": true
   },
   "outputs": [],
   "source": [
    "out.write(df.to_latex())"
   ]
  },
  {
   "cell_type": "code",
   "execution_count": 78,
   "metadata": {
    "collapsed": true
   },
   "outputs": [],
   "source": [
    "out.close()"
   ]
  },
  {
   "cell_type": "code",
   "execution_count": 79,
   "metadata": {
    "collapsed": false
   },
   "outputs": [
    {
     "data": {
      "text/html": [
       "<div>\n",
       "<table border=\"1\" class=\"dataframe\">\n",
       "  <thead>\n",
       "    <tr style=\"text-align: right;\">\n",
       "      <th></th>\n",
       "      <th></th>\n",
       "      <th>event</th>\n",
       "    </tr>\n",
       "    <tr>\n",
       "      <th>city</th>\n",
       "      <th>date</th>\n",
       "      <th></th>\n",
       "    </tr>\n",
       "  </thead>\n",
       "  <tbody>\n",
       "    <tr>\n",
       "      <th rowspan=\"30\" valign=\"top\">Rio de Janeiro</th>\n",
       "      <th>2014-01-01</th>\n",
       "      <td>1</td>\n",
       "    </tr>\n",
       "    <tr>\n",
       "      <th>2014-01-02</th>\n",
       "      <td>1</td>\n",
       "    </tr>\n",
       "    <tr>\n",
       "      <th>2014-01-03</th>\n",
       "      <td>1</td>\n",
       "    </tr>\n",
       "    <tr>\n",
       "      <th>2014-01-04</th>\n",
       "      <td>1</td>\n",
       "    </tr>\n",
       "    <tr>\n",
       "      <th>2014-01-05</th>\n",
       "      <td>1</td>\n",
       "    </tr>\n",
       "    <tr>\n",
       "      <th>2014-01-06</th>\n",
       "      <td>1</td>\n",
       "    </tr>\n",
       "    <tr>\n",
       "      <th>2014-01-07</th>\n",
       "      <td>1</td>\n",
       "    </tr>\n",
       "    <tr>\n",
       "      <th>2014-01-08</th>\n",
       "      <td>1</td>\n",
       "    </tr>\n",
       "    <tr>\n",
       "      <th>2014-01-09</th>\n",
       "      <td>1</td>\n",
       "    </tr>\n",
       "    <tr>\n",
       "      <th>2014-01-10</th>\n",
       "      <td>1</td>\n",
       "    </tr>\n",
       "    <tr>\n",
       "      <th>2014-01-11</th>\n",
       "      <td>1</td>\n",
       "    </tr>\n",
       "    <tr>\n",
       "      <th>2014-01-12</th>\n",
       "      <td>1</td>\n",
       "    </tr>\n",
       "    <tr>\n",
       "      <th>2014-01-13</th>\n",
       "      <td>1</td>\n",
       "    </tr>\n",
       "    <tr>\n",
       "      <th>2014-01-14</th>\n",
       "      <td>1</td>\n",
       "    </tr>\n",
       "    <tr>\n",
       "      <th>2014-01-15</th>\n",
       "      <td>1</td>\n",
       "    </tr>\n",
       "    <tr>\n",
       "      <th>2014-01-16</th>\n",
       "      <td>1</td>\n",
       "    </tr>\n",
       "    <tr>\n",
       "      <th>2014-01-17</th>\n",
       "      <td>1</td>\n",
       "    </tr>\n",
       "    <tr>\n",
       "      <th>2014-01-18</th>\n",
       "      <td>1</td>\n",
       "    </tr>\n",
       "    <tr>\n",
       "      <th>2014-01-19</th>\n",
       "      <td>0</td>\n",
       "    </tr>\n",
       "    <tr>\n",
       "      <th>2014-01-20</th>\n",
       "      <td>1</td>\n",
       "    </tr>\n",
       "    <tr>\n",
       "      <th>2014-01-21</th>\n",
       "      <td>1</td>\n",
       "    </tr>\n",
       "    <tr>\n",
       "      <th>2014-01-22</th>\n",
       "      <td>1</td>\n",
       "    </tr>\n",
       "    <tr>\n",
       "      <th>2014-01-23</th>\n",
       "      <td>1</td>\n",
       "    </tr>\n",
       "    <tr>\n",
       "      <th>2014-01-24</th>\n",
       "      <td>1</td>\n",
       "    </tr>\n",
       "    <tr>\n",
       "      <th>2014-01-25</th>\n",
       "      <td>0</td>\n",
       "    </tr>\n",
       "    <tr>\n",
       "      <th>2014-01-26</th>\n",
       "      <td>0</td>\n",
       "    </tr>\n",
       "    <tr>\n",
       "      <th>2014-01-27</th>\n",
       "      <td>1</td>\n",
       "    </tr>\n",
       "    <tr>\n",
       "      <th>2014-01-28</th>\n",
       "      <td>1</td>\n",
       "    </tr>\n",
       "    <tr>\n",
       "      <th>2014-01-29</th>\n",
       "      <td>1</td>\n",
       "    </tr>\n",
       "    <tr>\n",
       "      <th>2014-01-30</th>\n",
       "      <td>1</td>\n",
       "    </tr>\n",
       "    <tr>\n",
       "      <th>...</th>\n",
       "      <th>...</th>\n",
       "      <td>...</td>\n",
       "    </tr>\n",
       "    <tr>\n",
       "      <th rowspan=\"30\" valign=\"top\">Distrito Federal</th>\n",
       "      <th>2014-12-02</th>\n",
       "      <td>0</td>\n",
       "    </tr>\n",
       "    <tr>\n",
       "      <th>2014-12-03</th>\n",
       "      <td>0</td>\n",
       "    </tr>\n",
       "    <tr>\n",
       "      <th>2014-12-04</th>\n",
       "      <td>0</td>\n",
       "    </tr>\n",
       "    <tr>\n",
       "      <th>2014-12-05</th>\n",
       "      <td>0</td>\n",
       "    </tr>\n",
       "    <tr>\n",
       "      <th>2014-12-06</th>\n",
       "      <td>0</td>\n",
       "    </tr>\n",
       "    <tr>\n",
       "      <th>2014-12-07</th>\n",
       "      <td>0</td>\n",
       "    </tr>\n",
       "    <tr>\n",
       "      <th>2014-12-08</th>\n",
       "      <td>0</td>\n",
       "    </tr>\n",
       "    <tr>\n",
       "      <th>2014-12-09</th>\n",
       "      <td>0</td>\n",
       "    </tr>\n",
       "    <tr>\n",
       "      <th>2014-12-10</th>\n",
       "      <td>0</td>\n",
       "    </tr>\n",
       "    <tr>\n",
       "      <th>2014-12-11</th>\n",
       "      <td>0</td>\n",
       "    </tr>\n",
       "    <tr>\n",
       "      <th>2014-12-12</th>\n",
       "      <td>0</td>\n",
       "    </tr>\n",
       "    <tr>\n",
       "      <th>2014-12-13</th>\n",
       "      <td>0</td>\n",
       "    </tr>\n",
       "    <tr>\n",
       "      <th>2014-12-14</th>\n",
       "      <td>0</td>\n",
       "    </tr>\n",
       "    <tr>\n",
       "      <th>2014-12-15</th>\n",
       "      <td>0</td>\n",
       "    </tr>\n",
       "    <tr>\n",
       "      <th>2014-12-16</th>\n",
       "      <td>0</td>\n",
       "    </tr>\n",
       "    <tr>\n",
       "      <th>2014-12-17</th>\n",
       "      <td>0</td>\n",
       "    </tr>\n",
       "    <tr>\n",
       "      <th>2014-12-18</th>\n",
       "      <td>0</td>\n",
       "    </tr>\n",
       "    <tr>\n",
       "      <th>2014-12-19</th>\n",
       "      <td>0</td>\n",
       "    </tr>\n",
       "    <tr>\n",
       "      <th>2014-12-20</th>\n",
       "      <td>0</td>\n",
       "    </tr>\n",
       "    <tr>\n",
       "      <th>2014-12-21</th>\n",
       "      <td>0</td>\n",
       "    </tr>\n",
       "    <tr>\n",
       "      <th>2014-12-22</th>\n",
       "      <td>0</td>\n",
       "    </tr>\n",
       "    <tr>\n",
       "      <th>2014-12-23</th>\n",
       "      <td>0</td>\n",
       "    </tr>\n",
       "    <tr>\n",
       "      <th>2014-12-24</th>\n",
       "      <td>0</td>\n",
       "    </tr>\n",
       "    <tr>\n",
       "      <th>2014-12-25</th>\n",
       "      <td>0</td>\n",
       "    </tr>\n",
       "    <tr>\n",
       "      <th>2014-12-26</th>\n",
       "      <td>0</td>\n",
       "    </tr>\n",
       "    <tr>\n",
       "      <th>2014-12-27</th>\n",
       "      <td>0</td>\n",
       "    </tr>\n",
       "    <tr>\n",
       "      <th>2014-12-28</th>\n",
       "      <td>0</td>\n",
       "    </tr>\n",
       "    <tr>\n",
       "      <th>2014-12-29</th>\n",
       "      <td>0</td>\n",
       "    </tr>\n",
       "    <tr>\n",
       "      <th>2014-12-30</th>\n",
       "      <td>0</td>\n",
       "    </tr>\n",
       "    <tr>\n",
       "      <th>2014-12-31</th>\n",
       "      <td>0</td>\n",
       "    </tr>\n",
       "  </tbody>\n",
       "</table>\n",
       "<p>9855 rows × 1 columns</p>\n",
       "</div>"
      ],
      "text/plain": [
       "                             event\n",
       "city             date             \n",
       "Rio de Janeiro   2014-01-01      1\n",
       "                 2014-01-02      1\n",
       "                 2014-01-03      1\n",
       "                 2014-01-04      1\n",
       "                 2014-01-05      1\n",
       "                 2014-01-06      1\n",
       "                 2014-01-07      1\n",
       "                 2014-01-08      1\n",
       "                 2014-01-09      1\n",
       "                 2014-01-10      1\n",
       "                 2014-01-11      1\n",
       "                 2014-01-12      1\n",
       "                 2014-01-13      1\n",
       "                 2014-01-14      1\n",
       "                 2014-01-15      1\n",
       "                 2014-01-16      1\n",
       "                 2014-01-17      1\n",
       "                 2014-01-18      1\n",
       "                 2014-01-19      0\n",
       "                 2014-01-20      1\n",
       "                 2014-01-21      1\n",
       "                 2014-01-22      1\n",
       "                 2014-01-23      1\n",
       "                 2014-01-24      1\n",
       "                 2014-01-25      0\n",
       "                 2014-01-26      0\n",
       "                 2014-01-27      1\n",
       "                 2014-01-28      1\n",
       "                 2014-01-29      1\n",
       "                 2014-01-30      1\n",
       "...                            ...\n",
       "Distrito Federal 2014-12-02      0\n",
       "                 2014-12-03      0\n",
       "                 2014-12-04      0\n",
       "                 2014-12-05      0\n",
       "                 2014-12-06      0\n",
       "                 2014-12-07      0\n",
       "                 2014-12-08      0\n",
       "                 2014-12-09      0\n",
       "                 2014-12-10      0\n",
       "                 2014-12-11      0\n",
       "                 2014-12-12      0\n",
       "                 2014-12-13      0\n",
       "                 2014-12-14      0\n",
       "                 2014-12-15      0\n",
       "                 2014-12-16      0\n",
       "                 2014-12-17      0\n",
       "                 2014-12-18      0\n",
       "                 2014-12-19      0\n",
       "                 2014-12-20      0\n",
       "                 2014-12-21      0\n",
       "                 2014-12-22      0\n",
       "                 2014-12-23      0\n",
       "                 2014-12-24      0\n",
       "                 2014-12-25      0\n",
       "                 2014-12-26      0\n",
       "                 2014-12-27      0\n",
       "                 2014-12-28      0\n",
       "                 2014-12-29      0\n",
       "                 2014-12-30      0\n",
       "                 2014-12-31      0\n",
       "\n",
       "[9855 rows x 1 columns]"
      ]
     },
     "execution_count": 79,
     "metadata": {},
     "output_type": "execute_result"
    }
   ],
   "source": [
    "y"
   ]
  },
  {
   "cell_type": "code",
   "execution_count": 80,
   "metadata": {
    "collapsed": false
   },
   "outputs": [
    {
     "ename": "KeyError",
     "evalue": "u'medo'",
     "output_type": "error",
     "traceback": [
      "\u001b[1;31m---------------------------------------------------------------------------\u001b[0m",
      "\u001b[1;31mKeyError\u001b[0m                                  Traceback (most recent call last)",
      "\u001b[1;32m<ipython-input-80-ae88c4ee02cd>\u001b[0m in \u001b[0;36m<module>\u001b[1;34m()\u001b[0m\n\u001b[0;32m      6\u001b[0m X1 = pd.read_csv('features_' + languages[0] + '.csv', header=None,\n\u001b[0;32m      7\u001b[0m                  names=get_keywords(file_keys)[languages[0]].keys()+['date', 'city'])\n\u001b[1;32m----> 8\u001b[1;33m \u001b[0mX1\u001b[0m \u001b[1;33m=\u001b[0m \u001b[0mX1\u001b[0m\u001b[1;33m.\u001b[0m\u001b[0mgroupby\u001b[0m\u001b[1;33m(\u001b[0m\u001b[1;33m[\u001b[0m\u001b[1;34m'city'\u001b[0m\u001b[1;33m,\u001b[0m \u001b[1;34m'date'\u001b[0m\u001b[1;33m]\u001b[0m\u001b[1;33m)\u001b[0m\u001b[1;33m.\u001b[0m\u001b[0magg\u001b[0m\u001b[1;33m(\u001b[0m\u001b[1;33m{\u001b[0m\u001b[0mkey\u001b[0m\u001b[1;33m:\u001b[0m \u001b[0mnp\u001b[0m\u001b[1;33m.\u001b[0m\u001b[0msum\u001b[0m \u001b[1;32mfor\u001b[0m \u001b[0mkey\u001b[0m \u001b[1;32min\u001b[0m \u001b[0mkeywords\u001b[0m\u001b[1;33m}\u001b[0m\u001b[1;33m)\u001b[0m\u001b[1;33m\u001b[0m\u001b[0m\n\u001b[0m\u001b[0;32m      9\u001b[0m X2 = pd.read_csv('features_' + languages[1] + '.csv', header=None,\n\u001b[0;32m     10\u001b[0m                  names=get_keywords(file_keys)[languages[1]].keys()+['date', 'city'])\n",
      "\u001b[1;32mC:\\Anaconda2\\lib\\site-packages\\pandas\\core\\groupby.pyc\u001b[0m in \u001b[0;36magg\u001b[1;34m(self, func, *args, **kwargs)\u001b[0m\n\u001b[0;32m    727\u001b[0m     \u001b[1;33m@\u001b[0m\u001b[0mAppender\u001b[0m\u001b[1;33m(\u001b[0m\u001b[0m_agg_doc\u001b[0m\u001b[1;33m)\u001b[0m\u001b[1;33m\u001b[0m\u001b[0m\n\u001b[0;32m    728\u001b[0m     \u001b[1;32mdef\u001b[0m \u001b[0magg\u001b[0m\u001b[1;33m(\u001b[0m\u001b[0mself\u001b[0m\u001b[1;33m,\u001b[0m \u001b[0mfunc\u001b[0m\u001b[1;33m,\u001b[0m \u001b[1;33m*\u001b[0m\u001b[0margs\u001b[0m\u001b[1;33m,\u001b[0m \u001b[1;33m**\u001b[0m\u001b[0mkwargs\u001b[0m\u001b[1;33m)\u001b[0m\u001b[1;33m:\u001b[0m\u001b[1;33m\u001b[0m\u001b[0m\n\u001b[1;32m--> 729\u001b[1;33m         \u001b[1;32mreturn\u001b[0m \u001b[0mself\u001b[0m\u001b[1;33m.\u001b[0m\u001b[0maggregate\u001b[0m\u001b[1;33m(\u001b[0m\u001b[0mfunc\u001b[0m\u001b[1;33m,\u001b[0m \u001b[1;33m*\u001b[0m\u001b[0margs\u001b[0m\u001b[1;33m,\u001b[0m \u001b[1;33m**\u001b[0m\u001b[0mkwargs\u001b[0m\u001b[1;33m)\u001b[0m\u001b[1;33m\u001b[0m\u001b[0m\n\u001b[0m\u001b[0;32m    730\u001b[0m \u001b[1;33m\u001b[0m\u001b[0m\n\u001b[0;32m    731\u001b[0m     \u001b[1;32mdef\u001b[0m \u001b[0m_iterate_slices\u001b[0m\u001b[1;33m(\u001b[0m\u001b[0mself\u001b[0m\u001b[1;33m)\u001b[0m\u001b[1;33m:\u001b[0m\u001b[1;33m\u001b[0m\u001b[0m\n",
      "\u001b[1;32mC:\\Anaconda2\\lib\\site-packages\\pandas\\core\\groupby.pyc\u001b[0m in \u001b[0;36maggregate\u001b[1;34m(self, arg, *args, **kwargs)\u001b[0m\n\u001b[0;32m   2958\u001b[0m             \u001b[1;32melse\u001b[0m\u001b[1;33m:\u001b[0m\u001b[1;33m\u001b[0m\u001b[0m\n\u001b[0;32m   2959\u001b[0m                 \u001b[1;32mfor\u001b[0m \u001b[0mcol\u001b[0m\u001b[1;33m,\u001b[0m \u001b[0magg_how\u001b[0m \u001b[1;32min\u001b[0m \u001b[0mcompat\u001b[0m\u001b[1;33m.\u001b[0m\u001b[0miteritems\u001b[0m\u001b[1;33m(\u001b[0m\u001b[0marg\u001b[0m\u001b[1;33m)\u001b[0m\u001b[1;33m:\u001b[0m\u001b[1;33m\u001b[0m\u001b[0m\n\u001b[1;32m-> 2960\u001b[1;33m                     colg = SeriesGroupBy(obj[col], selection=col,\n\u001b[0m\u001b[0;32m   2961\u001b[0m                                          grouper=self.grouper)\n\u001b[0;32m   2962\u001b[0m                     \u001b[0mresult\u001b[0m\u001b[1;33m[\u001b[0m\u001b[0mcol\u001b[0m\u001b[1;33m]\u001b[0m \u001b[1;33m=\u001b[0m \u001b[0mcolg\u001b[0m\u001b[1;33m.\u001b[0m\u001b[0maggregate\u001b[0m\u001b[1;33m(\u001b[0m\u001b[0magg_how\u001b[0m\u001b[1;33m)\u001b[0m\u001b[1;33m\u001b[0m\u001b[0m\n",
      "\u001b[1;32mC:\\Anaconda2\\lib\\site-packages\\pandas\\core\\frame.pyc\u001b[0m in \u001b[0;36m__getitem__\u001b[1;34m(self, key)\u001b[0m\n\u001b[0;32m   1967\u001b[0m             \u001b[1;32mreturn\u001b[0m \u001b[0mself\u001b[0m\u001b[1;33m.\u001b[0m\u001b[0m_getitem_multilevel\u001b[0m\u001b[1;33m(\u001b[0m\u001b[0mkey\u001b[0m\u001b[1;33m)\u001b[0m\u001b[1;33m\u001b[0m\u001b[0m\n\u001b[0;32m   1968\u001b[0m         \u001b[1;32melse\u001b[0m\u001b[1;33m:\u001b[0m\u001b[1;33m\u001b[0m\u001b[0m\n\u001b[1;32m-> 1969\u001b[1;33m             \u001b[1;32mreturn\u001b[0m \u001b[0mself\u001b[0m\u001b[1;33m.\u001b[0m\u001b[0m_getitem_column\u001b[0m\u001b[1;33m(\u001b[0m\u001b[0mkey\u001b[0m\u001b[1;33m)\u001b[0m\u001b[1;33m\u001b[0m\u001b[0m\n\u001b[0m\u001b[0;32m   1970\u001b[0m \u001b[1;33m\u001b[0m\u001b[0m\n\u001b[0;32m   1971\u001b[0m     \u001b[1;32mdef\u001b[0m \u001b[0m_getitem_column\u001b[0m\u001b[1;33m(\u001b[0m\u001b[0mself\u001b[0m\u001b[1;33m,\u001b[0m \u001b[0mkey\u001b[0m\u001b[1;33m)\u001b[0m\u001b[1;33m:\u001b[0m\u001b[1;33m\u001b[0m\u001b[0m\n",
      "\u001b[1;32mC:\\Anaconda2\\lib\\site-packages\\pandas\\core\\frame.pyc\u001b[0m in \u001b[0;36m_getitem_column\u001b[1;34m(self, key)\u001b[0m\n\u001b[0;32m   1974\u001b[0m         \u001b[1;31m# get column\u001b[0m\u001b[1;33m\u001b[0m\u001b[1;33m\u001b[0m\u001b[0m\n\u001b[0;32m   1975\u001b[0m         \u001b[1;32mif\u001b[0m \u001b[0mself\u001b[0m\u001b[1;33m.\u001b[0m\u001b[0mcolumns\u001b[0m\u001b[1;33m.\u001b[0m\u001b[0mis_unique\u001b[0m\u001b[1;33m:\u001b[0m\u001b[1;33m\u001b[0m\u001b[0m\n\u001b[1;32m-> 1976\u001b[1;33m             \u001b[1;32mreturn\u001b[0m \u001b[0mself\u001b[0m\u001b[1;33m.\u001b[0m\u001b[0m_get_item_cache\u001b[0m\u001b[1;33m(\u001b[0m\u001b[0mkey\u001b[0m\u001b[1;33m)\u001b[0m\u001b[1;33m\u001b[0m\u001b[0m\n\u001b[0m\u001b[0;32m   1977\u001b[0m \u001b[1;33m\u001b[0m\u001b[0m\n\u001b[0;32m   1978\u001b[0m         \u001b[1;31m# duplicate columns & possible reduce dimensionality\u001b[0m\u001b[1;33m\u001b[0m\u001b[1;33m\u001b[0m\u001b[0m\n",
      "\u001b[1;32mC:\\Anaconda2\\lib\\site-packages\\pandas\\core\\generic.pyc\u001b[0m in \u001b[0;36m_get_item_cache\u001b[1;34m(self, item)\u001b[0m\n\u001b[0;32m   1089\u001b[0m         \u001b[0mres\u001b[0m \u001b[1;33m=\u001b[0m \u001b[0mcache\u001b[0m\u001b[1;33m.\u001b[0m\u001b[0mget\u001b[0m\u001b[1;33m(\u001b[0m\u001b[0mitem\u001b[0m\u001b[1;33m)\u001b[0m\u001b[1;33m\u001b[0m\u001b[0m\n\u001b[0;32m   1090\u001b[0m         \u001b[1;32mif\u001b[0m \u001b[0mres\u001b[0m \u001b[1;32mis\u001b[0m \u001b[0mNone\u001b[0m\u001b[1;33m:\u001b[0m\u001b[1;33m\u001b[0m\u001b[0m\n\u001b[1;32m-> 1091\u001b[1;33m             \u001b[0mvalues\u001b[0m \u001b[1;33m=\u001b[0m \u001b[0mself\u001b[0m\u001b[1;33m.\u001b[0m\u001b[0m_data\u001b[0m\u001b[1;33m.\u001b[0m\u001b[0mget\u001b[0m\u001b[1;33m(\u001b[0m\u001b[0mitem\u001b[0m\u001b[1;33m)\u001b[0m\u001b[1;33m\u001b[0m\u001b[0m\n\u001b[0m\u001b[0;32m   1092\u001b[0m             \u001b[0mres\u001b[0m \u001b[1;33m=\u001b[0m \u001b[0mself\u001b[0m\u001b[1;33m.\u001b[0m\u001b[0m_box_item_values\u001b[0m\u001b[1;33m(\u001b[0m\u001b[0mitem\u001b[0m\u001b[1;33m,\u001b[0m \u001b[0mvalues\u001b[0m\u001b[1;33m)\u001b[0m\u001b[1;33m\u001b[0m\u001b[0m\n\u001b[0;32m   1093\u001b[0m             \u001b[0mcache\u001b[0m\u001b[1;33m[\u001b[0m\u001b[0mitem\u001b[0m\u001b[1;33m]\u001b[0m \u001b[1;33m=\u001b[0m \u001b[0mres\u001b[0m\u001b[1;33m\u001b[0m\u001b[0m\n",
      "\u001b[1;32mC:\\Anaconda2\\lib\\site-packages\\pandas\\core\\internals.pyc\u001b[0m in \u001b[0;36mget\u001b[1;34m(self, item, fastpath)\u001b[0m\n\u001b[0;32m   3209\u001b[0m \u001b[1;33m\u001b[0m\u001b[0m\n\u001b[0;32m   3210\u001b[0m             \u001b[1;32mif\u001b[0m \u001b[1;32mnot\u001b[0m \u001b[0misnull\u001b[0m\u001b[1;33m(\u001b[0m\u001b[0mitem\u001b[0m\u001b[1;33m)\u001b[0m\u001b[1;33m:\u001b[0m\u001b[1;33m\u001b[0m\u001b[0m\n\u001b[1;32m-> 3211\u001b[1;33m                 \u001b[0mloc\u001b[0m \u001b[1;33m=\u001b[0m \u001b[0mself\u001b[0m\u001b[1;33m.\u001b[0m\u001b[0mitems\u001b[0m\u001b[1;33m.\u001b[0m\u001b[0mget_loc\u001b[0m\u001b[1;33m(\u001b[0m\u001b[0mitem\u001b[0m\u001b[1;33m)\u001b[0m\u001b[1;33m\u001b[0m\u001b[0m\n\u001b[0m\u001b[0;32m   3212\u001b[0m             \u001b[1;32melse\u001b[0m\u001b[1;33m:\u001b[0m\u001b[1;33m\u001b[0m\u001b[0m\n\u001b[0;32m   3213\u001b[0m                 \u001b[0mindexer\u001b[0m \u001b[1;33m=\u001b[0m \u001b[0mnp\u001b[0m\u001b[1;33m.\u001b[0m\u001b[0marange\u001b[0m\u001b[1;33m(\u001b[0m\u001b[0mlen\u001b[0m\u001b[1;33m(\u001b[0m\u001b[0mself\u001b[0m\u001b[1;33m.\u001b[0m\u001b[0mitems\u001b[0m\u001b[1;33m)\u001b[0m\u001b[1;33m)\u001b[0m\u001b[1;33m[\u001b[0m\u001b[0misnull\u001b[0m\u001b[1;33m(\u001b[0m\u001b[0mself\u001b[0m\u001b[1;33m.\u001b[0m\u001b[0mitems\u001b[0m\u001b[1;33m)\u001b[0m\u001b[1;33m]\u001b[0m\u001b[1;33m\u001b[0m\u001b[0m\n",
      "\u001b[1;32mC:\\Anaconda2\\lib\\site-packages\\pandas\\core\\index.pyc\u001b[0m in \u001b[0;36mget_loc\u001b[1;34m(self, key, method, tolerance)\u001b[0m\n\u001b[0;32m   1757\u001b[0m                                  'backfill or nearest lookups')\n\u001b[0;32m   1758\u001b[0m             \u001b[0mkey\u001b[0m \u001b[1;33m=\u001b[0m \u001b[0m_values_from_object\u001b[0m\u001b[1;33m(\u001b[0m\u001b[0mkey\u001b[0m\u001b[1;33m)\u001b[0m\u001b[1;33m\u001b[0m\u001b[0m\n\u001b[1;32m-> 1759\u001b[1;33m             \u001b[1;32mreturn\u001b[0m \u001b[0mself\u001b[0m\u001b[1;33m.\u001b[0m\u001b[0m_engine\u001b[0m\u001b[1;33m.\u001b[0m\u001b[0mget_loc\u001b[0m\u001b[1;33m(\u001b[0m\u001b[0mkey\u001b[0m\u001b[1;33m)\u001b[0m\u001b[1;33m\u001b[0m\u001b[0m\n\u001b[0m\u001b[0;32m   1760\u001b[0m \u001b[1;33m\u001b[0m\u001b[0m\n\u001b[0;32m   1761\u001b[0m         indexer = self.get_indexer([key], method=method,\n",
      "\u001b[1;32mpandas\\index.pyx\u001b[0m in \u001b[0;36mpandas.index.IndexEngine.get_loc (pandas\\index.c:3979)\u001b[1;34m()\u001b[0m\n",
      "\u001b[1;32mpandas\\index.pyx\u001b[0m in \u001b[0;36mpandas.index.IndexEngine.get_loc (pandas\\index.c:3843)\u001b[1;34m()\u001b[0m\n",
      "\u001b[1;32mpandas\\hashtable.pyx\u001b[0m in \u001b[0;36mpandas.hashtable.PyObjectHashTable.get_item (pandas\\hashtable.c:12265)\u001b[1;34m()\u001b[0m\n",
      "\u001b[1;32mpandas\\hashtable.pyx\u001b[0m in \u001b[0;36mpandas.hashtable.PyObjectHashTable.get_item (pandas\\hashtable.c:12216)\u001b[1;34m()\u001b[0m\n",
      "\u001b[1;31mKeyError\u001b[0m: u'medo'"
     ]
    }
   ],
   "source": [
    "languages = ['English', 'Portuguese', 'Spanish']\n",
    "results = []\n",
    "file_keys = \"./CU_Keywords.2013-01-25T15-36-29\"\n",
    "\n",
    "keywords = get_keywords(file_keys)[languages[0]].keys()\n",
    "X1 = pd.read_csv('features_' + languages[0] + '.csv', header=None,\n",
    "                 names=keywords+['date', 'city'])\n",
    "X1 = X1.groupby(['city', 'date']).agg({key: np.sum for key in keywords})\n",
    "\n",
    "keywords = get_keywords(file_keys)[languages[1]].keys()\n",
    "X2 = pd.read_csv('features_' + languages[1] + '.csv', header=None,\n",
    "                 names=keywords+['date', 'city'])\n",
    "X2 = X2.groupby(['city', 'date']).agg({key: np.sum for key in keywords})\n",
    "\n",
    "keywords = get_keywords(file_keys)[languages[2]].keys()\n",
    "X3 = pd.read_csv('features_' + languages[2] + '.csv', header=None,\n",
    "                 names=keywords+['date', 'city'])\n",
    "X3 = X3.groupby(['city', 'date']).agg({key: np.sum for key in keywords})\n",
    "frames = [X1, X2, X3]\n",
    "X = pd.concat(frames, axis=1)\n",
    "models = [LogisticRegression(penalty='l1', class_weight='balanced'),\n",
    "          SVC(class_weight=\"balanced\"),\n",
    "          ]\n",
    "res_predicted = []\n",
    "for m in models:\n",
    "    for X in [X1, X2, X3]:\n",
    "        m.fit(X, y.event)\n",
    "        predicted = m.predict(X)\n",
    "        res_predicted.append(predicted)"
   ]
  },
  {
   "cell_type": "code",
   "execution_count": 81,
   "metadata": {
    "collapsed": true
   },
   "outputs": [],
   "source": [
    "languages = ['English', 'Portuguese', 'Spanish']\n",
    "results = []\n",
    "file_keys = \"./CU_Keywords.2013-01-25T15-36-29\"\n",
    "\n",
    "keywords = get_keywords(file_keys)[languages[0]].keys()\n",
    "X1 = pd.read_csv('features_' + languages[0] + '.csv', header=None, names=keywords + ['date', 'city'])\n",
    "X1 = X1.groupby(['city', 'date']).agg({key: np.sum for key in keywords})\n",
    "\n",
    "keywords = get_keywords(file_keys)[languages[1]].keys()\n",
    "X2 = pd.read_csv('features_' + languages[1] + '.csv', header=None, names=keywords + ['date', 'city'])\n",
    "X2 = X2.groupby(['city', 'date']).agg({key: np.sum for key in keywords})\n",
    "\n",
    "keywords = get_keywords(file_keys)[languages[2]].keys()\n",
    "X3 = pd.read_csv('features_' + languages[2] + '.csv', header=None, names=keywords + ['date', 'city'])\n",
    "X3 = X3.groupby(['city', 'date']).agg({key: np.sum for key in keywords})\n",
    "frames = [X1, X2, X3]\n",
    "X = pd.concat(frames, axis=1)\n",
    "models = [LogisticRegression(penalty='l1', class_weight='balanced'),\n",
    "          SVC(class_weight=\"balanced\"),\n",
    "          ]\n",
    "res_predicted = []\n",
    "for m in models:\n",
    "    for X in [X1, X2, X3]:\n",
    "        m.fit(X, y.event)\n",
    "        predicted = m.predict(X)\n",
    "        res_predicted.append(predicted)"
   ]
  },
  {
   "cell_type": "code",
   "execution_count": 83,
   "metadata": {
    "collapsed": false
   },
   "outputs": [
    {
     "data": {
      "text/plain": [
       "[array([ 1.,  1.,  1., ...,  1.,  1.,  1.]),\n",
       " array([ 1.,  1.,  1., ...,  1.,  0.,  0.]),\n",
       " array([ 1.,  1.,  1., ...,  1.,  1.,  1.]),\n",
       " array([ 1.,  1.,  1., ...,  1.,  1.,  1.]),\n",
       " array([ 1.,  1.,  1., ...,  1.,  1.,  1.]),\n",
       " array([ 1.,  1.,  1., ...,  1.,  1.,  1.])]"
      ]
     },
     "execution_count": 83,
     "metadata": {},
     "output_type": "execute_result"
    }
   ],
   "source": [
    "res_predicted"
   ]
  },
  {
   "cell_type": "code",
   "execution_count": 84,
   "metadata": {
    "collapsed": true
   },
   "outputs": [],
   "source": [
    "df_results = pd.DataFrame(res_predicted)"
   ]
  },
  {
   "cell_type": "code",
   "execution_count": 85,
   "metadata": {
    "collapsed": false
   },
   "outputs": [
    {
     "data": {
      "text/html": [
       "<div>\n",
       "<table border=\"1\" class=\"dataframe\">\n",
       "  <thead>\n",
       "    <tr style=\"text-align: right;\">\n",
       "      <th></th>\n",
       "      <th>0</th>\n",
       "      <th>1</th>\n",
       "      <th>2</th>\n",
       "      <th>3</th>\n",
       "      <th>4</th>\n",
       "      <th>5</th>\n",
       "      <th>6</th>\n",
       "      <th>7</th>\n",
       "      <th>8</th>\n",
       "      <th>9</th>\n",
       "      <th>...</th>\n",
       "      <th>9845</th>\n",
       "      <th>9846</th>\n",
       "      <th>9847</th>\n",
       "      <th>9848</th>\n",
       "      <th>9849</th>\n",
       "      <th>9850</th>\n",
       "      <th>9851</th>\n",
       "      <th>9852</th>\n",
       "      <th>9853</th>\n",
       "      <th>9854</th>\n",
       "    </tr>\n",
       "  </thead>\n",
       "  <tbody>\n",
       "    <tr>\n",
       "      <th>0</th>\n",
       "      <td>1</td>\n",
       "      <td>1</td>\n",
       "      <td>1</td>\n",
       "      <td>1</td>\n",
       "      <td>1</td>\n",
       "      <td>1</td>\n",
       "      <td>1</td>\n",
       "      <td>1</td>\n",
       "      <td>1</td>\n",
       "      <td>1</td>\n",
       "      <td>...</td>\n",
       "      <td>1</td>\n",
       "      <td>1</td>\n",
       "      <td>1</td>\n",
       "      <td>1</td>\n",
       "      <td>1</td>\n",
       "      <td>1</td>\n",
       "      <td>1</td>\n",
       "      <td>1</td>\n",
       "      <td>1</td>\n",
       "      <td>1</td>\n",
       "    </tr>\n",
       "    <tr>\n",
       "      <th>1</th>\n",
       "      <td>1</td>\n",
       "      <td>1</td>\n",
       "      <td>1</td>\n",
       "      <td>1</td>\n",
       "      <td>1</td>\n",
       "      <td>1</td>\n",
       "      <td>1</td>\n",
       "      <td>1</td>\n",
       "      <td>1</td>\n",
       "      <td>1</td>\n",
       "      <td>...</td>\n",
       "      <td>0</td>\n",
       "      <td>0</td>\n",
       "      <td>0</td>\n",
       "      <td>0</td>\n",
       "      <td>0</td>\n",
       "      <td>0</td>\n",
       "      <td>1</td>\n",
       "      <td>1</td>\n",
       "      <td>0</td>\n",
       "      <td>0</td>\n",
       "    </tr>\n",
       "    <tr>\n",
       "      <th>2</th>\n",
       "      <td>1</td>\n",
       "      <td>1</td>\n",
       "      <td>1</td>\n",
       "      <td>1</td>\n",
       "      <td>1</td>\n",
       "      <td>1</td>\n",
       "      <td>1</td>\n",
       "      <td>1</td>\n",
       "      <td>1</td>\n",
       "      <td>1</td>\n",
       "      <td>...</td>\n",
       "      <td>0</td>\n",
       "      <td>0</td>\n",
       "      <td>1</td>\n",
       "      <td>1</td>\n",
       "      <td>1</td>\n",
       "      <td>1</td>\n",
       "      <td>1</td>\n",
       "      <td>1</td>\n",
       "      <td>1</td>\n",
       "      <td>1</td>\n",
       "    </tr>\n",
       "    <tr>\n",
       "      <th>3</th>\n",
       "      <td>1</td>\n",
       "      <td>1</td>\n",
       "      <td>1</td>\n",
       "      <td>1</td>\n",
       "      <td>1</td>\n",
       "      <td>1</td>\n",
       "      <td>1</td>\n",
       "      <td>1</td>\n",
       "      <td>1</td>\n",
       "      <td>1</td>\n",
       "      <td>...</td>\n",
       "      <td>1</td>\n",
       "      <td>1</td>\n",
       "      <td>1</td>\n",
       "      <td>1</td>\n",
       "      <td>1</td>\n",
       "      <td>1</td>\n",
       "      <td>1</td>\n",
       "      <td>1</td>\n",
       "      <td>1</td>\n",
       "      <td>1</td>\n",
       "    </tr>\n",
       "    <tr>\n",
       "      <th>4</th>\n",
       "      <td>1</td>\n",
       "      <td>1</td>\n",
       "      <td>1</td>\n",
       "      <td>1</td>\n",
       "      <td>1</td>\n",
       "      <td>1</td>\n",
       "      <td>1</td>\n",
       "      <td>1</td>\n",
       "      <td>1</td>\n",
       "      <td>1</td>\n",
       "      <td>...</td>\n",
       "      <td>0</td>\n",
       "      <td>0</td>\n",
       "      <td>0</td>\n",
       "      <td>1</td>\n",
       "      <td>0</td>\n",
       "      <td>0</td>\n",
       "      <td>1</td>\n",
       "      <td>1</td>\n",
       "      <td>1</td>\n",
       "      <td>1</td>\n",
       "    </tr>\n",
       "    <tr>\n",
       "      <th>5</th>\n",
       "      <td>1</td>\n",
       "      <td>1</td>\n",
       "      <td>1</td>\n",
       "      <td>1</td>\n",
       "      <td>1</td>\n",
       "      <td>1</td>\n",
       "      <td>1</td>\n",
       "      <td>1</td>\n",
       "      <td>1</td>\n",
       "      <td>1</td>\n",
       "      <td>...</td>\n",
       "      <td>1</td>\n",
       "      <td>1</td>\n",
       "      <td>1</td>\n",
       "      <td>1</td>\n",
       "      <td>1</td>\n",
       "      <td>1</td>\n",
       "      <td>1</td>\n",
       "      <td>1</td>\n",
       "      <td>1</td>\n",
       "      <td>1</td>\n",
       "    </tr>\n",
       "  </tbody>\n",
       "</table>\n",
       "<p>6 rows × 9855 columns</p>\n",
       "</div>"
      ],
      "text/plain": [
       "   0     1     2     3     4     5     6     7     8     9     ...   9845  \\\n",
       "0     1     1     1     1     1     1     1     1     1     1  ...      1   \n",
       "1     1     1     1     1     1     1     1     1     1     1  ...      0   \n",
       "2     1     1     1     1     1     1     1     1     1     1  ...      0   \n",
       "3     1     1     1     1     1     1     1     1     1     1  ...      1   \n",
       "4     1     1     1     1     1     1     1     1     1     1  ...      0   \n",
       "5     1     1     1     1     1     1     1     1     1     1  ...      1   \n",
       "\n",
       "   9846  9847  9848  9849  9850  9851  9852  9853  9854  \n",
       "0     1     1     1     1     1     1     1     1     1  \n",
       "1     0     0     0     0     0     1     1     0     0  \n",
       "2     0     1     1     1     1     1     1     1     1  \n",
       "3     1     1     1     1     1     1     1     1     1  \n",
       "4     0     0     1     0     0     1     1     1     1  \n",
       "5     1     1     1     1     1     1     1     1     1  \n",
       "\n",
       "[6 rows x 9855 columns]"
      ]
     },
     "execution_count": 85,
     "metadata": {},
     "output_type": "execute_result"
    }
   ],
   "source": [
    "df_results"
   ]
  },
  {
   "cell_type": "code",
   "execution_count": 86,
   "metadata": {
    "collapsed": false
   },
   "outputs": [
    {
     "data": {
      "text/html": [
       "<div>\n",
       "<table border=\"1\" class=\"dataframe\">\n",
       "  <thead>\n",
       "    <tr style=\"text-align: right;\">\n",
       "      <th></th>\n",
       "      <th>0</th>\n",
       "      <th>1</th>\n",
       "      <th>2</th>\n",
       "      <th>3</th>\n",
       "      <th>4</th>\n",
       "      <th>5</th>\n",
       "    </tr>\n",
       "  </thead>\n",
       "  <tbody>\n",
       "    <tr>\n",
       "      <th>0</th>\n",
       "      <td>1</td>\n",
       "      <td>1</td>\n",
       "      <td>1</td>\n",
       "      <td>1</td>\n",
       "      <td>1</td>\n",
       "      <td>1</td>\n",
       "    </tr>\n",
       "    <tr>\n",
       "      <th>1</th>\n",
       "      <td>1</td>\n",
       "      <td>1</td>\n",
       "      <td>1</td>\n",
       "      <td>1</td>\n",
       "      <td>1</td>\n",
       "      <td>1</td>\n",
       "    </tr>\n",
       "    <tr>\n",
       "      <th>2</th>\n",
       "      <td>1</td>\n",
       "      <td>1</td>\n",
       "      <td>1</td>\n",
       "      <td>1</td>\n",
       "      <td>1</td>\n",
       "      <td>1</td>\n",
       "    </tr>\n",
       "    <tr>\n",
       "      <th>3</th>\n",
       "      <td>1</td>\n",
       "      <td>1</td>\n",
       "      <td>1</td>\n",
       "      <td>1</td>\n",
       "      <td>1</td>\n",
       "      <td>1</td>\n",
       "    </tr>\n",
       "    <tr>\n",
       "      <th>4</th>\n",
       "      <td>1</td>\n",
       "      <td>1</td>\n",
       "      <td>1</td>\n",
       "      <td>1</td>\n",
       "      <td>1</td>\n",
       "      <td>1</td>\n",
       "    </tr>\n",
       "    <tr>\n",
       "      <th>5</th>\n",
       "      <td>1</td>\n",
       "      <td>1</td>\n",
       "      <td>1</td>\n",
       "      <td>1</td>\n",
       "      <td>1</td>\n",
       "      <td>1</td>\n",
       "    </tr>\n",
       "    <tr>\n",
       "      <th>6</th>\n",
       "      <td>1</td>\n",
       "      <td>1</td>\n",
       "      <td>1</td>\n",
       "      <td>1</td>\n",
       "      <td>1</td>\n",
       "      <td>1</td>\n",
       "    </tr>\n",
       "    <tr>\n",
       "      <th>7</th>\n",
       "      <td>1</td>\n",
       "      <td>1</td>\n",
       "      <td>1</td>\n",
       "      <td>1</td>\n",
       "      <td>1</td>\n",
       "      <td>1</td>\n",
       "    </tr>\n",
       "    <tr>\n",
       "      <th>8</th>\n",
       "      <td>1</td>\n",
       "      <td>1</td>\n",
       "      <td>1</td>\n",
       "      <td>1</td>\n",
       "      <td>1</td>\n",
       "      <td>1</td>\n",
       "    </tr>\n",
       "    <tr>\n",
       "      <th>9</th>\n",
       "      <td>1</td>\n",
       "      <td>1</td>\n",
       "      <td>1</td>\n",
       "      <td>1</td>\n",
       "      <td>1</td>\n",
       "      <td>1</td>\n",
       "    </tr>\n",
       "    <tr>\n",
       "      <th>10</th>\n",
       "      <td>1</td>\n",
       "      <td>1</td>\n",
       "      <td>1</td>\n",
       "      <td>1</td>\n",
       "      <td>1</td>\n",
       "      <td>1</td>\n",
       "    </tr>\n",
       "    <tr>\n",
       "      <th>11</th>\n",
       "      <td>1</td>\n",
       "      <td>1</td>\n",
       "      <td>1</td>\n",
       "      <td>1</td>\n",
       "      <td>1</td>\n",
       "      <td>1</td>\n",
       "    </tr>\n",
       "    <tr>\n",
       "      <th>12</th>\n",
       "      <td>1</td>\n",
       "      <td>1</td>\n",
       "      <td>1</td>\n",
       "      <td>1</td>\n",
       "      <td>1</td>\n",
       "      <td>1</td>\n",
       "    </tr>\n",
       "    <tr>\n",
       "      <th>13</th>\n",
       "      <td>1</td>\n",
       "      <td>1</td>\n",
       "      <td>1</td>\n",
       "      <td>1</td>\n",
       "      <td>1</td>\n",
       "      <td>1</td>\n",
       "    </tr>\n",
       "    <tr>\n",
       "      <th>14</th>\n",
       "      <td>1</td>\n",
       "      <td>1</td>\n",
       "      <td>1</td>\n",
       "      <td>1</td>\n",
       "      <td>1</td>\n",
       "      <td>1</td>\n",
       "    </tr>\n",
       "    <tr>\n",
       "      <th>15</th>\n",
       "      <td>1</td>\n",
       "      <td>1</td>\n",
       "      <td>1</td>\n",
       "      <td>1</td>\n",
       "      <td>1</td>\n",
       "      <td>1</td>\n",
       "    </tr>\n",
       "    <tr>\n",
       "      <th>16</th>\n",
       "      <td>1</td>\n",
       "      <td>1</td>\n",
       "      <td>1</td>\n",
       "      <td>1</td>\n",
       "      <td>1</td>\n",
       "      <td>1</td>\n",
       "    </tr>\n",
       "    <tr>\n",
       "      <th>17</th>\n",
       "      <td>1</td>\n",
       "      <td>1</td>\n",
       "      <td>1</td>\n",
       "      <td>1</td>\n",
       "      <td>1</td>\n",
       "      <td>1</td>\n",
       "    </tr>\n",
       "    <tr>\n",
       "      <th>18</th>\n",
       "      <td>1</td>\n",
       "      <td>1</td>\n",
       "      <td>1</td>\n",
       "      <td>1</td>\n",
       "      <td>1</td>\n",
       "      <td>1</td>\n",
       "    </tr>\n",
       "    <tr>\n",
       "      <th>19</th>\n",
       "      <td>1</td>\n",
       "      <td>1</td>\n",
       "      <td>1</td>\n",
       "      <td>1</td>\n",
       "      <td>1</td>\n",
       "      <td>1</td>\n",
       "    </tr>\n",
       "    <tr>\n",
       "      <th>20</th>\n",
       "      <td>1</td>\n",
       "      <td>1</td>\n",
       "      <td>1</td>\n",
       "      <td>1</td>\n",
       "      <td>1</td>\n",
       "      <td>1</td>\n",
       "    </tr>\n",
       "    <tr>\n",
       "      <th>21</th>\n",
       "      <td>1</td>\n",
       "      <td>1</td>\n",
       "      <td>1</td>\n",
       "      <td>1</td>\n",
       "      <td>1</td>\n",
       "      <td>1</td>\n",
       "    </tr>\n",
       "    <tr>\n",
       "      <th>22</th>\n",
       "      <td>1</td>\n",
       "      <td>1</td>\n",
       "      <td>1</td>\n",
       "      <td>1</td>\n",
       "      <td>1</td>\n",
       "      <td>1</td>\n",
       "    </tr>\n",
       "    <tr>\n",
       "      <th>23</th>\n",
       "      <td>1</td>\n",
       "      <td>1</td>\n",
       "      <td>1</td>\n",
       "      <td>1</td>\n",
       "      <td>1</td>\n",
       "      <td>1</td>\n",
       "    </tr>\n",
       "    <tr>\n",
       "      <th>24</th>\n",
       "      <td>1</td>\n",
       "      <td>1</td>\n",
       "      <td>1</td>\n",
       "      <td>1</td>\n",
       "      <td>1</td>\n",
       "      <td>1</td>\n",
       "    </tr>\n",
       "    <tr>\n",
       "      <th>25</th>\n",
       "      <td>1</td>\n",
       "      <td>1</td>\n",
       "      <td>1</td>\n",
       "      <td>1</td>\n",
       "      <td>1</td>\n",
       "      <td>1</td>\n",
       "    </tr>\n",
       "    <tr>\n",
       "      <th>26</th>\n",
       "      <td>1</td>\n",
       "      <td>1</td>\n",
       "      <td>1</td>\n",
       "      <td>1</td>\n",
       "      <td>1</td>\n",
       "      <td>1</td>\n",
       "    </tr>\n",
       "    <tr>\n",
       "      <th>27</th>\n",
       "      <td>1</td>\n",
       "      <td>1</td>\n",
       "      <td>1</td>\n",
       "      <td>1</td>\n",
       "      <td>1</td>\n",
       "      <td>1</td>\n",
       "    </tr>\n",
       "    <tr>\n",
       "      <th>28</th>\n",
       "      <td>1</td>\n",
       "      <td>1</td>\n",
       "      <td>1</td>\n",
       "      <td>1</td>\n",
       "      <td>1</td>\n",
       "      <td>1</td>\n",
       "    </tr>\n",
       "    <tr>\n",
       "      <th>29</th>\n",
       "      <td>1</td>\n",
       "      <td>1</td>\n",
       "      <td>1</td>\n",
       "      <td>1</td>\n",
       "      <td>1</td>\n",
       "      <td>1</td>\n",
       "    </tr>\n",
       "    <tr>\n",
       "      <th>...</th>\n",
       "      <td>...</td>\n",
       "      <td>...</td>\n",
       "      <td>...</td>\n",
       "      <td>...</td>\n",
       "      <td>...</td>\n",
       "      <td>...</td>\n",
       "    </tr>\n",
       "    <tr>\n",
       "      <th>9825</th>\n",
       "      <td>1</td>\n",
       "      <td>0</td>\n",
       "      <td>1</td>\n",
       "      <td>1</td>\n",
       "      <td>0</td>\n",
       "      <td>1</td>\n",
       "    </tr>\n",
       "    <tr>\n",
       "      <th>9826</th>\n",
       "      <td>0</td>\n",
       "      <td>0</td>\n",
       "      <td>1</td>\n",
       "      <td>1</td>\n",
       "      <td>0</td>\n",
       "      <td>1</td>\n",
       "    </tr>\n",
       "    <tr>\n",
       "      <th>9827</th>\n",
       "      <td>0</td>\n",
       "      <td>0</td>\n",
       "      <td>1</td>\n",
       "      <td>1</td>\n",
       "      <td>1</td>\n",
       "      <td>1</td>\n",
       "    </tr>\n",
       "    <tr>\n",
       "      <th>9828</th>\n",
       "      <td>1</td>\n",
       "      <td>0</td>\n",
       "      <td>1</td>\n",
       "      <td>1</td>\n",
       "      <td>0</td>\n",
       "      <td>1</td>\n",
       "    </tr>\n",
       "    <tr>\n",
       "      <th>9829</th>\n",
       "      <td>1</td>\n",
       "      <td>0</td>\n",
       "      <td>1</td>\n",
       "      <td>1</td>\n",
       "      <td>0</td>\n",
       "      <td>1</td>\n",
       "    </tr>\n",
       "    <tr>\n",
       "      <th>9830</th>\n",
       "      <td>1</td>\n",
       "      <td>0</td>\n",
       "      <td>1</td>\n",
       "      <td>1</td>\n",
       "      <td>1</td>\n",
       "      <td>1</td>\n",
       "    </tr>\n",
       "    <tr>\n",
       "      <th>9831</th>\n",
       "      <td>1</td>\n",
       "      <td>1</td>\n",
       "      <td>1</td>\n",
       "      <td>1</td>\n",
       "      <td>1</td>\n",
       "      <td>1</td>\n",
       "    </tr>\n",
       "    <tr>\n",
       "      <th>9832</th>\n",
       "      <td>0</td>\n",
       "      <td>0</td>\n",
       "      <td>1</td>\n",
       "      <td>1</td>\n",
       "      <td>0</td>\n",
       "      <td>1</td>\n",
       "    </tr>\n",
       "    <tr>\n",
       "      <th>9833</th>\n",
       "      <td>1</td>\n",
       "      <td>0</td>\n",
       "      <td>1</td>\n",
       "      <td>1</td>\n",
       "      <td>1</td>\n",
       "      <td>1</td>\n",
       "    </tr>\n",
       "    <tr>\n",
       "      <th>9834</th>\n",
       "      <td>1</td>\n",
       "      <td>0</td>\n",
       "      <td>1</td>\n",
       "      <td>1</td>\n",
       "      <td>0</td>\n",
       "      <td>1</td>\n",
       "    </tr>\n",
       "    <tr>\n",
       "      <th>9835</th>\n",
       "      <td>1</td>\n",
       "      <td>0</td>\n",
       "      <td>1</td>\n",
       "      <td>1</td>\n",
       "      <td>1</td>\n",
       "      <td>1</td>\n",
       "    </tr>\n",
       "    <tr>\n",
       "      <th>9836</th>\n",
       "      <td>1</td>\n",
       "      <td>0</td>\n",
       "      <td>1</td>\n",
       "      <td>1</td>\n",
       "      <td>0</td>\n",
       "      <td>1</td>\n",
       "    </tr>\n",
       "    <tr>\n",
       "      <th>9837</th>\n",
       "      <td>1</td>\n",
       "      <td>1</td>\n",
       "      <td>1</td>\n",
       "      <td>1</td>\n",
       "      <td>1</td>\n",
       "      <td>1</td>\n",
       "    </tr>\n",
       "    <tr>\n",
       "      <th>9838</th>\n",
       "      <td>1</td>\n",
       "      <td>0</td>\n",
       "      <td>1</td>\n",
       "      <td>1</td>\n",
       "      <td>0</td>\n",
       "      <td>1</td>\n",
       "    </tr>\n",
       "    <tr>\n",
       "      <th>9839</th>\n",
       "      <td>1</td>\n",
       "      <td>0</td>\n",
       "      <td>0</td>\n",
       "      <td>1</td>\n",
       "      <td>0</td>\n",
       "      <td>1</td>\n",
       "    </tr>\n",
       "    <tr>\n",
       "      <th>9840</th>\n",
       "      <td>0</td>\n",
       "      <td>0</td>\n",
       "      <td>1</td>\n",
       "      <td>1</td>\n",
       "      <td>0</td>\n",
       "      <td>1</td>\n",
       "    </tr>\n",
       "    <tr>\n",
       "      <th>9841</th>\n",
       "      <td>1</td>\n",
       "      <td>0</td>\n",
       "      <td>0</td>\n",
       "      <td>1</td>\n",
       "      <td>0</td>\n",
       "      <td>1</td>\n",
       "    </tr>\n",
       "    <tr>\n",
       "      <th>9842</th>\n",
       "      <td>1</td>\n",
       "      <td>0</td>\n",
       "      <td>0</td>\n",
       "      <td>1</td>\n",
       "      <td>0</td>\n",
       "      <td>1</td>\n",
       "    </tr>\n",
       "    <tr>\n",
       "      <th>9843</th>\n",
       "      <td>1</td>\n",
       "      <td>0</td>\n",
       "      <td>1</td>\n",
       "      <td>1</td>\n",
       "      <td>1</td>\n",
       "      <td>1</td>\n",
       "    </tr>\n",
       "    <tr>\n",
       "      <th>9844</th>\n",
       "      <td>1</td>\n",
       "      <td>0</td>\n",
       "      <td>1</td>\n",
       "      <td>1</td>\n",
       "      <td>0</td>\n",
       "      <td>1</td>\n",
       "    </tr>\n",
       "    <tr>\n",
       "      <th>9845</th>\n",
       "      <td>1</td>\n",
       "      <td>0</td>\n",
       "      <td>0</td>\n",
       "      <td>1</td>\n",
       "      <td>0</td>\n",
       "      <td>1</td>\n",
       "    </tr>\n",
       "    <tr>\n",
       "      <th>9846</th>\n",
       "      <td>1</td>\n",
       "      <td>0</td>\n",
       "      <td>0</td>\n",
       "      <td>1</td>\n",
       "      <td>0</td>\n",
       "      <td>1</td>\n",
       "    </tr>\n",
       "    <tr>\n",
       "      <th>9847</th>\n",
       "      <td>1</td>\n",
       "      <td>0</td>\n",
       "      <td>1</td>\n",
       "      <td>1</td>\n",
       "      <td>0</td>\n",
       "      <td>1</td>\n",
       "    </tr>\n",
       "    <tr>\n",
       "      <th>9848</th>\n",
       "      <td>1</td>\n",
       "      <td>0</td>\n",
       "      <td>1</td>\n",
       "      <td>1</td>\n",
       "      <td>1</td>\n",
       "      <td>1</td>\n",
       "    </tr>\n",
       "    <tr>\n",
       "      <th>9849</th>\n",
       "      <td>1</td>\n",
       "      <td>0</td>\n",
       "      <td>1</td>\n",
       "      <td>1</td>\n",
       "      <td>0</td>\n",
       "      <td>1</td>\n",
       "    </tr>\n",
       "    <tr>\n",
       "      <th>9850</th>\n",
       "      <td>1</td>\n",
       "      <td>0</td>\n",
       "      <td>1</td>\n",
       "      <td>1</td>\n",
       "      <td>0</td>\n",
       "      <td>1</td>\n",
       "    </tr>\n",
       "    <tr>\n",
       "      <th>9851</th>\n",
       "      <td>1</td>\n",
       "      <td>1</td>\n",
       "      <td>1</td>\n",
       "      <td>1</td>\n",
       "      <td>1</td>\n",
       "      <td>1</td>\n",
       "    </tr>\n",
       "    <tr>\n",
       "      <th>9852</th>\n",
       "      <td>1</td>\n",
       "      <td>1</td>\n",
       "      <td>1</td>\n",
       "      <td>1</td>\n",
       "      <td>1</td>\n",
       "      <td>1</td>\n",
       "    </tr>\n",
       "    <tr>\n",
       "      <th>9853</th>\n",
       "      <td>1</td>\n",
       "      <td>0</td>\n",
       "      <td>1</td>\n",
       "      <td>1</td>\n",
       "      <td>1</td>\n",
       "      <td>1</td>\n",
       "    </tr>\n",
       "    <tr>\n",
       "      <th>9854</th>\n",
       "      <td>1</td>\n",
       "      <td>0</td>\n",
       "      <td>1</td>\n",
       "      <td>1</td>\n",
       "      <td>1</td>\n",
       "      <td>1</td>\n",
       "    </tr>\n",
       "  </tbody>\n",
       "</table>\n",
       "<p>9855 rows × 6 columns</p>\n",
       "</div>"
      ],
      "text/plain": [
       "      0  1  2  3  4  5\n",
       "0     1  1  1  1  1  1\n",
       "1     1  1  1  1  1  1\n",
       "2     1  1  1  1  1  1\n",
       "3     1  1  1  1  1  1\n",
       "4     1  1  1  1  1  1\n",
       "5     1  1  1  1  1  1\n",
       "6     1  1  1  1  1  1\n",
       "7     1  1  1  1  1  1\n",
       "8     1  1  1  1  1  1\n",
       "9     1  1  1  1  1  1\n",
       "10    1  1  1  1  1  1\n",
       "11    1  1  1  1  1  1\n",
       "12    1  1  1  1  1  1\n",
       "13    1  1  1  1  1  1\n",
       "14    1  1  1  1  1  1\n",
       "15    1  1  1  1  1  1\n",
       "16    1  1  1  1  1  1\n",
       "17    1  1  1  1  1  1\n",
       "18    1  1  1  1  1  1\n",
       "19    1  1  1  1  1  1\n",
       "20    1  1  1  1  1  1\n",
       "21    1  1  1  1  1  1\n",
       "22    1  1  1  1  1  1\n",
       "23    1  1  1  1  1  1\n",
       "24    1  1  1  1  1  1\n",
       "25    1  1  1  1  1  1\n",
       "26    1  1  1  1  1  1\n",
       "27    1  1  1  1  1  1\n",
       "28    1  1  1  1  1  1\n",
       "29    1  1  1  1  1  1\n",
       "...  .. .. .. .. .. ..\n",
       "9825  1  0  1  1  0  1\n",
       "9826  0  0  1  1  0  1\n",
       "9827  0  0  1  1  1  1\n",
       "9828  1  0  1  1  0  1\n",
       "9829  1  0  1  1  0  1\n",
       "9830  1  0  1  1  1  1\n",
       "9831  1  1  1  1  1  1\n",
       "9832  0  0  1  1  0  1\n",
       "9833  1  0  1  1  1  1\n",
       "9834  1  0  1  1  0  1\n",
       "9835  1  0  1  1  1  1\n",
       "9836  1  0  1  1  0  1\n",
       "9837  1  1  1  1  1  1\n",
       "9838  1  0  1  1  0  1\n",
       "9839  1  0  0  1  0  1\n",
       "9840  0  0  1  1  0  1\n",
       "9841  1  0  0  1  0  1\n",
       "9842  1  0  0  1  0  1\n",
       "9843  1  0  1  1  1  1\n",
       "9844  1  0  1  1  0  1\n",
       "9845  1  0  0  1  0  1\n",
       "9846  1  0  0  1  0  1\n",
       "9847  1  0  1  1  0  1\n",
       "9848  1  0  1  1  1  1\n",
       "9849  1  0  1  1  0  1\n",
       "9850  1  0  1  1  0  1\n",
       "9851  1  1  1  1  1  1\n",
       "9852  1  1  1  1  1  1\n",
       "9853  1  0  1  1  1  1\n",
       "9854  1  0  1  1  1  1\n",
       "\n",
       "[9855 rows x 6 columns]"
      ]
     },
     "execution_count": 86,
     "metadata": {},
     "output_type": "execute_result"
    }
   ],
   "source": [
    "df_results.transpose()"
   ]
  },
  {
   "cell_type": "code",
   "execution_count": 87,
   "metadata": {
    "collapsed": false
   },
   "outputs": [
    {
     "data": {
      "text/plain": [
       "0"
      ]
     },
     "execution_count": 87,
     "metadata": {},
     "output_type": "execute_result"
    }
   ],
   "source": [
    "1 and 0"
   ]
  },
  {
   "cell_type": "code",
   "execution_count": 88,
   "metadata": {
    "collapsed": false,
    "scrolled": true
   },
   "outputs": [
    {
     "ename": "SyntaxError",
     "evalue": "invalid syntax (<ipython-input-88-50393c29d02c>, line 1)",
     "output_type": "error",
     "traceback": [
      "\u001b[1;36m  File \u001b[1;32m\"<ipython-input-88-50393c29d02c>\"\u001b[1;36m, line \u001b[1;32m1\u001b[0m\n\u001b[1;33m    1 xor 0\u001b[0m\n\u001b[1;37m        ^\u001b[0m\n\u001b[1;31mSyntaxError\u001b[0m\u001b[1;31m:\u001b[0m invalid syntax\n"
     ]
    }
   ],
   "source": [
    "1 xor 0"
   ]
  },
  {
   "cell_type": "code",
   "execution_count": 89,
   "metadata": {
    "collapsed": false
   },
   "outputs": [
    {
     "data": {
      "text/plain": [
       "1"
      ]
     },
     "execution_count": 89,
     "metadata": {},
     "output_type": "execute_result"
    }
   ],
   "source": [
    "1 ^ 0"
   ]
  },
  {
   "cell_type": "code",
   "execution_count": 90,
   "metadata": {
    "collapsed": false
   },
   "outputs": [
    {
     "data": {
      "text/plain": [
       "0"
      ]
     },
     "execution_count": 90,
     "metadata": {},
     "output_type": "execute_result"
    }
   ],
   "source": [
    "1 ^ 0 ^ 1"
   ]
  },
  {
   "cell_type": "code",
   "execution_count": 91,
   "metadata": {
    "collapsed": false
   },
   "outputs": [
    {
     "data": {
      "text/plain": [
       "0"
      ]
     },
     "execution_count": 91,
     "metadata": {},
     "output_type": "execute_result"
    }
   ],
   "source": [
    "1 and 0"
   ]
  },
  {
   "cell_type": "code",
   "execution_count": 92,
   "metadata": {
    "collapsed": false
   },
   "outputs": [
    {
     "data": {
      "text/plain": [
       "1"
      ]
     },
     "execution_count": 92,
     "metadata": {},
     "output_type": "execute_result"
    }
   ],
   "source": [
    "1 or 0"
   ]
  },
  {
   "cell_type": "code",
   "execution_count": 93,
   "metadata": {
    "collapsed": false
   },
   "outputs": [
    {
     "data": {
      "text/plain": [
       "0"
      ]
     },
     "execution_count": 93,
     "metadata": {},
     "output_type": "execute_result"
    }
   ],
   "source": [
    "0 or 0"
   ]
  },
  {
   "cell_type": "code",
   "execution_count": 94,
   "metadata": {
    "collapsed": false
   },
   "outputs": [
    {
     "data": {
      "text/plain": [
       "1"
      ]
     },
     "execution_count": 94,
     "metadata": {},
     "output_type": "execute_result"
    }
   ],
   "source": [
    "1 or 1"
   ]
  },
  {
   "cell_type": "code",
   "execution_count": 95,
   "metadata": {
    "collapsed": false
   },
   "outputs": [
    {
     "ename": "SyntaxError",
     "evalue": "invalid syntax (<ipython-input-95-97db5cba2e90>, line 1)",
     "output_type": "error",
     "traceback": [
      "\u001b[1;36m  File \u001b[1;32m\"<ipython-input-95-97db5cba2e90>\"\u001b[1;36m, line \u001b[1;32m1\u001b[0m\n\u001b[1;33m    df_results.1\u001b[0m\n\u001b[1;37m               ^\u001b[0m\n\u001b[1;31mSyntaxError\u001b[0m\u001b[1;31m:\u001b[0m invalid syntax\n"
     ]
    }
   ],
   "source": [
    "df_results.1"
   ]
  },
  {
   "cell_type": "code",
   "execution_count": 96,
   "metadata": {
    "collapsed": false
   },
   "outputs": [
    {
     "ename": "SyntaxError",
     "evalue": "invalid syntax (<ipython-input-96-d4386c7250e7>, line 1)",
     "output_type": "error",
     "traceback": [
      "\u001b[1;36m  File \u001b[1;32m\"<ipython-input-96-d4386c7250e7>\"\u001b[1;36m, line \u001b[1;32m1\u001b[0m\n\u001b[1;33m    df_results.'1'\u001b[0m\n\u001b[1;37m                 ^\u001b[0m\n\u001b[1;31mSyntaxError\u001b[0m\u001b[1;31m:\u001b[0m invalid syntax\n"
     ]
    }
   ],
   "source": [
    "df_results.'1'"
   ]
  },
  {
   "cell_type": "code",
   "execution_count": 97,
   "metadata": {
    "collapsed": false
   },
   "outputs": [
    {
     "ename": "KeyError",
     "evalue": "'1'",
     "output_type": "error",
     "traceback": [
      "\u001b[1;31m---------------------------------------------------------------------------\u001b[0m",
      "\u001b[1;31mKeyError\u001b[0m                                  Traceback (most recent call last)",
      "\u001b[1;32m<ipython-input-97-1c956bc68885>\u001b[0m in \u001b[0;36m<module>\u001b[1;34m()\u001b[0m\n\u001b[1;32m----> 1\u001b[1;33m \u001b[0mdf_results\u001b[0m\u001b[1;33m[\u001b[0m\u001b[1;34m'1'\u001b[0m\u001b[1;33m]\u001b[0m\u001b[1;33m\u001b[0m\u001b[0m\n\u001b[0m",
      "\u001b[1;32mC:\\Anaconda2\\lib\\site-packages\\pandas\\core\\frame.pyc\u001b[0m in \u001b[0;36m__getitem__\u001b[1;34m(self, key)\u001b[0m\n\u001b[0;32m   1967\u001b[0m             \u001b[1;32mreturn\u001b[0m \u001b[0mself\u001b[0m\u001b[1;33m.\u001b[0m\u001b[0m_getitem_multilevel\u001b[0m\u001b[1;33m(\u001b[0m\u001b[0mkey\u001b[0m\u001b[1;33m)\u001b[0m\u001b[1;33m\u001b[0m\u001b[0m\n\u001b[0;32m   1968\u001b[0m         \u001b[1;32melse\u001b[0m\u001b[1;33m:\u001b[0m\u001b[1;33m\u001b[0m\u001b[0m\n\u001b[1;32m-> 1969\u001b[1;33m             \u001b[1;32mreturn\u001b[0m \u001b[0mself\u001b[0m\u001b[1;33m.\u001b[0m\u001b[0m_getitem_column\u001b[0m\u001b[1;33m(\u001b[0m\u001b[0mkey\u001b[0m\u001b[1;33m)\u001b[0m\u001b[1;33m\u001b[0m\u001b[0m\n\u001b[0m\u001b[0;32m   1970\u001b[0m \u001b[1;33m\u001b[0m\u001b[0m\n\u001b[0;32m   1971\u001b[0m     \u001b[1;32mdef\u001b[0m \u001b[0m_getitem_column\u001b[0m\u001b[1;33m(\u001b[0m\u001b[0mself\u001b[0m\u001b[1;33m,\u001b[0m \u001b[0mkey\u001b[0m\u001b[1;33m)\u001b[0m\u001b[1;33m:\u001b[0m\u001b[1;33m\u001b[0m\u001b[0m\n",
      "\u001b[1;32mC:\\Anaconda2\\lib\\site-packages\\pandas\\core\\frame.pyc\u001b[0m in \u001b[0;36m_getitem_column\u001b[1;34m(self, key)\u001b[0m\n\u001b[0;32m   1974\u001b[0m         \u001b[1;31m# get column\u001b[0m\u001b[1;33m\u001b[0m\u001b[1;33m\u001b[0m\u001b[0m\n\u001b[0;32m   1975\u001b[0m         \u001b[1;32mif\u001b[0m \u001b[0mself\u001b[0m\u001b[1;33m.\u001b[0m\u001b[0mcolumns\u001b[0m\u001b[1;33m.\u001b[0m\u001b[0mis_unique\u001b[0m\u001b[1;33m:\u001b[0m\u001b[1;33m\u001b[0m\u001b[0m\n\u001b[1;32m-> 1976\u001b[1;33m             \u001b[1;32mreturn\u001b[0m \u001b[0mself\u001b[0m\u001b[1;33m.\u001b[0m\u001b[0m_get_item_cache\u001b[0m\u001b[1;33m(\u001b[0m\u001b[0mkey\u001b[0m\u001b[1;33m)\u001b[0m\u001b[1;33m\u001b[0m\u001b[0m\n\u001b[0m\u001b[0;32m   1977\u001b[0m \u001b[1;33m\u001b[0m\u001b[0m\n\u001b[0;32m   1978\u001b[0m         \u001b[1;31m# duplicate columns & possible reduce dimensionality\u001b[0m\u001b[1;33m\u001b[0m\u001b[1;33m\u001b[0m\u001b[0m\n",
      "\u001b[1;32mC:\\Anaconda2\\lib\\site-packages\\pandas\\core\\generic.pyc\u001b[0m in \u001b[0;36m_get_item_cache\u001b[1;34m(self, item)\u001b[0m\n\u001b[0;32m   1089\u001b[0m         \u001b[0mres\u001b[0m \u001b[1;33m=\u001b[0m \u001b[0mcache\u001b[0m\u001b[1;33m.\u001b[0m\u001b[0mget\u001b[0m\u001b[1;33m(\u001b[0m\u001b[0mitem\u001b[0m\u001b[1;33m)\u001b[0m\u001b[1;33m\u001b[0m\u001b[0m\n\u001b[0;32m   1090\u001b[0m         \u001b[1;32mif\u001b[0m \u001b[0mres\u001b[0m \u001b[1;32mis\u001b[0m \u001b[0mNone\u001b[0m\u001b[1;33m:\u001b[0m\u001b[1;33m\u001b[0m\u001b[0m\n\u001b[1;32m-> 1091\u001b[1;33m             \u001b[0mvalues\u001b[0m \u001b[1;33m=\u001b[0m \u001b[0mself\u001b[0m\u001b[1;33m.\u001b[0m\u001b[0m_data\u001b[0m\u001b[1;33m.\u001b[0m\u001b[0mget\u001b[0m\u001b[1;33m(\u001b[0m\u001b[0mitem\u001b[0m\u001b[1;33m)\u001b[0m\u001b[1;33m\u001b[0m\u001b[0m\n\u001b[0m\u001b[0;32m   1092\u001b[0m             \u001b[0mres\u001b[0m \u001b[1;33m=\u001b[0m \u001b[0mself\u001b[0m\u001b[1;33m.\u001b[0m\u001b[0m_box_item_values\u001b[0m\u001b[1;33m(\u001b[0m\u001b[0mitem\u001b[0m\u001b[1;33m,\u001b[0m \u001b[0mvalues\u001b[0m\u001b[1;33m)\u001b[0m\u001b[1;33m\u001b[0m\u001b[0m\n\u001b[0;32m   1093\u001b[0m             \u001b[0mcache\u001b[0m\u001b[1;33m[\u001b[0m\u001b[0mitem\u001b[0m\u001b[1;33m]\u001b[0m \u001b[1;33m=\u001b[0m \u001b[0mres\u001b[0m\u001b[1;33m\u001b[0m\u001b[0m\n",
      "\u001b[1;32mC:\\Anaconda2\\lib\\site-packages\\pandas\\core\\internals.pyc\u001b[0m in \u001b[0;36mget\u001b[1;34m(self, item, fastpath)\u001b[0m\n\u001b[0;32m   3209\u001b[0m \u001b[1;33m\u001b[0m\u001b[0m\n\u001b[0;32m   3210\u001b[0m             \u001b[1;32mif\u001b[0m \u001b[1;32mnot\u001b[0m \u001b[0misnull\u001b[0m\u001b[1;33m(\u001b[0m\u001b[0mitem\u001b[0m\u001b[1;33m)\u001b[0m\u001b[1;33m:\u001b[0m\u001b[1;33m\u001b[0m\u001b[0m\n\u001b[1;32m-> 3211\u001b[1;33m                 \u001b[0mloc\u001b[0m \u001b[1;33m=\u001b[0m \u001b[0mself\u001b[0m\u001b[1;33m.\u001b[0m\u001b[0mitems\u001b[0m\u001b[1;33m.\u001b[0m\u001b[0mget_loc\u001b[0m\u001b[1;33m(\u001b[0m\u001b[0mitem\u001b[0m\u001b[1;33m)\u001b[0m\u001b[1;33m\u001b[0m\u001b[0m\n\u001b[0m\u001b[0;32m   3212\u001b[0m             \u001b[1;32melse\u001b[0m\u001b[1;33m:\u001b[0m\u001b[1;33m\u001b[0m\u001b[0m\n\u001b[0;32m   3213\u001b[0m                 \u001b[0mindexer\u001b[0m \u001b[1;33m=\u001b[0m \u001b[0mnp\u001b[0m\u001b[1;33m.\u001b[0m\u001b[0marange\u001b[0m\u001b[1;33m(\u001b[0m\u001b[0mlen\u001b[0m\u001b[1;33m(\u001b[0m\u001b[0mself\u001b[0m\u001b[1;33m.\u001b[0m\u001b[0mitems\u001b[0m\u001b[1;33m)\u001b[0m\u001b[1;33m)\u001b[0m\u001b[1;33m[\u001b[0m\u001b[0misnull\u001b[0m\u001b[1;33m(\u001b[0m\u001b[0mself\u001b[0m\u001b[1;33m.\u001b[0m\u001b[0mitems\u001b[0m\u001b[1;33m)\u001b[0m\u001b[1;33m]\u001b[0m\u001b[1;33m\u001b[0m\u001b[0m\n",
      "\u001b[1;32mC:\\Anaconda2\\lib\\site-packages\\pandas\\core\\index.pyc\u001b[0m in \u001b[0;36mget_loc\u001b[1;34m(self, key, method, tolerance)\u001b[0m\n\u001b[0;32m   1757\u001b[0m                                  'backfill or nearest lookups')\n\u001b[0;32m   1758\u001b[0m             \u001b[0mkey\u001b[0m \u001b[1;33m=\u001b[0m \u001b[0m_values_from_object\u001b[0m\u001b[1;33m(\u001b[0m\u001b[0mkey\u001b[0m\u001b[1;33m)\u001b[0m\u001b[1;33m\u001b[0m\u001b[0m\n\u001b[1;32m-> 1759\u001b[1;33m             \u001b[1;32mreturn\u001b[0m \u001b[0mself\u001b[0m\u001b[1;33m.\u001b[0m\u001b[0m_engine\u001b[0m\u001b[1;33m.\u001b[0m\u001b[0mget_loc\u001b[0m\u001b[1;33m(\u001b[0m\u001b[0mkey\u001b[0m\u001b[1;33m)\u001b[0m\u001b[1;33m\u001b[0m\u001b[0m\n\u001b[0m\u001b[0;32m   1760\u001b[0m \u001b[1;33m\u001b[0m\u001b[0m\n\u001b[0;32m   1761\u001b[0m         indexer = self.get_indexer([key], method=method,\n",
      "\u001b[1;32mpandas\\index.pyx\u001b[0m in \u001b[0;36mpandas.index.IndexEngine.get_loc (pandas\\index.c:3979)\u001b[1;34m()\u001b[0m\n",
      "\u001b[1;32mpandas\\index.pyx\u001b[0m in \u001b[0;36mpandas.index.IndexEngine.get_loc (pandas\\index.c:3908)\u001b[1;34m()\u001b[0m\n",
      "\u001b[1;31mKeyError\u001b[0m: '1'"
     ]
    }
   ],
   "source": [
    "df_results['1']"
   ]
  },
  {
   "cell_type": "code",
   "execution_count": 98,
   "metadata": {
    "collapsed": false
   },
   "outputs": [
    {
     "data": {
      "text/plain": [
       "0    1\n",
       "1    1\n",
       "2    1\n",
       "3    1\n",
       "4    1\n",
       "5    1\n",
       "Name: 1, dtype: float64"
      ]
     },
     "execution_count": 98,
     "metadata": {},
     "output_type": "execute_result"
    }
   ],
   "source": [
    "df_results[1]"
   ]
  },
  {
   "cell_type": "code",
   "execution_count": 99,
   "metadata": {
    "collapsed": false
   },
   "outputs": [
    {
     "data": {
      "text/html": [
       "<div>\n",
       "<table border=\"1\" class=\"dataframe\">\n",
       "  <thead>\n",
       "    <tr style=\"text-align: right;\">\n",
       "      <th></th>\n",
       "      <th>0</th>\n",
       "      <th>1</th>\n",
       "      <th>2</th>\n",
       "      <th>3</th>\n",
       "      <th>4</th>\n",
       "      <th>5</th>\n",
       "      <th>6</th>\n",
       "      <th>7</th>\n",
       "      <th>8</th>\n",
       "      <th>9</th>\n",
       "      <th>...</th>\n",
       "      <th>9845</th>\n",
       "      <th>9846</th>\n",
       "      <th>9847</th>\n",
       "      <th>9848</th>\n",
       "      <th>9849</th>\n",
       "      <th>9850</th>\n",
       "      <th>9851</th>\n",
       "      <th>9852</th>\n",
       "      <th>9853</th>\n",
       "      <th>9854</th>\n",
       "    </tr>\n",
       "  </thead>\n",
       "  <tbody>\n",
       "    <tr>\n",
       "      <th>0</th>\n",
       "      <td>1</td>\n",
       "      <td>1</td>\n",
       "      <td>1</td>\n",
       "      <td>1</td>\n",
       "      <td>1</td>\n",
       "      <td>1</td>\n",
       "      <td>1</td>\n",
       "      <td>1</td>\n",
       "      <td>1</td>\n",
       "      <td>1</td>\n",
       "      <td>...</td>\n",
       "      <td>1</td>\n",
       "      <td>1</td>\n",
       "      <td>1</td>\n",
       "      <td>1</td>\n",
       "      <td>1</td>\n",
       "      <td>1</td>\n",
       "      <td>1</td>\n",
       "      <td>1</td>\n",
       "      <td>1</td>\n",
       "      <td>1</td>\n",
       "    </tr>\n",
       "    <tr>\n",
       "      <th>1</th>\n",
       "      <td>1</td>\n",
       "      <td>1</td>\n",
       "      <td>1</td>\n",
       "      <td>1</td>\n",
       "      <td>1</td>\n",
       "      <td>1</td>\n",
       "      <td>1</td>\n",
       "      <td>1</td>\n",
       "      <td>1</td>\n",
       "      <td>1</td>\n",
       "      <td>...</td>\n",
       "      <td>0</td>\n",
       "      <td>0</td>\n",
       "      <td>0</td>\n",
       "      <td>0</td>\n",
       "      <td>0</td>\n",
       "      <td>0</td>\n",
       "      <td>1</td>\n",
       "      <td>1</td>\n",
       "      <td>0</td>\n",
       "      <td>0</td>\n",
       "    </tr>\n",
       "    <tr>\n",
       "      <th>2</th>\n",
       "      <td>1</td>\n",
       "      <td>1</td>\n",
       "      <td>1</td>\n",
       "      <td>1</td>\n",
       "      <td>1</td>\n",
       "      <td>1</td>\n",
       "      <td>1</td>\n",
       "      <td>1</td>\n",
       "      <td>1</td>\n",
       "      <td>1</td>\n",
       "      <td>...</td>\n",
       "      <td>0</td>\n",
       "      <td>0</td>\n",
       "      <td>1</td>\n",
       "      <td>1</td>\n",
       "      <td>1</td>\n",
       "      <td>1</td>\n",
       "      <td>1</td>\n",
       "      <td>1</td>\n",
       "      <td>1</td>\n",
       "      <td>1</td>\n",
       "    </tr>\n",
       "    <tr>\n",
       "      <th>3</th>\n",
       "      <td>1</td>\n",
       "      <td>1</td>\n",
       "      <td>1</td>\n",
       "      <td>1</td>\n",
       "      <td>1</td>\n",
       "      <td>1</td>\n",
       "      <td>1</td>\n",
       "      <td>1</td>\n",
       "      <td>1</td>\n",
       "      <td>1</td>\n",
       "      <td>...</td>\n",
       "      <td>1</td>\n",
       "      <td>1</td>\n",
       "      <td>1</td>\n",
       "      <td>1</td>\n",
       "      <td>1</td>\n",
       "      <td>1</td>\n",
       "      <td>1</td>\n",
       "      <td>1</td>\n",
       "      <td>1</td>\n",
       "      <td>1</td>\n",
       "    </tr>\n",
       "    <tr>\n",
       "      <th>4</th>\n",
       "      <td>1</td>\n",
       "      <td>1</td>\n",
       "      <td>1</td>\n",
       "      <td>1</td>\n",
       "      <td>1</td>\n",
       "      <td>1</td>\n",
       "      <td>1</td>\n",
       "      <td>1</td>\n",
       "      <td>1</td>\n",
       "      <td>1</td>\n",
       "      <td>...</td>\n",
       "      <td>0</td>\n",
       "      <td>0</td>\n",
       "      <td>0</td>\n",
       "      <td>1</td>\n",
       "      <td>0</td>\n",
       "      <td>0</td>\n",
       "      <td>1</td>\n",
       "      <td>1</td>\n",
       "      <td>1</td>\n",
       "      <td>1</td>\n",
       "    </tr>\n",
       "    <tr>\n",
       "      <th>5</th>\n",
       "      <td>1</td>\n",
       "      <td>1</td>\n",
       "      <td>1</td>\n",
       "      <td>1</td>\n",
       "      <td>1</td>\n",
       "      <td>1</td>\n",
       "      <td>1</td>\n",
       "      <td>1</td>\n",
       "      <td>1</td>\n",
       "      <td>1</td>\n",
       "      <td>...</td>\n",
       "      <td>1</td>\n",
       "      <td>1</td>\n",
       "      <td>1</td>\n",
       "      <td>1</td>\n",
       "      <td>1</td>\n",
       "      <td>1</td>\n",
       "      <td>1</td>\n",
       "      <td>1</td>\n",
       "      <td>1</td>\n",
       "      <td>1</td>\n",
       "    </tr>\n",
       "  </tbody>\n",
       "</table>\n",
       "<p>6 rows × 9855 columns</p>\n",
       "</div>"
      ],
      "text/plain": [
       "   0     1     2     3     4     5     6     7     8     9     ...   9845  \\\n",
       "0     1     1     1     1     1     1     1     1     1     1  ...      1   \n",
       "1     1     1     1     1     1     1     1     1     1     1  ...      0   \n",
       "2     1     1     1     1     1     1     1     1     1     1  ...      0   \n",
       "3     1     1     1     1     1     1     1     1     1     1  ...      1   \n",
       "4     1     1     1     1     1     1     1     1     1     1  ...      0   \n",
       "5     1     1     1     1     1     1     1     1     1     1  ...      1   \n",
       "\n",
       "   9846  9847  9848  9849  9850  9851  9852  9853  9854  \n",
       "0     1     1     1     1     1     1     1     1     1  \n",
       "1     0     0     0     0     0     1     1     0     0  \n",
       "2     0     1     1     1     1     1     1     1     1  \n",
       "3     1     1     1     1     1     1     1     1     1  \n",
       "4     0     0     1     0     0     1     1     1     1  \n",
       "5     1     1     1     1     1     1     1     1     1  \n",
       "\n",
       "[6 rows x 9855 columns]"
      ]
     },
     "execution_count": 99,
     "metadata": {},
     "output_type": "execute_result"
    }
   ],
   "source": [
    "df_results"
   ]
  },
  {
   "cell_type": "code",
   "execution_count": 100,
   "metadata": {
    "collapsed": true
   },
   "outputs": [],
   "source": [
    "df_results = pd.DataFrame(res_predicted).transpose()"
   ]
  },
  {
   "cell_type": "code",
   "execution_count": 101,
   "metadata": {
    "collapsed": false
   },
   "outputs": [
    {
     "data": {
      "text/plain": [
       "0       1\n",
       "1       1\n",
       "2       1\n",
       "3       1\n",
       "4       1\n",
       "5       1\n",
       "6       1\n",
       "7       1\n",
       "8       1\n",
       "9       1\n",
       "10      1\n",
       "11      1\n",
       "12      1\n",
       "13      1\n",
       "14      1\n",
       "15      1\n",
       "16      1\n",
       "17      1\n",
       "18      1\n",
       "19      1\n",
       "20      1\n",
       "21      1\n",
       "22      1\n",
       "23      1\n",
       "24      1\n",
       "25      1\n",
       "26      1\n",
       "27      1\n",
       "28      1\n",
       "29      1\n",
       "       ..\n",
       "9825    0\n",
       "9826    0\n",
       "9827    0\n",
       "9828    0\n",
       "9829    0\n",
       "9830    0\n",
       "9831    1\n",
       "9832    0\n",
       "9833    0\n",
       "9834    0\n",
       "9835    0\n",
       "9836    0\n",
       "9837    1\n",
       "9838    0\n",
       "9839    0\n",
       "9840    0\n",
       "9841    0\n",
       "9842    0\n",
       "9843    0\n",
       "9844    0\n",
       "9845    0\n",
       "9846    0\n",
       "9847    0\n",
       "9848    0\n",
       "9849    0\n",
       "9850    0\n",
       "9851    1\n",
       "9852    1\n",
       "9853    0\n",
       "9854    0\n",
       "Name: 1, dtype: float64"
      ]
     },
     "execution_count": 101,
     "metadata": {},
     "output_type": "execute_result"
    }
   ],
   "source": [
    "df_results[1]"
   ]
  },
  {
   "cell_type": "code",
   "execution_count": 102,
   "metadata": {
    "collapsed": false
   },
   "outputs": [
    {
     "ename": "ValueError",
     "evalue": "The truth value of a Series is ambiguous. Use a.empty, a.bool(), a.item(), a.any() or a.all().",
     "output_type": "error",
     "traceback": [
      "\u001b[1;31m---------------------------------------------------------------------------\u001b[0m",
      "\u001b[1;31mValueError\u001b[0m                                Traceback (most recent call last)",
      "\u001b[1;32m<ipython-input-102-79a527286947>\u001b[0m in \u001b[0;36m<module>\u001b[1;34m()\u001b[0m\n\u001b[1;32m----> 1\u001b[1;33m \u001b[0mdf_results\u001b[0m\u001b[1;33m[\u001b[0m\u001b[1;34m'lg'\u001b[0m\u001b[1;33m]\u001b[0m \u001b[1;33m=\u001b[0m \u001b[0mdf_results\u001b[0m\u001b[1;33m[\u001b[0m\u001b[1;36m0\u001b[0m\u001b[1;33m]\u001b[0m \u001b[1;32mor\u001b[0m \u001b[0mdf_results\u001b[0m\u001b[1;33m[\u001b[0m\u001b[1;36m1\u001b[0m\u001b[1;33m]\u001b[0m \u001b[1;32mor\u001b[0m \u001b[0mdf_results\u001b[0m\u001b[1;33m[\u001b[0m\u001b[1;36m2\u001b[0m\u001b[1;33m]\u001b[0m\u001b[1;33m\u001b[0m\u001b[0m\n\u001b[0m",
      "\u001b[1;32mC:\\Anaconda2\\lib\\site-packages\\pandas\\core\\generic.pyc\u001b[0m in \u001b[0;36m__nonzero__\u001b[1;34m(self)\u001b[0m\n\u001b[0;32m    729\u001b[0m         raise ValueError(\"The truth value of a {0} is ambiguous. \"\n\u001b[0;32m    730\u001b[0m                          \u001b[1;34m\"Use a.empty, a.bool(), a.item(), a.any() or a.all().\"\u001b[0m\u001b[1;33m\u001b[0m\u001b[0m\n\u001b[1;32m--> 731\u001b[1;33m                          .format(self.__class__.__name__))\n\u001b[0m\u001b[0;32m    732\u001b[0m \u001b[1;33m\u001b[0m\u001b[0m\n\u001b[0;32m    733\u001b[0m     \u001b[0m__bool__\u001b[0m \u001b[1;33m=\u001b[0m \u001b[0m__nonzero__\u001b[0m\u001b[1;33m\u001b[0m\u001b[0m\n",
      "\u001b[1;31mValueError\u001b[0m: The truth value of a Series is ambiguous. Use a.empty, a.bool(), a.item(), a.any() or a.all()."
     ]
    }
   ],
   "source": [
    "df_results['lg'] = df_results[0] or df_results[1] or df_results[2]"
   ]
  },
  {
   "cell_type": "code",
   "execution_count": 103,
   "metadata": {
    "collapsed": false
   },
   "outputs": [
    {
     "ename": "ValueError",
     "evalue": "The truth value of a Series is ambiguous. Use a.empty, a.bool(), a.item(), a.any() or a.all().",
     "output_type": "error",
     "traceback": [
      "\u001b[1;31m---------------------------------------------------------------------------\u001b[0m",
      "\u001b[1;31mValueError\u001b[0m                                Traceback (most recent call last)",
      "\u001b[1;32m<ipython-input-103-a9fae96e35bc>\u001b[0m in \u001b[0;36m<module>\u001b[1;34m()\u001b[0m\n\u001b[1;32m----> 1\u001b[1;33m \u001b[0mdf_results\u001b[0m\u001b[1;33m[\u001b[0m\u001b[1;34m'lg'\u001b[0m\u001b[1;33m]\u001b[0m \u001b[1;33m=\u001b[0m \u001b[0mdf_results\u001b[0m\u001b[1;33m[\u001b[0m\u001b[1;36m0\u001b[0m\u001b[1;33m]\u001b[0m \u001b[1;32mor\u001b[0m \u001b[0mdf_results\u001b[0m\u001b[1;33m[\u001b[0m\u001b[1;36m1\u001b[0m\u001b[1;33m]\u001b[0m\u001b[1;33m\u001b[0m\u001b[0m\n\u001b[0m",
      "\u001b[1;32mC:\\Anaconda2\\lib\\site-packages\\pandas\\core\\generic.pyc\u001b[0m in \u001b[0;36m__nonzero__\u001b[1;34m(self)\u001b[0m\n\u001b[0;32m    729\u001b[0m         raise ValueError(\"The truth value of a {0} is ambiguous. \"\n\u001b[0;32m    730\u001b[0m                          \u001b[1;34m\"Use a.empty, a.bool(), a.item(), a.any() or a.all().\"\u001b[0m\u001b[1;33m\u001b[0m\u001b[0m\n\u001b[1;32m--> 731\u001b[1;33m                          .format(self.__class__.__name__))\n\u001b[0m\u001b[0;32m    732\u001b[0m \u001b[1;33m\u001b[0m\u001b[0m\n\u001b[0;32m    733\u001b[0m     \u001b[0m__bool__\u001b[0m \u001b[1;33m=\u001b[0m \u001b[0m__nonzero__\u001b[0m\u001b[1;33m\u001b[0m\u001b[0m\n",
      "\u001b[1;31mValueError\u001b[0m: The truth value of a Series is ambiguous. Use a.empty, a.bool(), a.item(), a.any() or a.all()."
     ]
    }
   ],
   "source": [
    "df_results['lg'] = df_results[0] or df_results[1]"
   ]
  },
  {
   "cell_type": "code",
   "execution_count": 105,
   "metadata": {
    "collapsed": false
   },
   "outputs": [
    {
     "data": {
      "text/plain": [
       "0       1\n",
       "1       1\n",
       "2       1\n",
       "3       1\n",
       "4       1\n",
       "5       1\n",
       "6       1\n",
       "7       1\n",
       "8       1\n",
       "9       1\n",
       "10      1\n",
       "11      1\n",
       "12      1\n",
       "13      1\n",
       "14      1\n",
       "15      1\n",
       "16      1\n",
       "17      1\n",
       "18      1\n",
       "19      1\n",
       "20      1\n",
       "21      1\n",
       "22      1\n",
       "23      1\n",
       "24      1\n",
       "25      1\n",
       "26      1\n",
       "27      1\n",
       "28      1\n",
       "29      1\n",
       "       ..\n",
       "9825    0\n",
       "9826    0\n",
       "9827    0\n",
       "9828    0\n",
       "9829    0\n",
       "9830    0\n",
       "9831    1\n",
       "9832    0\n",
       "9833    0\n",
       "9834    0\n",
       "9835    0\n",
       "9836    0\n",
       "9837    1\n",
       "9838    0\n",
       "9839    0\n",
       "9840    0\n",
       "9841    0\n",
       "9842    0\n",
       "9843    0\n",
       "9844    0\n",
       "9845    0\n",
       "9846    0\n",
       "9847    0\n",
       "9848    0\n",
       "9849    0\n",
       "9850    0\n",
       "9851    1\n",
       "9852    1\n",
       "9853    0\n",
       "9854    0\n",
       "Name: 1, dtype: float64"
      ]
     },
     "execution_count": 105,
     "metadata": {},
     "output_type": "execute_result"
    }
   ],
   "source": [
    "df_results[1]"
   ]
  },
  {
   "cell_type": "code",
   "execution_count": 106,
   "metadata": {
    "collapsed": false
   },
   "outputs": [
    {
     "ename": "ValueError",
     "evalue": "The truth value of a Series is ambiguous. Use a.empty, a.bool(), a.item(), a.any() or a.all().",
     "output_type": "error",
     "traceback": [
      "\u001b[1;31m---------------------------------------------------------------------------\u001b[0m",
      "\u001b[1;31mValueError\u001b[0m                                Traceback (most recent call last)",
      "\u001b[1;32m<ipython-input-106-a9fae96e35bc>\u001b[0m in \u001b[0;36m<module>\u001b[1;34m()\u001b[0m\n\u001b[1;32m----> 1\u001b[1;33m \u001b[0mdf_results\u001b[0m\u001b[1;33m[\u001b[0m\u001b[1;34m'lg'\u001b[0m\u001b[1;33m]\u001b[0m \u001b[1;33m=\u001b[0m \u001b[0mdf_results\u001b[0m\u001b[1;33m[\u001b[0m\u001b[1;36m0\u001b[0m\u001b[1;33m]\u001b[0m \u001b[1;32mor\u001b[0m \u001b[0mdf_results\u001b[0m\u001b[1;33m[\u001b[0m\u001b[1;36m1\u001b[0m\u001b[1;33m]\u001b[0m\u001b[1;33m\u001b[0m\u001b[0m\n\u001b[0m",
      "\u001b[1;32mC:\\Anaconda2\\lib\\site-packages\\pandas\\core\\generic.pyc\u001b[0m in \u001b[0;36m__nonzero__\u001b[1;34m(self)\u001b[0m\n\u001b[0;32m    729\u001b[0m         raise ValueError(\"The truth value of a {0} is ambiguous. \"\n\u001b[0;32m    730\u001b[0m                          \u001b[1;34m\"Use a.empty, a.bool(), a.item(), a.any() or a.all().\"\u001b[0m\u001b[1;33m\u001b[0m\u001b[0m\n\u001b[1;32m--> 731\u001b[1;33m                          .format(self.__class__.__name__))\n\u001b[0m\u001b[0;32m    732\u001b[0m \u001b[1;33m\u001b[0m\u001b[0m\n\u001b[0;32m    733\u001b[0m     \u001b[0m__bool__\u001b[0m \u001b[1;33m=\u001b[0m \u001b[0m__nonzero__\u001b[0m\u001b[1;33m\u001b[0m\u001b[0m\n",
      "\u001b[1;31mValueError\u001b[0m: The truth value of a Series is ambiguous. Use a.empty, a.bool(), a.item(), a.any() or a.all()."
     ]
    }
   ],
   "source": [
    "df_results['lg'] = df_results[0] or df_results[1]"
   ]
  },
  {
   "cell_type": "code",
   "execution_count": null,
   "metadata": {
    "collapsed": true
   },
   "outputs": [],
   "source": [
    "df_results['lg'] = df_results[0] || df_results[1] or df_results[2]"
   ]
  },
  {
   "cell_type": "code",
   "execution_count": 107,
   "metadata": {
    "collapsed": false
   },
   "outputs": [
    {
     "ename": "SyntaxError",
     "evalue": "invalid syntax (<ipython-input-107-026d13840f34>, line 1)",
     "output_type": "error",
     "traceback": [
      "\u001b[1;36m  File \u001b[1;32m\"<ipython-input-107-026d13840f34>\"\u001b[1;36m, line \u001b[1;32m1\u001b[0m\n\u001b[1;33m    1 || 0\u001b[0m\n\u001b[1;37m       ^\u001b[0m\n\u001b[1;31mSyntaxError\u001b[0m\u001b[1;31m:\u001b[0m invalid syntax\n"
     ]
    }
   ],
   "source": [
    "1 || 0"
   ]
  },
  {
   "cell_type": "code",
   "execution_count": 108,
   "metadata": {
    "collapsed": false
   },
   "outputs": [
    {
     "data": {
      "text/plain": [
       "1"
      ]
     },
     "execution_count": 108,
     "metadata": {},
     "output_type": "execute_result"
    }
   ],
   "source": [
    "1 | 0"
   ]
  },
  {
   "cell_type": "code",
   "execution_count": 109,
   "metadata": {
    "collapsed": false
   },
   "outputs": [
    {
     "data": {
      "text/plain": [
       "0"
      ]
     },
     "execution_count": 109,
     "metadata": {},
     "output_type": "execute_result"
    }
   ],
   "source": [
    "0 | 0"
   ]
  },
  {
   "cell_type": "code",
   "execution_count": 110,
   "metadata": {
    "collapsed": false
   },
   "outputs": [
    {
     "data": {
      "text/plain": [
       "1"
      ]
     },
     "execution_count": 110,
     "metadata": {},
     "output_type": "execute_result"
    }
   ],
   "source": [
    "1 | 1 "
   ]
  },
  {
   "cell_type": "code",
   "execution_count": 111,
   "metadata": {
    "collapsed": false
   },
   "outputs": [
    {
     "ename": "TypeError",
     "evalue": "unsupported operand type(s) for |: 'float' and 'bool'",
     "output_type": "error",
     "traceback": [
      "\u001b[1;31m---------------------------------------------------------------------------\u001b[0m",
      "\u001b[1;31mTypeError\u001b[0m                                 Traceback (most recent call last)",
      "\u001b[1;32m<ipython-input-111-9e2ae3491c7f>\u001b[0m in \u001b[0;36m<module>\u001b[1;34m()\u001b[0m\n\u001b[1;32m----> 1\u001b[1;33m \u001b[0mdf_results\u001b[0m\u001b[1;33m[\u001b[0m\u001b[1;34m'lg'\u001b[0m\u001b[1;33m]\u001b[0m \u001b[1;33m=\u001b[0m \u001b[0mdf_results\u001b[0m\u001b[1;33m[\u001b[0m\u001b[1;36m0\u001b[0m\u001b[1;33m]\u001b[0m \u001b[1;33m|\u001b[0m \u001b[0mdf_results\u001b[0m\u001b[1;33m[\u001b[0m\u001b[1;36m1\u001b[0m\u001b[1;33m]\u001b[0m \u001b[1;33m|\u001b[0m \u001b[0mdf_results\u001b[0m\u001b[1;33m[\u001b[0m\u001b[1;36m2\u001b[0m\u001b[1;33m]\u001b[0m\u001b[1;33m\u001b[0m\u001b[0m\n\u001b[0m",
      "\u001b[1;32mC:\\Anaconda2\\lib\\site-packages\\pandas\\core\\ops.pyc\u001b[0m in \u001b[0;36mwrapper\u001b[1;34m(self, other)\u001b[0m\n\u001b[0;32m    784\u001b[0m \u001b[1;33m\u001b[0m\u001b[0m\n\u001b[0;32m    785\u001b[0m             \u001b[0mfiller\u001b[0m \u001b[1;33m=\u001b[0m \u001b[0mfill_int\u001b[0m \u001b[1;32mif\u001b[0m \u001b[0mis_self_int_dtype\u001b[0m \u001b[1;32mand\u001b[0m \u001b[0mis_other_int_dtype\u001b[0m \u001b[1;32melse\u001b[0m \u001b[0mfill_bool\u001b[0m\u001b[1;33m\u001b[0m\u001b[0m\n\u001b[1;32m--> 786\u001b[1;33m             return filler(self._constructor(na_op(self.values, other.values),\n\u001b[0m\u001b[0;32m    787\u001b[0m                                      \u001b[0mindex\u001b[0m\u001b[1;33m=\u001b[0m\u001b[0mself\u001b[0m\u001b[1;33m.\u001b[0m\u001b[0mindex\u001b[0m\u001b[1;33m,\u001b[0m\u001b[1;33m\u001b[0m\u001b[0m\n\u001b[0;32m    788\u001b[0m                                      name=name))\n",
      "\u001b[1;32mC:\\Anaconda2\\lib\\site-packages\\pandas\\core\\ops.pyc\u001b[0m in \u001b[0;36mna_op\u001b[1;34m(x, y)\u001b[0m\n\u001b[0;32m    756\u001b[0m                     \u001b[0mx\u001b[0m \u001b[1;33m=\u001b[0m \u001b[0mcom\u001b[0m\u001b[1;33m.\u001b[0m\u001b[0m_ensure_object\u001b[0m\u001b[1;33m(\u001b[0m\u001b[0mx\u001b[0m\u001b[1;33m)\u001b[0m\u001b[1;33m\u001b[0m\u001b[0m\n\u001b[0;32m    757\u001b[0m                     \u001b[0my\u001b[0m \u001b[1;33m=\u001b[0m \u001b[0mcom\u001b[0m\u001b[1;33m.\u001b[0m\u001b[0m_ensure_object\u001b[0m\u001b[1;33m(\u001b[0m\u001b[0my\u001b[0m\u001b[1;33m)\u001b[0m\u001b[1;33m\u001b[0m\u001b[0m\n\u001b[1;32m--> 758\u001b[1;33m                     \u001b[0mresult\u001b[0m \u001b[1;33m=\u001b[0m \u001b[0mlib\u001b[0m\u001b[1;33m.\u001b[0m\u001b[0mvec_binop\u001b[0m\u001b[1;33m(\u001b[0m\u001b[0mx\u001b[0m\u001b[1;33m,\u001b[0m \u001b[0my\u001b[0m\u001b[1;33m,\u001b[0m \u001b[0mop\u001b[0m\u001b[1;33m)\u001b[0m\u001b[1;33m\u001b[0m\u001b[0m\n\u001b[0m\u001b[0;32m    759\u001b[0m             \u001b[1;32melse\u001b[0m\u001b[1;33m:\u001b[0m\u001b[1;33m\u001b[0m\u001b[0m\n\u001b[0;32m    760\u001b[0m                 \u001b[1;32mtry\u001b[0m\u001b[1;33m:\u001b[0m\u001b[1;33m\u001b[0m\u001b[0m\n",
      "\u001b[1;32mpandas\\lib.pyx\u001b[0m in \u001b[0;36mpandas.lib.vec_binop (pandas\\lib.c:16248)\u001b[1;34m()\u001b[0m\n",
      "\u001b[1;32mpandas\\lib.pyx\u001b[0m in \u001b[0;36mpandas.lib.vec_binop (pandas\\lib.c:16122)\u001b[1;34m()\u001b[0m\n",
      "\u001b[1;31mTypeError\u001b[0m: unsupported operand type(s) for |: 'float' and 'bool'"
     ]
    }
   ],
   "source": [
    "df_results['lg'] = df_results[0] | df_results[1] | df_results[2]"
   ]
  },
  {
   "cell_type": "code",
   "execution_count": 112,
   "metadata": {
    "collapsed": false
   },
   "outputs": [
    {
     "data": {
      "text/plain": [
       "True"
      ]
     },
     "execution_count": 112,
     "metadata": {},
     "output_type": "execute_result"
    }
   ],
   "source": [
    "bool(1)"
   ]
  },
  {
   "cell_type": "code",
   "execution_count": 113,
   "metadata": {
    "collapsed": false
   },
   "outputs": [
    {
     "data": {
      "text/plain": [
       "False"
      ]
     },
     "execution_count": 113,
     "metadata": {},
     "output_type": "execute_result"
    }
   ],
   "source": [
    "bool(0)"
   ]
  },
  {
   "cell_type": "code",
   "execution_count": 114,
   "metadata": {
    "collapsed": false
   },
   "outputs": [
    {
     "data": {
      "text/plain": [
       "1"
      ]
     },
     "execution_count": 114,
     "metadata": {},
     "output_type": "execute_result"
    }
   ],
   "source": [
    "int(True)"
   ]
  },
  {
   "cell_type": "code",
   "execution_count": 115,
   "metadata": {
    "collapsed": false
   },
   "outputs": [
    {
     "data": {
      "text/plain": [
       "0"
      ]
     },
     "execution_count": 115,
     "metadata": {},
     "output_type": "execute_result"
    }
   ],
   "source": [
    "int(False)"
   ]
  },
  {
   "cell_type": "code",
   "execution_count": null,
   "metadata": {
    "collapsed": true
   },
   "outputs": [],
   "source": [
    "df_results['lg'] = bool(df_results[0]) | df_results[1] | df_results[2]"
   ]
  }
 ],
 "metadata": {
  "kernelspec": {
   "display_name": "Python 2",
   "language": "python",
   "name": "python2"
  },
  "language_info": {
   "codemirror_mode": {
    "name": "ipython",
    "version": 2
   },
   "file_extension": ".py",
   "mimetype": "text/x-python",
   "name": "python",
   "nbconvert_exporter": "python",
   "pygments_lexer": "ipython2",
   "version": "2.7.11"
  }
 },
 "nbformat": 4,
 "nbformat_minor": 0
}
