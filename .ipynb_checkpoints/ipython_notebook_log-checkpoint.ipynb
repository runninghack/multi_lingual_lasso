{
 "cells": [
  {
   "cell_type": "code",
   "execution_count": 1,
   "metadata": {
    "collapsed": true
   },
   "outputs": [],
   "source": [
    "import numpy as np\n",
    "import pylab as pl\n",
    "from sklearn.linear_model import LassoCV, LassoLarsCV, LassoLarsIC\n",
    "from sklearn.linear_model import Lasso\n",
    "from sklearn import datasets\n",
    "import pandas as pd\n",
    "from datetime import datetime,timedelta\n",
    "import json as js\n"
   ]
  },
  {
   "cell_type": "code",
   "execution_count": 2,
   "metadata": {
    "collapsed": true
   },
   "outputs": [],
   "source": [
    "file_gsr = \"./gsrAll.json\""
   ]
  },
  {
   "cell_type": "code",
   "execution_count": 3,
   "metadata": {
    "collapsed": true
   },
   "outputs": [],
   "source": [
    "languages = ['English', 'Portuguese', 'Spanish']\n",
    "min_date = datetime(2014, 1, 1)\n",
    "max_date = datetime(2014, 12, 31)\n"
   ]
  },
  {
   "cell_type": "code",
   "execution_count": null,
   "metadata": {
    "collapsed": true
   },
   "outputs": [],
   "source": [
    "df_gsr = pd.DataFrame(columns=('date', 'event', 'city'))\n",
    "lines = open(file_gsr).readlines()\n",
    "for i in range(len(lines)):\n",
    "    obj = js.loads(lines[i])\n",
    "    if obj['location'][0] == 'Brazil' and obj['eventType'].startswith('01'):\n",
    "        df_gsr.loc[i] = [datetime.strptime(obj['eventDate'].split(\"T\")[0], '%Y-%m-%d') + timedelta(days=-1), \n",
    "                         1,\n",
    "                        obj['location'][0] == 'Brazil' ]\n",
    "\n",
    "df_gsr_selected = df_gsr[(df_gsr.date >= min_date)&(df_gsr.date <= max_date)]"
   ]
  }
 ],
 "metadata": {
  "kernelspec": {
   "display_name": "Python 2",
   "language": "python",
   "name": "python2"
  },
  "language_info": {
   "codemirror_mode": {
    "name": "ipython",
    "version": 2
   },
   "file_extension": ".py",
   "mimetype": "text/x-python",
   "name": "python",
   "nbconvert_exporter": "python",
   "pygments_lexer": "ipython2",
   "version": "2.7.10"
  }
 },
 "nbformat": 4,
 "nbformat_minor": 0
}
